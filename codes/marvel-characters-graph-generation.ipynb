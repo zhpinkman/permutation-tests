{
 "cells": [
  {
   "cell_type": "code",
   "execution_count": 43,
   "id": "becoming-humidity",
   "metadata": {},
   "outputs": [],
   "source": [
    "import seaborn as sns\n",
    "import pandas as pd\n",
    "import numpy as np\n",
    "import matplotlib.pyplot as plt\n",
    "import networkx as nx\n",
    "from tqdm import tqdm"
   ]
  },
  {
   "cell_type": "code",
   "execution_count": 44,
   "id": "pressing-peeing",
   "metadata": {},
   "outputs": [],
   "source": [
    "characters_df = pd.read_csv('marvel-characters/characters.csv').merge(\n",
    "    pd.read_csv('marvel-characters/charcters_stats.csv'), \n",
    "    left_on='name', \n",
    "    right_on='Name', \n",
    "    how='inner')"
   ]
  },
  {
   "cell_type": "code",
   "execution_count": 45,
   "id": "local-basketball",
   "metadata": {},
   "outputs": [],
   "source": [
    "interactions_df = pd.read_csv('marvel-characters/charactersToComics.csv')"
   ]
  },
  {
   "cell_type": "code",
   "execution_count": 46,
   "id": "broken-galaxy",
   "metadata": {},
   "outputs": [],
   "source": [
    "df = characters_df.merge(interactions_df, how='inner', on='characterID')"
   ]
  },
  {
   "cell_type": "code",
   "execution_count": 47,
   "id": "protective-sweden",
   "metadata": {},
   "outputs": [],
   "source": [
    "df.drop(['name'], axis=1, inplace=True)"
   ]
  },
  {
   "cell_type": "code",
   "execution_count": 48,
   "id": "seven-soldier",
   "metadata": {},
   "outputs": [
    {
     "data": {
      "text/html": [
       "<div>\n",
       "<style scoped>\n",
       "    .dataframe tbody tr th:only-of-type {\n",
       "        vertical-align: middle;\n",
       "    }\n",
       "\n",
       "    .dataframe tbody tr th {\n",
       "        vertical-align: top;\n",
       "    }\n",
       "\n",
       "    .dataframe thead th {\n",
       "        text-align: right;\n",
       "    }\n",
       "</style>\n",
       "<table border=\"1\" class=\"dataframe\">\n",
       "  <thead>\n",
       "    <tr style=\"text-align: right;\">\n",
       "      <th></th>\n",
       "      <th>characterID</th>\n",
       "      <th>Name</th>\n",
       "      <th>Alignment</th>\n",
       "      <th>Intelligence</th>\n",
       "      <th>Strength</th>\n",
       "      <th>Speed</th>\n",
       "      <th>Durability</th>\n",
       "      <th>Power</th>\n",
       "      <th>Combat</th>\n",
       "      <th>Total</th>\n",
       "      <th>comicID</th>\n",
       "    </tr>\n",
       "  </thead>\n",
       "  <tbody>\n",
       "    <tr>\n",
       "      <th>0</th>\n",
       "      <td>1009220</td>\n",
       "      <td>Captain America</td>\n",
       "      <td>good</td>\n",
       "      <td>63</td>\n",
       "      <td>19</td>\n",
       "      <td>35</td>\n",
       "      <td>56</td>\n",
       "      <td>46</td>\n",
       "      <td>100</td>\n",
       "      <td>319</td>\n",
       "      <td>16232</td>\n",
       "    </tr>\n",
       "    <tr>\n",
       "      <th>1</th>\n",
       "      <td>1009220</td>\n",
       "      <td>Captain America</td>\n",
       "      <td>good</td>\n",
       "      <td>63</td>\n",
       "      <td>19</td>\n",
       "      <td>35</td>\n",
       "      <td>56</td>\n",
       "      <td>46</td>\n",
       "      <td>100</td>\n",
       "      <td>319</td>\n",
       "      <td>16248</td>\n",
       "    </tr>\n",
       "    <tr>\n",
       "      <th>2</th>\n",
       "      <td>1009220</td>\n",
       "      <td>Captain America</td>\n",
       "      <td>good</td>\n",
       "      <td>63</td>\n",
       "      <td>19</td>\n",
       "      <td>35</td>\n",
       "      <td>56</td>\n",
       "      <td>46</td>\n",
       "      <td>100</td>\n",
       "      <td>319</td>\n",
       "      <td>16241</td>\n",
       "    </tr>\n",
       "    <tr>\n",
       "      <th>3</th>\n",
       "      <td>1009220</td>\n",
       "      <td>Captain America</td>\n",
       "      <td>good</td>\n",
       "      <td>63</td>\n",
       "      <td>19</td>\n",
       "      <td>35</td>\n",
       "      <td>56</td>\n",
       "      <td>46</td>\n",
       "      <td>100</td>\n",
       "      <td>319</td>\n",
       "      <td>16234</td>\n",
       "    </tr>\n",
       "    <tr>\n",
       "      <th>4</th>\n",
       "      <td>1009220</td>\n",
       "      <td>Captain America</td>\n",
       "      <td>good</td>\n",
       "      <td>63</td>\n",
       "      <td>19</td>\n",
       "      <td>35</td>\n",
       "      <td>56</td>\n",
       "      <td>46</td>\n",
       "      <td>100</td>\n",
       "      <td>319</td>\n",
       "      <td>16236</td>\n",
       "    </tr>\n",
       "    <tr>\n",
       "      <th>...</th>\n",
       "      <td>...</td>\n",
       "      <td>...</td>\n",
       "      <td>...</td>\n",
       "      <td>...</td>\n",
       "      <td>...</td>\n",
       "      <td>...</td>\n",
       "      <td>...</td>\n",
       "      <td>...</td>\n",
       "      <td>...</td>\n",
       "      <td>...</td>\n",
       "      <td>...</td>\n",
       "    </tr>\n",
       "    <tr>\n",
       "      <th>43382</th>\n",
       "      <td>1011073</td>\n",
       "      <td>Bloodaxe</td>\n",
       "      <td>bad</td>\n",
       "      <td>63</td>\n",
       "      <td>80</td>\n",
       "      <td>33</td>\n",
       "      <td>80</td>\n",
       "      <td>84</td>\n",
       "      <td>84</td>\n",
       "      <td>424</td>\n",
       "      <td>11783</td>\n",
       "    </tr>\n",
       "    <tr>\n",
       "      <th>43383</th>\n",
       "      <td>1011073</td>\n",
       "      <td>Bloodaxe</td>\n",
       "      <td>bad</td>\n",
       "      <td>63</td>\n",
       "      <td>80</td>\n",
       "      <td>33</td>\n",
       "      <td>80</td>\n",
       "      <td>84</td>\n",
       "      <td>84</td>\n",
       "      <td>424</td>\n",
       "      <td>11780</td>\n",
       "    </tr>\n",
       "    <tr>\n",
       "      <th>43384</th>\n",
       "      <td>1011073</td>\n",
       "      <td>Bloodaxe</td>\n",
       "      <td>bad</td>\n",
       "      <td>63</td>\n",
       "      <td>80</td>\n",
       "      <td>33</td>\n",
       "      <td>80</td>\n",
       "      <td>84</td>\n",
       "      <td>84</td>\n",
       "      <td>424</td>\n",
       "      <td>11779</td>\n",
       "    </tr>\n",
       "    <tr>\n",
       "      <th>43385</th>\n",
       "      <td>1011073</td>\n",
       "      <td>Bloodaxe</td>\n",
       "      <td>bad</td>\n",
       "      <td>63</td>\n",
       "      <td>80</td>\n",
       "      <td>33</td>\n",
       "      <td>80</td>\n",
       "      <td>84</td>\n",
       "      <td>84</td>\n",
       "      <td>424</td>\n",
       "      <td>11778</td>\n",
       "    </tr>\n",
       "    <tr>\n",
       "      <th>43386</th>\n",
       "      <td>1011349</td>\n",
       "      <td>Blackout</td>\n",
       "      <td>bad</td>\n",
       "      <td>63</td>\n",
       "      <td>32</td>\n",
       "      <td>45</td>\n",
       "      <td>80</td>\n",
       "      <td>38</td>\n",
       "      <td>65</td>\n",
       "      <td>323</td>\n",
       "      <td>7105</td>\n",
       "    </tr>\n",
       "  </tbody>\n",
       "</table>\n",
       "<p>43387 rows × 11 columns</p>\n",
       "</div>"
      ],
      "text/plain": [
       "       characterID             Name Alignment  Intelligence  Strength  Speed  \\\n",
       "0          1009220  Captain America      good            63        19     35   \n",
       "1          1009220  Captain America      good            63        19     35   \n",
       "2          1009220  Captain America      good            63        19     35   \n",
       "3          1009220  Captain America      good            63        19     35   \n",
       "4          1009220  Captain America      good            63        19     35   \n",
       "...            ...              ...       ...           ...       ...    ...   \n",
       "43382      1011073         Bloodaxe       bad            63        80     33   \n",
       "43383      1011073         Bloodaxe       bad            63        80     33   \n",
       "43384      1011073         Bloodaxe       bad            63        80     33   \n",
       "43385      1011073         Bloodaxe       bad            63        80     33   \n",
       "43386      1011349         Blackout       bad            63        32     45   \n",
       "\n",
       "       Durability  Power  Combat  Total  comicID  \n",
       "0              56     46     100    319    16232  \n",
       "1              56     46     100    319    16248  \n",
       "2              56     46     100    319    16241  \n",
       "3              56     46     100    319    16234  \n",
       "4              56     46     100    319    16236  \n",
       "...           ...    ...     ...    ...      ...  \n",
       "43382          80     84      84    424    11783  \n",
       "43383          80     84      84    424    11780  \n",
       "43384          80     84      84    424    11779  \n",
       "43385          80     84      84    424    11778  \n",
       "43386          80     38      65    323     7105  \n",
       "\n",
       "[43387 rows x 11 columns]"
      ]
     },
     "execution_count": 48,
     "metadata": {},
     "output_type": "execute_result"
    }
   ],
   "source": [
    "df"
   ]
  },
  {
   "cell_type": "code",
   "execution_count": 49,
   "id": "banner-truth",
   "metadata": {},
   "outputs": [
    {
     "data": {
      "text/plain": [
       "1009610    3199\n",
       "1009368    2388\n",
       "1009718    2163\n",
       "1009220    2040\n",
       "1009664    1589\n",
       "           ... \n",
       "1011293       2\n",
       "1011088       2\n",
       "1010361       1\n",
       "1011349       1\n",
       "1010764       1\n",
       "Name: characterID, Length: 197, dtype: int64"
      ]
     },
     "execution_count": 49,
     "metadata": {},
     "output_type": "execute_result"
    }
   ],
   "source": [
    "df['characterID'].value_counts()"
   ]
  },
  {
   "cell_type": "code",
   "execution_count": 50,
   "id": "coordinate-mileage",
   "metadata": {},
   "outputs": [
    {
     "data": {
      "text/plain": [
       "4241     59\n",
       "4461     54\n",
       "15902    47\n",
       "5844     43\n",
       "16209    39\n",
       "         ..\n",
       "19559     1\n",
       "66670     1\n",
       "3183      1\n",
       "56437     1\n",
       "8188      1\n",
       "Name: comicID, Length: 16643, dtype: int64"
      ]
     },
     "execution_count": 50,
     "metadata": {},
     "output_type": "execute_result"
    }
   ],
   "source": [
    "df['comicID'].value_counts()"
   ]
  },
  {
   "cell_type": "code",
   "execution_count": 51,
   "id": "early-brave",
   "metadata": {},
   "outputs": [],
   "source": [
    "characters_interactions = df.groupby('comicID').apply(lambda x: list(x['Name'])).values"
   ]
  },
  {
   "cell_type": "code",
   "execution_count": 52,
   "id": "blank-completion",
   "metadata": {},
   "outputs": [
    {
     "name": "stdout",
     "output_type": "stream",
     "text": [
      "size of the largest community: 59\n"
     ]
    }
   ],
   "source": [
    "print('size of the largest community: {}'.format(len(max(characters_interactions, key=lambda x: len(x)))))"
   ]
  },
  {
   "cell_type": "code",
   "execution_count": 53,
   "id": "simple-peeing",
   "metadata": {},
   "outputs": [
    {
     "name": "stderr",
     "output_type": "stream",
     "text": [
      "43387it [00:03, 11462.92it/s]\n"
     ]
    }
   ],
   "source": [
    "edges = []\n",
    "for item, row in tqdm(df.iterrows()): \n",
    "    edges.append((row['Name'], row['comicID']))"
   ]
  },
  {
   "cell_type": "code",
   "execution_count": 54,
   "id": "statutory-favorite",
   "metadata": {},
   "outputs": [],
   "source": [
    "g = nx.Graph()\n",
    "g.add_edges_from(edges)"
   ]
  },
  {
   "cell_type": "code",
   "execution_count": 55,
   "id": "technological-cleaning",
   "metadata": {},
   "outputs": [],
   "source": [
    "characters_set = set(df['Name'].values)"
   ]
  },
  {
   "cell_type": "code",
   "execution_count": 56,
   "id": "collect-steering",
   "metadata": {},
   "outputs": [],
   "source": [
    "projected_graph = nx.bipartite.projected_graph(g, characters_set)"
   ]
  },
  {
   "cell_type": "code",
   "execution_count": 57,
   "id": "molecular-aruba",
   "metadata": {},
   "outputs": [],
   "source": [
    "nx.write_gexf(projected_graph, 'marvel-characters.gexf')"
   ]
  },
  {
   "cell_type": "markdown",
   "id": "possible-stevens",
   "metadata": {},
   "source": [
    "---"
   ]
  },
  {
   "cell_type": "markdown",
   "id": "alike-pendant",
   "metadata": {},
   "source": [
    "This part was after generating the modularity classes with Gephi"
   ]
  },
  {
   "cell_type": "code",
   "execution_count": 58,
   "id": "downtown-funds",
   "metadata": {},
   "outputs": [],
   "source": [
    "import pandas as pd"
   ]
  },
  {
   "cell_type": "code",
   "execution_count": 59,
   "id": "killing-intro",
   "metadata": {},
   "outputs": [],
   "source": [
    "communities_df = pd.read_csv('marvel-communities.csv')"
   ]
  },
  {
   "cell_type": "code",
   "execution_count": 60,
   "id": "communist-cable",
   "metadata": {},
   "outputs": [
    {
     "data": {
      "text/html": [
       "<div>\n",
       "<style scoped>\n",
       "    .dataframe tbody tr th:only-of-type {\n",
       "        vertical-align: middle;\n",
       "    }\n",
       "\n",
       "    .dataframe tbody tr th {\n",
       "        vertical-align: top;\n",
       "    }\n",
       "\n",
       "    .dataframe thead th {\n",
       "        text-align: right;\n",
       "    }\n",
       "</style>\n",
       "<table border=\"1\" class=\"dataframe\">\n",
       "  <thead>\n",
       "    <tr style=\"text-align: right;\">\n",
       "      <th></th>\n",
       "      <th>Id</th>\n",
       "      <th>Label</th>\n",
       "      <th>timeset</th>\n",
       "      <th>modularity_class</th>\n",
       "    </tr>\n",
       "  </thead>\n",
       "  <tbody>\n",
       "    <tr>\n",
       "      <th>0</th>\n",
       "      <td>Thanos</td>\n",
       "      <td>Thanos</td>\n",
       "      <td>NaN</td>\n",
       "      <td>0</td>\n",
       "    </tr>\n",
       "    <tr>\n",
       "      <th>1</th>\n",
       "      <td>Firestar</td>\n",
       "      <td>Firestar</td>\n",
       "      <td>NaN</td>\n",
       "      <td>0</td>\n",
       "    </tr>\n",
       "    <tr>\n",
       "      <th>2</th>\n",
       "      <td>Apocalypse</td>\n",
       "      <td>Apocalypse</td>\n",
       "      <td>NaN</td>\n",
       "      <td>3</td>\n",
       "    </tr>\n",
       "    <tr>\n",
       "      <th>3</th>\n",
       "      <td>Punisher</td>\n",
       "      <td>Punisher</td>\n",
       "      <td>NaN</td>\n",
       "      <td>0</td>\n",
       "    </tr>\n",
       "    <tr>\n",
       "      <th>4</th>\n",
       "      <td>Luke Cage</td>\n",
       "      <td>Luke Cage</td>\n",
       "      <td>NaN</td>\n",
       "      <td>0</td>\n",
       "    </tr>\n",
       "    <tr>\n",
       "      <th>...</th>\n",
       "      <td>...</td>\n",
       "      <td>...</td>\n",
       "      <td>...</td>\n",
       "      <td>...</td>\n",
       "    </tr>\n",
       "    <tr>\n",
       "      <th>191</th>\n",
       "      <td>Deathlok</td>\n",
       "      <td>Deathlok</td>\n",
       "      <td>NaN</td>\n",
       "      <td>0</td>\n",
       "    </tr>\n",
       "    <tr>\n",
       "      <th>192</th>\n",
       "      <td>Hawkeye</td>\n",
       "      <td>Hawkeye</td>\n",
       "      <td>NaN</td>\n",
       "      <td>0</td>\n",
       "    </tr>\n",
       "    <tr>\n",
       "      <th>193</th>\n",
       "      <td>Leader</td>\n",
       "      <td>Leader</td>\n",
       "      <td>NaN</td>\n",
       "      <td>0</td>\n",
       "    </tr>\n",
       "    <tr>\n",
       "      <th>194</th>\n",
       "      <td>Annihilus</td>\n",
       "      <td>Annihilus</td>\n",
       "      <td>NaN</td>\n",
       "      <td>0</td>\n",
       "    </tr>\n",
       "    <tr>\n",
       "      <th>195</th>\n",
       "      <td>Electro</td>\n",
       "      <td>Electro</td>\n",
       "      <td>NaN</td>\n",
       "      <td>0</td>\n",
       "    </tr>\n",
       "  </tbody>\n",
       "</table>\n",
       "<p>196 rows × 4 columns</p>\n",
       "</div>"
      ],
      "text/plain": [
       "             Id       Label  timeset  modularity_class\n",
       "0        Thanos      Thanos      NaN                 0\n",
       "1      Firestar    Firestar      NaN                 0\n",
       "2    Apocalypse  Apocalypse      NaN                 3\n",
       "3      Punisher    Punisher      NaN                 0\n",
       "4     Luke Cage   Luke Cage      NaN                 0\n",
       "..          ...         ...      ...               ...\n",
       "191    Deathlok    Deathlok      NaN                 0\n",
       "192     Hawkeye     Hawkeye      NaN                 0\n",
       "193      Leader      Leader      NaN                 0\n",
       "194   Annihilus   Annihilus      NaN                 0\n",
       "195     Electro     Electro      NaN                 0\n",
       "\n",
       "[196 rows x 4 columns]"
      ]
     },
     "execution_count": 60,
     "metadata": {},
     "output_type": "execute_result"
    }
   ],
   "source": [
    "communities_df"
   ]
  },
  {
   "cell_type": "code",
   "execution_count": 61,
   "id": "constant-lawsuit",
   "metadata": {},
   "outputs": [],
   "source": [
    "df = df.merge(communities_df, left_on='Name', right_on='Id', how='inner')"
   ]
  },
  {
   "cell_type": "code",
   "execution_count": 62,
   "id": "popular-kansas",
   "metadata": {},
   "outputs": [
    {
     "data": {
      "text/html": [
       "<div>\n",
       "<style scoped>\n",
       "    .dataframe tbody tr th:only-of-type {\n",
       "        vertical-align: middle;\n",
       "    }\n",
       "\n",
       "    .dataframe tbody tr th {\n",
       "        vertical-align: top;\n",
       "    }\n",
       "\n",
       "    .dataframe thead th {\n",
       "        text-align: right;\n",
       "    }\n",
       "</style>\n",
       "<table border=\"1\" class=\"dataframe\">\n",
       "  <thead>\n",
       "    <tr style=\"text-align: right;\">\n",
       "      <th></th>\n",
       "      <th>characterID</th>\n",
       "      <th>Name</th>\n",
       "      <th>Alignment</th>\n",
       "      <th>Intelligence</th>\n",
       "      <th>Strength</th>\n",
       "      <th>Speed</th>\n",
       "      <th>Durability</th>\n",
       "      <th>Power</th>\n",
       "      <th>Combat</th>\n",
       "      <th>Total</th>\n",
       "      <th>comicID</th>\n",
       "      <th>Id</th>\n",
       "      <th>Label</th>\n",
       "      <th>timeset</th>\n",
       "      <th>modularity_class</th>\n",
       "    </tr>\n",
       "  </thead>\n",
       "  <tbody>\n",
       "    <tr>\n",
       "      <th>0</th>\n",
       "      <td>1009220</td>\n",
       "      <td>Captain America</td>\n",
       "      <td>good</td>\n",
       "      <td>63</td>\n",
       "      <td>19</td>\n",
       "      <td>35</td>\n",
       "      <td>56</td>\n",
       "      <td>46</td>\n",
       "      <td>100</td>\n",
       "      <td>319</td>\n",
       "      <td>16232</td>\n",
       "      <td>Captain America</td>\n",
       "      <td>Captain America</td>\n",
       "      <td>NaN</td>\n",
       "      <td>0</td>\n",
       "    </tr>\n",
       "    <tr>\n",
       "      <th>1</th>\n",
       "      <td>1009220</td>\n",
       "      <td>Captain America</td>\n",
       "      <td>good</td>\n",
       "      <td>63</td>\n",
       "      <td>19</td>\n",
       "      <td>35</td>\n",
       "      <td>56</td>\n",
       "      <td>46</td>\n",
       "      <td>100</td>\n",
       "      <td>319</td>\n",
       "      <td>16248</td>\n",
       "      <td>Captain America</td>\n",
       "      <td>Captain America</td>\n",
       "      <td>NaN</td>\n",
       "      <td>0</td>\n",
       "    </tr>\n",
       "    <tr>\n",
       "      <th>2</th>\n",
       "      <td>1009220</td>\n",
       "      <td>Captain America</td>\n",
       "      <td>good</td>\n",
       "      <td>63</td>\n",
       "      <td>19</td>\n",
       "      <td>35</td>\n",
       "      <td>56</td>\n",
       "      <td>46</td>\n",
       "      <td>100</td>\n",
       "      <td>319</td>\n",
       "      <td>16241</td>\n",
       "      <td>Captain America</td>\n",
       "      <td>Captain America</td>\n",
       "      <td>NaN</td>\n",
       "      <td>0</td>\n",
       "    </tr>\n",
       "  </tbody>\n",
       "</table>\n",
       "</div>"
      ],
      "text/plain": [
       "   characterID             Name Alignment  Intelligence  Strength  Speed  \\\n",
       "0      1009220  Captain America      good            63        19     35   \n",
       "1      1009220  Captain America      good            63        19     35   \n",
       "2      1009220  Captain America      good            63        19     35   \n",
       "\n",
       "   Durability  Power  Combat  Total  comicID               Id  \\\n",
       "0          56     46     100    319    16232  Captain America   \n",
       "1          56     46     100    319    16248  Captain America   \n",
       "2          56     46     100    319    16241  Captain America   \n",
       "\n",
       "             Label  timeset  modularity_class  \n",
       "0  Captain America      NaN                 0  \n",
       "1  Captain America      NaN                 0  \n",
       "2  Captain America      NaN                 0  "
      ]
     },
     "execution_count": 62,
     "metadata": {},
     "output_type": "execute_result"
    }
   ],
   "source": [
    "df.head(3)"
   ]
  },
  {
   "cell_type": "code",
   "execution_count": 63,
   "id": "featured-terrace",
   "metadata": {},
   "outputs": [],
   "source": [
    "df.drop(['Id', 'Label', 'timeset', 'comicID'], axis=1, inplace=True)"
   ]
  },
  {
   "cell_type": "code",
   "execution_count": 67,
   "id": "preliminary-guest",
   "metadata": {},
   "outputs": [],
   "source": [
    "df.drop_duplicates(inplace=True)\n",
    "df.reset_index(inplace=True, drop=True)"
   ]
  },
  {
   "cell_type": "code",
   "execution_count": 68,
   "id": "french-prophet",
   "metadata": {},
   "outputs": [
    {
     "data": {
      "text/html": [
       "<div>\n",
       "<style scoped>\n",
       "    .dataframe tbody tr th:only-of-type {\n",
       "        vertical-align: middle;\n",
       "    }\n",
       "\n",
       "    .dataframe tbody tr th {\n",
       "        vertical-align: top;\n",
       "    }\n",
       "\n",
       "    .dataframe thead th {\n",
       "        text-align: right;\n",
       "    }\n",
       "</style>\n",
       "<table border=\"1\" class=\"dataframe\">\n",
       "  <thead>\n",
       "    <tr style=\"text-align: right;\">\n",
       "      <th></th>\n",
       "      <th>characterID</th>\n",
       "      <th>Name</th>\n",
       "      <th>Alignment</th>\n",
       "      <th>Intelligence</th>\n",
       "      <th>Strength</th>\n",
       "      <th>Speed</th>\n",
       "      <th>Durability</th>\n",
       "      <th>Power</th>\n",
       "      <th>Combat</th>\n",
       "      <th>Total</th>\n",
       "      <th>modularity_class</th>\n",
       "    </tr>\n",
       "  </thead>\n",
       "  <tbody>\n",
       "    <tr>\n",
       "      <th>0</th>\n",
       "      <td>1009220</td>\n",
       "      <td>Captain America</td>\n",
       "      <td>good</td>\n",
       "      <td>63</td>\n",
       "      <td>19</td>\n",
       "      <td>35</td>\n",
       "      <td>56</td>\n",
       "      <td>46</td>\n",
       "      <td>100</td>\n",
       "      <td>319</td>\n",
       "      <td>0</td>\n",
       "    </tr>\n",
       "    <tr>\n",
       "      <th>1</th>\n",
       "      <td>1010740</td>\n",
       "      <td>Winter Soldier</td>\n",
       "      <td>good</td>\n",
       "      <td>56</td>\n",
       "      <td>32</td>\n",
       "      <td>35</td>\n",
       "      <td>65</td>\n",
       "      <td>60</td>\n",
       "      <td>84</td>\n",
       "      <td>332</td>\n",
       "      <td>0</td>\n",
       "    </tr>\n",
       "    <tr>\n",
       "      <th>2</th>\n",
       "      <td>1009471</td>\n",
       "      <td>Nick Fury</td>\n",
       "      <td>good</td>\n",
       "      <td>75</td>\n",
       "      <td>11</td>\n",
       "      <td>23</td>\n",
       "      <td>42</td>\n",
       "      <td>25</td>\n",
       "      <td>100</td>\n",
       "      <td>276</td>\n",
       "      <td>0</td>\n",
       "    </tr>\n",
       "  </tbody>\n",
       "</table>\n",
       "</div>"
      ],
      "text/plain": [
       "   characterID             Name Alignment  Intelligence  Strength  Speed  \\\n",
       "0      1009220  Captain America      good            63        19     35   \n",
       "1      1010740   Winter Soldier      good            56        32     35   \n",
       "2      1009471        Nick Fury      good            75        11     23   \n",
       "\n",
       "   Durability  Power  Combat  Total  modularity_class  \n",
       "0          56     46     100    319                 0  \n",
       "1          65     60      84    332                 0  \n",
       "2          42     25     100    276                 0  "
      ]
     },
     "execution_count": 68,
     "metadata": {},
     "output_type": "execute_result"
    }
   ],
   "source": [
    "df.head(3)"
   ]
  },
  {
   "cell_type": "code",
   "execution_count": 69,
   "id": "governing-handling",
   "metadata": {},
   "outputs": [
    {
     "data": {
      "text/plain": [
       "(198, 11)"
      ]
     },
     "execution_count": 69,
     "metadata": {},
     "output_type": "execute_result"
    }
   ],
   "source": [
    "df.shape"
   ]
  },
  {
   "cell_type": "code",
   "execution_count": 70,
   "id": "inside-officer",
   "metadata": {},
   "outputs": [],
   "source": [
    "df.to_csv('marvel_characters_communities.csv', index=False)"
   ]
  }
 ],
 "metadata": {
  "kernelspec": {
   "display_name": "Python 3",
   "language": "python",
   "name": "python3"
  },
  "language_info": {
   "codemirror_mode": {
    "name": "ipython",
    "version": 3
   },
   "file_extension": ".py",
   "mimetype": "text/x-python",
   "name": "python",
   "nbconvert_exporter": "python",
   "pygments_lexer": "ipython3",
   "version": "3.8.0"
  }
 },
 "nbformat": 4,
 "nbformat_minor": 5
}
