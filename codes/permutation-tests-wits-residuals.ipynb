{
 "cells": [
  {
   "cell_type": "markdown",
   "id": "prescribed-equity",
   "metadata": {},
   "source": [
    "### Loading the dataset containing the export data alongside with the nodal attribute available on each country"
   ]
  },
  {
   "cell_type": "code",
   "execution_count": 1,
   "id": "quality-campaign",
   "metadata": {},
   "outputs": [],
   "source": [
    "edges = read.csv('../datasets/wits/simulated/edgelist.csv')\n",
    "nodes = read.csv('../datasets/wits/simulated/nodelist.csv')"
   ]
  },
  {
   "cell_type": "code",
   "execution_count": 2,
   "id": "foreign-davis",
   "metadata": {},
   "outputs": [],
   "source": [
    "n = dim(nodes)[1]\n",
    "N = 1000\n",
    "country_names = nodes$country_iso3\n",
    "nodes = transform(nodes, landlocked=as.logical(landlocked))\n",
    "nodes = subset(nodes, select = -c(population, area, gdp_per_capita))"
   ]
  },
  {
   "cell_type": "markdown",
   "id": "uniform-stable",
   "metadata": {},
   "source": [
    "### Importing the library required for doing permutation tests"
   ]
  },
  {
   "cell_type": "code",
   "execution_count": 3,
   "id": "consolidated-guitar",
   "metadata": {},
   "outputs": [
    {
     "name": "stderr",
     "output_type": "stream",
     "text": [
      "Loading required package: survival\n",
      "\n",
      "Loading required package: statnet.common\n",
      "\n",
      "\n",
      "Attaching package: 'statnet.common'\n",
      "\n",
      "\n",
      "The following object is masked from 'package:base':\n",
      "\n",
      "    order\n",
      "\n",
      "\n",
      "Loading required package: network\n",
      "\n",
      "network: Classes for Relational Data\n",
      "Version 1.16.1 created on 2020-10-06.\n",
      "copyright (c) 2005, Carter T. Butts, University of California-Irvine\n",
      "                    Mark S. Handcock, University of California -- Los Angeles\n",
      "                    David R. Hunter, Penn State University\n",
      "                    Martina Morris, University of Washington\n",
      "                    Skye Bender-deMoll, University of Washington\n",
      " For citation information, type citation(\"network\").\n",
      " Type help(\"network-package\") to get started.\n",
      "\n",
      "\n",
      "sna: Tools for Social Network Analysis\n",
      "Version 2.6 created on 2020-10-5.\n",
      "copyright (c) 2005, Carter T. Butts, University of California-Irvine\n",
      " For citation information, type citation(\"sna\").\n",
      " Type help(package=\"sna\") to get started.\n",
      "\n",
      "\n",
      "\n",
      "Attaching package: 'sna'\n",
      "\n",
      "\n",
      "The following object is masked from 'package:coin':\n",
      "\n",
      "    rperm\n",
      "\n",
      "\n",
      "\n",
      "ergm: version 3.11.0, created on 2020-10-14\n",
      "Copyright (c) 2020, Mark S. Handcock, University of California -- Los Angeles\n",
      "                    David R. Hunter, Penn State University\n",
      "                    Carter T. Butts, University of California -- Irvine\n",
      "                    Steven M. Goodreau, University of Washington\n",
      "                    Pavel N. Krivitsky, UNSW Sydney\n",
      "                    Martina Morris, University of Washington\n",
      "                    with contributions from\n",
      "                    Li Wang\n",
      "                    Kirk Li, University of Washington\n",
      "                    Skye Bender-deMoll, University of Washington\n",
      "                    Chad Klumb\n",
      "                    Michal Bojanowski, Kozminski University\n",
      "                    Ben Bolker\n",
      "Based on \"statnet\" project software (statnet.org).\n",
      "For license and citation information see statnet.org/attribution\n",
      "or type citation(\"ergm\").\n",
      "\n",
      "\n",
      "NOTE: Versions before 3.6.1 had a bug in the implementation of the bd()\n",
      "constraint which distorted the sampled distribution somewhat. In\n",
      "addition, Sampson's Monks datasets had mislabeled vertices. See the\n",
      "NEWS and the documentation for more details.\n",
      "\n",
      "\n",
      "NOTE: Some common term arguments pertaining to vertex attribute and\n",
      "level selection have changed in 3.10.0. See terms help for more\n",
      "details. Use 'options(ergm.term=list(version=\"3.9.4\"))' to use old\n",
      "behavior.\n",
      "\n",
      "\n",
      "\n",
      "Attaching package: 'dplyr'\n",
      "\n",
      "\n",
      "The following objects are masked from 'package:stats':\n",
      "\n",
      "    filter, lag\n",
      "\n",
      "\n",
      "The following objects are masked from 'package:base':\n",
      "\n",
      "    intersect, setdiff, setequal, union\n",
      "\n",
      "\n"
     ]
    }
   ],
   "source": [
    "library(coin)\n",
    "library(sna)\n",
    "library(ergm)\n",
    "library(dplyr)"
   ]
  },
  {
   "cell_type": "code",
   "execution_count": 4,
   "id": "roman-delivery",
   "metadata": {},
   "outputs": [
    {
     "data": {
      "text/html": [
       "<table class=\"dataframe\">\n",
       "<caption>A data.frame: 3 × 12</caption>\n",
       "<thead>\n",
       "\t<tr><th></th><th scope=col>country_iso3</th><th scope=col>industry_of_gdp</th><th scope=col>merchandise_of_gdp</th><th scope=col>continent</th><th scope=col>landlocked</th><th scope=col>agriculture_forestry_fishing_of_gdp</th><th scope=col>gdp_growth</th><th scope=col>gdp_us_dollar</th><th scope=col>langoff_1</th><th scope=col>foreign_direct_investment_inflows</th><th scope=col>inflation_rate</th><th scope=col>net_barter_of_trade</th></tr>\n",
       "\t<tr><th></th><th scope=col>&lt;chr&gt;</th><th scope=col>&lt;dbl&gt;</th><th scope=col>&lt;dbl&gt;</th><th scope=col>&lt;chr&gt;</th><th scope=col>&lt;lgl&gt;</th><th scope=col>&lt;dbl&gt;</th><th scope=col>&lt;dbl&gt;</th><th scope=col>&lt;dbl&gt;</th><th scope=col>&lt;chr&gt;</th><th scope=col>&lt;dbl&gt;</th><th scope=col>&lt;dbl&gt;</th><th scope=col>&lt;dbl&gt;</th></tr>\n",
       "</thead>\n",
       "<tbody>\n",
       "\t<tr><th scope=row>1</th><td>AFG</td><td>22.74025</td><td>38.70415</td><td>Asia  </td><td> TRUE</td><td>23.743664</td><td>0.4263548</td><td> 17804292964</td><td>Persian   </td><td>   52173421</td><td>11.804186</td><td>144.7519</td></tr>\n",
       "\t<tr><th scope=row>2</th><td>AGO</td><td>56.02651</td><td>78.30597</td><td>Africa</td><td>FALSE</td><td> 5.845681</td><td>3.4719763</td><td>111789686464</td><td>Portuguese</td><td>-3023770966</td><td>13.482468</td><td>244.3292</td></tr>\n",
       "\t<tr><th scope=row>3</th><td>ALB</td><td>24.48441</td><td>56.86241</td><td>Europe</td><td>FALSE</td><td>18.226765</td><td>2.5453218</td><td> 12890765324</td><td>Albanian  </td><td> 1048706682</td><td> 3.429123</td><td> 94.3372</td></tr>\n",
       "</tbody>\n",
       "</table>\n"
      ],
      "text/latex": [
       "A data.frame: 3 × 12\n",
       "\\begin{tabular}{r|llllllllllll}\n",
       "  & country\\_iso3 & industry\\_of\\_gdp & merchandise\\_of\\_gdp & continent & landlocked & agriculture\\_forestry\\_fishing\\_of\\_gdp & gdp\\_growth & gdp\\_us\\_dollar & langoff\\_1 & foreign\\_direct\\_investment\\_inflows & inflation\\_rate & net\\_barter\\_of\\_trade\\\\\n",
       "  & <chr> & <dbl> & <dbl> & <chr> & <lgl> & <dbl> & <dbl> & <dbl> & <chr> & <dbl> & <dbl> & <dbl>\\\\\n",
       "\\hline\n",
       "\t1 & AFG & 22.74025 & 38.70415 & Asia   &  TRUE & 23.743664 & 0.4263548 &  17804292964 & Persian    &    52173421 & 11.804186 & 144.7519\\\\\n",
       "\t2 & AGO & 56.02651 & 78.30597 & Africa & FALSE &  5.845681 & 3.4719763 & 111789686464 & Portuguese & -3023770966 & 13.482468 & 244.3292\\\\\n",
       "\t3 & ALB & 24.48441 & 56.86241 & Europe & FALSE & 18.226765 & 2.5453218 &  12890765324 & Albanian   &  1048706682 &  3.429123 &  94.3372\\\\\n",
       "\\end{tabular}\n"
      ],
      "text/markdown": [
       "\n",
       "A data.frame: 3 × 12\n",
       "\n",
       "| <!--/--> | country_iso3 &lt;chr&gt; | industry_of_gdp &lt;dbl&gt; | merchandise_of_gdp &lt;dbl&gt; | continent &lt;chr&gt; | landlocked &lt;lgl&gt; | agriculture_forestry_fishing_of_gdp &lt;dbl&gt; | gdp_growth &lt;dbl&gt; | gdp_us_dollar &lt;dbl&gt; | langoff_1 &lt;chr&gt; | foreign_direct_investment_inflows &lt;dbl&gt; | inflation_rate &lt;dbl&gt; | net_barter_of_trade &lt;dbl&gt; |\n",
       "|---|---|---|---|---|---|---|---|---|---|---|---|---|\n",
       "| 1 | AFG | 22.74025 | 38.70415 | Asia   |  TRUE | 23.743664 | 0.4263548 |  17804292964 | Persian    |    52173421 | 11.804186 | 144.7519 |\n",
       "| 2 | AGO | 56.02651 | 78.30597 | Africa | FALSE |  5.845681 | 3.4719763 | 111789686464 | Portuguese | -3023770966 | 13.482468 | 244.3292 |\n",
       "| 3 | ALB | 24.48441 | 56.86241 | Europe | FALSE | 18.226765 | 2.5453218 |  12890765324 | Albanian   |  1048706682 |  3.429123 |  94.3372 |\n",
       "\n"
      ],
      "text/plain": [
       "  country_iso3 industry_of_gdp merchandise_of_gdp continent landlocked\n",
       "1 AFG          22.74025        38.70415           Asia       TRUE     \n",
       "2 AGO          56.02651        78.30597           Africa    FALSE     \n",
       "3 ALB          24.48441        56.86241           Europe    FALSE     \n",
       "  agriculture_forestry_fishing_of_gdp gdp_growth gdp_us_dollar langoff_1 \n",
       "1 23.743664                           0.4263548   17804292964  Persian   \n",
       "2  5.845681                           3.4719763  111789686464  Portuguese\n",
       "3 18.226765                           2.5453218   12890765324  Albanian  \n",
       "  foreign_direct_investment_inflows inflation_rate net_barter_of_trade\n",
       "1    52173421                       11.804186      144.7519           \n",
       "2 -3023770966                       13.482468      244.3292           \n",
       "3  1048706682                        3.429123       94.3372           "
      ]
     },
     "metadata": {},
     "output_type": "display_data"
    }
   ],
   "source": [
    "head(nodes, 3)"
   ]
  },
  {
   "cell_type": "code",
   "execution_count": 5,
   "id": "automated-flashing",
   "metadata": {},
   "outputs": [
    {
     "data": {
      "text/html": [
       "<table class=\"dataframe\">\n",
       "<caption>A data.frame: 3 × 3</caption>\n",
       "<thead>\n",
       "\t<tr><th></th><th scope=col>source</th><th scope=col>target</th><th scope=col>weight</th></tr>\n",
       "\t<tr><th></th><th scope=col>&lt;chr&gt;</th><th scope=col>&lt;chr&gt;</th><th scope=col>&lt;dbl&gt;</th></tr>\n",
       "</thead>\n",
       "<tbody>\n",
       "\t<tr><th scope=row>1</th><td>AFG</td><td>TKM</td><td> 0.189</td></tr>\n",
       "\t<tr><th scope=row>2</th><td>ALB</td><td>SLE</td><td>22.012</td></tr>\n",
       "\t<tr><th scope=row>3</th><td>ALB</td><td>KEN</td><td>10.836</td></tr>\n",
       "</tbody>\n",
       "</table>\n"
      ],
      "text/latex": [
       "A data.frame: 3 × 3\n",
       "\\begin{tabular}{r|lll}\n",
       "  & source & target & weight\\\\\n",
       "  & <chr> & <chr> & <dbl>\\\\\n",
       "\\hline\n",
       "\t1 & AFG & TKM &  0.189\\\\\n",
       "\t2 & ALB & SLE & 22.012\\\\\n",
       "\t3 & ALB & KEN & 10.836\\\\\n",
       "\\end{tabular}\n"
      ],
      "text/markdown": [
       "\n",
       "A data.frame: 3 × 3\n",
       "\n",
       "| <!--/--> | source &lt;chr&gt; | target &lt;chr&gt; | weight &lt;dbl&gt; |\n",
       "|---|---|---|---|\n",
       "| 1 | AFG | TKM |  0.189 |\n",
       "| 2 | ALB | SLE | 22.012 |\n",
       "| 3 | ALB | KEN | 10.836 |\n",
       "\n"
      ],
      "text/plain": [
       "  source target weight\n",
       "1 AFG    TKM     0.189\n",
       "2 ALB    SLE    22.012\n",
       "3 ALB    KEN    10.836"
      ]
     },
     "metadata": {},
     "output_type": "display_data"
    }
   ],
   "source": [
    "head(edges, 3)"
   ]
  },
  {
   "cell_type": "markdown",
   "id": "automotive-accordance",
   "metadata": {},
   "source": [
    "### Examining the effect of homophily on the network of trades"
   ]
  },
  {
   "cell_type": "code",
   "execution_count": 6,
   "id": "noticed-lightning",
   "metadata": {},
   "outputs": [],
   "source": [
    "count_homophily = function(edges, nodes, attrs, ...) {\n",
    "    count = 0\n",
    "    for (i in 1:dim(edges)[1]) {\n",
    "        if (attrs[nodes$country_iso3 == edges$source[i]] == attrs[nodes$country_iso3 == edges$target[i]]) {\n",
    "            count = count + 1\n",
    "        }\n",
    "    }\n",
    "    return(count)\n",
    "}"
   ]
  },
  {
   "cell_type": "code",
   "execution_count": 7,
   "id": "loving-involvement",
   "metadata": {},
   "outputs": [],
   "source": [
    "execute_permutation_test = function(edges, nodes, func, attrs, attr, ...) {\n",
    "    params = list(...)\n",
    "    observed_statistic = func(edges, nodes, attrs, params)\n",
    "\n",
    "    \n",
    "#     generating new samples by permutating the attributes\n",
    "    permutated_samples = matrix(0, nrow = n, ncol = N)\n",
    "    for (i in 1:N) {\n",
    "        permutated_samples[, i] = sample(x = attrs, size = n, replace = F)\n",
    "    }\n",
    "    \n",
    "#    computing the specified statistic for all the permutated networks\n",
    "    permutated_statistics = matrix(0, nrow = N, ncol = 1)\n",
    "    for (i in 1:N) {\n",
    "        permutated_statistics[j] = func(edges, nodes, permutated_samples[, i], params)\n",
    "    }\n",
    "    \n",
    "    p_value = mean(permutated_statistics < observed_statistic)\n",
    "    if (p_value > .5) {\n",
    "        p_value = 1 - p_value\n",
    "    }\n",
    "    \n",
    "    print(paste(attr, ',', p_value))\n",
    "    pdf(paste('../results/', attr, 'residuals.pdf'))\n",
    "    par(bg = 'white')\n",
    "    hist(\n",
    "        permutated_statistics, \n",
    "        xlim=c(min(min(permutated_statistics), observed_statistic), max(max(permutated_statistics), observed_statistic)), \n",
    "        main = paste('Comparison of the observed statistic and \\npermutated ones with respect to \\n', attr, 'with p-value: ', p_value)\n",
    "    )\n",
    "    abline(v=observed_statistic, col='red')\n",
    "    dev.off()\n",
    "    return(data.frame(\n",
    "        effect = attr,\n",
    "        p_value = p_value\n",
    "    ))\n",
    "}"
   ]
  },
  {
   "cell_type": "code",
   "execution_count": 8,
   "id": "elder-comfort",
   "metadata": {},
   "outputs": [],
   "source": [
    "categories = !unlist(lapply(nodes, FUN = is.numeric))\n",
    "categories[attr(categories, 'names') == 'country_iso3'] = FALSE\n",
    "categories = colnames(nodes[, categories])"
   ]
  },
  {
   "cell_type": "code",
   "execution_count": 9,
   "id": "careful-translation",
   "metadata": {},
   "outputs": [
    {
     "name": "stdout",
     "output_type": "stream",
     "text": [
      "[1] \"homophily  continent , 0\"\n",
      "[1] \"homophily  landlocked , 0\"\n",
      "[1] \"homophily  langoff_1 , 0\"\n"
     ]
    }
   ],
   "source": [
    "homophily_results = data.frame()\n",
    "for (col in categories) {\n",
    "    homophily_results = homophily_results %>%\n",
    "        dplyr::bind_rows(\n",
    "            execute_permutation_test(\n",
    "                edges,\n",
    "                nodes,\n",
    "                count_homophily,\n",
    "                nodes[, col],\n",
    "                paste('homophily ', as.character(col))\n",
    "            )\n",
    "        )\n",
    "}"
   ]
  },
  {
   "cell_type": "markdown",
   "id": "electoral-latex",
   "metadata": {},
   "source": [
    "### Examining the effect of closeness"
   ]
  },
  {
   "cell_type": "code",
   "execution_count": 10,
   "id": "shaped-equity",
   "metadata": {},
   "outputs": [],
   "source": [
    "compute_nodecov = function(edges, nodes, attrs, ...) {\n",
    "#     log transformation parameter\n",
    "    params = list(...)\n",
    "    attrs = attrs - mean(attrs)\n",
    "    sum = 0\n",
    "    for (i in 1:dim(edges)[1]) {\n",
    "        if (as.logical(params[[1]])) {\n",
    "            sum = sum + log(attrs[nodes$country_iso3 == edges$source[i]] + attrs[nodes$country_iso3 == edges$target[i]])\n",
    "        } else {\n",
    "            sum = sum + attrs[nodes$country_iso3 == edges$source[i]] + attrs[nodes$country_iso3 == edges$target[i]]\n",
    "        }\n",
    "    }\n",
    "    return(sum)\n",
    "}"
   ]
  },
  {
   "cell_type": "code",
   "execution_count": 11,
   "id": "better-official",
   "metadata": {},
   "outputs": [],
   "source": [
    "compute_absdiff = function(edges, nodes, attrs, ...) {\n",
    "#     log transformation parameter\n",
    "    params = list(...)\n",
    "    attrs = attrs - mean(attrs)\n",
    "    diff_sum = 0\n",
    "    for (i in 1:dim(edges)[1]) {\n",
    "        if (as.logical(params[[1]])) {\n",
    "            diff_sum = diff_sum + log(1 + abs(attrs[nodes$country_iso3 == edges$source[i]] - attrs[nodes$country_iso3 == edges$target[i]]))\n",
    "        } else {\n",
    "            diff_sum = diff_sum + abs(attrs[nodes$country_iso3 == edges$source[i]] - attrs[nodes$country_iso3 == edges$target[i]])\n",
    "        }\n",
    "    }\n",
    "    return(diff_sum)\n",
    "}"
   ]
  },
  {
   "cell_type": "code",
   "execution_count": 12,
   "id": "romantic-richards",
   "metadata": {},
   "outputs": [],
   "source": [
    "numerical_homophily = function(edges, nodes, attrs, ...) {\n",
    "    m = .5 * length(edges)\n",
    "    attrs = attrs - mean(attrs)\n",
    "    result = 0\n",
    "    for (i in 1:dim(edges)[1]) {\n",
    "        result = result + attrs[which(nodes$country_iso3 == edges$source[i])] * attrs[which(nodes$country_iso3 == edges$target[i])]\n",
    "    }\n",
    "    result = result / 2 / m / sum(attrs**2) * n\n",
    "    return(result)\n",
    "}"
   ]
  },
  {
   "cell_type": "code",
   "execution_count": 13,
   "id": "interstate-drilling",
   "metadata": {},
   "outputs": [],
   "source": [
    "nums <- unlist(lapply(nodes, is.numeric))\n",
    "nums = colnames(nodes[, nums])\n",
    "nodes_numerical = nodes[, nums]"
   ]
  },
  {
   "cell_type": "code",
   "execution_count": 14,
   "id": "greenhouse-parking",
   "metadata": {},
   "outputs": [
    {
     "name": "stdout",
     "output_type": "stream",
     "text": [
      "[1] \"nodecov  industry_of_gdp , 0.413\"\n",
      "[1] \"absdiff  industry_of_gdp , 0.304\"\n",
      "[1] \"nodecov  merchandise_of_gdp , 0.439\"\n",
      "[1] \"absdiff  merchandise_of_gdp , 0.29\"\n",
      "[1] \"nodecov  agriculture_forestry_fishing_of_gdp , 0.251\"\n",
      "[1] \"absdiff  agriculture_forestry_fishing_of_gdp , 0.116\"\n",
      "[1] \"nodecov  gdp_growth , 0.124\"\n",
      "[1] \"absdiff  gdp_growth , 0.039\"\n",
      "[1] \"nodecov  gdp_us_dollar , 0.016\"\n",
      "[1] \"absdiff  gdp_us_dollar , 0\"\n",
      "[1] \"nodecov  foreign_direct_investment_inflows , 0.06\"\n",
      "[1] \"absdiff  foreign_direct_investment_inflows , 0\"\n",
      "[1] \"nodecov  inflation_rate , 0.131\"\n",
      "[1] \"absdiff  inflation_rate , 0.476\"\n",
      "[1] \"nodecov  net_barter_of_trade , 0.393\"\n",
      "[1] \"absdiff  net_barter_of_trade , 0.177\"\n"
     ]
    }
   ],
   "source": [
    "nodecov_results = data.frame()\n",
    "absdiff_results = data.frame()\n",
    "for (i in 1:length(nums)) {\n",
    "    f = paste(nums[i], \"~\", paste(nums[-i], collapse=\" + \"))\n",
    "    linear.model = lm(f, data = nodes_numerical)\n",
    "    nodecov_results = nodecov_results %>%\n",
    "        dplyr::bind_rows(\n",
    "            execute_permutation_test(\n",
    "                edges,\n",
    "                nodes,\n",
    "                compute_nodecov,\n",
    "                linear.model$residuals,\n",
    "                paste('nodecov ', as.character(nums[i])),\n",
    "                FALSE\n",
    "            )\n",
    "        )\n",
    "    absdiff_results = absdiff_results %>%\n",
    "        dplyr::bind_rows(\n",
    "            execute_permutation_test(\n",
    "                edges,\n",
    "                nodes,\n",
    "                compute_absdiff, \n",
    "                linear.model$residuals,\n",
    "                paste('absdiff ', as.character(nums[i])), \n",
    "                FALSE\n",
    "            )\n",
    "        )\n",
    "}"
   ]
  },
  {
   "cell_type": "markdown",
   "id": "lesbian-breeding",
   "metadata": {},
   "source": [
    "### Transform numerical data to categorical and do homophily test"
   ]
  },
  {
   "cell_type": "code",
   "execution_count": 15,
   "id": "coordinated-acquisition",
   "metadata": {},
   "outputs": [
    {
     "name": "stdout",
     "output_type": "stream",
     "text": [
      "[1] \"numerical homophily  industry_of_gdp , 0.396\"\n",
      "[1] \"numerical homophily  merchandise_of_gdp , 0.336\"\n",
      "[1] \"numerical homophily  agriculture_forestry_fishing_of_gdp , 0\"\n",
      "[1] \"numerical homophily  gdp_growth , 0.257\"\n",
      "[1] \"numerical homophily  gdp_us_dollar , 0.239\"\n",
      "[1] \"numerical homophily  foreign_direct_investment_inflows , 0.327\"\n",
      "[1] \"numerical homophily  inflation_rate , 0.056\"\n",
      "[1] \"numerical homophily  net_barter_of_trade , 0.199\"\n"
     ]
    }
   ],
   "source": [
    "numerical_homophily_results = data.frame()\n",
    "for (i in 1:length(nums)) {\n",
    "    f = paste(nums[i], \"~\", paste(nums[-i], collapse=\" + \"))\n",
    "    linear.model = lm(f, data = nodes_numerical)\n",
    "    values = linear.model$residuals\n",
    "    numerical_homophily_results = numerical_homophily_results %>%\n",
    "        dplyr::bind_rows(\n",
    "            execute_permutation_test(\n",
    "                edges,\n",
    "                nodes,\n",
    "                numerical_homophily,\n",
    "                values,\n",
    "                paste('numerical homophily ', as.character(nums[i]))\n",
    "            )\n",
    "        )\n",
    "}"
   ]
  },
  {
   "cell_type": "code",
   "execution_count": 16,
   "id": "commercial-parent",
   "metadata": {},
   "outputs": [],
   "source": [
    "all_results = rbind(\n",
    "    nodecov_results, \n",
    "    absdiff_results, \n",
    "    homophily_results, \n",
    "    numerical_homophily_results\n",
    ")"
   ]
  },
  {
   "cell_type": "code",
   "execution_count": 17,
   "id": "municipal-cincinnati",
   "metadata": {},
   "outputs": [],
   "source": [
    "write.csv(all_results, '../results/residual_permutation_tests.csv', row.names=F)"
   ]
  },
  {
   "cell_type": "code",
   "execution_count": null,
   "id": "judicial-stick",
   "metadata": {},
   "outputs": [],
   "source": []
  }
 ],
 "metadata": {
  "kernelspec": {
   "display_name": "R",
   "language": "R",
   "name": "ir"
  },
  "language_info": {
   "codemirror_mode": "r",
   "file_extension": ".r",
   "mimetype": "text/x-r-source",
   "name": "R",
   "pygments_lexer": "r",
   "version": "4.0.3"
  }
 },
 "nbformat": 4,
 "nbformat_minor": 5
}
