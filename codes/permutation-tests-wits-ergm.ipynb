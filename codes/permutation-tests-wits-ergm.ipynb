{
 "cells": [
  {
   "cell_type": "markdown",
   "id": "indonesian-installation",
   "metadata": {},
   "source": [
    "### Loading the dataset containing the export data alongside with the nodal attribute available on each country"
   ]
  },
  {
   "cell_type": "code",
   "execution_count": 224,
   "id": "assisted-recording",
   "metadata": {},
   "outputs": [],
   "source": [
    "edges = read.csv('../datasets/wits/simulated/edgelist.csv')\n",
    "nodes = read.csv('../datasets/wits/simulated/nodelist.csv')"
   ]
  },
  {
   "cell_type": "code",
   "execution_count": 225,
   "id": "incident-insertion",
   "metadata": {},
   "outputs": [],
   "source": [
    "simulated_edges_base_path = '../datasets/wits/simulated/simulations/'\n",
    "simulated_edges_data = list.files(path = simulated_edges_base_path)"
   ]
  },
  {
   "cell_type": "code",
   "execution_count": 226,
   "id": "scheduled-remove",
   "metadata": {},
   "outputs": [],
   "source": [
    "for (i in 1:length(simulated_edges_data)) {\n",
    "    simulated_edges_data[i] = paste(simulated_edges_base_path, simulated_edges_data[i], sep = '')\n",
    "}"
   ]
  },
  {
   "cell_type": "code",
   "execution_count": 227,
   "id": "packed-fence",
   "metadata": {},
   "outputs": [],
   "source": [
    "simulated_edges = lapply(simulated_edges_data, read.csv)"
   ]
  },
  {
   "cell_type": "code",
   "execution_count": 228,
   "id": "animal-sunglasses",
   "metadata": {},
   "outputs": [],
   "source": [
    "n = dim(nodes)[1]\n",
    "N = length(simulated_edges)\n",
    "country_names = nodes$country_iso3\n",
    "nodes = transform(nodes, landlocked=as.logical(landlocked))"
   ]
  },
  {
   "cell_type": "markdown",
   "id": "discrete-coverage",
   "metadata": {},
   "source": [
    "### Importing the library required for doing permutation tests"
   ]
  },
  {
   "cell_type": "code",
   "execution_count": 229,
   "id": "several-company",
   "metadata": {},
   "outputs": [],
   "source": [
    "library(coin)\n",
    "library(sna)\n",
    "library(ergm)"
   ]
  },
  {
   "cell_type": "code",
   "execution_count": 230,
   "id": "streaming-arrival",
   "metadata": {},
   "outputs": [
    {
     "data": {
      "text/html": [
       "<table class=\"dataframe\">\n",
       "<caption>A data.frame: 3 × 19</caption>\n",
       "<thead>\n",
       "\t<tr><th></th><th scope=col>country_iso3</th><th scope=col>merchandise_of_gdp</th><th scope=col>area</th><th scope=col>population</th><th scope=col>industry_of_gdp</th><th scope=col>continent</th><th scope=col>agriculture_forestry_fishing_of_gdp</th><th scope=col>life_expectancy</th><th scope=col>landlocked</th><th scope=col>colonizer</th><th scope=col>net_barter_of_trade</th><th scope=col>inflation_rate</th><th scope=col>langoff_1</th><th scope=col>gni_atlas</th><th scope=col>foreign_direct_investment_inflows</th><th scope=col>happiness</th><th scope=col>gdp_us_dollar</th><th scope=col>gdp_growth</th><th scope=col>gdp_per_capita</th></tr>\n",
       "\t<tr><th></th><th scope=col>&lt;chr&gt;</th><th scope=col>&lt;dbl&gt;</th><th scope=col>&lt;int&gt;</th><th scope=col>&lt;int&gt;</th><th scope=col>&lt;dbl&gt;</th><th scope=col>&lt;chr&gt;</th><th scope=col>&lt;dbl&gt;</th><th scope=col>&lt;dbl&gt;</th><th scope=col>&lt;lgl&gt;</th><th scope=col>&lt;chr&gt;</th><th scope=col>&lt;dbl&gt;</th><th scope=col>&lt;dbl&gt;</th><th scope=col>&lt;chr&gt;</th><th scope=col>&lt;dbl&gt;</th><th scope=col>&lt;dbl&gt;</th><th scope=col>&lt;dbl&gt;</th><th scope=col>&lt;dbl&gt;</th><th scope=col>&lt;dbl&gt;</th><th scope=col>&lt;dbl&gt;</th></tr>\n",
       "</thead>\n",
       "<tbody>\n",
       "\t<tr><th scope=row>1</th><td>AFG</td><td>38.70415</td><td> 652225</td><td>30117411</td><td>22.74025</td><td>Asia  </td><td>23.743664</td><td>61.553</td><td> TRUE</td><td>USA </td><td>144.7519</td><td>11.804186</td><td>Persian   </td><td>16077121256</td><td>   52173421</td><td>0.721</td><td> 17804292964</td><td>0.4263548</td><td> 591.1628</td></tr>\n",
       "\t<tr><th scope=row>2</th><td>AGO</td><td>78.30597</td><td>1246700</td><td>24220660</td><td>56.02651</td><td>Africa</td><td> 5.845681</td><td>56.330</td><td>FALSE</td><td>PRT </td><td>244.3292</td><td>13.482468</td><td>Portuguese</td><td>82606027251</td><td>-3023770966</td><td>0.708</td><td>111789686464</td><td>3.4719763</td><td>4615.4682</td></tr>\n",
       "\t<tr><th scope=row>3</th><td>ALB</td><td>56.86241</td><td>  28748</td><td> 2905195</td><td>24.48441</td><td>Europe</td><td>18.226765</td><td>76.914</td><td>FALSE</td><td>NONE</td><td> 94.3372</td><td> 3.429123</td><td>Albanian  </td><td>12803715190</td><td> 1048706682</td><td>0.568</td><td> 12890765324</td><td>2.5453218</td><td>4437.1429</td></tr>\n",
       "</tbody>\n",
       "</table>\n"
      ],
      "text/latex": [
       "A data.frame: 3 × 19\n",
       "\\begin{tabular}{r|lllllllllllllllllll}\n",
       "  & country\\_iso3 & merchandise\\_of\\_gdp & area & population & industry\\_of\\_gdp & continent & agriculture\\_forestry\\_fishing\\_of\\_gdp & life\\_expectancy & landlocked & colonizer & net\\_barter\\_of\\_trade & inflation\\_rate & langoff\\_1 & gni\\_atlas & foreign\\_direct\\_investment\\_inflows & happiness & gdp\\_us\\_dollar & gdp\\_growth & gdp\\_per\\_capita\\\\\n",
       "  & <chr> & <dbl> & <int> & <int> & <dbl> & <chr> & <dbl> & <dbl> & <lgl> & <chr> & <dbl> & <dbl> & <chr> & <dbl> & <dbl> & <dbl> & <dbl> & <dbl> & <dbl>\\\\\n",
       "\\hline\n",
       "\t1 & AFG & 38.70415 &  652225 & 30117411 & 22.74025 & Asia   & 23.743664 & 61.553 &  TRUE & USA  & 144.7519 & 11.804186 & Persian    & 16077121256 &    52173421 & 0.721 &  17804292964 & 0.4263548 &  591.1628\\\\\n",
       "\t2 & AGO & 78.30597 & 1246700 & 24220660 & 56.02651 & Africa &  5.845681 & 56.330 & FALSE & PRT  & 244.3292 & 13.482468 & Portuguese & 82606027251 & -3023770966 & 0.708 & 111789686464 & 3.4719763 & 4615.4682\\\\\n",
       "\t3 & ALB & 56.86241 &   28748 &  2905195 & 24.48441 & Europe & 18.226765 & 76.914 & FALSE & NONE &  94.3372 &  3.429123 & Albanian   & 12803715190 &  1048706682 & 0.568 &  12890765324 & 2.5453218 & 4437.1429\\\\\n",
       "\\end{tabular}\n"
      ],
      "text/markdown": [
       "\n",
       "A data.frame: 3 × 19\n",
       "\n",
       "| <!--/--> | country_iso3 &lt;chr&gt; | merchandise_of_gdp &lt;dbl&gt; | area &lt;int&gt; | population &lt;int&gt; | industry_of_gdp &lt;dbl&gt; | continent &lt;chr&gt; | agriculture_forestry_fishing_of_gdp &lt;dbl&gt; | life_expectancy &lt;dbl&gt; | landlocked &lt;lgl&gt; | colonizer &lt;chr&gt; | net_barter_of_trade &lt;dbl&gt; | inflation_rate &lt;dbl&gt; | langoff_1 &lt;chr&gt; | gni_atlas &lt;dbl&gt; | foreign_direct_investment_inflows &lt;dbl&gt; | happiness &lt;dbl&gt; | gdp_us_dollar &lt;dbl&gt; | gdp_growth &lt;dbl&gt; | gdp_per_capita &lt;dbl&gt; |\n",
       "|---|---|---|---|---|---|---|---|---|---|---|---|---|---|---|---|---|---|---|---|\n",
       "| 1 | AFG | 38.70415 |  652225 | 30117411 | 22.74025 | Asia   | 23.743664 | 61.553 |  TRUE | USA  | 144.7519 | 11.804186 | Persian    | 16077121256 |    52173421 | 0.721 |  17804292964 | 0.4263548 |  591.1628 |\n",
       "| 2 | AGO | 78.30597 | 1246700 | 24220660 | 56.02651 | Africa |  5.845681 | 56.330 | FALSE | PRT  | 244.3292 | 13.482468 | Portuguese | 82606027251 | -3023770966 | 0.708 | 111789686464 | 3.4719763 | 4615.4682 |\n",
       "| 3 | ALB | 56.86241 |   28748 |  2905195 | 24.48441 | Europe | 18.226765 | 76.914 | FALSE | NONE |  94.3372 |  3.429123 | Albanian   | 12803715190 |  1048706682 | 0.568 |  12890765324 | 2.5453218 | 4437.1429 |\n",
       "\n"
      ],
      "text/plain": [
       "  country_iso3 merchandise_of_gdp area    population industry_of_gdp continent\n",
       "1 AFG          38.70415            652225 30117411   22.74025        Asia     \n",
       "2 AGO          78.30597           1246700 24220660   56.02651        Africa   \n",
       "3 ALB          56.86241             28748  2905195   24.48441        Europe   \n",
       "  agriculture_forestry_fishing_of_gdp life_expectancy landlocked colonizer\n",
       "1 23.743664                           61.553           TRUE      USA      \n",
       "2  5.845681                           56.330          FALSE      PRT      \n",
       "3 18.226765                           76.914          FALSE      NONE     \n",
       "  net_barter_of_trade inflation_rate langoff_1  gni_atlas  \n",
       "1 144.7519            11.804186      Persian    16077121256\n",
       "2 244.3292            13.482468      Portuguese 82606027251\n",
       "3  94.3372             3.429123      Albanian   12803715190\n",
       "  foreign_direct_investment_inflows happiness gdp_us_dollar gdp_growth\n",
       "1    52173421                       0.721      17804292964  0.4263548 \n",
       "2 -3023770966                       0.708     111789686464  3.4719763 \n",
       "3  1048706682                       0.568      12890765324  2.5453218 \n",
       "  gdp_per_capita\n",
       "1  591.1628     \n",
       "2 4615.4682     \n",
       "3 4437.1429     "
      ]
     },
     "metadata": {},
     "output_type": "display_data"
    }
   ],
   "source": [
    "head(nodes, 3)"
   ]
  },
  {
   "cell_type": "code",
   "execution_count": 231,
   "id": "strange-bernard",
   "metadata": {},
   "outputs": [
    {
     "data": {
      "text/html": [
       "<table class=\"dataframe\">\n",
       "<caption>A data.frame: 3 × 3</caption>\n",
       "<thead>\n",
       "\t<tr><th></th><th scope=col>source</th><th scope=col>target</th><th scope=col>weight</th></tr>\n",
       "\t<tr><th></th><th scope=col>&lt;chr&gt;</th><th scope=col>&lt;chr&gt;</th><th scope=col>&lt;dbl&gt;</th></tr>\n",
       "</thead>\n",
       "<tbody>\n",
       "\t<tr><th scope=row>1</th><td>AFG</td><td>TKM</td><td>   0.189</td></tr>\n",
       "\t<tr><th scope=row>2</th><td>AGO</td><td>JPN</td><td>1369.367</td></tr>\n",
       "\t<tr><th scope=row>3</th><td>AGO</td><td>BEN</td><td>1700.981</td></tr>\n",
       "</tbody>\n",
       "</table>\n"
      ],
      "text/latex": [
       "A data.frame: 3 × 3\n",
       "\\begin{tabular}{r|lll}\n",
       "  & source & target & weight\\\\\n",
       "  & <chr> & <chr> & <dbl>\\\\\n",
       "\\hline\n",
       "\t1 & AFG & TKM &    0.189\\\\\n",
       "\t2 & AGO & JPN & 1369.367\\\\\n",
       "\t3 & AGO & BEN & 1700.981\\\\\n",
       "\\end{tabular}\n"
      ],
      "text/markdown": [
       "\n",
       "A data.frame: 3 × 3\n",
       "\n",
       "| <!--/--> | source &lt;chr&gt; | target &lt;chr&gt; | weight &lt;dbl&gt; |\n",
       "|---|---|---|---|\n",
       "| 1 | AFG | TKM |    0.189 |\n",
       "| 2 | AGO | JPN | 1369.367 |\n",
       "| 3 | AGO | BEN | 1700.981 |\n",
       "\n"
      ],
      "text/plain": [
       "  source target weight  \n",
       "1 AFG    TKM       0.189\n",
       "2 AGO    JPN    1369.367\n",
       "3 AGO    BEN    1700.981"
      ]
     },
     "metadata": {},
     "output_type": "display_data"
    }
   ],
   "source": [
    "head(edges, 3)"
   ]
  },
  {
   "cell_type": "code",
   "execution_count": 232,
   "id": "brown-answer",
   "metadata": {},
   "outputs": [
    {
     "data": {
      "text/plain": [
       " Network attributes:\n",
       "  vertices = 141 \n",
       "  directed = TRUE \n",
       "  hyper = FALSE \n",
       "  loops = FALSE \n",
       "  multiple = FALSE \n",
       "  bipartite = FALSE \n",
       "  total edges= 2874 \n",
       "    missing edges= 0 \n",
       "    non-missing edges= 2874 \n",
       "\n",
       " Vertex attribute names: \n",
       "    agriculture_forestry_fishing_of_gdp area colonizer continent country_iso3 foreign_direct_investment_inflows gdp_growth gdp_per_capita gdp_us_dollar gni_atlas happiness industry_of_gdp inflation_rate landlocked langoff_1 life_expectancy merchandise_of_gdp net_barter_of_trade population vertex.names \n",
       "\n",
       " Edge attribute names not shown "
      ]
     },
     "metadata": {},
     "output_type": "display_data"
    }
   ],
   "source": [
    "net = network(edges, directed = TRUE, matrix.type = 'edgelist')\n",
    "set.vertex.attribute(x = net, attrname = colnames(nodes), value = nodes)\n",
    "net"
   ]
  },
  {
   "cell_type": "markdown",
   "id": "sporting-garlic",
   "metadata": {},
   "source": [
    "### Generating the adjacency matrix of the export network and the total Export/Import of all countries"
   ]
  },
  {
   "cell_type": "code",
   "execution_count": 233,
   "id": "encouraging-mercy",
   "metadata": {},
   "outputs": [],
   "source": [
    "compute_sum_export_import = function(edges, nodes) {\n",
    "    countries_export_import = data.frame(\n",
    "        country = c(nodes$country_iso3), \n",
    "        exports = matrix(0, nrow =n , ncol = 1),\n",
    "        imports = matrix(0, nrow =n , ncol = 1)\n",
    "    )\n",
    "    for (i in 1:n) {\n",
    "        countries_export_import[i, 2:3] = c(\n",
    "            sum(edges$source == countries_export_import$country[i]), \n",
    "            sum(edges$target == countries_export_import$country[i])\n",
    "        )\n",
    "    }\n",
    "    nodes$exports = countries_export_import$exports\n",
    "    nodes$imports = countries_export_import$imports\n",
    "    \n",
    "    col_statistic_exports = sum(nodes$exports[nodes$colonizer == 'GBR'])\n",
    "    col_statistic_imports = sum(nodes$imports[nodes$colonizer == 'GBR'])\n",
    "    \n",
    "    return(c(col_statistic_exports, col_statistic_imports))\n",
    "}"
   ]
  },
  {
   "cell_type": "code",
   "execution_count": 234,
   "id": "proper-bracelet",
   "metadata": {},
   "outputs": [],
   "source": [
    "col_observed_statistics = compute_sum_export_import(edges, nodes)\n",
    "col_observed_statistic_exports = col_observed_statistics[1]\n",
    "col_observed_statistic_imports = col_observed_statistics[2]"
   ]
  },
  {
   "cell_type": "code",
   "execution_count": 235,
   "id": "mature-celebrity",
   "metadata": {},
   "outputs": [],
   "source": [
    "col_permutated_statistic_exports = matrix(0, nrow=N, ncol=1)\n",
    "col_permutated_statistic_imports = matrix(0, nrow=N, ncol=1)\n",
    "for (i in 1:N) {\n",
    "    col_permutated_statistics = compute_sum_export_import(simulated_edges[[i]], nodes)\n",
    "    col_permutated_statistic_exports[i,] = col_permutated_statistics[1]\n",
    "    col_permutated_statistic_imports[i,] = col_permutated_statistics[2]\n",
    "}\n"
   ]
  },
  {
   "cell_type": "code",
   "execution_count": 236,
   "id": "right-surname",
   "metadata": {},
   "outputs": [
    {
     "data": {
      "text/html": [
       "0"
      ],
      "text/latex": [
       "0"
      ],
      "text/markdown": [
       "0"
      ],
      "text/plain": [
       "[1] 0"
      ]
     },
     "metadata": {},
     "output_type": "display_data"
    },
    {
     "data": {
      "image/png": "[encoded data removed]",
      "text/plain": [
       "Plot with title \"Histogram of col_permutated_statistic_exports\""
      ]
     },
     "metadata": {
      "image/png": {
       "height": 420,
       "width": 420
      }
     },
     "output_type": "display_data"
    }
   ],
   "source": [
    "par(bg = 'white')\n",
    "hist(\n",
    "    col_permutated_statistic_exports, \n",
    "    xlim = c(\n",
    "        min(min(col_permutated_statistic_exports), col_observed_statistic_exports), \n",
    "        max(max(col_permutated_statistic_exports), col_observed_statistic_exports))\n",
    ")\n",
    "abline(v=col_observed_statistic_exports, col='red')\n",
    "mean(col_permutated_statistic_exports > col_observed_statistic_exports)"
   ]
  },
  {
   "cell_type": "code",
   "execution_count": 237,
   "id": "analyzed-rotation",
   "metadata": {},
   "outputs": [
    {
     "data": {
      "text/html": [
       "0.011"
      ],
      "text/latex": [
       "0.011"
      ],
      "text/markdown": [
       "0.011"
      ],
      "text/plain": [
       "[1] 0.011"
      ]
     },
     "metadata": {},
     "output_type": "display_data"
    },
    {
     "data": {
      "image/png": "[encoded data removed]",
      "text/plain": [
       "Plot with title \"Histogram of col_permutated_statistic_imports\""
      ]
     },
     "metadata": {
      "image/png": {
       "height": 420,
       "width": 420
      }
     },
     "output_type": "display_data"
    }
   ],
   "source": [
    "par(bg = 'white')\n",
    "hist(\n",
    "    col_permutated_statistic_imports, \n",
    "    xlim = c(\n",
    "        min(min(col_permutated_statistic_imports), col_observed_statistic_imports), \n",
    "        max(max(col_permutated_statistic_imports), col_observed_statistic_imports))\n",
    ")\n",
    "abline(v=col_observed_statistic_imports, col='red')\n",
    "mean(col_permutated_statistic_imports > col_observed_statistic_imports)"
   ]
  },
  {
   "cell_type": "markdown",
   "id": "comic-surfing",
   "metadata": {},
   "source": [
    "### Examining the effect of homophily on the network of trades"
   ]
  },
  {
   "cell_type": "code",
   "execution_count": 238,
   "id": "coupled-establishment",
   "metadata": {},
   "outputs": [],
   "source": [
    "count_homophily = function(edges, nodes, attrs, ...) {\n",
    "    count = 0\n",
    "    for (i in 1:dim(edges)[1]) {\n",
    "        if (attrs[nodes$country_iso3 == edges$source[i]] == attrs[nodes$country_iso3 == edges$target[i]]) {\n",
    "            count = count + 1\n",
    "        }\n",
    "    }\n",
    "    return(count)\n",
    "}"
   ]
  },
  {
   "cell_type": "code",
   "execution_count": 242,
   "id": "wrapped-adrian",
   "metadata": {},
   "outputs": [],
   "source": [
    "execute_permutation_test = function(edges, nodes, func, attrs, attr, ...) {\n",
    "    params = list(...)\n",
    "    observed_statistic = func(edges, nodes, attrs, params)\n",
    "    \n",
    "#    computing the specified statistic for all the permutated networks\n",
    "    permutated_statistics = matrix(0, nrow = N, ncol = 1)\n",
    "    for (i in 1:N) {\n",
    "        permutated_statistics[i] = func(simulated_edges[[i]], nodes, attrs, params)\n",
    "    }\n",
    "    \n",
    "    p_value = mean(permutated_statistics < observed_statistic)\n",
    "    if (p_value > .5) {\n",
    "        p_value = 1 - p_value\n",
    "    }\n",
    "    \n",
    "    print(paste(attr, ',', p_value))\n",
    "    pdf(paste('../results/', attr, 'ergm.pdf'))\n",
    "    par(bg = 'white')\n",
    "    hist(\n",
    "        permutated_statistics, \n",
    "        xlim=c(min(min(permutated_statistics), observed_statistic), max(max(permutated_statistics), observed_statistic)), \n",
    "        main = paste('Comparison of the observed statistic and \\npermutated ones with respect to \\n', attr, 'with p-value: ', p_value)\n",
    "    )\n",
    "    abline(v=observed_statistic, col='red')\n",
    "    \n",
    "    dev.off()\n",
    "}"
   ]
  },
  {
   "cell_type": "code",
   "execution_count": 243,
   "id": "indoor-ebony",
   "metadata": {},
   "outputs": [],
   "source": [
    "categories = !unlist(lapply(nodes, FUN = is.numeric))\n",
    "categories[attr(categories, 'names') == 'country_iso3'] = FALSE\n",
    "categories = colnames(nodes[, categories])"
   ]
  },
  {
   "cell_type": "code",
   "execution_count": 244,
   "id": "proud-husband",
   "metadata": {},
   "outputs": [
    {
     "name": "stdout",
     "output_type": "stream",
     "text": [
      "[1] \"homophily  continent , 0.473\"\n",
      "[1] \"homophily  landlocked , 0.494\"\n",
      "[1] \"homophily  colonizer , 0.486\"\n",
      "[1] \"homophily  langoff_1 , 0.462\"\n"
     ]
    }
   ],
   "source": [
    "for (col in categories) {\n",
    "    execute_permutation_test(edges, nodes, count_homophily, nodes[, col], paste('homophily ', as.character(col)))\n",
    "}"
   ]
  },
  {
   "cell_type": "markdown",
   "id": "digital-daniel",
   "metadata": {},
   "source": [
    "### Examining the effect of closeness"
   ]
  },
  {
   "cell_type": "code",
   "execution_count": 245,
   "id": "unusual-search",
   "metadata": {},
   "outputs": [],
   "source": [
    "compute_nodecov = function(edges, nodes, attrs, ...) {\n",
    "#     log transformation parameter\n",
    "    params = list(...)\n",
    "    sum = 0\n",
    "    for (i in 1:dim(edges)[1]) {\n",
    "        if (as.logical(params[[1]])) {\n",
    "            sum = sum + log(attrs[nodes$country_iso3 == edges$source[i]] + attrs[nodes$country_iso3 == edges$target[i]])\n",
    "        } else {\n",
    "            sum = sum + attrs[nodes$country_iso3 == edges$source[i]] + attrs[nodes$country_iso3 == edges$target[i]]\n",
    "        }\n",
    "    }\n",
    "    return(sum)\n",
    "}"
   ]
  },
  {
   "cell_type": "code",
   "execution_count": 246,
   "id": "strategic-pizza",
   "metadata": {},
   "outputs": [],
   "source": [
    "compute_absdiff = function(edges, nodes, attrs, ...) {\n",
    "#     log transformation parameter\n",
    "    params = list(...)\n",
    "    diff_sum = 0\n",
    "    for (i in 1:dim(edges)[1]) {\n",
    "        if (as.logical(params[[1]])) {\n",
    "            diff_sum = diff_sum + log(1 + abs(attrs[nodes$country_iso3 == edges$source[i]] - attrs[nodes$country_iso3 == edges$target[i]]))\n",
    "        } else {\n",
    "            diff_sum = diff_sum + abs(attrs[nodes$country_iso3 == edges$source[i]] - attrs[nodes$country_iso3 == edges$target[i]])\n",
    "        }\n",
    "    }\n",
    "    return(diff_sum)\n",
    "}"
   ]
  },
  {
   "cell_type": "code",
   "execution_count": 247,
   "id": "shared-giving",
   "metadata": {},
   "outputs": [],
   "source": [
    "nums <- unlist(lapply(nodes, is.numeric))\n",
    "nums = colnames(nodes[, nums])"
   ]
  },
  {
   "cell_type": "code",
   "execution_count": 248,
   "id": "educated-germany",
   "metadata": {},
   "outputs": [
    {
     "name": "stdout",
     "output_type": "stream",
     "text": [
      "[1] \"nodecov  merchandise_of_gdp , 0.435\"\n",
      "[1] \"absdiff  merchandise_of_gdp , 0.387\"\n",
      "[1] \"nodecov  area , 0.011\"\n",
      "[1] \"absdiff  area , 0.015\"\n",
      "[1] \"nodecov  population , 0\"\n",
      "[1] \"absdiff  population , 0\"\n",
      "[1] \"nodecov  industry_of_gdp , 0.497\"\n",
      "[1] \"absdiff  industry_of_gdp , 0.058\"\n",
      "[1] \"nodecov  agriculture_forestry_fishing_of_gdp , 0.441\"\n",
      "[1] \"absdiff  agriculture_forestry_fishing_of_gdp , 0.0629999999999999\"\n",
      "[1] \"nodecov  life_expectancy , 0.465\"\n",
      "[1] \"absdiff  life_expectancy , 0.13\"\n",
      "[1] \"nodecov  net_barter_of_trade , 0.483\"\n",
      "[1] \"absdiff  net_barter_of_trade , 0.195\"\n",
      "[1] \"nodecov  inflation_rate , 0.465\"\n",
      "[1] \"absdiff  inflation_rate , 0.468\"\n",
      "[1] \"nodecov  gni_atlas , 0.008\"\n",
      "[1] \"absdiff  gni_atlas , 0.026\"\n",
      "[1] \"nodecov  foreign_direct_investment_inflows , 0.485\"\n",
      "[1] \"absdiff  foreign_direct_investment_inflows , 0.21\"\n",
      "[1] \"nodecov  happiness , 0.46\"\n",
      "[1] \"absdiff  happiness , 0.476\"\n",
      "[1] \"nodecov  gdp_us_dollar , 0.009\"\n",
      "[1] \"absdiff  gdp_us_dollar , 0.046\"\n",
      "[1] \"nodecov  gdp_growth , 0.469\"\n",
      "[1] \"absdiff  gdp_growth , 0.464\"\n",
      "[1] \"nodecov  gdp_per_capita , 0.396\"\n",
      "[1] \"absdiff  gdp_per_capita , 0.001\"\n"
     ]
    }
   ],
   "source": [
    "for (col in nums) {\n",
    "    execute_permutation_test(edges, nodes, compute_nodecov, nodes[, col], paste('nodecov ', as.character(col)), FALSE)\n",
    "    execute_permutation_test(edges, nodes, compute_absdiff, nodes[, col], paste('absdiff ', as.character(col)), FALSE)\n",
    "}"
   ]
  },
  {
   "cell_type": "markdown",
   "id": "advised-dylan",
   "metadata": {},
   "source": [
    "### Transform numerical data to categorical and do homophily test"
   ]
  },
  {
   "cell_type": "code",
   "execution_count": 249,
   "id": "macro-reference",
   "metadata": {},
   "outputs": [
    {
     "name": "stdout",
     "output_type": "stream",
     "text": [
      "[1] \"homophily  merchandise_of_gdp , 0.486\"\n",
      "[1] \"homophily  area , 0.247\"\n",
      "[1] \"homophily  population , 0.172\"\n",
      "[1] \"homophily  industry_of_gdp , 0.432\"\n",
      "[1] \"homophily  agriculture_forestry_fishing_of_gdp , 0.086\"\n",
      "[1] \"homophily  life_expectancy , 0.123\"\n",
      "[1] \"homophily  net_barter_of_trade , 0.211\"\n",
      "[1] \"homophily  inflation_rate , 0.026\"\n",
      "[1] \"homophily  gni_atlas , 0.011\"\n",
      "[1] \"homophily  foreign_direct_investment_inflows , 0.408\"\n",
      "[1] \"homophily  happiness , 0.341\"\n",
      "[1] \"homophily  gdp_us_dollar , 0.00700000000000001\"\n",
      "[1] \"homophily  gdp_growth , 0.082\"\n",
      "[1] \"homophily  gdp_per_capita , 0.481\"\n"
     ]
    }
   ],
   "source": [
    "for (col in nums) {\n",
    "    values = nodes[, col]\n",
    "    breaks <- c(quantile(values)[1] - 1, quantile(values)[2], quantile(values)[4], quantile(values)[5] + 1)\n",
    "    tags <- c(\"Low\", \"Medium\", \"High\")\n",
    "    execute_permutation_test(edges, nodes, count_homophily, cut(values, breaks = breaks, labels = tags), paste('homophily ', as.character(col)))\n",
    "}"
   ]
  }
 ],
 "metadata": {
  "kernelspec": {
   "display_name": "R",
   "language": "R",
   "name": "ir"
  },
  "language_info": {
   "codemirror_mode": "r",
   "file_extension": ".r",
   "mimetype": "text/x-r-source",
   "name": "R",
   "pygments_lexer": "r",
   "version": "4.0.3"
  }
 },
 "nbformat": 4,
 "nbformat_minor": 5
}
