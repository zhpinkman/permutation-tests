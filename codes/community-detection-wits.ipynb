{
 "cells": [
  {
   "cell_type": "code",
   "execution_count": 114,
   "id": "indian-bible",
   "metadata": {},
   "outputs": [],
   "source": [
    "library(tidyverse)\n",
    "library(igraph)"
   ]
  },
  {
   "cell_type": "code",
   "execution_count": 115,
   "id": "later-garden",
   "metadata": {},
   "outputs": [],
   "source": [
    "# edges = read.csv('../datasets/wits/simulated/edgelist.csv')\n",
    "# nodes = read.csv('../datasets/wits/simulated/nodelist.csv')\n",
    "# edges = read.csv('../datasets/wits/edgelist_2011.csv')\n",
    "# nodes = read.csv('../datasets/wits/nodelist_2011.csv')\n",
    "nodes = read.csv('../datasets/wits/nl_no_missing.csv')\n",
    "edges = read.csv('../datasets/wits/el_no_missing.csv')"
   ]
  },
  {
   "cell_type": "code",
   "execution_count": 116,
   "id": "express-value",
   "metadata": {},
   "outputs": [
    {
     "data": {
      "text/html": [
       "<table class=\"dataframe\">\n",
       "<caption>A data.frame: 3 × 3</caption>\n",
       "<thead>\n",
       "\t<tr><th></th><th scope=col>source</th><th scope=col>target</th><th scope=col>weight</th></tr>\n",
       "\t<tr><th></th><th scope=col>&lt;chr&gt;</th><th scope=col>&lt;chr&gt;</th><th scope=col>&lt;dbl&gt;</th></tr>\n",
       "</thead>\n",
       "<tbody>\n",
       "\t<tr><th scope=row>1</th><td>NPL</td><td>LBR</td><td>97.061</td></tr>\n",
       "\t<tr><th scope=row>2</th><td>NPL</td><td>AZE</td><td>46.502</td></tr>\n",
       "\t<tr><th scope=row>3</th><td>NPL</td><td>JOR</td><td>25.551</td></tr>\n",
       "</tbody>\n",
       "</table>\n"
      ],
      "text/latex": [
       "A data.frame: 3 × 3\n",
       "\\begin{tabular}{r|lll}\n",
       "  & source & target & weight\\\\\n",
       "  & <chr> & <chr> & <dbl>\\\\\n",
       "\\hline\n",
       "\t1 & NPL & LBR & 97.061\\\\\n",
       "\t2 & NPL & AZE & 46.502\\\\\n",
       "\t3 & NPL & JOR & 25.551\\\\\n",
       "\\end{tabular}\n"
      ],
      "text/markdown": [
       "\n",
       "A data.frame: 3 × 3\n",
       "\n",
       "| <!--/--> | source &lt;chr&gt; | target &lt;chr&gt; | weight &lt;dbl&gt; |\n",
       "|---|---|---|---|\n",
       "| 1 | NPL | LBR | 97.061 |\n",
       "| 2 | NPL | AZE | 46.502 |\n",
       "| 3 | NPL | JOR | 25.551 |\n",
       "\n"
      ],
      "text/plain": [
       "  source target weight\n",
       "1 NPL    LBR    97.061\n",
       "2 NPL    AZE    46.502\n",
       "3 NPL    JOR    25.551"
      ]
     },
     "metadata": {},
     "output_type": "display_data"
    }
   ],
   "source": [
    "head(edges, 3)"
   ]
  },
  {
   "cell_type": "code",
   "execution_count": 117,
   "id": "bulgarian-japan",
   "metadata": {},
   "outputs": [],
   "source": [
    "n = dim(nodes)[1]\n",
    "N = 1000\n",
    "country_names = nodes$country_iso3\n",
    "nodes = transform(nodes, landlocked=as.logical(landlocked))"
   ]
  },
  {
   "cell_type": "code",
   "execution_count": 118,
   "id": "sweet-principle",
   "metadata": {},
   "outputs": [],
   "source": [
    "trade_graph = igraph::graph_from_edgelist(as.matrix(edges[, c(\"source\", \"target\")]), directed = F) %>%\n",
    "    igraph::set_edge_attr(name = \"weight\", value = edges$weight)"
   ]
  },
  {
   "cell_type": "code",
   "execution_count": 119,
   "id": "worldwide-economy",
   "metadata": {},
   "outputs": [],
   "source": [
    "louvain_partitions = igraph::cluster_louvain(graph = trade_graph)"
   ]
  },
  {
   "cell_type": "code",
   "execution_count": 120,
   "id": "urban-region",
   "metadata": {},
   "outputs": [],
   "source": [
    "trade_graph$community = louvain_partitions$membership"
   ]
  },
  {
   "cell_type": "code",
   "execution_count": 121,
   "id": "automotive-partnership",
   "metadata": {},
   "outputs": [],
   "source": [
    "communities_summary = data.frame()\n",
    "for (i in unique(louvain_partitions$membership)) {\n",
    "    subgraph = induced_subgraph(graph = trade_graph, vids = which(trade_graph$community == i))\n",
    "    \n",
    "    size = igraph::gorder(graph = subgraph)\n",
    "    \n",
    "    btwn_cent = betweenness(graph = subgraph)\n",
    "    \n",
    "    central_node = names(which(btwn_cent == max(btwn_cent)))\n",
    "    \n",
    "    communities_summary = communities_summary %>%\n",
    "        dplyr::bind_rows(\n",
    "            data.frame(\n",
    "                community = i, \n",
    "                size = size, \n",
    "                central_node = central_node\n",
    "            )\n",
    "        )\n",
    "    \n",
    "}"
   ]
  },
  {
   "cell_type": "code",
   "execution_count": 122,
   "id": "ongoing-story",
   "metadata": {},
   "outputs": [
    {
     "data": {
      "text/html": [
       "<table class=\"dataframe\">\n",
       "<caption>A data.frame: 3 × 3</caption>\n",
       "<thead>\n",
       "\t<tr><th scope=col>community</th><th scope=col>size</th><th scope=col>central_node</th></tr>\n",
       "\t<tr><th scope=col>&lt;dbl&gt;</th><th scope=col>&lt;int&gt;</th><th scope=col>&lt;chr&gt;</th></tr>\n",
       "</thead>\n",
       "<tbody>\n",
       "\t<tr><td>3</td><td>63</td><td>MDG</td></tr>\n",
       "\t<tr><td>1</td><td>55</td><td>NER</td></tr>\n",
       "\t<tr><td>2</td><td>23</td><td>SUR</td></tr>\n",
       "</tbody>\n",
       "</table>\n"
      ],
      "text/latex": [
       "A data.frame: 3 × 3\n",
       "\\begin{tabular}{lll}\n",
       " community & size & central\\_node\\\\\n",
       " <dbl> & <int> & <chr>\\\\\n",
       "\\hline\n",
       "\t 3 & 63 & MDG\\\\\n",
       "\t 1 & 55 & NER\\\\\n",
       "\t 2 & 23 & SUR\\\\\n",
       "\\end{tabular}\n"
      ],
      "text/markdown": [
       "\n",
       "A data.frame: 3 × 3\n",
       "\n",
       "| community &lt;dbl&gt; | size &lt;int&gt; | central_node &lt;chr&gt; |\n",
       "|---|---|---|\n",
       "| 3 | 63 | MDG |\n",
       "| 1 | 55 | NER |\n",
       "| 2 | 23 | SUR |\n",
       "\n"
      ],
      "text/plain": [
       "  community size central_node\n",
       "1 3         63   MDG         \n",
       "2 1         55   NER         \n",
       "3 2         23   SUR         "
      ]
     },
     "metadata": {},
     "output_type": "display_data"
    }
   ],
   "source": [
    "communities_summary"
   ]
  },
  {
   "cell_type": "code",
   "execution_count": 123,
   "id": "hourly-tampa",
   "metadata": {},
   "outputs": [],
   "source": [
    "numerical_columns = names(which(unlist(lapply(nodes, is.numeric))))"
   ]
  },
  {
   "cell_type": "code",
   "execution_count": 124,
   "id": "norman-scope",
   "metadata": {},
   "outputs": [],
   "source": [
    "for (col in numerical_columns) {\n",
    "    values = nodes[, col]\n",
    "    breaks <- c(quantile(values)[1] - 1, quantile(values)[2], quantile(values)[4], quantile(values)[5] + 1)\n",
    "    tags <- c(\"Low\", \"Medium\", \"High\")\n",
    "    nodes[, col] = cut(values, breaks = breaks, labels = tags)\n",
    "}"
   ]
  },
  {
   "cell_type": "code",
   "execution_count": 125,
   "id": "caroline-swaziland",
   "metadata": {},
   "outputs": [
    {
     "data": {
      "text/html": [
       "<table class=\"dataframe\">\n",
       "<caption>A data.frame: 3 × 19</caption>\n",
       "<thead>\n",
       "\t<tr><th></th><th scope=col>country_iso3</th><th scope=col>gdp_us_dollar</th><th scope=col>inflation_rate</th><th scope=col>gdp_growth</th><th scope=col>colonizer</th><th scope=col>area</th><th scope=col>landlocked</th><th scope=col>continent</th><th scope=col>langoff_1</th><th scope=col>population</th><th scope=col>gdp_per_capita</th><th scope=col>life_expectancy</th><th scope=col>gni_atlas</th><th scope=col>agriculture_forestry_fishing_of_gdp</th><th scope=col>industry_of_gdp</th><th scope=col>merchandise_of_gdp</th><th scope=col>net_barter_of_trade</th><th scope=col>foreign_direct_investment_inflows</th><th scope=col>happiness</th></tr>\n",
       "\t<tr><th></th><th scope=col>&lt;chr&gt;</th><th scope=col>&lt;fct&gt;</th><th scope=col>&lt;fct&gt;</th><th scope=col>&lt;fct&gt;</th><th scope=col>&lt;chr&gt;</th><th scope=col>&lt;fct&gt;</th><th scope=col>&lt;lgl&gt;</th><th scope=col>&lt;chr&gt;</th><th scope=col>&lt;chr&gt;</th><th scope=col>&lt;fct&gt;</th><th scope=col>&lt;fct&gt;</th><th scope=col>&lt;fct&gt;</th><th scope=col>&lt;fct&gt;</th><th scope=col>&lt;fct&gt;</th><th scope=col>&lt;fct&gt;</th><th scope=col>&lt;fct&gt;</th><th scope=col>&lt;fct&gt;</th><th scope=col>&lt;fct&gt;</th><th scope=col>&lt;fct&gt;</th></tr>\n",
       "</thead>\n",
       "<tbody>\n",
       "\t<tr><th scope=row>1</th><td>AFG</td><td>Medium</td><td>High  </td><td>Low   </td><td>USA </td><td>Medium</td><td> TRUE</td><td>Asia  </td><td>Persian   </td><td>Medium</td><td>Low   </td><td>Low   </td><td>Medium</td><td>High  </td><td>Medium</td><td>Low   </td><td>Medium</td><td>Low   </td><td>Medium</td></tr>\n",
       "\t<tr><th scope=row>2</th><td>AGO</td><td>Medium</td><td>High  </td><td>Medium</td><td>PRT </td><td>High  </td><td>FALSE</td><td>Africa</td><td>Portuguese</td><td>Medium</td><td>Medium</td><td>Low   </td><td>Medium</td><td>Medium</td><td>High  </td><td>Medium</td><td>High  </td><td>Low   </td><td>Medium</td></tr>\n",
       "\t<tr><th scope=row>3</th><td>ALB</td><td>Low   </td><td>Medium</td><td>Medium</td><td>NONE</td><td>Low   </td><td>FALSE</td><td>Europe</td><td>Albanian  </td><td>Low   </td><td>Medium</td><td>Medium</td><td>Low   </td><td>High  </td><td>Medium</td><td>Medium</td><td>Medium</td><td>Medium</td><td>Low   </td></tr>\n",
       "</tbody>\n",
       "</table>\n"
      ],
      "text/latex": [
       "A data.frame: 3 × 19\n",
       "\\begin{tabular}{r|lllllllllllllllllll}\n",
       "  & country\\_iso3 & gdp\\_us\\_dollar & inflation\\_rate & gdp\\_growth & colonizer & area & landlocked & continent & langoff\\_1 & population & gdp\\_per\\_capita & life\\_expectancy & gni\\_atlas & agriculture\\_forestry\\_fishing\\_of\\_gdp & industry\\_of\\_gdp & merchandise\\_of\\_gdp & net\\_barter\\_of\\_trade & foreign\\_direct\\_investment\\_inflows & happiness\\\\\n",
       "  & <chr> & <fct> & <fct> & <fct> & <chr> & <fct> & <lgl> & <chr> & <chr> & <fct> & <fct> & <fct> & <fct> & <fct> & <fct> & <fct> & <fct> & <fct> & <fct>\\\\\n",
       "\\hline\n",
       "\t1 & AFG & Medium & High   & Low    & USA  & Medium &  TRUE & Asia   & Persian    & Medium & Low    & Low    & Medium & High   & Medium & Low    & Medium & Low    & Medium\\\\\n",
       "\t2 & AGO & Medium & High   & Medium & PRT  & High   & FALSE & Africa & Portuguese & Medium & Medium & Low    & Medium & Medium & High   & Medium & High   & Low    & Medium\\\\\n",
       "\t3 & ALB & Low    & Medium & Medium & NONE & Low    & FALSE & Europe & Albanian   & Low    & Medium & Medium & Low    & High   & Medium & Medium & Medium & Medium & Low   \\\\\n",
       "\\end{tabular}\n"
      ],
      "text/markdown": [
       "\n",
       "A data.frame: 3 × 19\n",
       "\n",
       "| <!--/--> | country_iso3 &lt;chr&gt; | gdp_us_dollar &lt;fct&gt; | inflation_rate &lt;fct&gt; | gdp_growth &lt;fct&gt; | colonizer &lt;chr&gt; | area &lt;fct&gt; | landlocked &lt;lgl&gt; | continent &lt;chr&gt; | langoff_1 &lt;chr&gt; | population &lt;fct&gt; | gdp_per_capita &lt;fct&gt; | life_expectancy &lt;fct&gt; | gni_atlas &lt;fct&gt; | agriculture_forestry_fishing_of_gdp &lt;fct&gt; | industry_of_gdp &lt;fct&gt; | merchandise_of_gdp &lt;fct&gt; | net_barter_of_trade &lt;fct&gt; | foreign_direct_investment_inflows &lt;fct&gt; | happiness &lt;fct&gt; |\n",
       "|---|---|---|---|---|---|---|---|---|---|---|---|---|---|---|---|---|---|---|---|\n",
       "| 1 | AFG | Medium | High   | Low    | USA  | Medium |  TRUE | Asia   | Persian    | Medium | Low    | Low    | Medium | High   | Medium | Low    | Medium | Low    | Medium |\n",
       "| 2 | AGO | Medium | High   | Medium | PRT  | High   | FALSE | Africa | Portuguese | Medium | Medium | Low    | Medium | Medium | High   | Medium | High   | Low    | Medium |\n",
       "| 3 | ALB | Low    | Medium | Medium | NONE | Low    | FALSE | Europe | Albanian   | Low    | Medium | Medium | Low    | High   | Medium | Medium | Medium | Medium | Low    |\n",
       "\n"
      ],
      "text/plain": [
       "  country_iso3 gdp_us_dollar inflation_rate gdp_growth colonizer area  \n",
       "1 AFG          Medium        High           Low        USA       Medium\n",
       "2 AGO          Medium        High           Medium     PRT       High  \n",
       "3 ALB          Low           Medium         Medium     NONE      Low   \n",
       "  landlocked continent langoff_1  population gdp_per_capita life_expectancy\n",
       "1  TRUE      Asia      Persian    Medium     Low            Low            \n",
       "2 FALSE      Africa    Portuguese Medium     Medium         Low            \n",
       "3 FALSE      Europe    Albanian   Low        Medium         Medium         \n",
       "  gni_atlas agriculture_forestry_fishing_of_gdp industry_of_gdp\n",
       "1 Medium    High                                Medium         \n",
       "2 Medium    Medium                              High           \n",
       "3 Low       High                                Medium         \n",
       "  merchandise_of_gdp net_barter_of_trade foreign_direct_investment_inflows\n",
       "1 Low                Medium              Low                              \n",
       "2 Medium             High                Low                              \n",
       "3 Medium             Medium              Medium                           \n",
       "  happiness\n",
       "1 Medium   \n",
       "2 Medium   \n",
       "3 Low      "
      ]
     },
     "metadata": {},
     "output_type": "display_data"
    }
   ],
   "source": [
    "head(nodes, 3)"
   ]
  },
  {
   "cell_type": "code",
   "execution_count": 126,
   "id": "jewish-costs",
   "metadata": {},
   "outputs": [],
   "source": [
    "communities_df = data.frame(\n",
    "    country = louvain_partitions$names, \n",
    "    community = louvain_partitions$membership\n",
    ")"
   ]
  },
  {
   "cell_type": "code",
   "execution_count": 127,
   "id": "israeli-madagascar",
   "metadata": {},
   "outputs": [],
   "source": [
    "nodes = merge(x = nodes, y = communities_df, by.x = 'country_iso3', by.y = 'country')"
   ]
  },
  {
   "cell_type": "code",
   "execution_count": 143,
   "id": "excellent-edinburgh",
   "metadata": {},
   "outputs": [],
   "source": [
    "num_communities = length(unique(nodes$community))"
   ]
  },
  {
   "cell_type": "code",
   "execution_count": 144,
   "id": "simple-bennett",
   "metadata": {},
   "outputs": [],
   "source": [
    "get_between_within_counts = function(nodes, edges) {\n",
    "    levels = c('Low', 'Medium', 'High')\n",
    "    btwn_wthn_trade_counts = data.frame()\n",
    "    for (i in 1:num_communities) {\n",
    "        for (j in 1:num_communities) {\n",
    "            for (source_level in levels) {\n",
    "                for (target_level in levels) {\n",
    "                    btwn_wthn_trade_counts = btwn_wthn_trade_counts %>%\n",
    "                        dplyr::bind_rows(\n",
    "                            data.frame(\n",
    "                                source_community = i, \n",
    "                                target_community = j, \n",
    "                                source_gdp_level = source_level, \n",
    "                                target_gdp_level = target_level,\n",
    "                                edge_count = count(\n",
    "                                    edges %>% \n",
    "                                        dplyr::filter(\n",
    "                                            source %in% nodes$country_iso3[which(nodes$community == i)] & \n",
    "                                            target %in% nodes$country_iso3[which(nodes$community == j)] & \n",
    "                                            source %in% nodes$country_iso3[which(nodes$gdp_us_dollar == source_level)] &\n",
    "                                            target %in% nodes$country_iso3[which(nodes$gdp_us_dollar == target_level)]\n",
    "                                        )\n",
    "                                )\n",
    "                            )\n",
    "                        )\n",
    "                }\n",
    "            }\n",
    "        }\n",
    "    }\n",
    "    return(btwn_wthn_trade_counts)\n",
    "}"
   ]
  },
  {
   "cell_type": "code",
   "execution_count": 145,
   "id": "stupid-workstation",
   "metadata": {},
   "outputs": [],
   "source": [
    "btwn_wthn_trade_counts = get_between_within_counts(nodes, edges)"
   ]
  },
  {
   "cell_type": "code",
   "execution_count": 149,
   "id": "dying-bishop",
   "metadata": {},
   "outputs": [
    {
     "data": {
      "text/html": [
       "<table class=\"dataframe\">\n",
       "<caption>A data.frame: 3 × 5</caption>\n",
       "<thead>\n",
       "\t<tr><th></th><th scope=col>source_community</th><th scope=col>target_community</th><th scope=col>source_gdp_level</th><th scope=col>target_gdp_level</th><th scope=col>n</th></tr>\n",
       "\t<tr><th></th><th scope=col>&lt;int&gt;</th><th scope=col>&lt;int&gt;</th><th scope=col>&lt;chr&gt;</th><th scope=col>&lt;chr&gt;</th><th scope=col>&lt;int&gt;</th></tr>\n",
       "</thead>\n",
       "<tbody>\n",
       "\t<tr><th scope=row>1</th><td>1</td><td>1</td><td>Low</td><td>Low   </td><td> 41</td></tr>\n",
       "\t<tr><th scope=row>2</th><td>1</td><td>1</td><td>Low</td><td>Medium</td><td>196</td></tr>\n",
       "\t<tr><th scope=row>3</th><td>1</td><td>1</td><td>Low</td><td>High  </td><td>140</td></tr>\n",
       "</tbody>\n",
       "</table>\n"
      ],
      "text/latex": [
       "A data.frame: 3 × 5\n",
       "\\begin{tabular}{r|lllll}\n",
       "  & source\\_community & target\\_community & source\\_gdp\\_level & target\\_gdp\\_level & n\\\\\n",
       "  & <int> & <int> & <chr> & <chr> & <int>\\\\\n",
       "\\hline\n",
       "\t1 & 1 & 1 & Low & Low    &  41\\\\\n",
       "\t2 & 1 & 1 & Low & Medium & 196\\\\\n",
       "\t3 & 1 & 1 & Low & High   & 140\\\\\n",
       "\\end{tabular}\n"
      ],
      "text/markdown": [
       "\n",
       "A data.frame: 3 × 5\n",
       "\n",
       "| <!--/--> | source_community &lt;int&gt; | target_community &lt;int&gt; | source_gdp_level &lt;chr&gt; | target_gdp_level &lt;chr&gt; | n &lt;int&gt; |\n",
       "|---|---|---|---|---|---|\n",
       "| 1 | 1 | 1 | Low | Low    |  41 |\n",
       "| 2 | 1 | 1 | Low | Medium | 196 |\n",
       "| 3 | 1 | 1 | Low | High   | 140 |\n",
       "\n"
      ],
      "text/plain": [
       "  source_community target_community source_gdp_level target_gdp_level n  \n",
       "1 1                1                Low              Low               41\n",
       "2 1                1                Low              Medium           196\n",
       "3 1                1                Low              High             140"
      ]
     },
     "metadata": {},
     "output_type": "display_data"
    }
   ],
   "source": [
    "head(btwn_wthn_trade_counts, 3)"
   ]
  },
  {
   "cell_type": "code",
   "execution_count": 148,
   "id": "adopted-institution",
   "metadata": {},
   "outputs": [
    {
     "name": "stderr",
     "output_type": "stream",
     "text": [
      "`summarise()` has grouped output by 'source_community'. You can override using the `.groups` argument.\n",
      "\n"
     ]
    },
    {
     "data": {
      "text/html": [
       "<table class=\"dataframe\">\n",
       "<caption>A grouped_df: 9 × 3</caption>\n",
       "<thead>\n",
       "\t<tr><th scope=col>source_community</th><th scope=col>target_community</th><th scope=col>sum</th></tr>\n",
       "\t<tr><th scope=col>&lt;int&gt;</th><th scope=col>&lt;int&gt;</th><th scope=col>&lt;int&gt;</th></tr>\n",
       "</thead>\n",
       "<tbody>\n",
       "\t<tr><td>1</td><td>1</td><td>2517</td></tr>\n",
       "\t<tr><td>1</td><td>2</td><td> 972</td></tr>\n",
       "\t<tr><td>1</td><td>3</td><td>2707</td></tr>\n",
       "\t<tr><td>2</td><td>1</td><td> 983</td></tr>\n",
       "\t<tr><td>2</td><td>2</td><td> 466</td></tr>\n",
       "\t<tr><td>2</td><td>3</td><td>1010</td></tr>\n",
       "\t<tr><td>3</td><td>1</td><td>2283</td></tr>\n",
       "\t<tr><td>3</td><td>2</td><td> 845</td></tr>\n",
       "\t<tr><td>3</td><td>3</td><td>2584</td></tr>\n",
       "</tbody>\n",
       "</table>\n"
      ],
      "text/latex": [
       "A grouped\\_df: 9 × 3\n",
       "\\begin{tabular}{lll}\n",
       " source\\_community & target\\_community & sum\\\\\n",
       " <int> & <int> & <int>\\\\\n",
       "\\hline\n",
       "\t 1 & 1 & 2517\\\\\n",
       "\t 1 & 2 &  972\\\\\n",
       "\t 1 & 3 & 2707\\\\\n",
       "\t 2 & 1 &  983\\\\\n",
       "\t 2 & 2 &  466\\\\\n",
       "\t 2 & 3 & 1010\\\\\n",
       "\t 3 & 1 & 2283\\\\\n",
       "\t 3 & 2 &  845\\\\\n",
       "\t 3 & 3 & 2584\\\\\n",
       "\\end{tabular}\n"
      ],
      "text/markdown": [
       "\n",
       "A grouped_df: 9 × 3\n",
       "\n",
       "| source_community &lt;int&gt; | target_community &lt;int&gt; | sum &lt;int&gt; |\n",
       "|---|---|---|\n",
       "| 1 | 1 | 2517 |\n",
       "| 1 | 2 |  972 |\n",
       "| 1 | 3 | 2707 |\n",
       "| 2 | 1 |  983 |\n",
       "| 2 | 2 |  466 |\n",
       "| 2 | 3 | 1010 |\n",
       "| 3 | 1 | 2283 |\n",
       "| 3 | 2 |  845 |\n",
       "| 3 | 3 | 2584 |\n",
       "\n"
      ],
      "text/plain": [
       "  source_community target_community sum \n",
       "1 1                1                2517\n",
       "2 1                2                 972\n",
       "3 1                3                2707\n",
       "4 2                1                 983\n",
       "5 2                2                 466\n",
       "6 2                3                1010\n",
       "7 3                1                2283\n",
       "8 3                2                 845\n",
       "9 3                3                2584"
      ]
     },
     "metadata": {},
     "output_type": "display_data"
    }
   ],
   "source": [
    "btwn_wthn_trade_counts %>% \n",
    "    dplyr::group_by(source_community, target_community) %>%\n",
    "    dplyr::summarise(sum=sum(n))"
   ]
  },
  {
   "cell_type": "code",
   "execution_count": 155,
   "id": "tired-celebration",
   "metadata": {},
   "outputs": [
    {
     "data": {
      "text/html": [
       "<table class=\"dataframe\">\n",
       "<caption>A data.frame: 81 × 5</caption>\n",
       "<thead>\n",
       "\t<tr><th scope=col>source_community</th><th scope=col>target_community</th><th scope=col>source_gdp_level</th><th scope=col>target_gdp_level</th><th scope=col>n</th></tr>\n",
       "\t<tr><th scope=col>&lt;int&gt;</th><th scope=col>&lt;int&gt;</th><th scope=col>&lt;chr&gt;</th><th scope=col>&lt;chr&gt;</th><th scope=col>&lt;int&gt;</th></tr>\n",
       "</thead>\n",
       "<tbody>\n",
       "\t<tr><td>1</td><td>1</td><td>Low   </td><td>Low   </td><td> 41</td></tr>\n",
       "\t<tr><td>1</td><td>1</td><td>Low   </td><td>Medium</td><td>196</td></tr>\n",
       "\t<tr><td>1</td><td>1</td><td>Low   </td><td>High  </td><td>140</td></tr>\n",
       "\t<tr><td>1</td><td>1</td><td>Medium</td><td>Low   </td><td>218</td></tr>\n",
       "\t<tr><td>1</td><td>1</td><td>Medium</td><td>Medium</td><td>662</td></tr>\n",
       "\t<tr><td>1</td><td>1</td><td>Medium</td><td>High  </td><td>398</td></tr>\n",
       "\t<tr><td>1</td><td>1</td><td>High  </td><td>Low   </td><td>160</td></tr>\n",
       "\t<tr><td>1</td><td>1</td><td>High  </td><td>Medium</td><td>462</td></tr>\n",
       "\t<tr><td>1</td><td>1</td><td>High  </td><td>High  </td><td>240</td></tr>\n",
       "\t<tr><td>1</td><td>2</td><td>Low   </td><td>Low   </td><td>  8</td></tr>\n",
       "\t<tr><td>1</td><td>2</td><td>Low   </td><td>Medium</td><td> 50</td></tr>\n",
       "\t<tr><td>1</td><td>2</td><td>Low   </td><td>High  </td><td> 52</td></tr>\n",
       "\t<tr><td>1</td><td>2</td><td>Medium</td><td>Low   </td><td> 72</td></tr>\n",
       "\t<tr><td>1</td><td>2</td><td>Medium</td><td>Medium</td><td>248</td></tr>\n",
       "\t<tr><td>1</td><td>2</td><td>Medium</td><td>High  </td><td>174</td></tr>\n",
       "\t<tr><td>1</td><td>2</td><td>High  </td><td>Low   </td><td> 64</td></tr>\n",
       "\t<tr><td>1</td><td>2</td><td>High  </td><td>Medium</td><td>192</td></tr>\n",
       "\t<tr><td>1</td><td>2</td><td>High  </td><td>High  </td><td>112</td></tr>\n",
       "\t<tr><td>1</td><td>3</td><td>Low   </td><td>Low   </td><td> 72</td></tr>\n",
       "\t<tr><td>1</td><td>3</td><td>Low   </td><td>Medium</td><td>157</td></tr>\n",
       "\t<tr><td>1</td><td>3</td><td>Low   </td><td>High  </td><td>101</td></tr>\n",
       "\t<tr><td>1</td><td>3</td><td>Medium</td><td>Low   </td><td>421</td></tr>\n",
       "\t<tr><td>1</td><td>3</td><td>Medium</td><td>Medium</td><td>659</td></tr>\n",
       "\t<tr><td>1</td><td>3</td><td>Medium</td><td>High  </td><td>298</td></tr>\n",
       "\t<tr><td>1</td><td>3</td><td>High  </td><td>Low   </td><td>345</td></tr>\n",
       "\t<tr><td>1</td><td>3</td><td>High  </td><td>Medium</td><td>462</td></tr>\n",
       "\t<tr><td>1</td><td>3</td><td>High  </td><td>High  </td><td>192</td></tr>\n",
       "\t<tr><td>2</td><td>1</td><td>Low   </td><td>Low   </td><td>  4</td></tr>\n",
       "\t<tr><td>2</td><td>1</td><td>Low   </td><td>Medium</td><td> 33</td></tr>\n",
       "\t<tr><td>2</td><td>1</td><td>Low   </td><td>High  </td><td> 47</td></tr>\n",
       "\t<tr><td>⋮</td><td>⋮</td><td>⋮</td><td>⋮</td><td>⋮</td></tr>\n",
       "\t<tr><td>2</td><td>3</td><td>High  </td><td>Low   </td><td>130</td></tr>\n",
       "\t<tr><td>2</td><td>3</td><td>High  </td><td>Medium</td><td>193</td></tr>\n",
       "\t<tr><td>2</td><td>3</td><td>High  </td><td>High  </td><td> 82</td></tr>\n",
       "\t<tr><td>3</td><td>1</td><td>Low   </td><td>Low   </td><td> 54</td></tr>\n",
       "\t<tr><td>3</td><td>1</td><td>Low   </td><td>Medium</td><td>248</td></tr>\n",
       "\t<tr><td>3</td><td>1</td><td>Low   </td><td>High  </td><td>237</td></tr>\n",
       "\t<tr><td>3</td><td>1</td><td>Medium</td><td>Low   </td><td>156</td></tr>\n",
       "\t<tr><td>3</td><td>1</td><td>Medium</td><td>Medium</td><td>569</td></tr>\n",
       "\t<tr><td>3</td><td>1</td><td>Medium</td><td>High  </td><td>419</td></tr>\n",
       "\t<tr><td>3</td><td>1</td><td>High  </td><td>Low   </td><td>106</td></tr>\n",
       "\t<tr><td>3</td><td>1</td><td>High  </td><td>Medium</td><td>318</td></tr>\n",
       "\t<tr><td>3</td><td>1</td><td>High  </td><td>High  </td><td>176</td></tr>\n",
       "\t<tr><td>3</td><td>2</td><td>Low   </td><td>Low   </td><td> 17</td></tr>\n",
       "\t<tr><td>3</td><td>2</td><td>Low   </td><td>Medium</td><td> 60</td></tr>\n",
       "\t<tr><td>3</td><td>2</td><td>Low   </td><td>High  </td><td> 80</td></tr>\n",
       "\t<tr><td>3</td><td>2</td><td>Medium</td><td>Low   </td><td> 60</td></tr>\n",
       "\t<tr><td>3</td><td>2</td><td>Medium</td><td>Medium</td><td>209</td></tr>\n",
       "\t<tr><td>3</td><td>2</td><td>Medium</td><td>High  </td><td>177</td></tr>\n",
       "\t<tr><td>3</td><td>2</td><td>High  </td><td>Low   </td><td> 40</td></tr>\n",
       "\t<tr><td>3</td><td>2</td><td>High  </td><td>Medium</td><td>125</td></tr>\n",
       "\t<tr><td>3</td><td>2</td><td>High  </td><td>High  </td><td> 77</td></tr>\n",
       "\t<tr><td>3</td><td>3</td><td>Low   </td><td>Low   </td><td>164</td></tr>\n",
       "\t<tr><td>3</td><td>3</td><td>Low   </td><td>Medium</td><td>276</td></tr>\n",
       "\t<tr><td>3</td><td>3</td><td>Low   </td><td>High  </td><td>179</td></tr>\n",
       "\t<tr><td>3</td><td>3</td><td>Medium</td><td>Low   </td><td>367</td></tr>\n",
       "\t<tr><td>3</td><td>3</td><td>Medium</td><td>Medium</td><td>610</td></tr>\n",
       "\t<tr><td>3</td><td>3</td><td>Medium</td><td>High  </td><td>313</td></tr>\n",
       "\t<tr><td>3</td><td>3</td><td>High  </td><td>Low   </td><td>236</td></tr>\n",
       "\t<tr><td>3</td><td>3</td><td>High  </td><td>Medium</td><td>318</td></tr>\n",
       "\t<tr><td>3</td><td>3</td><td>High  </td><td>High  </td><td>121</td></tr>\n",
       "</tbody>\n",
       "</table>\n"
      ],
      "text/latex": [
       "A data.frame: 81 × 5\n",
       "\\begin{tabular}{lllll}\n",
       " source\\_community & target\\_community & source\\_gdp\\_level & target\\_gdp\\_level & n\\\\\n",
       " <int> & <int> & <chr> & <chr> & <int>\\\\\n",
       "\\hline\n",
       "\t 1 & 1 & Low    & Low    &  41\\\\\n",
       "\t 1 & 1 & Low    & Medium & 196\\\\\n",
       "\t 1 & 1 & Low    & High   & 140\\\\\n",
       "\t 1 & 1 & Medium & Low    & 218\\\\\n",
       "\t 1 & 1 & Medium & Medium & 662\\\\\n",
       "\t 1 & 1 & Medium & High   & 398\\\\\n",
       "\t 1 & 1 & High   & Low    & 160\\\\\n",
       "\t 1 & 1 & High   & Medium & 462\\\\\n",
       "\t 1 & 1 & High   & High   & 240\\\\\n",
       "\t 1 & 2 & Low    & Low    &   8\\\\\n",
       "\t 1 & 2 & Low    & Medium &  50\\\\\n",
       "\t 1 & 2 & Low    & High   &  52\\\\\n",
       "\t 1 & 2 & Medium & Low    &  72\\\\\n",
       "\t 1 & 2 & Medium & Medium & 248\\\\\n",
       "\t 1 & 2 & Medium & High   & 174\\\\\n",
       "\t 1 & 2 & High   & Low    &  64\\\\\n",
       "\t 1 & 2 & High   & Medium & 192\\\\\n",
       "\t 1 & 2 & High   & High   & 112\\\\\n",
       "\t 1 & 3 & Low    & Low    &  72\\\\\n",
       "\t 1 & 3 & Low    & Medium & 157\\\\\n",
       "\t 1 & 3 & Low    & High   & 101\\\\\n",
       "\t 1 & 3 & Medium & Low    & 421\\\\\n",
       "\t 1 & 3 & Medium & Medium & 659\\\\\n",
       "\t 1 & 3 & Medium & High   & 298\\\\\n",
       "\t 1 & 3 & High   & Low    & 345\\\\\n",
       "\t 1 & 3 & High   & Medium & 462\\\\\n",
       "\t 1 & 3 & High   & High   & 192\\\\\n",
       "\t 2 & 1 & Low    & Low    &   4\\\\\n",
       "\t 2 & 1 & Low    & Medium &  33\\\\\n",
       "\t 2 & 1 & Low    & High   &  47\\\\\n",
       "\t ⋮ & ⋮ & ⋮ & ⋮ & ⋮\\\\\n",
       "\t 2 & 3 & High   & Low    & 130\\\\\n",
       "\t 2 & 3 & High   & Medium & 193\\\\\n",
       "\t 2 & 3 & High   & High   &  82\\\\\n",
       "\t 3 & 1 & Low    & Low    &  54\\\\\n",
       "\t 3 & 1 & Low    & Medium & 248\\\\\n",
       "\t 3 & 1 & Low    & High   & 237\\\\\n",
       "\t 3 & 1 & Medium & Low    & 156\\\\\n",
       "\t 3 & 1 & Medium & Medium & 569\\\\\n",
       "\t 3 & 1 & Medium & High   & 419\\\\\n",
       "\t 3 & 1 & High   & Low    & 106\\\\\n",
       "\t 3 & 1 & High   & Medium & 318\\\\\n",
       "\t 3 & 1 & High   & High   & 176\\\\\n",
       "\t 3 & 2 & Low    & Low    &  17\\\\\n",
       "\t 3 & 2 & Low    & Medium &  60\\\\\n",
       "\t 3 & 2 & Low    & High   &  80\\\\\n",
       "\t 3 & 2 & Medium & Low    &  60\\\\\n",
       "\t 3 & 2 & Medium & Medium & 209\\\\\n",
       "\t 3 & 2 & Medium & High   & 177\\\\\n",
       "\t 3 & 2 & High   & Low    &  40\\\\\n",
       "\t 3 & 2 & High   & Medium & 125\\\\\n",
       "\t 3 & 2 & High   & High   &  77\\\\\n",
       "\t 3 & 3 & Low    & Low    & 164\\\\\n",
       "\t 3 & 3 & Low    & Medium & 276\\\\\n",
       "\t 3 & 3 & Low    & High   & 179\\\\\n",
       "\t 3 & 3 & Medium & Low    & 367\\\\\n",
       "\t 3 & 3 & Medium & Medium & 610\\\\\n",
       "\t 3 & 3 & Medium & High   & 313\\\\\n",
       "\t 3 & 3 & High   & Low    & 236\\\\\n",
       "\t 3 & 3 & High   & Medium & 318\\\\\n",
       "\t 3 & 3 & High   & High   & 121\\\\\n",
       "\\end{tabular}\n"
      ],
      "text/markdown": [
       "\n",
       "A data.frame: 81 × 5\n",
       "\n",
       "| source_community &lt;int&gt; | target_community &lt;int&gt; | source_gdp_level &lt;chr&gt; | target_gdp_level &lt;chr&gt; | n &lt;int&gt; |\n",
       "|---|---|---|---|---|\n",
       "| 1 | 1 | Low    | Low    |  41 |\n",
       "| 1 | 1 | Low    | Medium | 196 |\n",
       "| 1 | 1 | Low    | High   | 140 |\n",
       "| 1 | 1 | Medium | Low    | 218 |\n",
       "| 1 | 1 | Medium | Medium | 662 |\n",
       "| 1 | 1 | Medium | High   | 398 |\n",
       "| 1 | 1 | High   | Low    | 160 |\n",
       "| 1 | 1 | High   | Medium | 462 |\n",
       "| 1 | 1 | High   | High   | 240 |\n",
       "| 1 | 2 | Low    | Low    |   8 |\n",
       "| 1 | 2 | Low    | Medium |  50 |\n",
       "| 1 | 2 | Low    | High   |  52 |\n",
       "| 1 | 2 | Medium | Low    |  72 |\n",
       "| 1 | 2 | Medium | Medium | 248 |\n",
       "| 1 | 2 | Medium | High   | 174 |\n",
       "| 1 | 2 | High   | Low    |  64 |\n",
       "| 1 | 2 | High   | Medium | 192 |\n",
       "| 1 | 2 | High   | High   | 112 |\n",
       "| 1 | 3 | Low    | Low    |  72 |\n",
       "| 1 | 3 | Low    | Medium | 157 |\n",
       "| 1 | 3 | Low    | High   | 101 |\n",
       "| 1 | 3 | Medium | Low    | 421 |\n",
       "| 1 | 3 | Medium | Medium | 659 |\n",
       "| 1 | 3 | Medium | High   | 298 |\n",
       "| 1 | 3 | High   | Low    | 345 |\n",
       "| 1 | 3 | High   | Medium | 462 |\n",
       "| 1 | 3 | High   | High   | 192 |\n",
       "| 2 | 1 | Low    | Low    |   4 |\n",
       "| 2 | 1 | Low    | Medium |  33 |\n",
       "| 2 | 1 | Low    | High   |  47 |\n",
       "| ⋮ | ⋮ | ⋮ | ⋮ | ⋮ |\n",
       "| 2 | 3 | High   | Low    | 130 |\n",
       "| 2 | 3 | High   | Medium | 193 |\n",
       "| 2 | 3 | High   | High   |  82 |\n",
       "| 3 | 1 | Low    | Low    |  54 |\n",
       "| 3 | 1 | Low    | Medium | 248 |\n",
       "| 3 | 1 | Low    | High   | 237 |\n",
       "| 3 | 1 | Medium | Low    | 156 |\n",
       "| 3 | 1 | Medium | Medium | 569 |\n",
       "| 3 | 1 | Medium | High   | 419 |\n",
       "| 3 | 1 | High   | Low    | 106 |\n",
       "| 3 | 1 | High   | Medium | 318 |\n",
       "| 3 | 1 | High   | High   | 176 |\n",
       "| 3 | 2 | Low    | Low    |  17 |\n",
       "| 3 | 2 | Low    | Medium |  60 |\n",
       "| 3 | 2 | Low    | High   |  80 |\n",
       "| 3 | 2 | Medium | Low    |  60 |\n",
       "| 3 | 2 | Medium | Medium | 209 |\n",
       "| 3 | 2 | Medium | High   | 177 |\n",
       "| 3 | 2 | High   | Low    |  40 |\n",
       "| 3 | 2 | High   | Medium | 125 |\n",
       "| 3 | 2 | High   | High   |  77 |\n",
       "| 3 | 3 | Low    | Low    | 164 |\n",
       "| 3 | 3 | Low    | Medium | 276 |\n",
       "| 3 | 3 | Low    | High   | 179 |\n",
       "| 3 | 3 | Medium | Low    | 367 |\n",
       "| 3 | 3 | Medium | Medium | 610 |\n",
       "| 3 | 3 | Medium | High   | 313 |\n",
       "| 3 | 3 | High   | Low    | 236 |\n",
       "| 3 | 3 | High   | Medium | 318 |\n",
       "| 3 | 3 | High   | High   | 121 |\n",
       "\n"
      ],
      "text/plain": [
       "       source_community target_community source_gdp_level target_gdp_level\n",
       "1      1                1                Low              Low             \n",
       "2      1                1                Low              Medium          \n",
       "3      1                1                Low              High            \n",
       "4      1                1                Medium           Low             \n",
       "5      1                1                Medium           Medium          \n",
       "6      1                1                Medium           High            \n",
       "7      1                1                High             Low             \n",
       "8      1                1                High             Medium          \n",
       "9      1                1                High             High            \n",
       "10     1                2                Low              Low             \n",
       "11     1                2                Low              Medium          \n",
       "12     1                2                Low              High            \n",
       "13     1                2                Medium           Low             \n",
       "14     1                2                Medium           Medium          \n",
       "15     1                2                Medium           High            \n",
       "16     1                2                High             Low             \n",
       "17     1                2                High             Medium          \n",
       "18     1                2                High             High            \n",
       "19     1                3                Low              Low             \n",
       "20     1                3                Low              Medium          \n",
       "21     1                3                Low              High            \n",
       "22     1                3                Medium           Low             \n",
       "23     1                3                Medium           Medium          \n",
       "24     1                3                Medium           High            \n",
       "25     1                3                High             Low             \n",
       "26     1                3                High             Medium          \n",
       "27     1                3                High             High            \n",
       "28     2                1                Low              Low             \n",
       "29     2                1                Low              Medium          \n",
       "30     2                1                Low              High            \n",
       "<U+22EE> <U+22EE>         <U+22EE>         <U+22EE>         <U+22EE>        \n",
       "52     2                3                High             Low             \n",
       "53     2                3                High             Medium          \n",
       "54     2                3                High             High            \n",
       "55     3                1                Low              Low             \n",
       "56     3                1                Low              Medium          \n",
       "57     3                1                Low              High            \n",
       "58     3                1                Medium           Low             \n",
       "59     3                1                Medium           Medium          \n",
       "60     3                1                Medium           High            \n",
       "61     3                1                High             Low             \n",
       "62     3                1                High             Medium          \n",
       "63     3                1                High             High            \n",
       "64     3                2                Low              Low             \n",
       "65     3                2                Low              Medium          \n",
       "66     3                2                Low              High            \n",
       "67     3                2                Medium           Low             \n",
       "68     3                2                Medium           Medium          \n",
       "69     3                2                Medium           High            \n",
       "70     3                2                High             Low             \n",
       "71     3                2                High             Medium          \n",
       "72     3                2                High             High            \n",
       "73     3                3                Low              Low             \n",
       "74     3                3                Low              Medium          \n",
       "75     3                3                Low              High            \n",
       "76     3                3                Medium           Low             \n",
       "77     3                3                Medium           Medium          \n",
       "78     3                3                Medium           High            \n",
       "79     3                3                High             Low             \n",
       "80     3                3                High             Medium          \n",
       "81     3                3                High             High            \n",
       "       n     \n",
       "1       41   \n",
       "2      196   \n",
       "3      140   \n",
       "4      218   \n",
       "5      662   \n",
       "6      398   \n",
       "7      160   \n",
       "8      462   \n",
       "9      240   \n",
       "10       8   \n",
       "11      50   \n",
       "12      52   \n",
       "13      72   \n",
       "14     248   \n",
       "15     174   \n",
       "16      64   \n",
       "17     192   \n",
       "18     112   \n",
       "19      72   \n",
       "20     157   \n",
       "21     101   \n",
       "22     421   \n",
       "23     659   \n",
       "24     298   \n",
       "25     345   \n",
       "26     462   \n",
       "27     192   \n",
       "28       4   \n",
       "29      33   \n",
       "30      47   \n",
       "<U+22EE> <U+22EE>\n",
       "52     130   \n",
       "53     193   \n",
       "54      82   \n",
       "55      54   \n",
       "56     248   \n",
       "57     237   \n",
       "58     156   \n",
       "59     569   \n",
       "60     419   \n",
       "61     106   \n",
       "62     318   \n",
       "63     176   \n",
       "64      17   \n",
       "65      60   \n",
       "66      80   \n",
       "67      60   \n",
       "68     209   \n",
       "69     177   \n",
       "70      40   \n",
       "71     125   \n",
       "72      77   \n",
       "73     164   \n",
       "74     276   \n",
       "75     179   \n",
       "76     367   \n",
       "77     610   \n",
       "78     313   \n",
       "79     236   \n",
       "80     318   \n",
       "81     121   "
      ]
     },
     "metadata": {},
     "output_type": "display_data"
    }
   ],
   "source": [
    "btwn_wthn_trade_counts"
   ]
  },
  {
   "cell_type": "code",
   "execution_count": 166,
   "id": "biblical-venue",
   "metadata": {},
   "outputs": [],
   "source": [
    "reshaped_btwn_wthn_trade_counts = matrix(data = btwn_wthn_trade_counts$n, nrow = 9, ncol = 9)"
   ]
  },
  {
   "cell_type": "code",
   "execution_count": 167,
   "id": "complimentary-singapore",
   "metadata": {},
   "outputs": [],
   "source": [
    "rownames(reshaped_btwn_wthn_trade_counts) = paste(c(rep('Low', 3), rep('Medium', 3), rep('High', 3)), rep(c('Low', 'Medium', 'High'), 3))"
   ]
  },
  {
   "cell_type": "code",
   "execution_count": 169,
   "id": "double-semester",
   "metadata": {},
   "outputs": [],
   "source": [
    "colnames(reshaped_btwn_wthn_trade_counts) = paste(c(rep(1, 3), rep(2, 3), rep(3, 3)), rep(1:3, 3))"
   ]
  },
  {
   "cell_type": "code",
   "execution_count": 170,
   "id": "provincial-sydney",
   "metadata": {},
   "outputs": [
    {
     "data": {
      "text/html": [
       "<table class=\"dataframe\">\n",
       "<caption>A matrix: 9 × 9 of type int</caption>\n",
       "<thead>\n",
       "\t<tr><th></th><th scope=col>1 1</th><th scope=col>1 2</th><th scope=col>1 3</th><th scope=col>2 1</th><th scope=col>2 2</th><th scope=col>2 3</th><th scope=col>3 1</th><th scope=col>3 2</th><th scope=col>3 3</th></tr>\n",
       "</thead>\n",
       "<tbody>\n",
       "\t<tr><th scope=row>Low Low</th><td> 41</td><td>  8</td><td> 72</td><td>  4</td><td>  8</td><td>  4</td><td> 54</td><td> 17</td><td>164</td></tr>\n",
       "\t<tr><th scope=row>Low Medium</th><td>196</td><td> 50</td><td>157</td><td> 33</td><td> 29</td><td> 38</td><td>248</td><td> 60</td><td>276</td></tr>\n",
       "\t<tr><th scope=row>Low High</th><td>140</td><td> 52</td><td>101</td><td> 47</td><td> 19</td><td> 33</td><td>237</td><td> 80</td><td>179</td></tr>\n",
       "\t<tr><th scope=row>Medium Low</th><td>218</td><td> 72</td><td>421</td><td> 69</td><td> 46</td><td>129</td><td>156</td><td> 60</td><td>367</td></tr>\n",
       "\t<tr><th scope=row>Medium Medium</th><td>662</td><td>248</td><td>659</td><td>270</td><td>133</td><td>259</td><td>569</td><td>209</td><td>610</td></tr>\n",
       "\t<tr><th scope=row>Medium High</th><td>398</td><td>174</td><td>298</td><td>192</td><td> 83</td><td>142</td><td>419</td><td>177</td><td>313</td></tr>\n",
       "\t<tr><th scope=row>High Low</th><td>160</td><td> 64</td><td>345</td><td> 64</td><td> 27</td><td>130</td><td>106</td><td> 40</td><td>236</td></tr>\n",
       "\t<tr><th scope=row>High Medium</th><td>462</td><td>192</td><td>462</td><td>192</td><td> 80</td><td>193</td><td>318</td><td>125</td><td>318</td></tr>\n",
       "\t<tr><th scope=row>High High</th><td>240</td><td>112</td><td>192</td><td>112</td><td> 41</td><td> 82</td><td>176</td><td> 77</td><td>121</td></tr>\n",
       "</tbody>\n",
       "</table>\n"
      ],
      "text/latex": [
       "A matrix: 9 × 9 of type int\n",
       "\\begin{tabular}{r|lllllllll}\n",
       "  & 1 1 & 1 2 & 1 3 & 2 1 & 2 2 & 2 3 & 3 1 & 3 2 & 3 3\\\\\n",
       "\\hline\n",
       "\tLow Low &  41 &   8 &  72 &   4 &   8 &   4 &  54 &  17 & 164\\\\\n",
       "\tLow Medium & 196 &  50 & 157 &  33 &  29 &  38 & 248 &  60 & 276\\\\\n",
       "\tLow High & 140 &  52 & 101 &  47 &  19 &  33 & 237 &  80 & 179\\\\\n",
       "\tMedium Low & 218 &  72 & 421 &  69 &  46 & 129 & 156 &  60 & 367\\\\\n",
       "\tMedium Medium & 662 & 248 & 659 & 270 & 133 & 259 & 569 & 209 & 610\\\\\n",
       "\tMedium High & 398 & 174 & 298 & 192 &  83 & 142 & 419 & 177 & 313\\\\\n",
       "\tHigh Low & 160 &  64 & 345 &  64 &  27 & 130 & 106 &  40 & 236\\\\\n",
       "\tHigh Medium & 462 & 192 & 462 & 192 &  80 & 193 & 318 & 125 & 318\\\\\n",
       "\tHigh High & 240 & 112 & 192 & 112 &  41 &  82 & 176 &  77 & 121\\\\\n",
       "\\end{tabular}\n"
      ],
      "text/markdown": [
       "\n",
       "A matrix: 9 × 9 of type int\n",
       "\n",
       "| <!--/--> | 1 1 | 1 2 | 1 3 | 2 1 | 2 2 | 2 3 | 3 1 | 3 2 | 3 3 |\n",
       "|---|---|---|---|---|---|---|---|---|---|\n",
       "| Low Low |  41 |   8 |  72 |   4 |   8 |   4 |  54 |  17 | 164 |\n",
       "| Low Medium | 196 |  50 | 157 |  33 |  29 |  38 | 248 |  60 | 276 |\n",
       "| Low High | 140 |  52 | 101 |  47 |  19 |  33 | 237 |  80 | 179 |\n",
       "| Medium Low | 218 |  72 | 421 |  69 |  46 | 129 | 156 |  60 | 367 |\n",
       "| Medium Medium | 662 | 248 | 659 | 270 | 133 | 259 | 569 | 209 | 610 |\n",
       "| Medium High | 398 | 174 | 298 | 192 |  83 | 142 | 419 | 177 | 313 |\n",
       "| High Low | 160 |  64 | 345 |  64 |  27 | 130 | 106 |  40 | 236 |\n",
       "| High Medium | 462 | 192 | 462 | 192 |  80 | 193 | 318 | 125 | 318 |\n",
       "| High High | 240 | 112 | 192 | 112 |  41 |  82 | 176 |  77 | 121 |\n",
       "\n"
      ],
      "text/plain": [
       "              1 1 1 2 1 3 2 1 2 2 2 3 3 1 3 2 3 3\n",
       "Low Low        41   8  72   4   8   4  54  17 164\n",
       "Low Medium    196  50 157  33  29  38 248  60 276\n",
       "Low High      140  52 101  47  19  33 237  80 179\n",
       "Medium Low    218  72 421  69  46 129 156  60 367\n",
       "Medium Medium 662 248 659 270 133 259 569 209 610\n",
       "Medium High   398 174 298 192  83 142 419 177 313\n",
       "High Low      160  64 345  64  27 130 106  40 236\n",
       "High Medium   462 192 462 192  80 193 318 125 318\n",
       "High High     240 112 192 112  41  82 176  77 121"
      ]
     },
     "metadata": {},
     "output_type": "display_data"
    }
   ],
   "source": [
    "reshaped_btwn_wthn_trade_counts"
   ]
  },
  {
   "cell_type": "code",
   "execution_count": 171,
   "id": "residential-dinner",
   "metadata": {},
   "outputs": [
    {
     "data": {
      "text/plain": [
       "\n",
       "\tPearson's Chi-squared test\n",
       "\n",
       "data:  reshaped_btwn_wthn_trade_counts\n",
       "X-squared = 1042, df = 64, p-value < 2.2e-16\n"
      ]
     },
     "metadata": {},
     "output_type": "display_data"
    }
   ],
   "source": [
    "chisq.test(reshaped_btwn_wthn_trade_counts)"
   ]
  }
 ],
 "metadata": {
  "kernelspec": {
   "display_name": "R",
   "language": "R",
   "name": "ir"
  },
  "language_info": {
   "codemirror_mode": "r",
   "file_extension": ".r",
   "mimetype": "text/x-r-source",
   "name": "R",
   "pygments_lexer": "r",
   "version": "4.0.3"
  }
 },
 "nbformat": 4,
 "nbformat_minor": 5
}
