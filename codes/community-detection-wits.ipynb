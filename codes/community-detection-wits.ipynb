{
 "cells": [
  {
   "cell_type": "code",
   "execution_count": 32,
   "id": "skilled-asbestos",
   "metadata": {},
   "outputs": [],
   "source": [
    "library(tidyverse)\n",
    "library(igraph)"
   ]
  },
  {
   "cell_type": "code",
   "execution_count": 33,
   "id": "accomplished-ontario",
   "metadata": {},
   "outputs": [],
   "source": [
    "edges = read.csv('../datasets/wits/simulated/edgelist.csv')\n",
    "nodes = read.csv('../datasets/wits/simulated/nodelist.csv')\n",
    "# edges = read.csv('../datasets/wits/edgelist_2011.csv')\n",
    "# nodes = read.csv('../datasets/wits/nodelist_2011.csv')\n",
    "# nodes = read.csv('../datasets/wits/nl_no_missing.csv')\n",
    "# edges = read.csv('../datasets/wits/el_no_missing.csv')"
   ]
  },
  {
   "cell_type": "code",
   "execution_count": 34,
   "id": "renewable-rough",
   "metadata": {},
   "outputs": [],
   "source": [
    "n = dim(nodes)[1]\n",
    "N = 1000\n",
    "country_names = nodes$country_iso3\n",
    "nodes = transform(nodes, landlocked=as.logical(landlocked))"
   ]
  },
  {
   "cell_type": "code",
   "execution_count": 35,
   "id": "recent-organic",
   "metadata": {},
   "outputs": [],
   "source": [
    "trade_graph = igraph::graph_from_edgelist(as.matrix(edges[, c(\"source\", \"target\")]), directed = F) %>%\n",
    "    igraph::set_edge_attr(name = \"weight\", value = edges$weight)"
   ]
  },
  {
   "cell_type": "code",
   "execution_count": 39,
   "id": "outside-essence",
   "metadata": {},
   "outputs": [],
   "source": [
    "louvain_partitions = igraph::cluster_louvain(graph = trade_graph)"
   ]
  },
  {
   "cell_type": "code",
   "execution_count": 46,
   "id": "obvious-yahoo",
   "metadata": {},
   "outputs": [],
   "source": [
    "trade_graph$community = louvain_partitions$membership"
   ]
  },
  {
   "cell_type": "code",
   "execution_count": 50,
   "id": "streaming-tonight",
   "metadata": {},
   "outputs": [],
   "source": [
    "communities_summary = data.frame()\n",
    "for (i in unique(louvain_partitions$membership)) {\n",
    "    subgraph = induced_subgraph(graph = trade_graph, vids = which(trade_graph$community == i))\n",
    "    \n",
    "    size = igraph::gorder(graph = subgraph)\n",
    "    \n",
    "    btwn_cent = betweenness(graph = subgraph)\n",
    "    \n",
    "    central_node = names(which(btwn_cent == max(btwn_cent)))\n",
    "    \n",
    "    communities_summary = communities_summary %>%\n",
    "        dplyr::bind_rows(\n",
    "            data.frame(\n",
    "                community = i, \n",
    "                size = size, \n",
    "                central_node = central_node\n",
    "            )\n",
    "        )\n",
    "    \n",
    "}"
   ]
  },
  {
   "cell_type": "code",
   "execution_count": 51,
   "id": "expected-edition",
   "metadata": {},
   "outputs": [
    {
     "data": {
      "text/html": [
       "<table class=\"dataframe\">\n",
       "<caption>A data.frame: 5 × 3</caption>\n",
       "<thead>\n",
       "\t<tr><th scope=col>community</th><th scope=col>size</th><th scope=col>central_node</th></tr>\n",
       "\t<tr><th scope=col>&lt;dbl&gt;</th><th scope=col>&lt;int&gt;</th><th scope=col>&lt;chr&gt;</th></tr>\n",
       "</thead>\n",
       "<tbody>\n",
       "\t<tr><td>3</td><td>88</td><td>ZWE</td></tr>\n",
       "\t<tr><td>1</td><td> 3</td><td>IDN</td></tr>\n",
       "\t<tr><td>2</td><td>22</td><td>NER</td></tr>\n",
       "\t<tr><td>5</td><td>18</td><td>MKD</td></tr>\n",
       "\t<tr><td>4</td><td>10</td><td>NPL</td></tr>\n",
       "</tbody>\n",
       "</table>\n"
      ],
      "text/latex": [
       "A data.frame: 5 × 3\n",
       "\\begin{tabular}{lll}\n",
       " community & size & central\\_node\\\\\n",
       " <dbl> & <int> & <chr>\\\\\n",
       "\\hline\n",
       "\t 3 & 88 & ZWE\\\\\n",
       "\t 1 &  3 & IDN\\\\\n",
       "\t 2 & 22 & NER\\\\\n",
       "\t 5 & 18 & MKD\\\\\n",
       "\t 4 & 10 & NPL\\\\\n",
       "\\end{tabular}\n"
      ],
      "text/markdown": [
       "\n",
       "A data.frame: 5 × 3\n",
       "\n",
       "| community &lt;dbl&gt; | size &lt;int&gt; | central_node &lt;chr&gt; |\n",
       "|---|---|---|\n",
       "| 3 | 88 | ZWE |\n",
       "| 1 |  3 | IDN |\n",
       "| 2 | 22 | NER |\n",
       "| 5 | 18 | MKD |\n",
       "| 4 | 10 | NPL |\n",
       "\n"
      ],
      "text/plain": [
       "  community size central_node\n",
       "1 3         88   ZWE         \n",
       "2 1          3   IDN         \n",
       "3 2         22   NER         \n",
       "4 5         18   MKD         \n",
       "5 4         10   NPL         "
      ]
     },
     "metadata": {},
     "output_type": "display_data"
    }
   ],
   "source": [
    "communities_summary"
   ]
  },
  {
   "cell_type": "code",
   "execution_count": null,
   "id": "entire-queensland",
   "metadata": {},
   "outputs": [],
   "source": []
  }
 ],
 "metadata": {
  "kernelspec": {
   "display_name": "R",
   "language": "R",
   "name": "ir"
  },
  "language_info": {
   "codemirror_mode": "r",
   "file_extension": ".r",
   "mimetype": "text/x-r-source",
   "name": "R",
   "pygments_lexer": "r",
   "version": "4.0.3"
  }
 },
 "nbformat": 4,
 "nbformat_minor": 5
}
