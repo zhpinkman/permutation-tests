{
 "cells": [
  {
   "cell_type": "code",
   "execution_count": 80,
   "id": "radio-basics",
   "metadata": {},
   "outputs": [],
   "source": [
    "import pandas as pd\n",
    "import numpy as np\n",
    "import networkx as nx\n",
    "import community as community_louvain"
   ]
  },
  {
   "cell_type": "code",
   "execution_count": 81,
   "id": "agreed-filing",
   "metadata": {},
   "outputs": [],
   "source": [
    "edges_df = pd.read_csv('../datasets/wits/el_no_missing.csv')\n",
    "locations_df = pd.read_csv('../datasets/wits/locations.csv')\n",
    "nodes_df = pd.read_csv('../datasets/wits/nl_no_missing.csv')"
   ]
  },
  {
   "cell_type": "code",
   "execution_count": 82,
   "id": "selected-conference",
   "metadata": {},
   "outputs": [
    {
     "data": {
      "text/html": [
       "<div>\n",
       "<style scoped>\n",
       "    .dataframe tbody tr th:only-of-type {\n",
       "        vertical-align: middle;\n",
       "    }\n",
       "\n",
       "    .dataframe tbody tr th {\n",
       "        vertical-align: top;\n",
       "    }\n",
       "\n",
       "    .dataframe thead th {\n",
       "        text-align: right;\n",
       "    }\n",
       "</style>\n",
       "<table border=\"1\" class=\"dataframe\">\n",
       "  <thead>\n",
       "    <tr style=\"text-align: right;\">\n",
       "      <th></th>\n",
       "      <th>source</th>\n",
       "      <th>target</th>\n",
       "      <th>weight</th>\n",
       "    </tr>\n",
       "  </thead>\n",
       "  <tbody>\n",
       "    <tr>\n",
       "      <th>0</th>\n",
       "      <td>NPL</td>\n",
       "      <td>LBR</td>\n",
       "      <td>97.061</td>\n",
       "    </tr>\n",
       "    <tr>\n",
       "      <th>1</th>\n",
       "      <td>NPL</td>\n",
       "      <td>AZE</td>\n",
       "      <td>46.502</td>\n",
       "    </tr>\n",
       "    <tr>\n",
       "      <th>2</th>\n",
       "      <td>NPL</td>\n",
       "      <td>JOR</td>\n",
       "      <td>25.551</td>\n",
       "    </tr>\n",
       "  </tbody>\n",
       "</table>\n",
       "</div>"
      ],
      "text/plain": [
       "  source target  weight\n",
       "0    NPL    LBR  97.061\n",
       "1    NPL    AZE  46.502\n",
       "2    NPL    JOR  25.551"
      ]
     },
     "execution_count": 82,
     "metadata": {},
     "output_type": "execute_result"
    }
   ],
   "source": [
    "edges_df.head(3)"
   ]
  },
  {
   "cell_type": "code",
   "execution_count": 83,
   "id": "invisible-spectacular",
   "metadata": {},
   "outputs": [
    {
     "data": {
      "text/html": [
       "<div>\n",
       "<style scoped>\n",
       "    .dataframe tbody tr th:only-of-type {\n",
       "        vertical-align: middle;\n",
       "    }\n",
       "\n",
       "    .dataframe tbody tr th {\n",
       "        vertical-align: top;\n",
       "    }\n",
       "\n",
       "    .dataframe thead th {\n",
       "        text-align: right;\n",
       "    }\n",
       "</style>\n",
       "<table border=\"1\" class=\"dataframe\">\n",
       "  <thead>\n",
       "    <tr style=\"text-align: right;\">\n",
       "      <th></th>\n",
       "      <th>country_iso3</th>\n",
       "      <th>gdp_us_dollar</th>\n",
       "      <th>inflation_rate</th>\n",
       "      <th>gdp_growth</th>\n",
       "      <th>colonizer</th>\n",
       "      <th>area</th>\n",
       "      <th>landlocked</th>\n",
       "      <th>continent</th>\n",
       "      <th>langoff_1</th>\n",
       "      <th>population</th>\n",
       "      <th>gdp_per_capita</th>\n",
       "      <th>life_expectancy</th>\n",
       "      <th>gni_atlas</th>\n",
       "      <th>agriculture_forestry_fishing_of_gdp</th>\n",
       "      <th>industry_of_gdp</th>\n",
       "      <th>merchandise_of_gdp</th>\n",
       "      <th>net_barter_of_trade</th>\n",
       "      <th>foreign_direct_investment_inflows</th>\n",
       "      <th>happiness</th>\n",
       "    </tr>\n",
       "  </thead>\n",
       "  <tbody>\n",
       "    <tr>\n",
       "      <th>0</th>\n",
       "      <td>AFG</td>\n",
       "      <td>1.780429e+10</td>\n",
       "      <td>11.804186</td>\n",
       "      <td>0.426355</td>\n",
       "      <td>USA</td>\n",
       "      <td>652225</td>\n",
       "      <td>1</td>\n",
       "      <td>Asia</td>\n",
       "      <td>Persian</td>\n",
       "      <td>30117411</td>\n",
       "      <td>591.162798</td>\n",
       "      <td>61.553</td>\n",
       "      <td>1.607712e+10</td>\n",
       "      <td>23.743664</td>\n",
       "      <td>22.740252</td>\n",
       "      <td>38.704149</td>\n",
       "      <td>144.751869</td>\n",
       "      <td>5.217342e+07</td>\n",
       "      <td>0.721</td>\n",
       "    </tr>\n",
       "    <tr>\n",
       "      <th>1</th>\n",
       "      <td>AGO</td>\n",
       "      <td>1.117897e+11</td>\n",
       "      <td>13.482468</td>\n",
       "      <td>3.471976</td>\n",
       "      <td>PRT</td>\n",
       "      <td>1246700</td>\n",
       "      <td>0</td>\n",
       "      <td>Africa</td>\n",
       "      <td>Portuguese</td>\n",
       "      <td>24220660</td>\n",
       "      <td>4615.468219</td>\n",
       "      <td>56.330</td>\n",
       "      <td>8.260603e+10</td>\n",
       "      <td>5.845681</td>\n",
       "      <td>56.026515</td>\n",
       "      <td>78.305971</td>\n",
       "      <td>244.329152</td>\n",
       "      <td>-3.023771e+09</td>\n",
       "      <td>0.708</td>\n",
       "    </tr>\n",
       "    <tr>\n",
       "      <th>2</th>\n",
       "      <td>ALB</td>\n",
       "      <td>1.289077e+10</td>\n",
       "      <td>3.429123</td>\n",
       "      <td>2.545322</td>\n",
       "      <td>NONE</td>\n",
       "      <td>28748</td>\n",
       "      <td>0</td>\n",
       "      <td>Europe</td>\n",
       "      <td>Albanian</td>\n",
       "      <td>2905195</td>\n",
       "      <td>4437.142885</td>\n",
       "      <td>76.914</td>\n",
       "      <td>1.280372e+10</td>\n",
       "      <td>18.226765</td>\n",
       "      <td>24.484408</td>\n",
       "      <td>56.862411</td>\n",
       "      <td>94.337202</td>\n",
       "      <td>1.048707e+09</td>\n",
       "      <td>0.568</td>\n",
       "    </tr>\n",
       "  </tbody>\n",
       "</table>\n",
       "</div>"
      ],
      "text/plain": [
       "  country_iso3  gdp_us_dollar  inflation_rate  gdp_growth colonizer     area  \\\n",
       "0          AFG   1.780429e+10       11.804186    0.426355       USA   652225   \n",
       "1          AGO   1.117897e+11       13.482468    3.471976       PRT  1246700   \n",
       "2          ALB   1.289077e+10        3.429123    2.545322      NONE    28748   \n",
       "\n",
       "   landlocked continent   langoff_1  population  gdp_per_capita  \\\n",
       "0           1      Asia     Persian    30117411      591.162798   \n",
       "1           0    Africa  Portuguese    24220660     4615.468219   \n",
       "2           0    Europe    Albanian     2905195     4437.142885   \n",
       "\n",
       "   life_expectancy     gni_atlas  agriculture_forestry_fishing_of_gdp  \\\n",
       "0           61.553  1.607712e+10                            23.743664   \n",
       "1           56.330  8.260603e+10                             5.845681   \n",
       "2           76.914  1.280372e+10                            18.226765   \n",
       "\n",
       "   industry_of_gdp  merchandise_of_gdp  net_barter_of_trade  \\\n",
       "0        22.740252           38.704149           144.751869   \n",
       "1        56.026515           78.305971           244.329152   \n",
       "2        24.484408           56.862411            94.337202   \n",
       "\n",
       "   foreign_direct_investment_inflows  happiness  \n",
       "0                       5.217342e+07      0.721  \n",
       "1                      -3.023771e+09      0.708  \n",
       "2                       1.048707e+09      0.568  "
      ]
     },
     "execution_count": 83,
     "metadata": {},
     "output_type": "execute_result"
    }
   ],
   "source": [
    "nodes_df.head(3)"
   ]
  },
  {
   "cell_type": "code",
   "execution_count": 84,
   "id": "geological-whole",
   "metadata": {},
   "outputs": [
    {
     "data": {
      "text/html": [
       "<div>\n",
       "<style scoped>\n",
       "    .dataframe tbody tr th:only-of-type {\n",
       "        vertical-align: middle;\n",
       "    }\n",
       "\n",
       "    .dataframe tbody tr th {\n",
       "        vertical-align: top;\n",
       "    }\n",
       "\n",
       "    .dataframe thead th {\n",
       "        text-align: right;\n",
       "    }\n",
       "</style>\n",
       "<table border=\"1\" class=\"dataframe\">\n",
       "  <thead>\n",
       "    <tr style=\"text-align: right;\">\n",
       "      <th></th>\n",
       "      <th>Country</th>\n",
       "      <th>Alpha-2code</th>\n",
       "      <th>Alpha-3code</th>\n",
       "      <th>Numericcode</th>\n",
       "      <th>Latitude(average)</th>\n",
       "      <th>Longitude(average)</th>\n",
       "    </tr>\n",
       "  </thead>\n",
       "  <tbody>\n",
       "    <tr>\n",
       "      <th>0</th>\n",
       "      <td>Afghanistan</td>\n",
       "      <td>AF</td>\n",
       "      <td>AFG</td>\n",
       "      <td>4</td>\n",
       "      <td>33.0</td>\n",
       "      <td>65.0</td>\n",
       "    </tr>\n",
       "    <tr>\n",
       "      <th>1</th>\n",
       "      <td>Albania</td>\n",
       "      <td>AL</td>\n",
       "      <td>ALB</td>\n",
       "      <td>8</td>\n",
       "      <td>41.0</td>\n",
       "      <td>20.0</td>\n",
       "    </tr>\n",
       "    <tr>\n",
       "      <th>2</th>\n",
       "      <td>Algeria</td>\n",
       "      <td>DZ</td>\n",
       "      <td>DZA</td>\n",
       "      <td>12</td>\n",
       "      <td>28.0</td>\n",
       "      <td>3.0</td>\n",
       "    </tr>\n",
       "  </tbody>\n",
       "</table>\n",
       "</div>"
      ],
      "text/plain": [
       "       Country Alpha-2code Alpha-3code  Numericcode  Latitude(average)  \\\n",
       "0  Afghanistan          AF         AFG            4               33.0   \n",
       "1      Albania          AL         ALB            8               41.0   \n",
       "2      Algeria          DZ         DZA           12               28.0   \n",
       "\n",
       "   Longitude(average)  \n",
       "0                65.0  \n",
       "1                20.0  \n",
       "2                 3.0  "
      ]
     },
     "execution_count": 84,
     "metadata": {},
     "output_type": "execute_result"
    }
   ],
   "source": [
    "locations_df.head(3)"
   ]
  },
  {
   "cell_type": "code",
   "execution_count": 86,
   "id": "blessed-button",
   "metadata": {},
   "outputs": [],
   "source": [
    "nodes_df = pd.merge(left=nodes_df, right=locations_df, how='inner', left_on='country_iso3', right_on='Alpha-3code')"
   ]
  },
  {
   "cell_type": "code",
   "execution_count": 93,
   "id": "designing-recognition",
   "metadata": {},
   "outputs": [],
   "source": [
    "countries = nodes_df['country_iso3'].unique()"
   ]
  },
  {
   "cell_type": "code",
   "execution_count": 95,
   "id": "nominated-modem",
   "metadata": {},
   "outputs": [],
   "source": [
    "trade_data = np.zeros((len(countries), len(countries)))\n",
    "for i in range(len(countries)):\n",
    "    for j in range(len(countries)):\n",
    "        temp = edges_df[\n",
    "            (edges_df['source'] == countries[i]) & (edges_df['target'] == countries[j])\n",
    "        ]\n",
    "        if temp.shape[0] != 0:\n",
    "            trade_data[i, j] += temp['weight']\n",
    "            trade_data[j, i] += temp['weight']"
   ]
  },
  {
   "cell_type": "code",
   "execution_count": 101,
   "id": "nutritional-climate",
   "metadata": {},
   "outputs": [],
   "source": [
    "g = nx.Graph()"
   ]
  },
  {
   "cell_type": "code",
   "execution_count": 102,
   "id": "least-brake",
   "metadata": {},
   "outputs": [],
   "source": [
    "for i in range(len(countries)):\n",
    "    for j in range(i + 1, len(countries)):\n",
    "        if trade_data[i, j] != 0:\n",
    "            g.add_edge(countries[i], countries[j], weight = trade_data[i, j])"
   ]
  },
  {
   "cell_type": "code",
   "execution_count": 103,
   "id": "found-humidity",
   "metadata": {},
   "outputs": [],
   "source": [
    "cols = list(nodes_df.columns)\n",
    "cols.remove('country_iso3')"
   ]
  },
  {
   "cell_type": "code",
   "execution_count": 104,
   "id": "ecological-suffering",
   "metadata": {},
   "outputs": [],
   "source": [
    "partition = community_louvain.best_partition(g)"
   ]
  },
  {
   "cell_type": "code",
   "execution_count": 105,
   "id": "reflected-engineering",
   "metadata": {},
   "outputs": [],
   "source": [
    "nodal_attributes = dict()\n",
    "for index, row in nodes_df.iterrows():\n",
    "    nodal_attributes[row['country_iso3']] = dict()\n",
    "    for col in cols:\n",
    "        nodal_attributes[row['country_iso3']][col] = row[col]\n",
    "    nodal_attributes[row['country_iso3']]['community'] = partition[row['country_iso3']]"
   ]
  },
  {
   "cell_type": "code",
   "execution_count": 106,
   "id": "supreme-stretch",
   "metadata": {},
   "outputs": [],
   "source": [
    "nx.set_node_attributes(g, nodal_attributes)"
   ]
  },
  {
   "cell_type": "code",
   "execution_count": 107,
   "id": "respiratory-layout",
   "metadata": {},
   "outputs": [],
   "source": [
    "nx.write_gexf(G=g, path='../datasets/wits/trade_network.gexf')"
   ]
  }
 ],
 "metadata": {
  "kernelspec": {
   "display_name": "Python 3",
   "language": "python",
   "name": "python3"
  },
  "language_info": {
   "codemirror_mode": {
    "name": "ipython",
    "version": 3
   },
   "file_extension": ".py",
   "mimetype": "text/x-python",
   "name": "python",
   "nbconvert_exporter": "python",
   "pygments_lexer": "ipython3",
   "version": "3.8.0"
  }
 },
 "nbformat": 4,
 "nbformat_minor": 5
}
