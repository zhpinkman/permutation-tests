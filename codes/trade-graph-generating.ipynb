{
 "cells": [
  {
   "cell_type": "code",
   "execution_count": 107,
   "id": "moral-delaware",
   "metadata": {},
   "outputs": [],
   "source": [
    "import pandas as pd\n",
    "import numpy as np\n",
    "import networkx as nx"
   ]
  },
  {
   "cell_type": "code",
   "execution_count": 108,
   "id": "racial-application",
   "metadata": {},
   "outputs": [],
   "source": [
    "edges_df = pd.read_csv('../datasets/wits/edgelist_2011.csv')\n",
    "locations_df = pd.read_csv('../datasets/wits/locations.csv')\n",
    "nodes_df = pd.read_csv('../datasets/wits/nodelist_2011.csv')"
   ]
  },
  {
   "cell_type": "code",
   "execution_count": 109,
   "id": "aggressive-complement",
   "metadata": {},
   "outputs": [
    {
     "data": {
      "text/html": [
       "<div>\n",
       "<style scoped>\n",
       "    .dataframe tbody tr th:only-of-type {\n",
       "        vertical-align: middle;\n",
       "    }\n",
       "\n",
       "    .dataframe tbody tr th {\n",
       "        vertical-align: top;\n",
       "    }\n",
       "\n",
       "    .dataframe thead th {\n",
       "        text-align: right;\n",
       "    }\n",
       "</style>\n",
       "<table border=\"1\" class=\"dataframe\">\n",
       "  <thead>\n",
       "    <tr style=\"text-align: right;\">\n",
       "      <th></th>\n",
       "      <th>source</th>\n",
       "      <th>target</th>\n",
       "      <th>weight</th>\n",
       "    </tr>\n",
       "  </thead>\n",
       "  <tbody>\n",
       "    <tr>\n",
       "      <th>0</th>\n",
       "      <td>AFG</td>\n",
       "      <td>TKM</td>\n",
       "      <td>0.189</td>\n",
       "    </tr>\n",
       "    <tr>\n",
       "      <th>1</th>\n",
       "      <td>ALB</td>\n",
       "      <td>KOR</td>\n",
       "      <td>0.337</td>\n",
       "    </tr>\n",
       "    <tr>\n",
       "      <th>2</th>\n",
       "      <td>ALB</td>\n",
       "      <td>MHL</td>\n",
       "      <td>3.309</td>\n",
       "    </tr>\n",
       "  </tbody>\n",
       "</table>\n",
       "</div>"
      ],
      "text/plain": [
       "  source target  weight\n",
       "0    AFG    TKM   0.189\n",
       "1    ALB    KOR   0.337\n",
       "2    ALB    MHL   3.309"
      ]
     },
     "execution_count": 109,
     "metadata": {},
     "output_type": "execute_result"
    }
   ],
   "source": [
    "edges_df.head(3)"
   ]
  },
  {
   "cell_type": "code",
   "execution_count": 110,
   "id": "liked-ceiling",
   "metadata": {},
   "outputs": [
    {
     "data": {
      "text/html": [
       "<div>\n",
       "<style scoped>\n",
       "    .dataframe tbody tr th:only-of-type {\n",
       "        vertical-align: middle;\n",
       "    }\n",
       "\n",
       "    .dataframe tbody tr th {\n",
       "        vertical-align: top;\n",
       "    }\n",
       "\n",
       "    .dataframe thead th {\n",
       "        text-align: right;\n",
       "    }\n",
       "</style>\n",
       "<table border=\"1\" class=\"dataframe\">\n",
       "  <thead>\n",
       "    <tr style=\"text-align: right;\">\n",
       "      <th></th>\n",
       "      <th>country_iso3</th>\n",
       "      <th>colonizer</th>\n",
       "      <th>inflation_rate</th>\n",
       "      <th>area</th>\n",
       "      <th>gdp_us_dollar</th>\n",
       "      <th>langoff_1</th>\n",
       "      <th>continent</th>\n",
       "      <th>gdp_growth</th>\n",
       "      <th>landlocked</th>\n",
       "    </tr>\n",
       "  </thead>\n",
       "  <tbody>\n",
       "    <tr>\n",
       "      <th>0</th>\n",
       "      <td>AFG</td>\n",
       "      <td>USA</td>\n",
       "      <td>11.804186</td>\n",
       "      <td>652225</td>\n",
       "      <td>1.780429e+10</td>\n",
       "      <td>Persian</td>\n",
       "      <td>Asia</td>\n",
       "      <td>0.426355</td>\n",
       "      <td>1</td>\n",
       "    </tr>\n",
       "    <tr>\n",
       "      <th>1</th>\n",
       "      <td>AGO</td>\n",
       "      <td>PRT</td>\n",
       "      <td>13.482468</td>\n",
       "      <td>1246700</td>\n",
       "      <td>1.117897e+11</td>\n",
       "      <td>Portuguese</td>\n",
       "      <td>Africa</td>\n",
       "      <td>3.471976</td>\n",
       "      <td>0</td>\n",
       "    </tr>\n",
       "    <tr>\n",
       "      <th>2</th>\n",
       "      <td>ALB</td>\n",
       "      <td>NONE</td>\n",
       "      <td>3.429123</td>\n",
       "      <td>28748</td>\n",
       "      <td>1.289077e+10</td>\n",
       "      <td>Albanian</td>\n",
       "      <td>Europe</td>\n",
       "      <td>2.545322</td>\n",
       "      <td>0</td>\n",
       "    </tr>\n",
       "  </tbody>\n",
       "</table>\n",
       "</div>"
      ],
      "text/plain": [
       "  country_iso3 colonizer  inflation_rate     area  gdp_us_dollar   langoff_1  \\\n",
       "0          AFG       USA       11.804186   652225   1.780429e+10     Persian   \n",
       "1          AGO       PRT       13.482468  1246700   1.117897e+11  Portuguese   \n",
       "2          ALB      NONE        3.429123    28748   1.289077e+10    Albanian   \n",
       "\n",
       "  continent  gdp_growth  landlocked  \n",
       "0      Asia    0.426355           1  \n",
       "1    Africa    3.471976           0  \n",
       "2    Europe    2.545322           0  "
      ]
     },
     "execution_count": 110,
     "metadata": {},
     "output_type": "execute_result"
    }
   ],
   "source": [
    "nodes_df.head(3)"
   ]
  },
  {
   "cell_type": "code",
   "execution_count": 111,
   "id": "twenty-phrase",
   "metadata": {},
   "outputs": [
    {
     "data": {
      "text/html": [
       "<div>\n",
       "<style scoped>\n",
       "    .dataframe tbody tr th:only-of-type {\n",
       "        vertical-align: middle;\n",
       "    }\n",
       "\n",
       "    .dataframe tbody tr th {\n",
       "        vertical-align: top;\n",
       "    }\n",
       "\n",
       "    .dataframe thead th {\n",
       "        text-align: right;\n",
       "    }\n",
       "</style>\n",
       "<table border=\"1\" class=\"dataframe\">\n",
       "  <thead>\n",
       "    <tr style=\"text-align: right;\">\n",
       "      <th></th>\n",
       "      <th>Country</th>\n",
       "      <th>Alpha-2code</th>\n",
       "      <th>Alpha-3code</th>\n",
       "      <th>Numericcode</th>\n",
       "      <th>Latitude(average)</th>\n",
       "      <th>Longitude(average)</th>\n",
       "    </tr>\n",
       "  </thead>\n",
       "  <tbody>\n",
       "    <tr>\n",
       "      <th>0</th>\n",
       "      <td>Afghanistan</td>\n",
       "      <td>AF</td>\n",
       "      <td>AFG</td>\n",
       "      <td>4</td>\n",
       "      <td>33.0</td>\n",
       "      <td>65.0</td>\n",
       "    </tr>\n",
       "    <tr>\n",
       "      <th>1</th>\n",
       "      <td>Albania</td>\n",
       "      <td>AL</td>\n",
       "      <td>ALB</td>\n",
       "      <td>8</td>\n",
       "      <td>41.0</td>\n",
       "      <td>20.0</td>\n",
       "    </tr>\n",
       "    <tr>\n",
       "      <th>2</th>\n",
       "      <td>Algeria</td>\n",
       "      <td>DZ</td>\n",
       "      <td>DZA</td>\n",
       "      <td>12</td>\n",
       "      <td>28.0</td>\n",
       "      <td>3.0</td>\n",
       "    </tr>\n",
       "  </tbody>\n",
       "</table>\n",
       "</div>"
      ],
      "text/plain": [
       "       Country Alpha-2code Alpha-3code  Numericcode  Latitude(average)  \\\n",
       "0  Afghanistan          AF         AFG            4               33.0   \n",
       "1      Albania          AL         ALB            8               41.0   \n",
       "2      Algeria          DZ         DZA           12               28.0   \n",
       "\n",
       "   Longitude(average)  \n",
       "0                65.0  \n",
       "1                20.0  \n",
       "2                 3.0  "
      ]
     },
     "execution_count": 111,
     "metadata": {},
     "output_type": "execute_result"
    }
   ],
   "source": [
    "locations_df.head(3)"
   ]
  },
  {
   "cell_type": "code",
   "execution_count": 115,
   "id": "productive-commissioner",
   "metadata": {},
   "outputs": [],
   "source": [
    "nodes_df = pd.merge(left=nodes_df, right=locations_df, how='inner', left_on='country_iso3', right_on='Alpha-3code')"
   ]
  },
  {
   "cell_type": "code",
   "execution_count": 117,
   "id": "painted-elizabeth",
   "metadata": {},
   "outputs": [],
   "source": [
    "g = nx.DiGraph()"
   ]
  },
  {
   "cell_type": "code",
   "execution_count": 118,
   "id": "listed-sleeping",
   "metadata": {},
   "outputs": [],
   "source": [
    "for index, row in edges_df.iterrows():\n",
    "    g.add_edge(row['source'], row['target'], weight=row['weight'])"
   ]
  },
  {
   "cell_type": "code",
   "execution_count": 119,
   "id": "former-surprise",
   "metadata": {},
   "outputs": [],
   "source": [
    "cols = list(nodes_df.columns)\n",
    "cols.remove('country_iso3')"
   ]
  },
  {
   "cell_type": "code",
   "execution_count": 120,
   "id": "painted-eugene",
   "metadata": {},
   "outputs": [],
   "source": [
    "nodal_attributes = dict()\n",
    "for index, row in nodes_df.iterrows():\n",
    "    nodal_attributes[row['country_iso3']] = dict()\n",
    "    for col in cols:\n",
    "        nodal_attributes[row['country_iso3']][col] = row[col]"
   ]
  },
  {
   "cell_type": "code",
   "execution_count": 121,
   "id": "familiar-failure",
   "metadata": {},
   "outputs": [],
   "source": [
    "nx.set_node_attributes(g, nodal_attributes)"
   ]
  },
  {
   "cell_type": "code",
   "execution_count": 122,
   "id": "pleasant-storm",
   "metadata": {},
   "outputs": [],
   "source": [
    "nx.write_gexf(G=g, path='../datasets/wits/trade_network.gexf')"
   ]
  }
 ],
 "metadata": {
  "kernelspec": {
   "display_name": "Python 3",
   "language": "python",
   "name": "python3"
  },
  "language_info": {
   "codemirror_mode": {
    "name": "ipython",
    "version": 3
   },
   "file_extension": ".py",
   "mimetype": "text/x-python",
   "name": "python",
   "nbconvert_exporter": "python",
   "pygments_lexer": "ipython3",
   "version": "3.8.0"
  }
 },
 "nbformat": 4,
 "nbformat_minor": 5
}
