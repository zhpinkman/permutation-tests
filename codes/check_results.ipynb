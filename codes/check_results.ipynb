{
 "cells": [
  {
   "cell_type": "code",
   "execution_count": 192,
   "id": "viral-position",
   "metadata": {},
   "outputs": [],
   "source": [
    "library(dplyr)"
   ]
  },
  {
   "cell_type": "code",
   "execution_count": 193,
   "id": "raised-straight",
   "metadata": {},
   "outputs": [],
   "source": [
    "general_dfs = list()\n",
    "for (i in 1:10) {\n",
    "    general_dfs[[i]] = read.csv(paste('../results/general_permutation_tests', as.character(i), '.csv', sep = ''))\n",
    "}"
   ]
  },
  {
   "cell_type": "code",
   "execution_count": 194,
   "id": "resistant-universe",
   "metadata": {},
   "outputs": [],
   "source": [
    "residuals_dfs = list()\n",
    "for (i in 1:10) {\n",
    "    residuals_df[[i]] = read.csv(paste('../results/residual_permutation_tests', as.character(i), '.csv', sep = ''))\n",
    "}"
   ]
  },
  {
   "cell_type": "code",
   "execution_count": 195,
   "id": "excellent-riverside",
   "metadata": {},
   "outputs": [],
   "source": [
    "ergm_df = read.csv('../results/ergm_permutation_tests.csv')\n",
    "gravity_results = read.csv('../results/gravity_model_results.csv')"
   ]
  },
  {
   "cell_type": "code",
   "execution_count": 196,
   "id": "composed-surfing",
   "metadata": {},
   "outputs": [],
   "source": [
    "colnames(gravity_results) = c('effect', 'p_value')"
   ]
  },
  {
   "cell_type": "code",
   "execution_count": 197,
   "id": "authentic-portfolio",
   "metadata": {},
   "outputs": [],
   "source": [
    "all_models = list()\n",
    "all_models[['general_models']] = general_dfs\n",
    "all_models[['residual_models']] = residuals_df\n",
    "all_models[['ergm_model']] = ergm_df"
   ]
  },
  {
   "cell_type": "code",
   "execution_count": 198,
   "id": "hindu-tractor",
   "metadata": {},
   "outputs": [],
   "source": [
    "check_significance = function(p_values) {\n",
    "    significance = matrix(' ', nrow = length(p_values))\n",
    "    significance[which(p_values < .1)] = '.'\n",
    "    significance[which(p_values < .05)] = '*'\n",
    "    significance[which(p_values < .01)] = '**'\n",
    "    significance[which(p_values < .001)] = '***'\n",
    "    return(significance)\n",
    "}"
   ]
  },
  {
   "cell_type": "code",
   "execution_count": 199,
   "id": "addressed-paste",
   "metadata": {},
   "outputs": [],
   "source": [
    "compute_errors = function(results, correct_results) {\n",
    "    false_positives = 0\n",
    "    false_negatives = 0\n",
    "    merged_df = merge(results, correct_results, by = 'effect')\n",
    "    false_positives = sum((merged_df$sign_level.x != ' ') & (merged_df$sign_level.y == ' '))\n",
    "    false_negatives = sum((merged_df$sign_level.x == ' ') & (merged_df$sign_level.y != ' '))\n",
    "    return(c(false_positives, false_negatives))\n",
    "}"
   ]
  },
  {
   "cell_type": "code",
   "execution_count": 200,
   "id": "occasional-holder",
   "metadata": {},
   "outputs": [],
   "source": [
    "for (model in c('general_models', 'residual_models')) {\n",
    "    for (i in 1:length(all_models[[model]])) {\n",
    "        all_models[[model]][[i]][, 'sign_level'] = check_significance(all_models[[model]][[i]][, 'p_value'])\n",
    "    }\n",
    "}"
   ]
  },
  {
   "cell_type": "code",
   "execution_count": 201,
   "id": "tracked-opposition",
   "metadata": {},
   "outputs": [],
   "source": [
    "all_models[['ergm_model']][, 'sign_level'] = check_significance(all_models[['ergm_model']][, 'p_value'])\n",
    "gravity_results[, 'sign_level'] = check_significance(gravity_results$p_value)"
   ]
  },
  {
   "cell_type": "code",
   "execution_count": 202,
   "id": "roman-light",
   "metadata": {},
   "outputs": [],
   "source": [
    "results = data.frame()\n",
    "for (model in c('general_models', 'residual_models')) {\n",
    "    for (i in 1:length(all_models[[model]])) {\n",
    "        errors = compute_errors(results = all_models[[model]][[i]], correct_results = gravity_results)\n",
    "        results = results %>% \n",
    "            dplyr::bind_rows(data.frame(\n",
    "                model = model, \n",
    "                false_positives = errors[1], \n",
    "                false_negatives = errors[2]\n",
    "            ))\n",
    "    }\n",
    "}\n",
    "errors = compute_errors(results = all_models[['ergm_model']], correct_results = gravity_results)\n",
    "results = results %>%\n",
    "    dplyr::bind_rows(data.frame(\n",
    "        model = 'ergm_model',\n",
    "        false_positives = errors[1], \n",
    "        false_negatives = errors[2]\n",
    "    ))"
   ]
  },
  {
   "cell_type": "code",
   "execution_count": 203,
   "id": "expired-holder",
   "metadata": {},
   "outputs": [],
   "source": [
    "results = results %>% \n",
    "    dplyr::group_by(model) %>%\n",
    "    summarise(\n",
    "        false_positives = mean(false_positives), \n",
    "        false_negatives = mean(false_negatives)\n",
    "    )"
   ]
  },
  {
   "cell_type": "code",
   "execution_count": 209,
   "id": "finite-species",
   "metadata": {},
   "outputs": [
    {
     "data": {
      "text/html": [
       "<table class=\"dataframe\">\n",
       "<caption>A data.frame: 16 × 5</caption>\n",
       "<thead>\n",
       "\t<tr><th scope=col>effect</th><th scope=col>p_value.x</th><th scope=col>sign_level.x</th><th scope=col>p_value.y</th><th scope=col>sign_level.y</th></tr>\n",
       "\t<tr><th scope=col>&lt;chr&gt;</th><th scope=col>&lt;dbl&gt;</th><th scope=col>&lt;chr[,1]&gt;</th><th scope=col>&lt;dbl&gt;</th><th scope=col>&lt;chr[,1]&gt;</th></tr>\n",
       "</thead>\n",
       "<tbody>\n",
       "\t<tr><td>absdiff-agriculture_forestry_fishing_of_gdp</td><td>0.020</td><td>*  </td><td>1.898350e-04</td><td>***</td></tr>\n",
       "\t<tr><td>absdiff-foreign_direct_investment_inflows  </td><td>0.001</td><td>** </td><td>1.194428e-20</td><td>***</td></tr>\n",
       "\t<tr><td>absdiff-gdp_growth                         </td><td>0.037</td><td>*  </td><td>5.738196e-03</td><td>** </td></tr>\n",
       "\t<tr><td>absdiff-gdp_us_dollar                      </td><td>0.000</td><td>***</td><td>2.058096e-30</td><td>***</td></tr>\n",
       "\t<tr><td>absdiff-industry_of_gdp                    </td><td>0.200</td><td>   </td><td>3.488696e-10</td><td>***</td></tr>\n",
       "\t<tr><td>absdiff-inflation_rate                     </td><td>0.443</td><td>   </td><td>4.634606e-01</td><td>   </td></tr>\n",
       "\t<tr><td>absdiff-merchandise_of_gdp                 </td><td>0.360</td><td>   </td><td>9.939873e-01</td><td>   </td></tr>\n",
       "\t<tr><td>absdiff-net_barter_of_trade                </td><td>0.159</td><td>   </td><td>3.440619e-06</td><td>***</td></tr>\n",
       "\t<tr><td>nodecov-agriculture_forestry_fishing_of_gdp</td><td>0.417</td><td>   </td><td>1.349771e-03</td><td>** </td></tr>\n",
       "\t<tr><td>nodecov-foreign_direct_investment_inflows  </td><td>0.000</td><td>***</td><td>2.788586e-25</td><td>***</td></tr>\n",
       "\t<tr><td>nodecov-gdp_growth                         </td><td>0.122</td><td>   </td><td>4.402026e-01</td><td>   </td></tr>\n",
       "\t<tr><td>nodecov-gdp_us_dollar                      </td><td>0.000</td><td>***</td><td>5.779273e-01</td><td>   </td></tr>\n",
       "\t<tr><td>nodecov-industry_of_gdp                    </td><td>0.281</td><td>   </td><td>1.145209e-04</td><td>***</td></tr>\n",
       "\t<tr><td>nodecov-inflation_rate                     </td><td>0.225</td><td>   </td><td>1.076154e-01</td><td>   </td></tr>\n",
       "\t<tr><td>nodecov-merchandise_of_gdp                 </td><td>0.304</td><td>   </td><td>2.540912e-02</td><td>*  </td></tr>\n",
       "\t<tr><td>nodecov-net_barter_of_trade                </td><td>0.155</td><td>   </td><td>3.887822e-09</td><td>***</td></tr>\n",
       "</tbody>\n",
       "</table>\n"
      ],
      "text/latex": [
       "A data.frame: 16 × 5\n",
       "\\begin{tabular}{lllll}\n",
       " effect & p\\_value.x & sign\\_level.x & p\\_value.y & sign\\_level.y\\\\\n",
       " <chr> & <dbl> & <chr{[},1{]}> & <dbl> & <chr{[},1{]}>\\\\\n",
       "\\hline\n",
       "\t absdiff-agriculture\\_forestry\\_fishing\\_of\\_gdp & 0.020 & *   & 1.898350e-04 & ***\\\\\n",
       "\t absdiff-foreign\\_direct\\_investment\\_inflows   & 0.001 & **  & 1.194428e-20 & ***\\\\\n",
       "\t absdiff-gdp\\_growth                          & 0.037 & *   & 5.738196e-03 & ** \\\\\n",
       "\t absdiff-gdp\\_us\\_dollar                       & 0.000 & *** & 2.058096e-30 & ***\\\\\n",
       "\t absdiff-industry\\_of\\_gdp                     & 0.200 &     & 3.488696e-10 & ***\\\\\n",
       "\t absdiff-inflation\\_rate                      & 0.443 &     & 4.634606e-01 &    \\\\\n",
       "\t absdiff-merchandise\\_of\\_gdp                  & 0.360 &     & 9.939873e-01 &    \\\\\n",
       "\t absdiff-net\\_barter\\_of\\_trade                 & 0.159 &     & 3.440619e-06 & ***\\\\\n",
       "\t nodecov-agriculture\\_forestry\\_fishing\\_of\\_gdp & 0.417 &     & 1.349771e-03 & ** \\\\\n",
       "\t nodecov-foreign\\_direct\\_investment\\_inflows   & 0.000 & *** & 2.788586e-25 & ***\\\\\n",
       "\t nodecov-gdp\\_growth                          & 0.122 &     & 4.402026e-01 &    \\\\\n",
       "\t nodecov-gdp\\_us\\_dollar                       & 0.000 & *** & 5.779273e-01 &    \\\\\n",
       "\t nodecov-industry\\_of\\_gdp                     & 0.281 &     & 1.145209e-04 & ***\\\\\n",
       "\t nodecov-inflation\\_rate                      & 0.225 &     & 1.076154e-01 &    \\\\\n",
       "\t nodecov-merchandise\\_of\\_gdp                  & 0.304 &     & 2.540912e-02 & *  \\\\\n",
       "\t nodecov-net\\_barter\\_of\\_trade                 & 0.155 &     & 3.887822e-09 & ***\\\\\n",
       "\\end{tabular}\n"
      ],
      "text/markdown": [
       "\n",
       "A data.frame: 16 × 5\n",
       "\n",
       "| effect &lt;chr&gt; | p_value.x &lt;dbl&gt; | sign_level.x &lt;chr[,1]&gt; | p_value.y &lt;dbl&gt; | sign_level.y &lt;chr[,1]&gt; |\n",
       "|---|---|---|---|---|\n",
       "| absdiff-agriculture_forestry_fishing_of_gdp | 0.020 | *   | 1.898350e-04 | *** |\n",
       "| absdiff-foreign_direct_investment_inflows   | 0.001 | **  | 1.194428e-20 | *** |\n",
       "| absdiff-gdp_growth                          | 0.037 | *   | 5.738196e-03 | **  |\n",
       "| absdiff-gdp_us_dollar                       | 0.000 | *** | 2.058096e-30 | *** |\n",
       "| absdiff-industry_of_gdp                     | 0.200 | <!----> | 3.488696e-10 | *** |\n",
       "| absdiff-inflation_rate                      | 0.443 | <!----> | 4.634606e-01 | <!----> |\n",
       "| absdiff-merchandise_of_gdp                  | 0.360 | <!----> | 9.939873e-01 | <!----> |\n",
       "| absdiff-net_barter_of_trade                 | 0.159 | <!----> | 3.440619e-06 | *** |\n",
       "| nodecov-agriculture_forestry_fishing_of_gdp | 0.417 | <!----> | 1.349771e-03 | **  |\n",
       "| nodecov-foreign_direct_investment_inflows   | 0.000 | *** | 2.788586e-25 | *** |\n",
       "| nodecov-gdp_growth                          | 0.122 | <!----> | 4.402026e-01 | <!----> |\n",
       "| nodecov-gdp_us_dollar                       | 0.000 | *** | 5.779273e-01 | <!----> |\n",
       "| nodecov-industry_of_gdp                     | 0.281 | <!----> | 1.145209e-04 | *** |\n",
       "| nodecov-inflation_rate                      | 0.225 | <!----> | 1.076154e-01 | <!----> |\n",
       "| nodecov-merchandise_of_gdp                  | 0.304 | <!----> | 2.540912e-02 | *   |\n",
       "| nodecov-net_barter_of_trade                 | 0.155 | <!----> | 3.887822e-09 | *** |\n",
       "\n"
      ],
      "text/plain": [
       "   effect                                      p_value.x sign_level.x\n",
       "1  absdiff-agriculture_forestry_fishing_of_gdp 0.020     *           \n",
       "2  absdiff-foreign_direct_investment_inflows   0.001     **          \n",
       "3  absdiff-gdp_growth                          0.037     *           \n",
       "4  absdiff-gdp_us_dollar                       0.000     ***         \n",
       "5  absdiff-industry_of_gdp                     0.200                 \n",
       "6  absdiff-inflation_rate                      0.443                 \n",
       "7  absdiff-merchandise_of_gdp                  0.360                 \n",
       "8  absdiff-net_barter_of_trade                 0.159                 \n",
       "9  nodecov-agriculture_forestry_fishing_of_gdp 0.417                 \n",
       "10 nodecov-foreign_direct_investment_inflows   0.000     ***         \n",
       "11 nodecov-gdp_growth                          0.122                 \n",
       "12 nodecov-gdp_us_dollar                       0.000     ***         \n",
       "13 nodecov-industry_of_gdp                     0.281                 \n",
       "14 nodecov-inflation_rate                      0.225                 \n",
       "15 nodecov-merchandise_of_gdp                  0.304                 \n",
       "16 nodecov-net_barter_of_trade                 0.155                 \n",
       "   p_value.y    sign_level.y\n",
       "1  1.898350e-04 ***         \n",
       "2  1.194428e-20 ***         \n",
       "3  5.738196e-03 **          \n",
       "4  2.058096e-30 ***         \n",
       "5  3.488696e-10 ***         \n",
       "6  4.634606e-01             \n",
       "7  9.939873e-01             \n",
       "8  3.440619e-06 ***         \n",
       "9  1.349771e-03 **          \n",
       "10 2.788586e-25 ***         \n",
       "11 4.402026e-01             \n",
       "12 5.779273e-01             \n",
       "13 1.145209e-04 ***         \n",
       "14 1.076154e-01             \n",
       "15 2.540912e-02 *           \n",
       "16 3.887822e-09 ***         "
      ]
     },
     "metadata": {},
     "output_type": "display_data"
    }
   ],
   "source": [
    "merge(all_models[['general_models']][[4]], gravity_results, by = 'effect')"
   ]
  },
  {
   "cell_type": "code",
   "execution_count": 206,
   "id": "lasting-master",
   "metadata": {},
   "outputs": [
    {
     "data": {
      "text/html": [
       "<table class=\"dataframe\">\n",
       "<caption>A tibble: 3 × 3</caption>\n",
       "<thead>\n",
       "\t<tr><th scope=col>model</th><th scope=col>false_positives</th><th scope=col>false_negatives</th></tr>\n",
       "\t<tr><th scope=col>&lt;chr&gt;</th><th scope=col>&lt;dbl&gt;</th><th scope=col>&lt;dbl&gt;</th></tr>\n",
       "</thead>\n",
       "<tbody>\n",
       "\t<tr><td>ergm_model     </td><td>5</td><td>2.0</td></tr>\n",
       "\t<tr><td>general_models </td><td>1</td><td>6.0</td></tr>\n",
       "\t<tr><td>residual_models</td><td>0</td><td>2.8</td></tr>\n",
       "</tbody>\n",
       "</table>\n"
      ],
      "text/latex": [
       "A tibble: 3 × 3\n",
       "\\begin{tabular}{lll}\n",
       " model & false\\_positives & false\\_negatives\\\\\n",
       " <chr> & <dbl> & <dbl>\\\\\n",
       "\\hline\n",
       "\t ergm\\_model      & 5 & 2.0\\\\\n",
       "\t general\\_models  & 1 & 6.0\\\\\n",
       "\t residual\\_models & 0 & 2.8\\\\\n",
       "\\end{tabular}\n"
      ],
      "text/markdown": [
       "\n",
       "A tibble: 3 × 3\n",
       "\n",
       "| model &lt;chr&gt; | false_positives &lt;dbl&gt; | false_negatives &lt;dbl&gt; |\n",
       "|---|---|---|\n",
       "| ergm_model      | 5 | 2.0 |\n",
       "| general_models  | 1 | 6.0 |\n",
       "| residual_models | 0 | 2.8 |\n",
       "\n"
      ],
      "text/plain": [
       "  model           false_positives false_negatives\n",
       "1 ergm_model      5               2.0            \n",
       "2 general_models  1               6.0            \n",
       "3 residual_models 0               2.8            "
      ]
     },
     "metadata": {},
     "output_type": "display_data"
    }
   ],
   "source": [
    "results"
   ]
  },
  {
   "cell_type": "markdown",
   "id": "reliable-egypt",
   "metadata": {},
   "source": [
    "---"
   ]
  }
 ],
 "metadata": {
  "kernelspec": {
   "display_name": "R",
   "language": "R",
   "name": "ir"
  },
  "language_info": {
   "codemirror_mode": "r",
   "file_extension": ".r",
   "mimetype": "text/x-r-source",
   "name": "R",
   "pygments_lexer": "r",
   "version": "4.0.3"
  }
 },
 "nbformat": 4,
 "nbformat_minor": 5
}
