{
 "cells": [
  {
   "cell_type": "code",
   "execution_count": 9,
   "id": "indirect-poultry",
   "metadata": {},
   "outputs": [],
   "source": [
    "general_df = read.csv('../results/general_permutation_tests.csv')\n",
    "ergm_df = read.csv('../results/ergm_permutation_tests.csv')\n",
    "residuals_df = read.csv('../results/residual_permutation_tests.csv')\n",
    "gravity_results = read.csv('../results/gravity_model_results.csv')"
   ]
  },
  {
   "cell_type": "code",
   "execution_count": 10,
   "id": "frequent-preservation",
   "metadata": {},
   "outputs": [
    {
     "data": {
      "text/html": [
       "<style>\n",
       ".list-inline {list-style: none; margin:0; padding: 0}\n",
       ".list-inline>li {display: inline-block}\n",
       ".list-inline>li:not(:last-child)::after {content: \"\\00b7\"; padding: 0 .5ex}\n",
       "</style>\n",
       "<ol class=list-inline><li>27</li><li>2</li></ol>\n"
      ],
      "text/latex": [
       "\\begin{enumerate*}\n",
       "\\item 27\n",
       "\\item 2\n",
       "\\end{enumerate*}\n"
      ],
      "text/markdown": [
       "1. 27\n",
       "2. 2\n",
       "\n",
       "\n"
      ],
      "text/plain": [
       "[1] 27  2"
      ]
     },
     "metadata": {},
     "output_type": "display_data"
    }
   ],
   "source": [
    "dim(general_df)"
   ]
  },
  {
   "cell_type": "code",
   "execution_count": 11,
   "id": "outer-supervision",
   "metadata": {},
   "outputs": [
    {
     "data": {
      "text/html": [
       "<style>\n",
       ".list-inline {list-style: none; margin:0; padding: 0}\n",
       ".list-inline>li {display: inline-block}\n",
       ".list-inline>li:not(:last-child)::after {content: \"\\00b7\"; padding: 0 .5ex}\n",
       "</style>\n",
       "<ol class=list-inline><li>27</li><li>2</li></ol>\n"
      ],
      "text/latex": [
       "\\begin{enumerate*}\n",
       "\\item 27\n",
       "\\item 2\n",
       "\\end{enumerate*}\n"
      ],
      "text/markdown": [
       "1. 27\n",
       "2. 2\n",
       "\n",
       "\n"
      ],
      "text/plain": [
       "[1] 27  2"
      ]
     },
     "metadata": {},
     "output_type": "display_data"
    }
   ],
   "source": [
    "dim(ergm_df)"
   ]
  },
  {
   "cell_type": "code",
   "execution_count": 12,
   "id": "administrative-paragraph",
   "metadata": {},
   "outputs": [
    {
     "data": {
      "text/html": [
       "<style>\n",
       ".list-inline {list-style: none; margin:0; padding: 0}\n",
       ".list-inline>li {display: inline-block}\n",
       ".list-inline>li:not(:last-child)::after {content: \"\\00b7\"; padding: 0 .5ex}\n",
       "</style>\n",
       "<ol class=list-inline><li>27</li><li>2</li></ol>\n"
      ],
      "text/latex": [
       "\\begin{enumerate*}\n",
       "\\item 27\n",
       "\\item 2\n",
       "\\end{enumerate*}\n"
      ],
      "text/markdown": [
       "1. 27\n",
       "2. 2\n",
       "\n",
       "\n"
      ],
      "text/plain": [
       "[1] 27  2"
      ]
     },
     "metadata": {},
     "output_type": "display_data"
    }
   ],
   "source": [
    "dim(residuals_df)"
   ]
  },
  {
   "cell_type": "code",
   "execution_count": 13,
   "id": "crazy-engine",
   "metadata": {},
   "outputs": [
    {
     "data": {
      "text/html": [
       "<style>\n",
       ".list-inline {list-style: none; margin:0; padding: 0}\n",
       ".list-inline>li {display: inline-block}\n",
       ".list-inline>li:not(:last-child)::after {content: \"\\00b7\"; padding: 0 .5ex}\n",
       "</style>\n",
       "<ol class=list-inline><li>16</li><li>2</li></ol>\n"
      ],
      "text/latex": [
       "\\begin{enumerate*}\n",
       "\\item 16\n",
       "\\item 2\n",
       "\\end{enumerate*}\n"
      ],
      "text/markdown": [
       "1. 16\n",
       "2. 2\n",
       "\n",
       "\n"
      ],
      "text/plain": [
       "[1] 16  2"
      ]
     },
     "metadata": {},
     "output_type": "display_data"
    }
   ],
   "source": [
    "dim(gravity_results)"
   ]
  },
  {
   "cell_type": "code",
   "execution_count": 8,
   "id": "italic-continuity",
   "metadata": {},
   "outputs": [
    {
     "data": {
      "text/html": [
       "<table class=\"dataframe\">\n",
       "<caption>A data.frame: 16 × 2</caption>\n",
       "<thead>\n",
       "\t<tr><th scope=col>effect</th><th scope=col>significance</th></tr>\n",
       "\t<tr><th scope=col>&lt;chr&gt;</th><th scope=col>&lt;dbl&gt;</th></tr>\n",
       "</thead>\n",
       "<tbody>\n",
       "\t<tr><td>intercept                                  </td><td>2.864708e-110</td></tr>\n",
       "\t<tr><td>nodecov-industry_of_gdp                    </td><td> 6.034743e-05</td></tr>\n",
       "\t<tr><td>nodecov-merchandise_of_gdp                 </td><td> 2.906054e-02</td></tr>\n",
       "\t<tr><td>nodecov-agriculture_forestry_fishing_of_gdp</td><td> 4.401690e-03</td></tr>\n",
       "\t<tr><td>nodecov-inflation_rate                     </td><td> 9.558904e-02</td></tr>\n",
       "\t<tr><td>nodecov-net_barter_of_trade                </td><td> 8.988569e-09</td></tr>\n",
       "\t<tr><td>nodecov-foreign_direct_investment_inflows  </td><td> 1.805522e-25</td></tr>\n",
       "\t<tr><td>absdiff-gdp_growth                         </td><td> 6.087981e-03</td></tr>\n",
       "\t<tr><td>absdiff-industry_of_gdp                    </td><td> 3.909734e-10</td></tr>\n",
       "\t<tr><td>absdiff-gdp_us_dollar                      </td><td> 3.962528e-30</td></tr>\n",
       "\t<tr><td>absdiff-agriculture_forestry_fishing_of_gdp</td><td> 1.407866e-04</td></tr>\n",
       "\t<tr><td>absdiff-net_barter_of_trade                </td><td> 3.554910e-06</td></tr>\n",
       "\t<tr><td>absdiff-foreign_direct_investment_inflows  </td><td> 7.973496e-21</td></tr>\n",
       "\t<tr><td>nodematch-langoff_1                        </td><td> 3.619850e-04</td></tr>\n",
       "\t<tr><td>nodematch-landlocked                       </td><td> 1.146096e-10</td></tr>\n",
       "\t<tr><td>nodematch-continent                        </td><td> 5.695930e-22</td></tr>\n",
       "</tbody>\n",
       "</table>\n"
      ],
      "text/latex": [
       "A data.frame: 16 × 2\n",
       "\\begin{tabular}{ll}\n",
       " effect & significance\\\\\n",
       " <chr> & <dbl>\\\\\n",
       "\\hline\n",
       "\t intercept                                   & 2.864708e-110\\\\\n",
       "\t nodecov-industry\\_of\\_gdp                     &  6.034743e-05\\\\\n",
       "\t nodecov-merchandise\\_of\\_gdp                  &  2.906054e-02\\\\\n",
       "\t nodecov-agriculture\\_forestry\\_fishing\\_of\\_gdp &  4.401690e-03\\\\\n",
       "\t nodecov-inflation\\_rate                      &  9.558904e-02\\\\\n",
       "\t nodecov-net\\_barter\\_of\\_trade                 &  8.988569e-09\\\\\n",
       "\t nodecov-foreign\\_direct\\_investment\\_inflows   &  1.805522e-25\\\\\n",
       "\t absdiff-gdp\\_growth                          &  6.087981e-03\\\\\n",
       "\t absdiff-industry\\_of\\_gdp                     &  3.909734e-10\\\\\n",
       "\t absdiff-gdp\\_us\\_dollar                       &  3.962528e-30\\\\\n",
       "\t absdiff-agriculture\\_forestry\\_fishing\\_of\\_gdp &  1.407866e-04\\\\\n",
       "\t absdiff-net\\_barter\\_of\\_trade                 &  3.554910e-06\\\\\n",
       "\t absdiff-foreign\\_direct\\_investment\\_inflows   &  7.973496e-21\\\\\n",
       "\t nodematch-langoff\\_1                         &  3.619850e-04\\\\\n",
       "\t nodematch-landlocked                        &  1.146096e-10\\\\\n",
       "\t nodematch-continent                         &  5.695930e-22\\\\\n",
       "\\end{tabular}\n"
      ],
      "text/markdown": [
       "\n",
       "A data.frame: 16 × 2\n",
       "\n",
       "| effect &lt;chr&gt; | significance &lt;dbl&gt; |\n",
       "|---|---|\n",
       "| intercept                                   | 2.864708e-110 |\n",
       "| nodecov-industry_of_gdp                     |  6.034743e-05 |\n",
       "| nodecov-merchandise_of_gdp                  |  2.906054e-02 |\n",
       "| nodecov-agriculture_forestry_fishing_of_gdp |  4.401690e-03 |\n",
       "| nodecov-inflation_rate                      |  9.558904e-02 |\n",
       "| nodecov-net_barter_of_trade                 |  8.988569e-09 |\n",
       "| nodecov-foreign_direct_investment_inflows   |  1.805522e-25 |\n",
       "| absdiff-gdp_growth                          |  6.087981e-03 |\n",
       "| absdiff-industry_of_gdp                     |  3.909734e-10 |\n",
       "| absdiff-gdp_us_dollar                       |  3.962528e-30 |\n",
       "| absdiff-agriculture_forestry_fishing_of_gdp |  1.407866e-04 |\n",
       "| absdiff-net_barter_of_trade                 |  3.554910e-06 |\n",
       "| absdiff-foreign_direct_investment_inflows   |  7.973496e-21 |\n",
       "| nodematch-langoff_1                         |  3.619850e-04 |\n",
       "| nodematch-landlocked                        |  1.146096e-10 |\n",
       "| nodematch-continent                         |  5.695930e-22 |\n",
       "\n"
      ],
      "text/plain": [
       "   effect                                      significance \n",
       "1  intercept                                   2.864708e-110\n",
       "2  nodecov-industry_of_gdp                      6.034743e-05\n",
       "3  nodecov-merchandise_of_gdp                   2.906054e-02\n",
       "4  nodecov-agriculture_forestry_fishing_of_gdp  4.401690e-03\n",
       "5  nodecov-inflation_rate                       9.558904e-02\n",
       "6  nodecov-net_barter_of_trade                  8.988569e-09\n",
       "7  nodecov-foreign_direct_investment_inflows    1.805522e-25\n",
       "8  absdiff-gdp_growth                           6.087981e-03\n",
       "9  absdiff-industry_of_gdp                      3.909734e-10\n",
       "10 absdiff-gdp_us_dollar                        3.962528e-30\n",
       "11 absdiff-agriculture_forestry_fishing_of_gdp  1.407866e-04\n",
       "12 absdiff-net_barter_of_trade                  3.554910e-06\n",
       "13 absdiff-foreign_direct_investment_inflows    7.973496e-21\n",
       "14 nodematch-langoff_1                          3.619850e-04\n",
       "15 nodematch-landlocked                         1.146096e-10\n",
       "16 nodematch-continent                          5.695930e-22"
      ]
     },
     "metadata": {},
     "output_type": "display_data"
    }
   ],
   "source": [
    "gravity_results"
   ]
  },
  {
   "cell_type": "code",
   "execution_count": 7,
   "id": "sunrise-bahrain",
   "metadata": {},
   "outputs": [
    {
     "data": {
      "text/html": [
       "<table class=\"dataframe\">\n",
       "<caption>A data.frame: 46 × 2</caption>\n",
       "<thead>\n",
       "\t<tr><th scope=col>effect</th><th scope=col>p_value</th></tr>\n",
       "\t<tr><th scope=col>&lt;chr&gt;</th><th scope=col>&lt;dbl&gt;</th></tr>\n",
       "</thead>\n",
       "<tbody>\n",
       "\t<tr><td>nodecov  merchandise_of_gdp                             </td><td>0.395</td></tr>\n",
       "\t<tr><td>nodecov  area                                           </td><td>0.004</td></tr>\n",
       "\t<tr><td>nodecov  population                                     </td><td>0.000</td></tr>\n",
       "\t<tr><td>nodecov  industry_of_gdp                                </td><td>0.468</td></tr>\n",
       "\t<tr><td>nodecov  agriculture_forestry_fishing_of_gdp            </td><td>0.001</td></tr>\n",
       "\t<tr><td>nodecov  life_expectancy                                </td><td>0.000</td></tr>\n",
       "\t<tr><td>nodecov  net_barter_of_trade                            </td><td>0.047</td></tr>\n",
       "\t<tr><td>nodecov  inflation_rate                                 </td><td>0.277</td></tr>\n",
       "\t<tr><td>nodecov  gni_atlas                                      </td><td>0.000</td></tr>\n",
       "\t<tr><td>nodecov  foreign_direct_investment_inflows              </td><td>0.000</td></tr>\n",
       "\t<tr><td>nodecov  happiness                                      </td><td>0.249</td></tr>\n",
       "\t<tr><td>nodecov  gdp_us_dollar                                  </td><td>0.000</td></tr>\n",
       "\t<tr><td>nodecov  gdp_growth                                     </td><td>0.082</td></tr>\n",
       "\t<tr><td>nodecov  gdp_per_capita                                 </td><td>0.001</td></tr>\n",
       "\t<tr><td>absdiff  merchandise_of_gdp                             </td><td>0.250</td></tr>\n",
       "\t<tr><td>absdiff  area                                           </td><td>0.010</td></tr>\n",
       "\t<tr><td>absdiff  population                                     </td><td>0.000</td></tr>\n",
       "\t<tr><td>absdiff  industry_of_gdp                                </td><td>0.467</td></tr>\n",
       "\t<tr><td>absdiff  agriculture_forestry_fishing_of_gdp            </td><td>0.000</td></tr>\n",
       "\t<tr><td>absdiff  life_expectancy                                </td><td>0.000</td></tr>\n",
       "\t<tr><td>absdiff  net_barter_of_trade                            </td><td>0.245</td></tr>\n",
       "\t<tr><td>absdiff  inflation_rate                                 </td><td>0.288</td></tr>\n",
       "\t<tr><td>absdiff  gni_atlas                                      </td><td>0.000</td></tr>\n",
       "\t<tr><td>absdiff  foreign_direct_investment_inflows              </td><td>0.000</td></tr>\n",
       "\t<tr><td>absdiff  happiness                                      </td><td>0.129</td></tr>\n",
       "\t<tr><td>absdiff  gdp_us_dollar                                  </td><td>0.000</td></tr>\n",
       "\t<tr><td>absdiff  gdp_growth                                     </td><td>0.164</td></tr>\n",
       "\t<tr><td>absdiff  gdp_per_capita                                 </td><td>0.493</td></tr>\n",
       "\t<tr><td>homophily  continent                                    </td><td>0.000</td></tr>\n",
       "\t<tr><td>homophily  landlocked                                   </td><td>0.000</td></tr>\n",
       "\t<tr><td>homophily  colonizer                                    </td><td>0.093</td></tr>\n",
       "\t<tr><td>homophily  langoff_1                                    </td><td>0.003</td></tr>\n",
       "\t<tr><td>numerical homophily  merchandise_of_gdp                 </td><td>0.329</td></tr>\n",
       "\t<tr><td>numerical homophily  area                               </td><td>0.445</td></tr>\n",
       "\t<tr><td>numerical homophily  population                         </td><td>0.053</td></tr>\n",
       "\t<tr><td>numerical homophily  industry_of_gdp                    </td><td>0.044</td></tr>\n",
       "\t<tr><td>numerical homophily  agriculture_forestry_fishing_of_gdp</td><td>0.000</td></tr>\n",
       "\t<tr><td>numerical homophily  life_expectancy                    </td><td>0.000</td></tr>\n",
       "\t<tr><td>numerical homophily  net_barter_of_trade                </td><td>0.261</td></tr>\n",
       "\t<tr><td>numerical homophily  inflation_rate                     </td><td>0.024</td></tr>\n",
       "\t<tr><td>numerical homophily  gni_atlas                          </td><td>0.017</td></tr>\n",
       "\t<tr><td>numerical homophily  foreign_direct_investment_inflows  </td><td>0.038</td></tr>\n",
       "\t<tr><td>numerical homophily  happiness                          </td><td>0.415</td></tr>\n",
       "\t<tr><td>numerical homophily  gdp_us_dollar                      </td><td>0.022</td></tr>\n",
       "\t<tr><td>numerical homophily  gdp_growth                         </td><td>0.130</td></tr>\n",
       "\t<tr><td>numerical homophily  gdp_per_capita                     </td><td>0.000</td></tr>\n",
       "</tbody>\n",
       "</table>\n"
      ],
      "text/latex": [
       "A data.frame: 46 × 2\n",
       "\\begin{tabular}{ll}\n",
       " effect & p\\_value\\\\\n",
       " <chr> & <dbl>\\\\\n",
       "\\hline\n",
       "\t nodecov  merchandise\\_of\\_gdp                              & 0.395\\\\\n",
       "\t nodecov  area                                            & 0.004\\\\\n",
       "\t nodecov  population                                      & 0.000\\\\\n",
       "\t nodecov  industry\\_of\\_gdp                                 & 0.468\\\\\n",
       "\t nodecov  agriculture\\_forestry\\_fishing\\_of\\_gdp             & 0.001\\\\\n",
       "\t nodecov  life\\_expectancy                                 & 0.000\\\\\n",
       "\t nodecov  net\\_barter\\_of\\_trade                             & 0.047\\\\\n",
       "\t nodecov  inflation\\_rate                                  & 0.277\\\\\n",
       "\t nodecov  gni\\_atlas                                       & 0.000\\\\\n",
       "\t nodecov  foreign\\_direct\\_investment\\_inflows               & 0.000\\\\\n",
       "\t nodecov  happiness                                       & 0.249\\\\\n",
       "\t nodecov  gdp\\_us\\_dollar                                   & 0.000\\\\\n",
       "\t nodecov  gdp\\_growth                                      & 0.082\\\\\n",
       "\t nodecov  gdp\\_per\\_capita                                  & 0.001\\\\\n",
       "\t absdiff  merchandise\\_of\\_gdp                              & 0.250\\\\\n",
       "\t absdiff  area                                            & 0.010\\\\\n",
       "\t absdiff  population                                      & 0.000\\\\\n",
       "\t absdiff  industry\\_of\\_gdp                                 & 0.467\\\\\n",
       "\t absdiff  agriculture\\_forestry\\_fishing\\_of\\_gdp             & 0.000\\\\\n",
       "\t absdiff  life\\_expectancy                                 & 0.000\\\\\n",
       "\t absdiff  net\\_barter\\_of\\_trade                             & 0.245\\\\\n",
       "\t absdiff  inflation\\_rate                                  & 0.288\\\\\n",
       "\t absdiff  gni\\_atlas                                       & 0.000\\\\\n",
       "\t absdiff  foreign\\_direct\\_investment\\_inflows               & 0.000\\\\\n",
       "\t absdiff  happiness                                       & 0.129\\\\\n",
       "\t absdiff  gdp\\_us\\_dollar                                   & 0.000\\\\\n",
       "\t absdiff  gdp\\_growth                                      & 0.164\\\\\n",
       "\t absdiff  gdp\\_per\\_capita                                  & 0.493\\\\\n",
       "\t homophily  continent                                     & 0.000\\\\\n",
       "\t homophily  landlocked                                    & 0.000\\\\\n",
       "\t homophily  colonizer                                     & 0.093\\\\\n",
       "\t homophily  langoff\\_1                                     & 0.003\\\\\n",
       "\t numerical homophily  merchandise\\_of\\_gdp                  & 0.329\\\\\n",
       "\t numerical homophily  area                                & 0.445\\\\\n",
       "\t numerical homophily  population                          & 0.053\\\\\n",
       "\t numerical homophily  industry\\_of\\_gdp                     & 0.044\\\\\n",
       "\t numerical homophily  agriculture\\_forestry\\_fishing\\_of\\_gdp & 0.000\\\\\n",
       "\t numerical homophily  life\\_expectancy                     & 0.000\\\\\n",
       "\t numerical homophily  net\\_barter\\_of\\_trade                 & 0.261\\\\\n",
       "\t numerical homophily  inflation\\_rate                      & 0.024\\\\\n",
       "\t numerical homophily  gni\\_atlas                           & 0.017\\\\\n",
       "\t numerical homophily  foreign\\_direct\\_investment\\_inflows   & 0.038\\\\\n",
       "\t numerical homophily  happiness                           & 0.415\\\\\n",
       "\t numerical homophily  gdp\\_us\\_dollar                       & 0.022\\\\\n",
       "\t numerical homophily  gdp\\_growth                          & 0.130\\\\\n",
       "\t numerical homophily  gdp\\_per\\_capita                      & 0.000\\\\\n",
       "\\end{tabular}\n"
      ],
      "text/markdown": [
       "\n",
       "A data.frame: 46 × 2\n",
       "\n",
       "| effect &lt;chr&gt; | p_value &lt;dbl&gt; |\n",
       "|---|---|\n",
       "| nodecov  merchandise_of_gdp                              | 0.395 |\n",
       "| nodecov  area                                            | 0.004 |\n",
       "| nodecov  population                                      | 0.000 |\n",
       "| nodecov  industry_of_gdp                                 | 0.468 |\n",
       "| nodecov  agriculture_forestry_fishing_of_gdp             | 0.001 |\n",
       "| nodecov  life_expectancy                                 | 0.000 |\n",
       "| nodecov  net_barter_of_trade                             | 0.047 |\n",
       "| nodecov  inflation_rate                                  | 0.277 |\n",
       "| nodecov  gni_atlas                                       | 0.000 |\n",
       "| nodecov  foreign_direct_investment_inflows               | 0.000 |\n",
       "| nodecov  happiness                                       | 0.249 |\n",
       "| nodecov  gdp_us_dollar                                   | 0.000 |\n",
       "| nodecov  gdp_growth                                      | 0.082 |\n",
       "| nodecov  gdp_per_capita                                  | 0.001 |\n",
       "| absdiff  merchandise_of_gdp                              | 0.250 |\n",
       "| absdiff  area                                            | 0.010 |\n",
       "| absdiff  population                                      | 0.000 |\n",
       "| absdiff  industry_of_gdp                                 | 0.467 |\n",
       "| absdiff  agriculture_forestry_fishing_of_gdp             | 0.000 |\n",
       "| absdiff  life_expectancy                                 | 0.000 |\n",
       "| absdiff  net_barter_of_trade                             | 0.245 |\n",
       "| absdiff  inflation_rate                                  | 0.288 |\n",
       "| absdiff  gni_atlas                                       | 0.000 |\n",
       "| absdiff  foreign_direct_investment_inflows               | 0.000 |\n",
       "| absdiff  happiness                                       | 0.129 |\n",
       "| absdiff  gdp_us_dollar                                   | 0.000 |\n",
       "| absdiff  gdp_growth                                      | 0.164 |\n",
       "| absdiff  gdp_per_capita                                  | 0.493 |\n",
       "| homophily  continent                                     | 0.000 |\n",
       "| homophily  landlocked                                    | 0.000 |\n",
       "| homophily  colonizer                                     | 0.093 |\n",
       "| homophily  langoff_1                                     | 0.003 |\n",
       "| numerical homophily  merchandise_of_gdp                  | 0.329 |\n",
       "| numerical homophily  area                                | 0.445 |\n",
       "| numerical homophily  population                          | 0.053 |\n",
       "| numerical homophily  industry_of_gdp                     | 0.044 |\n",
       "| numerical homophily  agriculture_forestry_fishing_of_gdp | 0.000 |\n",
       "| numerical homophily  life_expectancy                     | 0.000 |\n",
       "| numerical homophily  net_barter_of_trade                 | 0.261 |\n",
       "| numerical homophily  inflation_rate                      | 0.024 |\n",
       "| numerical homophily  gni_atlas                           | 0.017 |\n",
       "| numerical homophily  foreign_direct_investment_inflows   | 0.038 |\n",
       "| numerical homophily  happiness                           | 0.415 |\n",
       "| numerical homophily  gdp_us_dollar                       | 0.022 |\n",
       "| numerical homophily  gdp_growth                          | 0.130 |\n",
       "| numerical homophily  gdp_per_capita                      | 0.000 |\n",
       "\n"
      ],
      "text/plain": [
       "   effect                                                   p_value\n",
       "1  nodecov  merchandise_of_gdp                              0.395  \n",
       "2  nodecov  area                                            0.004  \n",
       "3  nodecov  population                                      0.000  \n",
       "4  nodecov  industry_of_gdp                                 0.468  \n",
       "5  nodecov  agriculture_forestry_fishing_of_gdp             0.001  \n",
       "6  nodecov  life_expectancy                                 0.000  \n",
       "7  nodecov  net_barter_of_trade                             0.047  \n",
       "8  nodecov  inflation_rate                                  0.277  \n",
       "9  nodecov  gni_atlas                                       0.000  \n",
       "10 nodecov  foreign_direct_investment_inflows               0.000  \n",
       "11 nodecov  happiness                                       0.249  \n",
       "12 nodecov  gdp_us_dollar                                   0.000  \n",
       "13 nodecov  gdp_growth                                      0.082  \n",
       "14 nodecov  gdp_per_capita                                  0.001  \n",
       "15 absdiff  merchandise_of_gdp                              0.250  \n",
       "16 absdiff  area                                            0.010  \n",
       "17 absdiff  population                                      0.000  \n",
       "18 absdiff  industry_of_gdp                                 0.467  \n",
       "19 absdiff  agriculture_forestry_fishing_of_gdp             0.000  \n",
       "20 absdiff  life_expectancy                                 0.000  \n",
       "21 absdiff  net_barter_of_trade                             0.245  \n",
       "22 absdiff  inflation_rate                                  0.288  \n",
       "23 absdiff  gni_atlas                                       0.000  \n",
       "24 absdiff  foreign_direct_investment_inflows               0.000  \n",
       "25 absdiff  happiness                                       0.129  \n",
       "26 absdiff  gdp_us_dollar                                   0.000  \n",
       "27 absdiff  gdp_growth                                      0.164  \n",
       "28 absdiff  gdp_per_capita                                  0.493  \n",
       "29 homophily  continent                                     0.000  \n",
       "30 homophily  landlocked                                    0.000  \n",
       "31 homophily  colonizer                                     0.093  \n",
       "32 homophily  langoff_1                                     0.003  \n",
       "33 numerical homophily  merchandise_of_gdp                  0.329  \n",
       "34 numerical homophily  area                                0.445  \n",
       "35 numerical homophily  population                          0.053  \n",
       "36 numerical homophily  industry_of_gdp                     0.044  \n",
       "37 numerical homophily  agriculture_forestry_fishing_of_gdp 0.000  \n",
       "38 numerical homophily  life_expectancy                     0.000  \n",
       "39 numerical homophily  net_barter_of_trade                 0.261  \n",
       "40 numerical homophily  inflation_rate                      0.024  \n",
       "41 numerical homophily  gni_atlas                           0.017  \n",
       "42 numerical homophily  foreign_direct_investment_inflows   0.038  \n",
       "43 numerical homophily  happiness                           0.415  \n",
       "44 numerical homophily  gdp_us_dollar                       0.022  \n",
       "45 numerical homophily  gdp_growth                          0.130  \n",
       "46 numerical homophily  gdp_per_capita                      0.000  "
      ]
     },
     "metadata": {},
     "output_type": "display_data"
    }
   ],
   "source": [
    "general_df"
   ]
  }
 ],
 "metadata": {
  "kernelspec": {
   "display_name": "R",
   "language": "R",
   "name": "ir"
  },
  "language_info": {
   "codemirror_mode": "r",
   "file_extension": ".r",
   "mimetype": "text/x-r-source",
   "name": "R",
   "pygments_lexer": "r",
   "version": "4.0.3"
  }
 },
 "nbformat": 4,
 "nbformat_minor": 5
}
