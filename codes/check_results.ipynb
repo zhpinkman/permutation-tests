{
 "cells": [
  {
   "cell_type": "code",
   "execution_count": 139,
   "id": "ideal-interpretation",
   "metadata": {},
   "outputs": [],
   "source": [
    "library(dplyr)"
   ]
  },
  {
   "cell_type": "code",
   "execution_count": 140,
   "id": "naughty-fossil",
   "metadata": {},
   "outputs": [],
   "source": [
    "general_df = read.csv('../results/general_permutation_tests.csv')\n",
    "ergm_df = read.csv('../results/ergm_permutation_tests.csv')\n",
    "residuals_df = read.csv('../results/residual_permutation_tests.csv')\n",
    "gravity_results = read.csv('../results/gravity_model_results.csv')"
   ]
  },
  {
   "cell_type": "code",
   "execution_count": 141,
   "id": "original-cornell",
   "metadata": {},
   "outputs": [],
   "source": [
    "check_significance = function(p_values) {\n",
    "    significance = p_values < .1\n",
    "}"
   ]
  },
  {
   "cell_type": "code",
   "execution_count": 142,
   "id": "impressive-company",
   "metadata": {},
   "outputs": [],
   "source": [
    "compute_errors = function(results, correct_results) {\n",
    "    false_positives = 0\n",
    "    false_negatives = 0\n",
    "    merged_df = merge(results, correct_results, by = 'effect')\n",
    "    false_positives = sum((merged_df$sign_level.x == T) & (merged_df$sign_level.y == F))\n",
    "    false_negatives = sum((merged_df$sign_level.x == F) & (merged_df$sign_level.y == T))\n",
    "    return(c(false_positives, false_negatives))\n",
    "}"
   ]
  },
  {
   "cell_type": "code",
   "execution_count": 143,
   "id": "relevant-constraint",
   "metadata": {},
   "outputs": [],
   "source": [
    "general_df[, 'sign_level'] = check_significance(general_df$p_value)\n",
    "ergm_df[, 'sign_level'] = check_significance(ergm_df$p_value)\n",
    "residuals_df[, 'sign_level'] = check_significance(residuals_df$p_value)\n",
    "gravity_results[, 'sign_level'] = check_significance(gravity_results$significance)"
   ]
  },
  {
   "cell_type": "code",
   "execution_count": 144,
   "id": "circular-stewart",
   "metadata": {},
   "outputs": [],
   "source": [
    "results = data.frame()\n",
    "errors = compute_errors(results = general_df, correct_results = gravity_results)\n",
    "results = results %>%\n",
    "    dplyr::bind_rows(data.frame(\n",
    "        model = 'general',\n",
    "        false_positives = errors[1], \n",
    "        false_negatives = errors[2]\n",
    "    ))\n",
    "errors = compute_errors(results = ergm_df, correct_results = gravity_results)\n",
    "results = results %>%\n",
    "    dplyr::bind_rows(data.frame(\n",
    "        model = 'ergm',\n",
    "        false_positives = errors[1], \n",
    "        false_negatives = errors[2]\n",
    "    ))\n",
    "errors = compute_errors(results = residuals_df, correct_results = gravity_results)\n",
    "results = results %>%\n",
    "    dplyr::bind_rows(data.frame(\n",
    "        model = 'residuals',\n",
    "        false_positives = errors[1], \n",
    "        false_negatives = errors[2]\n",
    "    ))"
   ]
  },
  {
   "cell_type": "code",
   "execution_count": 145,
   "id": "competent-worry",
   "metadata": {},
   "outputs": [
    {
     "data": {
      "text/html": [
       "<table class=\"dataframe\">\n",
       "<caption>A data.frame: 3 × 3</caption>\n",
       "<thead>\n",
       "\t<tr><th scope=col>model</th><th scope=col>false_positives</th><th scope=col>false_negatives</th></tr>\n",
       "\t<tr><th scope=col>&lt;chr&gt;</th><th scope=col>&lt;int&gt;</th><th scope=col>&lt;int&gt;</th></tr>\n",
       "</thead>\n",
       "<tbody>\n",
       "\t<tr><td>general  </td><td>1</td><td>6</td></tr>\n",
       "\t<tr><td>ergm     </td><td>5</td><td>2</td></tr>\n",
       "\t<tr><td>residuals</td><td>0</td><td>3</td></tr>\n",
       "</tbody>\n",
       "</table>\n"
      ],
      "text/latex": [
       "A data.frame: 3 × 3\n",
       "\\begin{tabular}{lll}\n",
       " model & false\\_positives & false\\_negatives\\\\\n",
       " <chr> & <int> & <int>\\\\\n",
       "\\hline\n",
       "\t general   & 1 & 6\\\\\n",
       "\t ergm      & 5 & 2\\\\\n",
       "\t residuals & 0 & 3\\\\\n",
       "\\end{tabular}\n"
      ],
      "text/markdown": [
       "\n",
       "A data.frame: 3 × 3\n",
       "\n",
       "| model &lt;chr&gt; | false_positives &lt;int&gt; | false_negatives &lt;int&gt; |\n",
       "|---|---|---|\n",
       "| general   | 1 | 6 |\n",
       "| ergm      | 5 | 2 |\n",
       "| residuals | 0 | 3 |\n",
       "\n"
      ],
      "text/plain": [
       "  model     false_positives false_negatives\n",
       "1 general   1               6              \n",
       "2 ergm      5               2              \n",
       "3 residuals 0               3              "
      ]
     },
     "metadata": {},
     "output_type": "display_data"
    }
   ],
   "source": [
    "results"
   ]
  },
  {
   "cell_type": "code",
   "execution_count": null,
   "id": "median-algebra",
   "metadata": {},
   "outputs": [],
   "source": []
  }
 ],
 "metadata": {
  "kernelspec": {
   "display_name": "R",
   "language": "R",
   "name": "ir"
  },
  "language_info": {
   "codemirror_mode": "r",
   "file_extension": ".r",
   "mimetype": "text/x-r-source",
   "name": "R",
   "pygments_lexer": "r",
   "version": "4.0.3"
  }
 },
 "nbformat": 4,
 "nbformat_minor": 5
}
