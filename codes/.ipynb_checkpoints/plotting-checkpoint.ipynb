{
 "cells": [
  {
   "cell_type": "code",
   "execution_count": 27,
   "id": "healthy-theater",
   "metadata": {},
   "outputs": [],
   "source": [
    "import pandas as pd\n",
    "import numpy as np\n",
    "import matplotlib.pyplot as plt"
   ]
  },
  {
   "cell_type": "code",
   "execution_count": 20,
   "id": "increased-football",
   "metadata": {},
   "outputs": [],
   "source": [
    "observed = 133599.4"
   ]
  },
  {
   "cell_type": "code",
   "execution_count": 21,
   "id": "amazing-sentence",
   "metadata": {},
   "outputs": [],
   "source": [
    "with open('./temp.txt', 'r') as f:\n",
    "    a = f.read().splitlines()\n",
    "    f.close()"
   ]
  },
  {
   "cell_type": "code",
   "execution_count": 22,
   "id": "finite-robinson",
   "metadata": {},
   "outputs": [],
   "source": [
    "a = [int(float(i)) for i in a]"
   ]
  },
  {
   "cell_type": "code",
   "execution_count": 23,
   "id": "annual-wayne",
   "metadata": {},
   "outputs": [],
   "source": [
    "with open('./file.txt', 'r') as f:\n",
    "    b = f.read().splitlines()\n",
    "    f.close()"
   ]
  },
  {
   "cell_type": "code",
   "execution_count": 24,
   "id": "acquired-haven",
   "metadata": {},
   "outputs": [],
   "source": [
    "b = [int(float(i)) for i in b]"
   ]
  },
  {
   "cell_type": "code",
   "execution_count": 36,
   "id": "confused-bobby",
   "metadata": {},
   "outputs": [
    {
     "data": {
      "text/plain": [
       "<matplotlib.legend.Legend at 0x7ff42d4bbd00>"
      ]
     },
     "execution_count": 36,
     "metadata": {},
     "output_type": "execute_result"
    },
    {
     "data": {
      "image/png": "[encoded data removed]",
      "text/plain": [
       "<Figure size 720x432 with 1 Axes>"
      ]
     },
     "metadata": {
      "needs_background": "light"
     },
     "output_type": "display_data"
    }
   ],
   "source": [
    "plt.figure(figsize=(10, 6))\n",
    "plt.hist(a, color='salmon', label='pre-network permutation networks')\n",
    "plt.hist(b, color='skyblue', label='node-permutation networks')\n",
    "plt.vlines(x=observed, colors='black', ymin=0, ymax=250, label='observed network')\n",
    "plt.title('')\n",
    "plt.legend()"
   ]
  }
 ],
 "metadata": {
  "kernelspec": {
   "display_name": "Python 3",
   "language": "python",
   "name": "python3"
  },
  "language_info": {
   "codemirror_mode": {
    "name": "ipython",
    "version": 3
   },
   "file_extension": ".py",
   "mimetype": "text/x-python",
   "name": "python",
   "nbconvert_exporter": "python",
   "pygments_lexer": "ipython3",
   "version": "3.8.0"
  }
 },
 "nbformat": 4,
 "nbformat_minor": 5
}
