{
 "cells": [
  {
   "cell_type": "code",
   "execution_count": 67,
   "id": "alpine-evening",
   "metadata": {},
   "outputs": [],
   "source": [
    "library(tidyverse)\n",
    "library(igraph)"
   ]
  },
  {
   "cell_type": "code",
   "execution_count": 68,
   "id": "innocent-despite",
   "metadata": {},
   "outputs": [],
   "source": [
    "# edges = read.csv('../datasets/wits/simulated/edgelist.csv')\n",
    "# nodes = read.csv('../datasets/wits/simulated/nodelist.csv')\n",
    "# edges = read.csv('../datasets/wits/edgelist_2011.csv')\n",
    "# nodes = read.csv('../datasets/wits/nodelist_2011.csv')\n",
    "nodes = read.csv('../datasets/wits/nl_no_missing.csv')\n",
    "edges = read.csv('../datasets/wits/el_no_missing.csv')"
   ]
  },
  {
   "cell_type": "code",
   "execution_count": 69,
   "id": "changing-gauge",
   "metadata": {},
   "outputs": [
    {
     "data": {
      "text/html": [
       "<table class=\"dataframe\">\n",
       "<caption>A data.frame: 3 × 3</caption>\n",
       "<thead>\n",
       "\t<tr><th></th><th scope=col>source</th><th scope=col>target</th><th scope=col>weight</th></tr>\n",
       "\t<tr><th></th><th scope=col>&lt;chr&gt;</th><th scope=col>&lt;chr&gt;</th><th scope=col>&lt;dbl&gt;</th></tr>\n",
       "</thead>\n",
       "<tbody>\n",
       "\t<tr><th scope=row>1</th><td>NPL</td><td>LBR</td><td>97.061</td></tr>\n",
       "\t<tr><th scope=row>2</th><td>NPL</td><td>AZE</td><td>46.502</td></tr>\n",
       "\t<tr><th scope=row>3</th><td>NPL</td><td>JOR</td><td>25.551</td></tr>\n",
       "</tbody>\n",
       "</table>\n"
      ],
      "text/latex": [
       "A data.frame: 3 × 3\n",
       "\\begin{tabular}{r|lll}\n",
       "  & source & target & weight\\\\\n",
       "  & <chr> & <chr> & <dbl>\\\\\n",
       "\\hline\n",
       "\t1 & NPL & LBR & 97.061\\\\\n",
       "\t2 & NPL & AZE & 46.502\\\\\n",
       "\t3 & NPL & JOR & 25.551\\\\\n",
       "\\end{tabular}\n"
      ],
      "text/markdown": [
       "\n",
       "A data.frame: 3 × 3\n",
       "\n",
       "| <!--/--> | source &lt;chr&gt; | target &lt;chr&gt; | weight &lt;dbl&gt; |\n",
       "|---|---|---|---|\n",
       "| 1 | NPL | LBR | 97.061 |\n",
       "| 2 | NPL | AZE | 46.502 |\n",
       "| 3 | NPL | JOR | 25.551 |\n",
       "\n"
      ],
      "text/plain": [
       "  source target weight\n",
       "1 NPL    LBR    97.061\n",
       "2 NPL    AZE    46.502\n",
       "3 NPL    JOR    25.551"
      ]
     },
     "metadata": {},
     "output_type": "display_data"
    }
   ],
   "source": [
    "head(edges, 3)"
   ]
  },
  {
   "cell_type": "code",
   "execution_count": 70,
   "id": "vanilla-pressing",
   "metadata": {},
   "outputs": [],
   "source": [
    "n = dim(nodes)[1]\n",
    "N = 1000\n",
    "country_names = nodes$country_iso3\n",
    "nodes = transform(nodes, landlocked=as.logical(landlocked))"
   ]
  },
  {
   "cell_type": "code",
   "execution_count": 71,
   "id": "welsh-alexander",
   "metadata": {},
   "outputs": [],
   "source": [
    "trade_graph = igraph::graph_from_edgelist(as.matrix(edges[, c(\"source\", \"target\")]), directed = F) %>%\n",
    "    igraph::set_edge_attr(name = \"weight\", value = edges$weight)"
   ]
  },
  {
   "cell_type": "code",
   "execution_count": 72,
   "id": "sensitive-bundle",
   "metadata": {},
   "outputs": [],
   "source": [
    "louvain_partitions = igraph::cluster_louvain(graph = trade_graph)"
   ]
  },
  {
   "cell_type": "code",
   "execution_count": 73,
   "id": "administrative-mexico",
   "metadata": {},
   "outputs": [],
   "source": [
    "trade_graph$community = louvain_partitions$membership"
   ]
  },
  {
   "cell_type": "code",
   "execution_count": 74,
   "id": "concerned-brisbane",
   "metadata": {},
   "outputs": [],
   "source": [
    "communities_summary = data.frame()\n",
    "for (i in unique(louvain_partitions$membership)) {\n",
    "    subgraph = induced_subgraph(graph = trade_graph, vids = which(trade_graph$community == i))\n",
    "    \n",
    "    size = igraph::gorder(graph = subgraph)\n",
    "    \n",
    "    btwn_cent = betweenness(graph = subgraph)\n",
    "    \n",
    "    central_node = names(which(btwn_cent == max(btwn_cent)))\n",
    "    \n",
    "    communities_summary = communities_summary %>%\n",
    "        dplyr::bind_rows(\n",
    "            data.frame(\n",
    "                community = i, \n",
    "                size = size, \n",
    "                central_node = central_node\n",
    "            )\n",
    "        )\n",
    "    \n",
    "}"
   ]
  },
  {
   "cell_type": "code",
   "execution_count": 75,
   "id": "australian-health",
   "metadata": {},
   "outputs": [
    {
     "data": {
      "text/html": [
       "<table class=\"dataframe\">\n",
       "<caption>A data.frame: 3 × 3</caption>\n",
       "<thead>\n",
       "\t<tr><th scope=col>community</th><th scope=col>size</th><th scope=col>central_node</th></tr>\n",
       "\t<tr><th scope=col>&lt;dbl&gt;</th><th scope=col>&lt;int&gt;</th><th scope=col>&lt;chr&gt;</th></tr>\n",
       "</thead>\n",
       "<tbody>\n",
       "\t<tr><td>3</td><td>63</td><td>MDG</td></tr>\n",
       "\t<tr><td>1</td><td>55</td><td>NER</td></tr>\n",
       "\t<tr><td>2</td><td>23</td><td>SUR</td></tr>\n",
       "</tbody>\n",
       "</table>\n"
      ],
      "text/latex": [
       "A data.frame: 3 × 3\n",
       "\\begin{tabular}{lll}\n",
       " community & size & central\\_node\\\\\n",
       " <dbl> & <int> & <chr>\\\\\n",
       "\\hline\n",
       "\t 3 & 63 & MDG\\\\\n",
       "\t 1 & 55 & NER\\\\\n",
       "\t 2 & 23 & SUR\\\\\n",
       "\\end{tabular}\n"
      ],
      "text/markdown": [
       "\n",
       "A data.frame: 3 × 3\n",
       "\n",
       "| community &lt;dbl&gt; | size &lt;int&gt; | central_node &lt;chr&gt; |\n",
       "|---|---|---|\n",
       "| 3 | 63 | MDG |\n",
       "| 1 | 55 | NER |\n",
       "| 2 | 23 | SUR |\n",
       "\n"
      ],
      "text/plain": [
       "  community size central_node\n",
       "1 3         63   MDG         \n",
       "2 1         55   NER         \n",
       "3 2         23   SUR         "
      ]
     },
     "metadata": {},
     "output_type": "display_data"
    }
   ],
   "source": [
    "communities_summary"
   ]
  },
  {
   "cell_type": "code",
   "execution_count": 76,
   "id": "talented-contributor",
   "metadata": {},
   "outputs": [],
   "source": [
    "numerical_columns = names(which(unlist(lapply(nodes, is.numeric))))"
   ]
  },
  {
   "cell_type": "code",
   "execution_count": 77,
   "id": "passing-leather",
   "metadata": {},
   "outputs": [],
   "source": [
    "for (col in numerical_columns) {\n",
    "    values = nodes[, col]\n",
    "    breaks <- c(quantile(values)[1] - 1, quantile(values)[2], quantile(values)[4], quantile(values)[5] + 1)\n",
    "    tags <- c(\"Low\", \"Medium\", \"High\")\n",
    "    nodes[, col] = cut(values, breaks = breaks, labels = tags)\n",
    "}"
   ]
  },
  {
   "cell_type": "code",
   "execution_count": 78,
   "id": "indoor-synthetic",
   "metadata": {},
   "outputs": [
    {
     "data": {
      "text/html": [
       "<table class=\"dataframe\">\n",
       "<caption>A data.frame: 3 × 19</caption>\n",
       "<thead>\n",
       "\t<tr><th></th><th scope=col>country_iso3</th><th scope=col>gdp_us_dollar</th><th scope=col>inflation_rate</th><th scope=col>gdp_growth</th><th scope=col>colonizer</th><th scope=col>area</th><th scope=col>landlocked</th><th scope=col>continent</th><th scope=col>langoff_1</th><th scope=col>population</th><th scope=col>gdp_per_capita</th><th scope=col>life_expectancy</th><th scope=col>gni_atlas</th><th scope=col>agriculture_forestry_fishing_of_gdp</th><th scope=col>industry_of_gdp</th><th scope=col>merchandise_of_gdp</th><th scope=col>net_barter_of_trade</th><th scope=col>foreign_direct_investment_inflows</th><th scope=col>happiness</th></tr>\n",
       "\t<tr><th></th><th scope=col>&lt;chr&gt;</th><th scope=col>&lt;fct&gt;</th><th scope=col>&lt;fct&gt;</th><th scope=col>&lt;fct&gt;</th><th scope=col>&lt;chr&gt;</th><th scope=col>&lt;fct&gt;</th><th scope=col>&lt;lgl&gt;</th><th scope=col>&lt;chr&gt;</th><th scope=col>&lt;chr&gt;</th><th scope=col>&lt;fct&gt;</th><th scope=col>&lt;fct&gt;</th><th scope=col>&lt;fct&gt;</th><th scope=col>&lt;fct&gt;</th><th scope=col>&lt;fct&gt;</th><th scope=col>&lt;fct&gt;</th><th scope=col>&lt;fct&gt;</th><th scope=col>&lt;fct&gt;</th><th scope=col>&lt;fct&gt;</th><th scope=col>&lt;fct&gt;</th></tr>\n",
       "</thead>\n",
       "<tbody>\n",
       "\t<tr><th scope=row>1</th><td>AFG</td><td>Medium</td><td>High  </td><td>Low   </td><td>USA </td><td>Medium</td><td> TRUE</td><td>Asia  </td><td>Persian   </td><td>Medium</td><td>Low   </td><td>Low   </td><td>Medium</td><td>High  </td><td>Medium</td><td>Low   </td><td>Medium</td><td>Low   </td><td>Medium</td></tr>\n",
       "\t<tr><th scope=row>2</th><td>AGO</td><td>Medium</td><td>High  </td><td>Medium</td><td>PRT </td><td>High  </td><td>FALSE</td><td>Africa</td><td>Portuguese</td><td>Medium</td><td>Medium</td><td>Low   </td><td>Medium</td><td>Medium</td><td>High  </td><td>Medium</td><td>High  </td><td>Low   </td><td>Medium</td></tr>\n",
       "\t<tr><th scope=row>3</th><td>ALB</td><td>Low   </td><td>Medium</td><td>Medium</td><td>NONE</td><td>Low   </td><td>FALSE</td><td>Europe</td><td>Albanian  </td><td>Low   </td><td>Medium</td><td>Medium</td><td>Low   </td><td>High  </td><td>Medium</td><td>Medium</td><td>Medium</td><td>Medium</td><td>Low   </td></tr>\n",
       "</tbody>\n",
       "</table>\n"
      ],
      "text/latex": [
       "A data.frame: 3 × 19\n",
       "\\begin{tabular}{r|lllllllllllllllllll}\n",
       "  & country\\_iso3 & gdp\\_us\\_dollar & inflation\\_rate & gdp\\_growth & colonizer & area & landlocked & continent & langoff\\_1 & population & gdp\\_per\\_capita & life\\_expectancy & gni\\_atlas & agriculture\\_forestry\\_fishing\\_of\\_gdp & industry\\_of\\_gdp & merchandise\\_of\\_gdp & net\\_barter\\_of\\_trade & foreign\\_direct\\_investment\\_inflows & happiness\\\\\n",
       "  & <chr> & <fct> & <fct> & <fct> & <chr> & <fct> & <lgl> & <chr> & <chr> & <fct> & <fct> & <fct> & <fct> & <fct> & <fct> & <fct> & <fct> & <fct> & <fct>\\\\\n",
       "\\hline\n",
       "\t1 & AFG & Medium & High   & Low    & USA  & Medium &  TRUE & Asia   & Persian    & Medium & Low    & Low    & Medium & High   & Medium & Low    & Medium & Low    & Medium\\\\\n",
       "\t2 & AGO & Medium & High   & Medium & PRT  & High   & FALSE & Africa & Portuguese & Medium & Medium & Low    & Medium & Medium & High   & Medium & High   & Low    & Medium\\\\\n",
       "\t3 & ALB & Low    & Medium & Medium & NONE & Low    & FALSE & Europe & Albanian   & Low    & Medium & Medium & Low    & High   & Medium & Medium & Medium & Medium & Low   \\\\\n",
       "\\end{tabular}\n"
      ],
      "text/markdown": [
       "\n",
       "A data.frame: 3 × 19\n",
       "\n",
       "| <!--/--> | country_iso3 &lt;chr&gt; | gdp_us_dollar &lt;fct&gt; | inflation_rate &lt;fct&gt; | gdp_growth &lt;fct&gt; | colonizer &lt;chr&gt; | area &lt;fct&gt; | landlocked &lt;lgl&gt; | continent &lt;chr&gt; | langoff_1 &lt;chr&gt; | population &lt;fct&gt; | gdp_per_capita &lt;fct&gt; | life_expectancy &lt;fct&gt; | gni_atlas &lt;fct&gt; | agriculture_forestry_fishing_of_gdp &lt;fct&gt; | industry_of_gdp &lt;fct&gt; | merchandise_of_gdp &lt;fct&gt; | net_barter_of_trade &lt;fct&gt; | foreign_direct_investment_inflows &lt;fct&gt; | happiness &lt;fct&gt; |\n",
       "|---|---|---|---|---|---|---|---|---|---|---|---|---|---|---|---|---|---|---|---|\n",
       "| 1 | AFG | Medium | High   | Low    | USA  | Medium |  TRUE | Asia   | Persian    | Medium | Low    | Low    | Medium | High   | Medium | Low    | Medium | Low    | Medium |\n",
       "| 2 | AGO | Medium | High   | Medium | PRT  | High   | FALSE | Africa | Portuguese | Medium | Medium | Low    | Medium | Medium | High   | Medium | High   | Low    | Medium |\n",
       "| 3 | ALB | Low    | Medium | Medium | NONE | Low    | FALSE | Europe | Albanian   | Low    | Medium | Medium | Low    | High   | Medium | Medium | Medium | Medium | Low    |\n",
       "\n"
      ],
      "text/plain": [
       "  country_iso3 gdp_us_dollar inflation_rate gdp_growth colonizer area  \n",
       "1 AFG          Medium        High           Low        USA       Medium\n",
       "2 AGO          Medium        High           Medium     PRT       High  \n",
       "3 ALB          Low           Medium         Medium     NONE      Low   \n",
       "  landlocked continent langoff_1  population gdp_per_capita life_expectancy\n",
       "1  TRUE      Asia      Persian    Medium     Low            Low            \n",
       "2 FALSE      Africa    Portuguese Medium     Medium         Low            \n",
       "3 FALSE      Europe    Albanian   Low        Medium         Medium         \n",
       "  gni_atlas agriculture_forestry_fishing_of_gdp industry_of_gdp\n",
       "1 Medium    High                                Medium         \n",
       "2 Medium    Medium                              High           \n",
       "3 Low       High                                Medium         \n",
       "  merchandise_of_gdp net_barter_of_trade foreign_direct_investment_inflows\n",
       "1 Low                Medium              Low                              \n",
       "2 Medium             High                Low                              \n",
       "3 Medium             Medium              Medium                           \n",
       "  happiness\n",
       "1 Medium   \n",
       "2 Medium   \n",
       "3 Low      "
      ]
     },
     "metadata": {},
     "output_type": "display_data"
    }
   ],
   "source": [
    "head(nodes, 3)"
   ]
  },
  {
   "cell_type": "code",
   "execution_count": 87,
   "id": "spare-society",
   "metadata": {},
   "outputs": [],
   "source": [
    "communities_df = data.frame(\n",
    "    country = louvain_partitions$names, \n",
    "    community = louvain_partitions$membership\n",
    ")"
   ]
  },
  {
   "cell_type": "code",
   "execution_count": 91,
   "id": "continental-jersey",
   "metadata": {},
   "outputs": [],
   "source": [
    "nodes = merge(x = nodes, y = communities_df, by.x = 'country_iso3', by.y = 'country')"
   ]
  },
  {
   "cell_type": "code",
   "execution_count": 95,
   "id": "bound-spending",
   "metadata": {},
   "outputs": [],
   "source": [
    "num_communities = length(unique(nodes$community))"
   ]
  },
  {
   "cell_type": "code",
   "execution_count": 103,
   "id": "developmental-demonstration",
   "metadata": {},
   "outputs": [],
   "source": [
    "btwn_wthn_trade_counts = data.frame()\n",
    "for (i in 1:num_communities) {\n",
    "    for (j in 1:num_communities) {\n",
    "        btwn_wthn_trade_counts = btwn_wthn_trade_counts %>%\n",
    "            dplyr::bind_rows(\n",
    "                data.frame(\n",
    "                    source = i, \n",
    "                    target = j, \n",
    "                    count = count(\n",
    "                                edges %>% \n",
    "                                    dplyr::filter(\n",
    "                                        source %in% nodes$country_iso3[which(nodes$community == i)] & \n",
    "                                        target %in% nodes$country_iso3[which(nodes$community == j)]\n",
    "                                    )\n",
    "\n",
    "                    )\n",
    "                )\n",
    "            )\n",
    "    }\n",
    "}"
   ]
  },
  {
   "cell_type": "code",
   "execution_count": 104,
   "id": "fantastic-moisture",
   "metadata": {},
   "outputs": [
    {
     "data": {
      "text/html": [
       "<table class=\"dataframe\">\n",
       "<caption>A data.frame: 9 × 3</caption>\n",
       "<thead>\n",
       "\t<tr><th scope=col>source</th><th scope=col>target</th><th scope=col>n</th></tr>\n",
       "\t<tr><th scope=col>&lt;int&gt;</th><th scope=col>&lt;int&gt;</th><th scope=col>&lt;int&gt;</th></tr>\n",
       "</thead>\n",
       "<tbody>\n",
       "\t<tr><td>1</td><td>1</td><td>2517</td></tr>\n",
       "\t<tr><td>1</td><td>2</td><td> 972</td></tr>\n",
       "\t<tr><td>1</td><td>3</td><td>2707</td></tr>\n",
       "\t<tr><td>2</td><td>1</td><td> 983</td></tr>\n",
       "\t<tr><td>2</td><td>2</td><td> 466</td></tr>\n",
       "\t<tr><td>2</td><td>3</td><td>1010</td></tr>\n",
       "\t<tr><td>3</td><td>1</td><td>2283</td></tr>\n",
       "\t<tr><td>3</td><td>2</td><td> 845</td></tr>\n",
       "\t<tr><td>3</td><td>3</td><td>2584</td></tr>\n",
       "</tbody>\n",
       "</table>\n"
      ],
      "text/latex": [
       "A data.frame: 9 × 3\n",
       "\\begin{tabular}{lll}\n",
       " source & target & n\\\\\n",
       " <int> & <int> & <int>\\\\\n",
       "\\hline\n",
       "\t 1 & 1 & 2517\\\\\n",
       "\t 1 & 2 &  972\\\\\n",
       "\t 1 & 3 & 2707\\\\\n",
       "\t 2 & 1 &  983\\\\\n",
       "\t 2 & 2 &  466\\\\\n",
       "\t 2 & 3 & 1010\\\\\n",
       "\t 3 & 1 & 2283\\\\\n",
       "\t 3 & 2 &  845\\\\\n",
       "\t 3 & 3 & 2584\\\\\n",
       "\\end{tabular}\n"
      ],
      "text/markdown": [
       "\n",
       "A data.frame: 9 × 3\n",
       "\n",
       "| source &lt;int&gt; | target &lt;int&gt; | n &lt;int&gt; |\n",
       "|---|---|---|\n",
       "| 1 | 1 | 2517 |\n",
       "| 1 | 2 |  972 |\n",
       "| 1 | 3 | 2707 |\n",
       "| 2 | 1 |  983 |\n",
       "| 2 | 2 |  466 |\n",
       "| 2 | 3 | 1010 |\n",
       "| 3 | 1 | 2283 |\n",
       "| 3 | 2 |  845 |\n",
       "| 3 | 3 | 2584 |\n",
       "\n"
      ],
      "text/plain": [
       "  source target n   \n",
       "1 1      1      2517\n",
       "2 1      2       972\n",
       "3 1      3      2707\n",
       "4 2      1       983\n",
       "5 2      2       466\n",
       "6 2      3      1010\n",
       "7 3      1      2283\n",
       "8 3      2       845\n",
       "9 3      3      2584"
      ]
     },
     "metadata": {},
     "output_type": "display_data"
    }
   ],
   "source": [
    "btwn_wthn_trade_counts"
   ]
  },
  {
   "cell_type": "code",
   "execution_count": null,
   "id": "promising-directive",
   "metadata": {},
   "outputs": [],
   "source": []
  }
 ],
 "metadata": {
  "kernelspec": {
   "display_name": "R",
   "language": "R",
   "name": "ir"
  },
  "language_info": {
   "codemirror_mode": "r",
   "file_extension": ".r",
   "mimetype": "text/x-r-source",
   "name": "R",
   "pygments_lexer": "r",
   "version": "4.0.3"
  }
 },
 "nbformat": 4,
 "nbformat_minor": 5
}
