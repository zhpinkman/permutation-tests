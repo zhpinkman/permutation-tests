{
 "cells": [
  {
   "cell_type": "code",
   "execution_count": null,
   "id": "comparable-curve",
   "metadata": {},
   "outputs": [
    {
     "name": "stderr",
     "output_type": "stream",
     "text": [
      "also installing the dependencies 'dotCall64', 'viridisLite', 'gridExtra', 'spam', 'viridis', 'maps', 'sp', 'maptools', 'fields'\n",
      "\n",
      "\n"
     ]
    }
   ],
   "source": [
    "install.packages(\"rworldmap\")"
   ]
  },
  {
   "cell_type": "code",
   "execution_count": null,
   "id": "downtown-statistics",
   "metadata": {},
   "outputs": [],
   "source": []
  }
 ],
 "metadata": {
  "kernelspec": {
   "display_name": "R",
   "language": "R",
   "name": "ir"
  },
  "language_info": {
   "codemirror_mode": "r",
   "file_extension": ".r",
   "mimetype": "text/x-r-source",
   "name": "R",
   "pygments_lexer": "r",
   "version": "4.0.3"
  }
 },
 "nbformat": 4,
 "nbformat_minor": 5
}
