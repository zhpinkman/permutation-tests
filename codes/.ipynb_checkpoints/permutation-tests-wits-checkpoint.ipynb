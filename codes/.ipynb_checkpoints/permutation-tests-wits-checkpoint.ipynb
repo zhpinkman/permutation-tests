{
 "cells": [
  {
   "cell_type": "markdown",
   "id": "athletic-button",
   "metadata": {},
   "source": [
    "### Loading the dataset containing the export data alongside with the nodal attribute available on each country"
   ]
  },
  {
   "cell_type": "code",
   "execution_count": 1,
   "id": "distinguished-internet",
   "metadata": {},
   "outputs": [],
   "source": [
    "edges = read.csv('../datasets/wits/simulated/edgelist.csv')\n",
    "nodes = read.csv('../datasets/wits/simulated/nodelist.csv')"
   ]
  },
  {
   "cell_type": "code",
   "execution_count": 2,
   "id": "naked-census",
   "metadata": {},
   "outputs": [],
   "source": [
    "n = dim(nodes)[1]\n",
    "N = 1000\n",
    "country_names = nodes$country_iso3\n",
    "nodes = transform(nodes, landlocked=as.logical(landlocked))"
   ]
  },
  {
   "cell_type": "markdown",
   "id": "prime-imaging",
   "metadata": {},
   "source": [
    "### Importing the library required for doing permutation tests"
   ]
  },
  {
   "cell_type": "code",
   "execution_count": 3,
   "id": "consolidated-christopher",
   "metadata": {},
   "outputs": [
    {
     "name": "stderr",
     "output_type": "stream",
     "text": [
      "Loading required package: survival\n",
      "\n",
      "Loading required package: statnet.common\n",
      "\n",
      "\n",
      "Attaching package: 'statnet.common'\n",
      "\n",
      "\n",
      "The following object is masked from 'package:base':\n",
      "\n",
      "    order\n",
      "\n",
      "\n",
      "Loading required package: network\n",
      "\n",
      "network: Classes for Relational Data\n",
      "Version 1.16.1 created on 2020-10-06.\n",
      "copyright (c) 2005, Carter T. Butts, University of California-Irvine\n",
      "                    Mark S. Handcock, University of California -- Los Angeles\n",
      "                    David R. Hunter, Penn State University\n",
      "                    Martina Morris, University of Washington\n",
      "                    Skye Bender-deMoll, University of Washington\n",
      " For citation information, type citation(\"network\").\n",
      " Type help(\"network-package\") to get started.\n",
      "\n",
      "\n",
      "sna: Tools for Social Network Analysis\n",
      "Version 2.6 created on 2020-10-5.\n",
      "copyright (c) 2005, Carter T. Butts, University of California-Irvine\n",
      " For citation information, type citation(\"sna\").\n",
      " Type help(package=\"sna\") to get started.\n",
      "\n",
      "\n",
      "\n",
      "Attaching package: 'sna'\n",
      "\n",
      "\n",
      "The following object is masked from 'package:coin':\n",
      "\n",
      "    rperm\n",
      "\n",
      "\n",
      "\n",
      "ergm: version 3.11.0, created on 2020-10-14\n",
      "Copyright (c) 2020, Mark S. Handcock, University of California -- Los Angeles\n",
      "                    David R. Hunter, Penn State University\n",
      "                    Carter T. Butts, University of California -- Irvine\n",
      "                    Steven M. Goodreau, University of Washington\n",
      "                    Pavel N. Krivitsky, UNSW Sydney\n",
      "                    Martina Morris, University of Washington\n",
      "                    with contributions from\n",
      "                    Li Wang\n",
      "                    Kirk Li, University of Washington\n",
      "                    Skye Bender-deMoll, University of Washington\n",
      "                    Chad Klumb\n",
      "                    Michal Bojanowski, Kozminski University\n",
      "                    Ben Bolker\n",
      "Based on \"statnet\" project software (statnet.org).\n",
      "For license and citation information see statnet.org/attribution\n",
      "or type citation(\"ergm\").\n",
      "\n",
      "\n",
      "NOTE: Versions before 3.6.1 had a bug in the implementation of the bd()\n",
      "constraint which distorted the sampled distribution somewhat. In\n",
      "addition, Sampson's Monks datasets had mislabeled vertices. See the\n",
      "NEWS and the documentation for more details.\n",
      "\n",
      "\n",
      "NOTE: Some common term arguments pertaining to vertex attribute and\n",
      "level selection have changed in 3.10.0. See terms help for more\n",
      "details. Use 'options(ergm.term=list(version=\"3.9.4\"))' to use old\n",
      "behavior.\n",
      "\n",
      "\n",
      "\n",
      "Attaching package: 'dplyr'\n",
      "\n",
      "\n",
      "The following objects are masked from 'package:stats':\n",
      "\n",
      "    filter, lag\n",
      "\n",
      "\n",
      "The following objects are masked from 'package:base':\n",
      "\n",
      "    intersect, setdiff, setequal, union\n",
      "\n",
      "\n"
     ]
    }
   ],
   "source": [
    "library(coin)\n",
    "library(sna)\n",
    "library(ergm)\n",
    "library(dplyr)"
   ]
  },
  {
   "cell_type": "code",
   "execution_count": 4,
   "id": "portable-field",
   "metadata": {},
   "outputs": [
    {
     "data": {
      "text/html": [
       "<table class=\"dataframe\">\n",
       "<caption>A data.frame: 3 × 19</caption>\n",
       "<thead>\n",
       "\t<tr><th></th><th scope=col>country_iso3</th><th scope=col>merchandise_of_gdp</th><th scope=col>area</th><th scope=col>population</th><th scope=col>industry_of_gdp</th><th scope=col>continent</th><th scope=col>agriculture_forestry_fishing_of_gdp</th><th scope=col>life_expectancy</th><th scope=col>landlocked</th><th scope=col>colonizer</th><th scope=col>net_barter_of_trade</th><th scope=col>inflation_rate</th><th scope=col>langoff_1</th><th scope=col>gni_atlas</th><th scope=col>foreign_direct_investment_inflows</th><th scope=col>happiness</th><th scope=col>gdp_us_dollar</th><th scope=col>gdp_growth</th><th scope=col>gdp_per_capita</th></tr>\n",
       "\t<tr><th></th><th scope=col>&lt;chr&gt;</th><th scope=col>&lt;dbl&gt;</th><th scope=col>&lt;int&gt;</th><th scope=col>&lt;int&gt;</th><th scope=col>&lt;dbl&gt;</th><th scope=col>&lt;chr&gt;</th><th scope=col>&lt;dbl&gt;</th><th scope=col>&lt;dbl&gt;</th><th scope=col>&lt;lgl&gt;</th><th scope=col>&lt;chr&gt;</th><th scope=col>&lt;dbl&gt;</th><th scope=col>&lt;dbl&gt;</th><th scope=col>&lt;chr&gt;</th><th scope=col>&lt;dbl&gt;</th><th scope=col>&lt;dbl&gt;</th><th scope=col>&lt;dbl&gt;</th><th scope=col>&lt;dbl&gt;</th><th scope=col>&lt;dbl&gt;</th><th scope=col>&lt;dbl&gt;</th></tr>\n",
       "</thead>\n",
       "<tbody>\n",
       "\t<tr><th scope=row>1</th><td>AFG</td><td>38.70415</td><td> 652225</td><td>30117411</td><td>22.74025</td><td>Asia  </td><td>23.743664</td><td>61.553</td><td> TRUE</td><td>USA </td><td>144.7519</td><td>11.804186</td><td>Persian   </td><td>16077121256</td><td>   52173421</td><td>0.721</td><td> 17804292964</td><td>0.4263548</td><td> 591.1628</td></tr>\n",
       "\t<tr><th scope=row>2</th><td>AGO</td><td>78.30597</td><td>1246700</td><td>24220660</td><td>56.02651</td><td>Africa</td><td> 5.845681</td><td>56.330</td><td>FALSE</td><td>PRT </td><td>244.3292</td><td>13.482468</td><td>Portuguese</td><td>82606027251</td><td>-3023770966</td><td>0.708</td><td>111789686464</td><td>3.4719763</td><td>4615.4682</td></tr>\n",
       "\t<tr><th scope=row>3</th><td>ALB</td><td>56.86241</td><td>  28748</td><td> 2905195</td><td>24.48441</td><td>Europe</td><td>18.226765</td><td>76.914</td><td>FALSE</td><td>NONE</td><td> 94.3372</td><td> 3.429123</td><td>Albanian  </td><td>12803715190</td><td> 1048706682</td><td>0.568</td><td> 12890765324</td><td>2.5453218</td><td>4437.1429</td></tr>\n",
       "</tbody>\n",
       "</table>\n"
      ],
      "text/latex": [
       "A data.frame: 3 × 19\n",
       "\\begin{tabular}{r|lllllllllllllllllll}\n",
       "  & country\\_iso3 & merchandise\\_of\\_gdp & area & population & industry\\_of\\_gdp & continent & agriculture\\_forestry\\_fishing\\_of\\_gdp & life\\_expectancy & landlocked & colonizer & net\\_barter\\_of\\_trade & inflation\\_rate & langoff\\_1 & gni\\_atlas & foreign\\_direct\\_investment\\_inflows & happiness & gdp\\_us\\_dollar & gdp\\_growth & gdp\\_per\\_capita\\\\\n",
       "  & <chr> & <dbl> & <int> & <int> & <dbl> & <chr> & <dbl> & <dbl> & <lgl> & <chr> & <dbl> & <dbl> & <chr> & <dbl> & <dbl> & <dbl> & <dbl> & <dbl> & <dbl>\\\\\n",
       "\\hline\n",
       "\t1 & AFG & 38.70415 &  652225 & 30117411 & 22.74025 & Asia   & 23.743664 & 61.553 &  TRUE & USA  & 144.7519 & 11.804186 & Persian    & 16077121256 &    52173421 & 0.721 &  17804292964 & 0.4263548 &  591.1628\\\\\n",
       "\t2 & AGO & 78.30597 & 1246700 & 24220660 & 56.02651 & Africa &  5.845681 & 56.330 & FALSE & PRT  & 244.3292 & 13.482468 & Portuguese & 82606027251 & -3023770966 & 0.708 & 111789686464 & 3.4719763 & 4615.4682\\\\\n",
       "\t3 & ALB & 56.86241 &   28748 &  2905195 & 24.48441 & Europe & 18.226765 & 76.914 & FALSE & NONE &  94.3372 &  3.429123 & Albanian   & 12803715190 &  1048706682 & 0.568 &  12890765324 & 2.5453218 & 4437.1429\\\\\n",
       "\\end{tabular}\n"
      ],
      "text/markdown": [
       "\n",
       "A data.frame: 3 × 19\n",
       "\n",
       "| <!--/--> | country_iso3 &lt;chr&gt; | merchandise_of_gdp &lt;dbl&gt; | area &lt;int&gt; | population &lt;int&gt; | industry_of_gdp &lt;dbl&gt; | continent &lt;chr&gt; | agriculture_forestry_fishing_of_gdp &lt;dbl&gt; | life_expectancy &lt;dbl&gt; | landlocked &lt;lgl&gt; | colonizer &lt;chr&gt; | net_barter_of_trade &lt;dbl&gt; | inflation_rate &lt;dbl&gt; | langoff_1 &lt;chr&gt; | gni_atlas &lt;dbl&gt; | foreign_direct_investment_inflows &lt;dbl&gt; | happiness &lt;dbl&gt; | gdp_us_dollar &lt;dbl&gt; | gdp_growth &lt;dbl&gt; | gdp_per_capita &lt;dbl&gt; |\n",
       "|---|---|---|---|---|---|---|---|---|---|---|---|---|---|---|---|---|---|---|---|\n",
       "| 1 | AFG | 38.70415 |  652225 | 30117411 | 22.74025 | Asia   | 23.743664 | 61.553 |  TRUE | USA  | 144.7519 | 11.804186 | Persian    | 16077121256 |    52173421 | 0.721 |  17804292964 | 0.4263548 |  591.1628 |\n",
       "| 2 | AGO | 78.30597 | 1246700 | 24220660 | 56.02651 | Africa |  5.845681 | 56.330 | FALSE | PRT  | 244.3292 | 13.482468 | Portuguese | 82606027251 | -3023770966 | 0.708 | 111789686464 | 3.4719763 | 4615.4682 |\n",
       "| 3 | ALB | 56.86241 |   28748 |  2905195 | 24.48441 | Europe | 18.226765 | 76.914 | FALSE | NONE |  94.3372 |  3.429123 | Albanian   | 12803715190 |  1048706682 | 0.568 |  12890765324 | 2.5453218 | 4437.1429 |\n",
       "\n"
      ],
      "text/plain": [
       "  country_iso3 merchandise_of_gdp area    population industry_of_gdp continent\n",
       "1 AFG          38.70415            652225 30117411   22.74025        Asia     \n",
       "2 AGO          78.30597           1246700 24220660   56.02651        Africa   \n",
       "3 ALB          56.86241             28748  2905195   24.48441        Europe   \n",
       "  agriculture_forestry_fishing_of_gdp life_expectancy landlocked colonizer\n",
       "1 23.743664                           61.553           TRUE      USA      \n",
       "2  5.845681                           56.330          FALSE      PRT      \n",
       "3 18.226765                           76.914          FALSE      NONE     \n",
       "  net_barter_of_trade inflation_rate langoff_1  gni_atlas  \n",
       "1 144.7519            11.804186      Persian    16077121256\n",
       "2 244.3292            13.482468      Portuguese 82606027251\n",
       "3  94.3372             3.429123      Albanian   12803715190\n",
       "  foreign_direct_investment_inflows happiness gdp_us_dollar gdp_growth\n",
       "1    52173421                       0.721      17804292964  0.4263548 \n",
       "2 -3023770966                       0.708     111789686464  3.4719763 \n",
       "3  1048706682                       0.568      12890765324  2.5453218 \n",
       "  gdp_per_capita\n",
       "1  591.1628     \n",
       "2 4615.4682     \n",
       "3 4437.1429     "
      ]
     },
     "metadata": {},
     "output_type": "display_data"
    }
   ],
   "source": [
    "head(nodes, 3)"
   ]
  },
  {
   "cell_type": "code",
   "execution_count": 5,
   "id": "neither-placement",
   "metadata": {},
   "outputs": [
    {
     "data": {
      "text/html": [
       "<table class=\"dataframe\">\n",
       "<caption>A data.frame: 3 × 3</caption>\n",
       "<thead>\n",
       "\t<tr><th></th><th scope=col>source</th><th scope=col>target</th><th scope=col>weight</th></tr>\n",
       "\t<tr><th></th><th scope=col>&lt;chr&gt;</th><th scope=col>&lt;chr&gt;</th><th scope=col>&lt;dbl&gt;</th></tr>\n",
       "</thead>\n",
       "<tbody>\n",
       "\t<tr><th scope=row>1</th><td>AFG</td><td>TKM</td><td>   0.189</td></tr>\n",
       "\t<tr><th scope=row>2</th><td>AGO</td><td>JPN</td><td>1369.367</td></tr>\n",
       "\t<tr><th scope=row>3</th><td>AGO</td><td>BEN</td><td>1700.981</td></tr>\n",
       "</tbody>\n",
       "</table>\n"
      ],
      "text/latex": [
       "A data.frame: 3 × 3\n",
       "\\begin{tabular}{r|lll}\n",
       "  & source & target & weight\\\\\n",
       "  & <chr> & <chr> & <dbl>\\\\\n",
       "\\hline\n",
       "\t1 & AFG & TKM &    0.189\\\\\n",
       "\t2 & AGO & JPN & 1369.367\\\\\n",
       "\t3 & AGO & BEN & 1700.981\\\\\n",
       "\\end{tabular}\n"
      ],
      "text/markdown": [
       "\n",
       "A data.frame: 3 × 3\n",
       "\n",
       "| <!--/--> | source &lt;chr&gt; | target &lt;chr&gt; | weight &lt;dbl&gt; |\n",
       "|---|---|---|---|\n",
       "| 1 | AFG | TKM |    0.189 |\n",
       "| 2 | AGO | JPN | 1369.367 |\n",
       "| 3 | AGO | BEN | 1700.981 |\n",
       "\n"
      ],
      "text/plain": [
       "  source target weight  \n",
       "1 AFG    TKM       0.189\n",
       "2 AGO    JPN    1369.367\n",
       "3 AGO    BEN    1700.981"
      ]
     },
     "metadata": {},
     "output_type": "display_data"
    }
   ],
   "source": [
    "head(edges, 3)"
   ]
  },
  {
   "cell_type": "markdown",
   "id": "systematic-quest",
   "metadata": {},
   "source": [
    "### Examining the effect of homophily on the network of trades"
   ]
  },
  {
   "cell_type": "code",
   "execution_count": 6,
   "id": "current-funeral",
   "metadata": {},
   "outputs": [],
   "source": [
    "count_homophily = function(edges, nodes, attrs, ...) {\n",
    "    count = 0\n",
    "    for (i in 1:dim(edges)[1]) {\n",
    "        if (attrs[nodes$country_iso3 == edges$source[i]] == attrs[nodes$country_iso3 == edges$target[i]]) {\n",
    "            count = count + 1\n",
    "        }\n",
    "    }\n",
    "    return(count)\n",
    "}"
   ]
  },
  {
   "cell_type": "code",
   "execution_count": 7,
   "id": "numerous-tracy",
   "metadata": {},
   "outputs": [],
   "source": [
    "execute_permutation_test = function(edges, nodes, func, attrs, attr, ...) {\n",
    "    params = list(...)\n",
    "    observed_statistic = func(edges, nodes, attrs, params)\n",
    "\n",
    "    \n",
    "#     generating new samples by permutating the attributes\n",
    "    permutated_samples = matrix(0, nrow = n, ncol = N)\n",
    "    for (i in 1:N) {\n",
    "        permutated_samples[, i] = sample(x = attrs, size = n, replace = F)\n",
    "    }\n",
    "    \n",
    "#    computing the specified statistic for all the permutated networks\n",
    "    permutated_statistics = matrix(0, nrow = N, ncol = 1)\n",
    "    for (j in 1:N) {\n",
    "        permutated_statistics[j] = func(edges, nodes, permutated_samples[, j], params)\n",
    "    }\n",
    "    \n",
    "    p_value = mean(permutated_statistics < observed_statistic)\n",
    "    if (p_value > .5) {\n",
    "        p_value = 1 - p_value\n",
    "    }\n",
    "    \n",
    "    print(paste(attr, ',', p_value))\n",
    "    pdf(paste('../results/', attr, '.pdf'))\n",
    "    par(bg = 'white')\n",
    "    hist(\n",
    "        permutated_statistics, \n",
    "        xlim=c(min(min(permutated_statistics), observed_statistic), max(max(permutated_statistics), observed_statistic)), \n",
    "        main = paste('Comparison of the observed statistic and \\npermutated ones with respect to \\n', attr, 'with p-value: ', p_value)\n",
    "    )\n",
    "    abline(v=observed_statistic, col='red')\n",
    "    \n",
    "    dev.off()\n",
    "    return(data.frame(\n",
    "        effect = attr, \n",
    "        p_value = p_value\n",
    "    ))\n",
    "}"
   ]
  },
  {
   "cell_type": "code",
   "execution_count": 8,
   "id": "dominican-polish",
   "metadata": {},
   "outputs": [],
   "source": [
    "categories = !unlist(lapply(nodes, FUN = is.numeric))\n",
    "categories[attr(categories, 'names') == 'country_iso3'] = FALSE\n",
    "categories = colnames(nodes[, categories])"
   ]
  },
  {
   "cell_type": "code",
   "execution_count": 9,
   "id": "canadian-cross",
   "metadata": {},
   "outputs": [
    {
     "name": "stdout",
     "output_type": "stream",
     "text": [
      "[1] \"homophily  continent , 0\"\n",
      "[1] \"homophily  landlocked , 0\"\n",
      "[1] \"homophily  colonizer , 0.093\"\n",
      "[1] \"homophily  langoff_1 , 0.003\"\n"
     ]
    }
   ],
   "source": [
    "homophily_results = data.frame()\n",
    "for (col in categories) {\n",
    "    homophily_results = homophily_results %>%\n",
    "        dplyr::bind_rows(\n",
    "            execute_permutation_test(\n",
    "                edges,\n",
    "                nodes,\n",
    "                count_homophily,\n",
    "                nodes[, col],\n",
    "                paste('homophily ', as.character(col))\n",
    "            )\n",
    "        )\n",
    "}"
   ]
  },
  {
   "cell_type": "markdown",
   "id": "therapeutic-twelve",
   "metadata": {},
   "source": [
    "### Examining the effect of higher values for nodal covariates"
   ]
  },
  {
   "cell_type": "code",
   "execution_count": 10,
   "id": "ranging-hebrew",
   "metadata": {},
   "outputs": [],
   "source": [
    "compute_nodecov = function(edges, nodes, attrs, ...) {\n",
    "    attrs = attrs - mean(attrs)\n",
    "#     log transformation parameter\n",
    "    params = list(...)\n",
    "    sum = 0\n",
    "    for (i in 1:dim(edges)[1]) {\n",
    "        if (as.logical(params[[1]])) {\n",
    "            sum = sum + log(attrs[nodes$country_iso3 == edges$source[i]] + attrs[nodes$country_iso3 == edges$target[i]])\n",
    "        } else {\n",
    "            sum = sum + attrs[nodes$country_iso3 == edges$source[i]] + attrs[nodes$country_iso3 == edges$target[i]]\n",
    "        }\n",
    "    }\n",
    "    return(sum)\n",
    "}"
   ]
  },
  {
   "cell_type": "code",
   "execution_count": 11,
   "id": "furnished-ocean",
   "metadata": {},
   "outputs": [],
   "source": [
    "compute_absdiff = function(edges, nodes, attrs, ...) {\n",
    "    attrs = attrs - mean(attrs)\n",
    "#     log transformation parameter\n",
    "    params = list(...)\n",
    "    diff_sum = 0\n",
    "    for (i in 1:dim(edges)[1]) {\n",
    "        if (as.logical(params[[1]])) {\n",
    "            diff_sum = diff_sum + log(1 + abs(attrs[nodes$country_iso3 == edges$source[i]] - attrs[nodes$country_iso3 == edges$target[i]]))\n",
    "        } else {\n",
    "            diff_sum = diff_sum + abs(attrs[nodes$country_iso3 == edges$source[i]] - attrs[nodes$country_iso3 == edges$target[i]])\n",
    "        }\n",
    "    }\n",
    "    return(diff_sum)\n",
    "}"
   ]
  },
  {
   "cell_type": "code",
   "execution_count": 12,
   "id": "scheduled-advocacy",
   "metadata": {},
   "outputs": [],
   "source": [
    "nums <- unlist(lapply(nodes, is.numeric))\n",
    "nums = colnames(nodes[, nums])"
   ]
  },
  {
   "cell_type": "code",
   "execution_count": 13,
   "id": "inner-baker",
   "metadata": {},
   "outputs": [
    {
     "name": "stdout",
     "output_type": "stream",
     "text": [
      "[1] \"nodecov  merchandise_of_gdp , 0.395\"\n",
      "[1] \"absdiff  merchandise_of_gdp , 0.25\"\n",
      "[1] \"nodecov  area , 0.004\"\n",
      "[1] \"absdiff  area , 0.01\"\n",
      "[1] \"nodecov  population , 0\"\n",
      "[1] \"absdiff  population , 0\"\n",
      "[1] \"nodecov  industry_of_gdp , 0.468\"\n",
      "[1] \"absdiff  industry_of_gdp , 0.467\"\n",
      "[1] \"nodecov  agriculture_forestry_fishing_of_gdp , 0.001\"\n",
      "[1] \"absdiff  agriculture_forestry_fishing_of_gdp , 0\"\n",
      "[1] \"nodecov  life_expectancy , 0\"\n",
      "[1] \"absdiff  life_expectancy , 0\"\n",
      "[1] \"nodecov  net_barter_of_trade , 0.047\"\n",
      "[1] \"absdiff  net_barter_of_trade , 0.245\"\n",
      "[1] \"nodecov  inflation_rate , 0.277\"\n",
      "[1] \"absdiff  inflation_rate , 0.288\"\n",
      "[1] \"nodecov  gni_atlas , 0\"\n",
      "[1] \"absdiff  gni_atlas , 0\"\n",
      "[1] \"nodecov  foreign_direct_investment_inflows , 0\"\n",
      "[1] \"absdiff  foreign_direct_investment_inflows , 0\"\n",
      "[1] \"nodecov  happiness , 0.249\"\n",
      "[1] \"absdiff  happiness , 0.129\"\n",
      "[1] \"nodecov  gdp_us_dollar , 0\"\n",
      "[1] \"absdiff  gdp_us_dollar , 0\"\n",
      "[1] \"nodecov  gdp_growth , 0.082\"\n",
      "[1] \"absdiff  gdp_growth , 0.164\"\n",
      "[1] \"nodecov  gdp_per_capita , 0.001\"\n",
      "[1] \"absdiff  gdp_per_capita , 0.493\"\n"
     ]
    }
   ],
   "source": [
    "nodecov_results = data.frame()\n",
    "absdiff_results = data.frame()\n",
    "for (col in nums) {\n",
    "    nodecov_results = nodecov_results %>%\n",
    "        dplyr::bind_rows(\n",
    "            execute_permutation_test(\n",
    "                edges,\n",
    "                nodes,\n",
    "                compute_nodecov,\n",
    "                nodes[, col],\n",
    "                paste('nodecov ', as.character(col)), \n",
    "                FALSE\n",
    "            )\n",
    "        )\n",
    "    absdiff_results = absdiff_results %>%\n",
    "        dplyr::bind_rows(\n",
    "            execute_permutation_test(\n",
    "                edges,\n",
    "                nodes,\n",
    "                compute_absdiff,\n",
    "                nodes[, col],\n",
    "                paste('absdiff ', as.character(col)), \n",
    "                FALSE\n",
    "            )\n",
    "        )\n",
    "}"
   ]
  },
  {
   "cell_type": "markdown",
   "id": "rubber-complex",
   "metadata": {},
   "source": [
    "### Transform numerical data to categorical and do homophily test"
   ]
  },
  {
   "cell_type": "code",
   "execution_count": 14,
   "id": "further-conjunction",
   "metadata": {},
   "outputs": [],
   "source": [
    "numerical_homophily = function(edges, nodes, attrs, ...) {\n",
    "    m = .5 * length(edges)\n",
    "    attrs = attrs - mean(attrs)\n",
    "    result = 0\n",
    "    for (i in 1:dim(edges)[1]) {\n",
    "        result = result + attrs[which(nodes$country_iso3 == edges$source[i])] * attrs[which(nodes$country_iso3 == edges$target[i])]\n",
    "    }\n",
    "    result = result / 2 / m / sum(attrs**2) * n\n",
    "    return(result)\n",
    "}"
   ]
  },
  {
   "cell_type": "code",
   "execution_count": null,
   "id": "relevant-freight",
   "metadata": {},
   "outputs": [
    {
     "name": "stdout",
     "output_type": "stream",
     "text": [
      "[1] \"numerical homophily  merchandise_of_gdp , 0.329\"\n",
      "[1] \"numerical homophily  area , 0.445\"\n",
      "[1] \"numerical homophily  population , 0.053\"\n",
      "[1] \"numerical homophily  industry_of_gdp , 0.044\"\n",
      "[1] \"numerical homophily  agriculture_forestry_fishing_of_gdp , 0\"\n"
     ]
    }
   ],
   "source": [
    "numerical_homophily_results = data.frame()\n",
    "for (col in nums) {\n",
    "    numerical_homophily_results = numerical_homophily_results %>% \n",
    "        dplyr::bind_rows(\n",
    "            execute_permutation_test(\n",
    "                edges,\n",
    "                nodes,\n",
    "                numerical_homophily, \n",
    "                nodes[, col],\n",
    "                paste('numerical homophily ', as.character(col))\n",
    "            )\n",
    "        )\n",
    "}"
   ]
  }
 ],
 "metadata": {
  "kernelspec": {
   "display_name": "R",
   "language": "R",
   "name": "ir"
  },
  "language_info": {
   "codemirror_mode": "r",
   "file_extension": ".r",
   "mimetype": "text/x-r-source",
   "name": "R",
   "pygments_lexer": "r",
   "version": "4.0.3"
  }
 },
 "nbformat": 4,
 "nbformat_minor": 5
}
