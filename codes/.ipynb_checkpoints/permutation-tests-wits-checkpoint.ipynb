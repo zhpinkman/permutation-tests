{
 "cells": [
  {
   "cell_type": "markdown",
   "id": "closing-murray",
   "metadata": {},
   "source": [
    "### Loading the dataset containing the export data alongside with the nodal attribute available on each country"
   ]
  },
  {
   "cell_type": "code",
   "execution_count": 10,
   "id": "monetary-pregnancy",
   "metadata": {},
   "outputs": [],
   "source": [
    "edges = read.csv('../datasets/wits/edgelist_2011.csv')\n",
    "nodes = read.csv('../datasets/wits/nodelist_2011.csv')"
   ]
  },
  {
   "cell_type": "code",
   "execution_count": 29,
   "id": "sealed-mistake",
   "metadata": {},
   "outputs": [
    {
     "data": {
      "text/html": [
       "<style>\n",
       ".list-inline {list-style: none; margin:0; padding: 0}\n",
       ".list-inline>li {display: inline-block}\n",
       ".list-inline>li:not(:last-child)::after {content: \"\\00b7\"; padding: 0 .5ex}\n",
       "</style>\n",
       "<ol class=list-inline><li>184</li><li>9</li></ol>\n"
      ],
      "text/latex": [
       "\\begin{enumerate*}\n",
       "\\item 184\n",
       "\\item 9\n",
       "\\end{enumerate*}\n"
      ],
      "text/markdown": [
       "1. 184\n",
       "2. 9\n",
       "\n",
       "\n"
      ],
      "text/plain": [
       "[1] 184   9"
      ]
     },
     "metadata": {},
     "output_type": "display_data"
    }
   ],
   "source": [
    "dim(nodes)"
   ]
  },
  {
   "cell_type": "markdown",
   "id": "local-making",
   "metadata": {},
   "source": [
    "### Importing the library required for doing permutation tests"
   ]
  },
  {
   "cell_type": "code",
   "execution_count": 14,
   "id": "moderate-personal",
   "metadata": {},
   "outputs": [],
   "source": [
    "library(coin)\n",
    "library(sna)\n",
    "library(ergm)"
   ]
  },
  {
   "cell_type": "code",
   "execution_count": 15,
   "id": "unknown-investigation",
   "metadata": {},
   "outputs": [
    {
     "data": {
      "text/html": [
       "<table class=\"dataframe\">\n",
       "<caption>A data.frame: 3 × 9</caption>\n",
       "<thead>\n",
       "\t<tr><th></th><th scope=col>country_iso3</th><th scope=col>colonizer</th><th scope=col>inflation_rate</th><th scope=col>area</th><th scope=col>gdp_us_dollar</th><th scope=col>langoff_1</th><th scope=col>continent</th><th scope=col>gdp_growth</th><th scope=col>landlocked</th></tr>\n",
       "\t<tr><th></th><th scope=col>&lt;chr&gt;</th><th scope=col>&lt;chr&gt;</th><th scope=col>&lt;dbl&gt;</th><th scope=col>&lt;int&gt;</th><th scope=col>&lt;dbl&gt;</th><th scope=col>&lt;chr&gt;</th><th scope=col>&lt;chr&gt;</th><th scope=col>&lt;dbl&gt;</th><th scope=col>&lt;int&gt;</th></tr>\n",
       "</thead>\n",
       "<tbody>\n",
       "\t<tr><th scope=row>1</th><td>AFG</td><td>USA </td><td>11.804186</td><td> 652225</td><td> 17804292964</td><td>Persian   </td><td>Asia  </td><td>0.4263548</td><td>1</td></tr>\n",
       "\t<tr><th scope=row>2</th><td>AGO</td><td>PRT </td><td>13.482468</td><td>1246700</td><td>111789686464</td><td>Portuguese</td><td>Africa</td><td>3.4719763</td><td>0</td></tr>\n",
       "\t<tr><th scope=row>3</th><td>ALB</td><td>NONE</td><td> 3.429123</td><td>  28748</td><td> 12890765324</td><td>Albanian  </td><td>Europe</td><td>2.5453218</td><td>0</td></tr>\n",
       "</tbody>\n",
       "</table>\n"
      ],
      "text/latex": [
       "A data.frame: 3 × 9\n",
       "\\begin{tabular}{r|lllllllll}\n",
       "  & country\\_iso3 & colonizer & inflation\\_rate & area & gdp\\_us\\_dollar & langoff\\_1 & continent & gdp\\_growth & landlocked\\\\\n",
       "  & <chr> & <chr> & <dbl> & <int> & <dbl> & <chr> & <chr> & <dbl> & <int>\\\\\n",
       "\\hline\n",
       "\t1 & AFG & USA  & 11.804186 &  652225 &  17804292964 & Persian    & Asia   & 0.4263548 & 1\\\\\n",
       "\t2 & AGO & PRT  & 13.482468 & 1246700 & 111789686464 & Portuguese & Africa & 3.4719763 & 0\\\\\n",
       "\t3 & ALB & NONE &  3.429123 &   28748 &  12890765324 & Albanian   & Europe & 2.5453218 & 0\\\\\n",
       "\\end{tabular}\n"
      ],
      "text/markdown": [
       "\n",
       "A data.frame: 3 × 9\n",
       "\n",
       "| <!--/--> | country_iso3 &lt;chr&gt; | colonizer &lt;chr&gt; | inflation_rate &lt;dbl&gt; | area &lt;int&gt; | gdp_us_dollar &lt;dbl&gt; | langoff_1 &lt;chr&gt; | continent &lt;chr&gt; | gdp_growth &lt;dbl&gt; | landlocked &lt;int&gt; |\n",
       "|---|---|---|---|---|---|---|---|---|---|\n",
       "| 1 | AFG | USA  | 11.804186 |  652225 |  17804292964 | Persian    | Asia   | 0.4263548 | 1 |\n",
       "| 2 | AGO | PRT  | 13.482468 | 1246700 | 111789686464 | Portuguese | Africa | 3.4719763 | 0 |\n",
       "| 3 | ALB | NONE |  3.429123 |   28748 |  12890765324 | Albanian   | Europe | 2.5453218 | 0 |\n",
       "\n"
      ],
      "text/plain": [
       "  country_iso3 colonizer inflation_rate area    gdp_us_dollar langoff_1 \n",
       "1 AFG          USA       11.804186       652225  17804292964  Persian   \n",
       "2 AGO          PRT       13.482468      1246700 111789686464  Portuguese\n",
       "3 ALB          NONE       3.429123        28748  12890765324  Albanian  \n",
       "  continent gdp_growth landlocked\n",
       "1 Asia      0.4263548  1         \n",
       "2 Africa    3.4719763  0         \n",
       "3 Europe    2.5453218  0         "
      ]
     },
     "metadata": {},
     "output_type": "display_data"
    }
   ],
   "source": [
    "head(nodes, 3)"
   ]
  },
  {
   "cell_type": "code",
   "execution_count": 16,
   "id": "broad-assignment",
   "metadata": {},
   "outputs": [
    {
     "data": {
      "text/html": [
       "<table class=\"dataframe\">\n",
       "<caption>A data.frame: 3 × 3</caption>\n",
       "<thead>\n",
       "\t<tr><th></th><th scope=col>source</th><th scope=col>target</th><th scope=col>weight</th></tr>\n",
       "\t<tr><th></th><th scope=col>&lt;chr&gt;</th><th scope=col>&lt;chr&gt;</th><th scope=col>&lt;dbl&gt;</th></tr>\n",
       "</thead>\n",
       "<tbody>\n",
       "\t<tr><th scope=row>1</th><td>AFG</td><td>TKM</td><td>0.189</td></tr>\n",
       "\t<tr><th scope=row>2</th><td>ALB</td><td>KOR</td><td>0.337</td></tr>\n",
       "\t<tr><th scope=row>3</th><td>ALB</td><td>MHL</td><td>3.309</td></tr>\n",
       "</tbody>\n",
       "</table>\n"
      ],
      "text/latex": [
       "A data.frame: 3 × 3\n",
       "\\begin{tabular}{r|lll}\n",
       "  & source & target & weight\\\\\n",
       "  & <chr> & <chr> & <dbl>\\\\\n",
       "\\hline\n",
       "\t1 & AFG & TKM & 0.189\\\\\n",
       "\t2 & ALB & KOR & 0.337\\\\\n",
       "\t3 & ALB & MHL & 3.309\\\\\n",
       "\\end{tabular}\n"
      ],
      "text/markdown": [
       "\n",
       "A data.frame: 3 × 3\n",
       "\n",
       "| <!--/--> | source &lt;chr&gt; | target &lt;chr&gt; | weight &lt;dbl&gt; |\n",
       "|---|---|---|---|\n",
       "| 1 | AFG | TKM | 0.189 |\n",
       "| 2 | ALB | KOR | 0.337 |\n",
       "| 3 | ALB | MHL | 3.309 |\n",
       "\n"
      ],
      "text/plain": [
       "  source target weight\n",
       "1 AFG    TKM    0.189 \n",
       "2 ALB    KOR    0.337 \n",
       "3 ALB    MHL    3.309 "
      ]
     },
     "metadata": {},
     "output_type": "display_data"
    }
   ],
   "source": [
    "head(edges, 3)"
   ]
  },
  {
   "cell_type": "code",
   "execution_count": 17,
   "id": "handled-there",
   "metadata": {},
   "outputs": [],
   "source": [
    "net = network(edges, directed = TRUE, matrix.type = 'edgelist')"
   ]
  },
  {
   "cell_type": "code",
   "execution_count": 18,
   "id": "statistical-skill",
   "metadata": {},
   "outputs": [
    {
     "data": {
      "text/html": [
       "<style>\n",
       ".list-inline {list-style: none; margin:0; padding: 0}\n",
       ".list-inline>li {display: inline-block}\n",
       ".list-inline>li:not(:last-child)::after {content: \"\\00b7\"; padding: 0 .5ex}\n",
       "</style>\n",
       "<ol class=list-inline><li>'AFG'</li><li>'AGO'</li><li>'ALB'</li><li>'AND'</li><li>'ARE'</li><li>'ARG'</li><li>'ARM'</li><li>'ATG'</li><li>'AUS'</li><li>'AUT'</li><li>'AZE'</li><li>'BDI'</li><li>'BEL'</li><li>'BEN'</li><li>'BFA'</li><li>'BGD'</li><li>'BGR'</li><li>'BHR'</li><li>'BHS'</li><li>'BIH'</li><li>'BLR'</li><li>'BLZ'</li><li>'BOL'</li><li>'BRA'</li><li>'BRB'</li><li>'BRN'</li><li>'BTN'</li><li>'BWA'</li><li>'CAF'</li><li>'CAN'</li><li>'CHE'</li><li>'CHL'</li><li>'CHN'</li><li>'CIV'</li><li>'CMR'</li><li>'COG'</li><li>'COL'</li><li>'COM'</li><li>'CPV'</li><li>'CRI'</li><li>'CUB'</li><li>'CYP'</li><li>'CZE'</li><li>'DEU'</li><li>'DJI'</li><li>'DMA'</li><li>'DNK'</li><li>'DOM'</li><li>'DZA'</li><li>'ECU'</li><li>'EGY'</li><li>'ERI'</li><li>'ESP'</li><li>'EST'</li><li>'ETH'</li><li>'FIN'</li><li>'FJI'</li><li>'FRA'</li><li>'FSM'</li><li>'GAB'</li><li>'GBR'</li><li>'GEO'</li><li>'GHA'</li><li>'GIN'</li><li>'GMB'</li><li>'GNB'</li><li>'GNQ'</li><li>'GRC'</li><li>'GRD'</li><li>'GTM'</li><li>'GUY'</li><li>'HND'</li><li>'HRV'</li><li>'HTI'</li><li>'HUN'</li><li>'IDN'</li><li>'IND'</li><li>'IRL'</li><li>'IRN'</li><li>'IRQ'</li><li>'ISL'</li><li>'ISR'</li><li>'ITA'</li><li>'JAM'</li><li>'JOR'</li><li>'JPN'</li><li>'KAZ'</li><li>'KEN'</li><li>'KGZ'</li><li>'KHM'</li><li>'KIR'</li><li>'KNA'</li><li>'KOR'</li><li>'KWT'</li><li>'LAO'</li><li>'LBN'</li><li>'LBR'</li><li>'LBY'</li><li>'LCA'</li><li>'LKA'</li><li>'LSO'</li><li>'LTU'</li><li>'LUX'</li><li>'LVA'</li><li>'MAR'</li><li>'MDA'</li><li>'MDG'</li><li>'MDV'</li><li>'MEX'</li><li>'MHL'</li><li>'MKD'</li><li>'MLI'</li><li>'MLT'</li><li>'MMR'</li><li>'MNG'</li><li>'MOZ'</li><li>'MRT'</li><li>'MUS'</li><li>'MWI'</li><li>'MYS'</li><li>'NAM'</li><li>'NER'</li><li>'NGA'</li><li>'NIC'</li><li>'NLD'</li><li>'NOR'</li><li>'NPL'</li><li>'NRU'</li><li>'NZL'</li><li>'OMN'</li><li>'PAK'</li><li>'PAN'</li><li>'PER'</li><li>'PHL'</li><li>'PLW'</li><li>'PNG'</li><li>'POL'</li><li>'PRK'</li><li>'PRT'</li><li>'PRY'</li><li>'QAT'</li><li>'RUS'</li><li>'RWA'</li><li>'SAU'</li><li>'SDN'</li><li>'SEN'</li><li>'SGP'</li><li>'SLB'</li><li>'SLE'</li><li>'SLV'</li><li>'SMR'</li><li>'STP'</li><li>'SUR'</li><li>'SVK'</li><li>'SVN'</li><li>'SWE'</li><li>'SWZ'</li><li>'SYC'</li><li>'SYR'</li><li>'TCD'</li><li>'TGO'</li><li>'THA'</li><li>'TJK'</li><li>'TKM'</li><li>'TON'</li><li>'TTO'</li><li>'TUN'</li><li>'TUR'</li><li>'TUV'</li><li>'TZA'</li><li>'UGA'</li><li>'UKR'</li><li>'URY'</li><li>'USA'</li><li>'UZB'</li><li>'VCT'</li><li>'VEN'</li><li>'VNM'</li><li>'VUT'</li><li>'WSM'</li><li>'YEM'</li><li>'ZAF'</li><li>'ZMB'</li><li>'ZWE'</li></ol>\n"
      ],
      "text/latex": [
       "\\begin{enumerate*}\n",
       "\\item 'AFG'\n",
       "\\item 'AGO'\n",
       "\\item 'ALB'\n",
       "\\item 'AND'\n",
       "\\item 'ARE'\n",
       "\\item 'ARG'\n",
       "\\item 'ARM'\n",
       "\\item 'ATG'\n",
       "\\item 'AUS'\n",
       "\\item 'AUT'\n",
       "\\item 'AZE'\n",
       "\\item 'BDI'\n",
       "\\item 'BEL'\n",
       "\\item 'BEN'\n",
       "\\item 'BFA'\n",
       "\\item 'BGD'\n",
       "\\item 'BGR'\n",
       "\\item 'BHR'\n",
       "\\item 'BHS'\n",
       "\\item 'BIH'\n",
       "\\item 'BLR'\n",
       "\\item 'BLZ'\n",
       "\\item 'BOL'\n",
       "\\item 'BRA'\n",
       "\\item 'BRB'\n",
       "\\item 'BRN'\n",
       "\\item 'BTN'\n",
       "\\item 'BWA'\n",
       "\\item 'CAF'\n",
       "\\item 'CAN'\n",
       "\\item 'CHE'\n",
       "\\item 'CHL'\n",
       "\\item 'CHN'\n",
       "\\item 'CIV'\n",
       "\\item 'CMR'\n",
       "\\item 'COG'\n",
       "\\item 'COL'\n",
       "\\item 'COM'\n",
       "\\item 'CPV'\n",
       "\\item 'CRI'\n",
       "\\item 'CUB'\n",
       "\\item 'CYP'\n",
       "\\item 'CZE'\n",
       "\\item 'DEU'\n",
       "\\item 'DJI'\n",
       "\\item 'DMA'\n",
       "\\item 'DNK'\n",
       "\\item 'DOM'\n",
       "\\item 'DZA'\n",
       "\\item 'ECU'\n",
       "\\item 'EGY'\n",
       "\\item 'ERI'\n",
       "\\item 'ESP'\n",
       "\\item 'EST'\n",
       "\\item 'ETH'\n",
       "\\item 'FIN'\n",
       "\\item 'FJI'\n",
       "\\item 'FRA'\n",
       "\\item 'FSM'\n",
       "\\item 'GAB'\n",
       "\\item 'GBR'\n",
       "\\item 'GEO'\n",
       "\\item 'GHA'\n",
       "\\item 'GIN'\n",
       "\\item 'GMB'\n",
       "\\item 'GNB'\n",
       "\\item 'GNQ'\n",
       "\\item 'GRC'\n",
       "\\item 'GRD'\n",
       "\\item 'GTM'\n",
       "\\item 'GUY'\n",
       "\\item 'HND'\n",
       "\\item 'HRV'\n",
       "\\item 'HTI'\n",
       "\\item 'HUN'\n",
       "\\item 'IDN'\n",
       "\\item 'IND'\n",
       "\\item 'IRL'\n",
       "\\item 'IRN'\n",
       "\\item 'IRQ'\n",
       "\\item 'ISL'\n",
       "\\item 'ISR'\n",
       "\\item 'ITA'\n",
       "\\item 'JAM'\n",
       "\\item 'JOR'\n",
       "\\item 'JPN'\n",
       "\\item 'KAZ'\n",
       "\\item 'KEN'\n",
       "\\item 'KGZ'\n",
       "\\item 'KHM'\n",
       "\\item 'KIR'\n",
       "\\item 'KNA'\n",
       "\\item 'KOR'\n",
       "\\item 'KWT'\n",
       "\\item 'LAO'\n",
       "\\item 'LBN'\n",
       "\\item 'LBR'\n",
       "\\item 'LBY'\n",
       "\\item 'LCA'\n",
       "\\item 'LKA'\n",
       "\\item 'LSO'\n",
       "\\item 'LTU'\n",
       "\\item 'LUX'\n",
       "\\item 'LVA'\n",
       "\\item 'MAR'\n",
       "\\item 'MDA'\n",
       "\\item 'MDG'\n",
       "\\item 'MDV'\n",
       "\\item 'MEX'\n",
       "\\item 'MHL'\n",
       "\\item 'MKD'\n",
       "\\item 'MLI'\n",
       "\\item 'MLT'\n",
       "\\item 'MMR'\n",
       "\\item 'MNG'\n",
       "\\item 'MOZ'\n",
       "\\item 'MRT'\n",
       "\\item 'MUS'\n",
       "\\item 'MWI'\n",
       "\\item 'MYS'\n",
       "\\item 'NAM'\n",
       "\\item 'NER'\n",
       "\\item 'NGA'\n",
       "\\item 'NIC'\n",
       "\\item 'NLD'\n",
       "\\item 'NOR'\n",
       "\\item 'NPL'\n",
       "\\item 'NRU'\n",
       "\\item 'NZL'\n",
       "\\item 'OMN'\n",
       "\\item 'PAK'\n",
       "\\item 'PAN'\n",
       "\\item 'PER'\n",
       "\\item 'PHL'\n",
       "\\item 'PLW'\n",
       "\\item 'PNG'\n",
       "\\item 'POL'\n",
       "\\item 'PRK'\n",
       "\\item 'PRT'\n",
       "\\item 'PRY'\n",
       "\\item 'QAT'\n",
       "\\item 'RUS'\n",
       "\\item 'RWA'\n",
       "\\item 'SAU'\n",
       "\\item 'SDN'\n",
       "\\item 'SEN'\n",
       "\\item 'SGP'\n",
       "\\item 'SLB'\n",
       "\\item 'SLE'\n",
       "\\item 'SLV'\n",
       "\\item 'SMR'\n",
       "\\item 'STP'\n",
       "\\item 'SUR'\n",
       "\\item 'SVK'\n",
       "\\item 'SVN'\n",
       "\\item 'SWE'\n",
       "\\item 'SWZ'\n",
       "\\item 'SYC'\n",
       "\\item 'SYR'\n",
       "\\item 'TCD'\n",
       "\\item 'TGO'\n",
       "\\item 'THA'\n",
       "\\item 'TJK'\n",
       "\\item 'TKM'\n",
       "\\item 'TON'\n",
       "\\item 'TTO'\n",
       "\\item 'TUN'\n",
       "\\item 'TUR'\n",
       "\\item 'TUV'\n",
       "\\item 'TZA'\n",
       "\\item 'UGA'\n",
       "\\item 'UKR'\n",
       "\\item 'URY'\n",
       "\\item 'USA'\n",
       "\\item 'UZB'\n",
       "\\item 'VCT'\n",
       "\\item 'VEN'\n",
       "\\item 'VNM'\n",
       "\\item 'VUT'\n",
       "\\item 'WSM'\n",
       "\\item 'YEM'\n",
       "\\item 'ZAF'\n",
       "\\item 'ZMB'\n",
       "\\item 'ZWE'\n",
       "\\end{enumerate*}\n"
      ],
      "text/markdown": [
       "1. 'AFG'\n",
       "2. 'AGO'\n",
       "3. 'ALB'\n",
       "4. 'AND'\n",
       "5. 'ARE'\n",
       "6. 'ARG'\n",
       "7. 'ARM'\n",
       "8. 'ATG'\n",
       "9. 'AUS'\n",
       "10. 'AUT'\n",
       "11. 'AZE'\n",
       "12. 'BDI'\n",
       "13. 'BEL'\n",
       "14. 'BEN'\n",
       "15. 'BFA'\n",
       "16. 'BGD'\n",
       "17. 'BGR'\n",
       "18. 'BHR'\n",
       "19. 'BHS'\n",
       "20. 'BIH'\n",
       "21. 'BLR'\n",
       "22. 'BLZ'\n",
       "23. 'BOL'\n",
       "24. 'BRA'\n",
       "25. 'BRB'\n",
       "26. 'BRN'\n",
       "27. 'BTN'\n",
       "28. 'BWA'\n",
       "29. 'CAF'\n",
       "30. 'CAN'\n",
       "31. 'CHE'\n",
       "32. 'CHL'\n",
       "33. 'CHN'\n",
       "34. 'CIV'\n",
       "35. 'CMR'\n",
       "36. 'COG'\n",
       "37. 'COL'\n",
       "38. 'COM'\n",
       "39. 'CPV'\n",
       "40. 'CRI'\n",
       "41. 'CUB'\n",
       "42. 'CYP'\n",
       "43. 'CZE'\n",
       "44. 'DEU'\n",
       "45. 'DJI'\n",
       "46. 'DMA'\n",
       "47. 'DNK'\n",
       "48. 'DOM'\n",
       "49. 'DZA'\n",
       "50. 'ECU'\n",
       "51. 'EGY'\n",
       "52. 'ERI'\n",
       "53. 'ESP'\n",
       "54. 'EST'\n",
       "55. 'ETH'\n",
       "56. 'FIN'\n",
       "57. 'FJI'\n",
       "58. 'FRA'\n",
       "59. 'FSM'\n",
       "60. 'GAB'\n",
       "61. 'GBR'\n",
       "62. 'GEO'\n",
       "63. 'GHA'\n",
       "64. 'GIN'\n",
       "65. 'GMB'\n",
       "66. 'GNB'\n",
       "67. 'GNQ'\n",
       "68. 'GRC'\n",
       "69. 'GRD'\n",
       "70. 'GTM'\n",
       "71. 'GUY'\n",
       "72. 'HND'\n",
       "73. 'HRV'\n",
       "74. 'HTI'\n",
       "75. 'HUN'\n",
       "76. 'IDN'\n",
       "77. 'IND'\n",
       "78. 'IRL'\n",
       "79. 'IRN'\n",
       "80. 'IRQ'\n",
       "81. 'ISL'\n",
       "82. 'ISR'\n",
       "83. 'ITA'\n",
       "84. 'JAM'\n",
       "85. 'JOR'\n",
       "86. 'JPN'\n",
       "87. 'KAZ'\n",
       "88. 'KEN'\n",
       "89. 'KGZ'\n",
       "90. 'KHM'\n",
       "91. 'KIR'\n",
       "92. 'KNA'\n",
       "93. 'KOR'\n",
       "94. 'KWT'\n",
       "95. 'LAO'\n",
       "96. 'LBN'\n",
       "97. 'LBR'\n",
       "98. 'LBY'\n",
       "99. 'LCA'\n",
       "100. 'LKA'\n",
       "101. 'LSO'\n",
       "102. 'LTU'\n",
       "103. 'LUX'\n",
       "104. 'LVA'\n",
       "105. 'MAR'\n",
       "106. 'MDA'\n",
       "107. 'MDG'\n",
       "108. 'MDV'\n",
       "109. 'MEX'\n",
       "110. 'MHL'\n",
       "111. 'MKD'\n",
       "112. 'MLI'\n",
       "113. 'MLT'\n",
       "114. 'MMR'\n",
       "115. 'MNG'\n",
       "116. 'MOZ'\n",
       "117. 'MRT'\n",
       "118. 'MUS'\n",
       "119. 'MWI'\n",
       "120. 'MYS'\n",
       "121. 'NAM'\n",
       "122. 'NER'\n",
       "123. 'NGA'\n",
       "124. 'NIC'\n",
       "125. 'NLD'\n",
       "126. 'NOR'\n",
       "127. 'NPL'\n",
       "128. 'NRU'\n",
       "129. 'NZL'\n",
       "130. 'OMN'\n",
       "131. 'PAK'\n",
       "132. 'PAN'\n",
       "133. 'PER'\n",
       "134. 'PHL'\n",
       "135. 'PLW'\n",
       "136. 'PNG'\n",
       "137. 'POL'\n",
       "138. 'PRK'\n",
       "139. 'PRT'\n",
       "140. 'PRY'\n",
       "141. 'QAT'\n",
       "142. 'RUS'\n",
       "143. 'RWA'\n",
       "144. 'SAU'\n",
       "145. 'SDN'\n",
       "146. 'SEN'\n",
       "147. 'SGP'\n",
       "148. 'SLB'\n",
       "149. 'SLE'\n",
       "150. 'SLV'\n",
       "151. 'SMR'\n",
       "152. 'STP'\n",
       "153. 'SUR'\n",
       "154. 'SVK'\n",
       "155. 'SVN'\n",
       "156. 'SWE'\n",
       "157. 'SWZ'\n",
       "158. 'SYC'\n",
       "159. 'SYR'\n",
       "160. 'TCD'\n",
       "161. 'TGO'\n",
       "162. 'THA'\n",
       "163. 'TJK'\n",
       "164. 'TKM'\n",
       "165. 'TON'\n",
       "166. 'TTO'\n",
       "167. 'TUN'\n",
       "168. 'TUR'\n",
       "169. 'TUV'\n",
       "170. 'TZA'\n",
       "171. 'UGA'\n",
       "172. 'UKR'\n",
       "173. 'URY'\n",
       "174. 'USA'\n",
       "175. 'UZB'\n",
       "176. 'VCT'\n",
       "177. 'VEN'\n",
       "178. 'VNM'\n",
       "179. 'VUT'\n",
       "180. 'WSM'\n",
       "181. 'YEM'\n",
       "182. 'ZAF'\n",
       "183. 'ZMB'\n",
       "184. 'ZWE'\n",
       "\n",
       "\n"
      ],
      "text/plain": [
       "  [1] \"AFG\" \"AGO\" \"ALB\" \"AND\" \"ARE\" \"ARG\" \"ARM\" \"ATG\" \"AUS\" \"AUT\" \"AZE\" \"BDI\"\n",
       " [13] \"BEL\" \"BEN\" \"BFA\" \"BGD\" \"BGR\" \"BHR\" \"BHS\" \"BIH\" \"BLR\" \"BLZ\" \"BOL\" \"BRA\"\n",
       " [25] \"BRB\" \"BRN\" \"BTN\" \"BWA\" \"CAF\" \"CAN\" \"CHE\" \"CHL\" \"CHN\" \"CIV\" \"CMR\" \"COG\"\n",
       " [37] \"COL\" \"COM\" \"CPV\" \"CRI\" \"CUB\" \"CYP\" \"CZE\" \"DEU\" \"DJI\" \"DMA\" \"DNK\" \"DOM\"\n",
       " [49] \"DZA\" \"ECU\" \"EGY\" \"ERI\" \"ESP\" \"EST\" \"ETH\" \"FIN\" \"FJI\" \"FRA\" \"FSM\" \"GAB\"\n",
       " [61] \"GBR\" \"GEO\" \"GHA\" \"GIN\" \"GMB\" \"GNB\" \"GNQ\" \"GRC\" \"GRD\" \"GTM\" \"GUY\" \"HND\"\n",
       " [73] \"HRV\" \"HTI\" \"HUN\" \"IDN\" \"IND\" \"IRL\" \"IRN\" \"IRQ\" \"ISL\" \"ISR\" \"ITA\" \"JAM\"\n",
       " [85] \"JOR\" \"JPN\" \"KAZ\" \"KEN\" \"KGZ\" \"KHM\" \"KIR\" \"KNA\" \"KOR\" \"KWT\" \"LAO\" \"LBN\"\n",
       " [97] \"LBR\" \"LBY\" \"LCA\" \"LKA\" \"LSO\" \"LTU\" \"LUX\" \"LVA\" \"MAR\" \"MDA\" \"MDG\" \"MDV\"\n",
       "[109] \"MEX\" \"MHL\" \"MKD\" \"MLI\" \"MLT\" \"MMR\" \"MNG\" \"MOZ\" \"MRT\" \"MUS\" \"MWI\" \"MYS\"\n",
       "[121] \"NAM\" \"NER\" \"NGA\" \"NIC\" \"NLD\" \"NOR\" \"NPL\" \"NRU\" \"NZL\" \"OMN\" \"PAK\" \"PAN\"\n",
       "[133] \"PER\" \"PHL\" \"PLW\" \"PNG\" \"POL\" \"PRK\" \"PRT\" \"PRY\" \"QAT\" \"RUS\" \"RWA\" \"SAU\"\n",
       "[145] \"SDN\" \"SEN\" \"SGP\" \"SLB\" \"SLE\" \"SLV\" \"SMR\" \"STP\" \"SUR\" \"SVK\" \"SVN\" \"SWE\"\n",
       "[157] \"SWZ\" \"SYC\" \"SYR\" \"TCD\" \"TGO\" \"THA\" \"TJK\" \"TKM\" \"TON\" \"TTO\" \"TUN\" \"TUR\"\n",
       "[169] \"TUV\" \"TZA\" \"UGA\" \"UKR\" \"URY\" \"USA\" \"UZB\" \"VCT\" \"VEN\" \"VNM\" \"VUT\" \"WSM\"\n",
       "[181] \"YEM\" \"ZAF\" \"ZMB\" \"ZWE\""
      ]
     },
     "metadata": {},
     "output_type": "display_data"
    }
   ],
   "source": [
    "get.vertex.attribute(net, 'vertex.names')"
   ]
  },
  {
   "cell_type": "code",
   "execution_count": 19,
   "id": "aerial-rescue",
   "metadata": {},
   "outputs": [],
   "source": [
    "set.vertex.attribute(x = net, attrname = colnames(nodes), value = nodes)"
   ]
  },
  {
   "cell_type": "code",
   "execution_count": 20,
   "id": "peaceful-malawi",
   "metadata": {},
   "outputs": [
    {
     "data": {
      "text/plain": [
       " Network attributes:\n",
       "  vertices = 184 \n",
       "  directed = TRUE \n",
       "  hyper = FALSE \n",
       "  loops = FALSE \n",
       "  multiple = FALSE \n",
       "  bipartite = FALSE \n",
       "  total edges= 3774 \n",
       "    missing edges= 0 \n",
       "    non-missing edges= 3774 \n",
       "\n",
       " Vertex attribute names: \n",
       "    area colonizer continent country_iso3 gdp_growth gdp_us_dollar inflation_rate landlocked langoff_1 vertex.names \n",
       "\n",
       " Edge attribute names not shown "
      ]
     },
     "metadata": {},
     "output_type": "display_data"
    }
   ],
   "source": [
    "net"
   ]
  },
  {
   "cell_type": "code",
   "execution_count": 21,
   "id": "useful-active",
   "metadata": {},
   "outputs": [],
   "source": [
    "library('tidyverse')"
   ]
  },
  {
   "cell_type": "code",
   "execution_count": 54,
   "id": "later-wilderness",
   "metadata": {},
   "outputs": [],
   "source": [
    "countries_export_import = data.frame(\n",
    "    country = c(nodes$country_iso3), \n",
    "    exports = matrix(0, nrow =184 , ncol = 1),\n",
    "    imports = matrix(0, nrow =184 , ncol = 1)\n",
    ")"
   ]
  },
  {
   "cell_type": "code",
   "execution_count": 84,
   "id": "curious-seminar",
   "metadata": {},
   "outputs": [],
   "source": [
    "for (i in 1:length(nodes$country_iso3)) {\n",
    "    countries_export_import[i, 2:3] = c(\n",
    "        sum(edges$weight[edges$source == countries_export_import$country[i]]), \n",
    "        sum(edges$weight[edges$target == countries_export_import$country[i]])\n",
    "    )\n",
    "}"
   ]
  },
  {
   "cell_type": "code",
   "execution_count": 88,
   "id": "thorough-thirty",
   "metadata": {},
   "outputs": [
    {
     "data": {
      "text/html": [
       "<table class=\"dataframe\">\n",
       "<caption>A data.frame: 3 × 3</caption>\n",
       "<thead>\n",
       "\t<tr><th></th><th scope=col>country</th><th scope=col>exports</th><th scope=col>imports</th></tr>\n",
       "\t<tr><th></th><th scope=col>&lt;chr&gt;</th><th scope=col>&lt;dbl&gt;</th><th scope=col>&lt;dbl&gt;</th></tr>\n",
       "</thead>\n",
       "<tbody>\n",
       "\t<tr><th scope=row>1</th><td>AFG</td><td>  0.189</td><td>1075.7546</td></tr>\n",
       "\t<tr><th scope=row>2</th><td>AGO</td><td>  0.000</td><td> 470.5505</td></tr>\n",
       "\t<tr><th scope=row>3</th><td>ALB</td><td>132.405</td><td>6754.6675</td></tr>\n",
       "</tbody>\n",
       "</table>\n"
      ],
      "text/latex": [
       "A data.frame: 3 × 3\n",
       "\\begin{tabular}{r|lll}\n",
       "  & country & exports & imports\\\\\n",
       "  & <chr> & <dbl> & <dbl>\\\\\n",
       "\\hline\n",
       "\t1 & AFG &   0.189 & 1075.7546\\\\\n",
       "\t2 & AGO &   0.000 &  470.5505\\\\\n",
       "\t3 & ALB & 132.405 & 6754.6675\\\\\n",
       "\\end{tabular}\n"
      ],
      "text/markdown": [
       "\n",
       "A data.frame: 3 × 3\n",
       "\n",
       "| <!--/--> | country &lt;chr&gt; | exports &lt;dbl&gt; | imports &lt;dbl&gt; |\n",
       "|---|---|---|---|\n",
       "| 1 | AFG |   0.189 | 1075.7546 |\n",
       "| 2 | AGO |   0.000 |  470.5505 |\n",
       "| 3 | ALB | 132.405 | 6754.6675 |\n",
       "\n"
      ],
      "text/plain": [
       "  country exports imports  \n",
       "1 AFG       0.189 1075.7546\n",
       "2 AGO       0.000  470.5505\n",
       "3 ALB     132.405 6754.6675"
      ]
     },
     "metadata": {},
     "output_type": "display_data"
    }
   ],
   "source": [
    "head(countries_export_import, 3)"
   ]
  },
  {
   "cell_type": "code",
   "execution_count": 89,
   "id": "recovered-victoria",
   "metadata": {},
   "outputs": [
    {
     "data": {
      "text/html": [
       "<style>\n",
       ".list-inline {list-style: none; margin:0; padding: 0}\n",
       ".list-inline>li {display: inline-block}\n",
       ".list-inline>li:not(:last-child)::after {content: \"\\00b7\"; padding: 0 .5ex}\n",
       "</style>\n",
       "<ol class=list-inline><li>184</li><li>3</li></ol>\n"
      ],
      "text/latex": [
       "\\begin{enumerate*}\n",
       "\\item 184\n",
       "\\item 3\n",
       "\\end{enumerate*}\n"
      ],
      "text/markdown": [
       "1. 184\n",
       "2. 3\n",
       "\n",
       "\n"
      ],
      "text/plain": [
       "[1] 184   3"
      ]
     },
     "metadata": {},
     "output_type": "display_data"
    }
   ],
   "source": [
    "dim(countries_export_import)"
   ]
  },
  {
   "cell_type": "code",
   "execution_count": 92,
   "id": "homeless-herald",
   "metadata": {},
   "outputs": [],
   "source": [
    "nodes$exports = countries_export_import$exports\n",
    "nodes$imports = countries_export_import$imports"
   ]
  },
  {
   "cell_type": "code",
   "execution_count": 97,
   "id": "hundred-spouse",
   "metadata": {},
   "outputs": [],
   "source": [
    "nodes = subset(nodes, select = -c(export))"
   ]
  },
  {
   "cell_type": "code",
   "execution_count": 102,
   "id": "therapeutic-local",
   "metadata": {},
   "outputs": [
    {
     "data": {
      "text/html": [
       "<table class=\"dataframe\">\n",
       "<caption>A data.frame: 3 × 11</caption>\n",
       "<thead>\n",
       "\t<tr><th></th><th scope=col>country_iso3</th><th scope=col>colonizer</th><th scope=col>inflation_rate</th><th scope=col>area</th><th scope=col>gdp_us_dollar</th><th scope=col>langoff_1</th><th scope=col>continent</th><th scope=col>gdp_growth</th><th scope=col>landlocked</th><th scope=col>exports</th><th scope=col>imports</th></tr>\n",
       "\t<tr><th></th><th scope=col>&lt;chr&gt;</th><th scope=col>&lt;chr&gt;</th><th scope=col>&lt;dbl&gt;</th><th scope=col>&lt;int&gt;</th><th scope=col>&lt;dbl&gt;</th><th scope=col>&lt;chr&gt;</th><th scope=col>&lt;chr&gt;</th><th scope=col>&lt;dbl&gt;</th><th scope=col>&lt;int&gt;</th><th scope=col>&lt;dbl&gt;</th><th scope=col>&lt;dbl&gt;</th></tr>\n",
       "</thead>\n",
       "<tbody>\n",
       "\t<tr><th scope=row>1</th><td>AFG</td><td>USA </td><td>11.804186</td><td> 652225</td><td> 17804292964</td><td>Persian   </td><td>Asia  </td><td>0.4263548</td><td>1</td><td>  0.189</td><td>1075.7546</td></tr>\n",
       "\t<tr><th scope=row>2</th><td>AGO</td><td>PRT </td><td>13.482468</td><td>1246700</td><td>111789686464</td><td>Portuguese</td><td>Africa</td><td>3.4719763</td><td>0</td><td>  0.000</td><td> 470.5505</td></tr>\n",
       "\t<tr><th scope=row>3</th><td>ALB</td><td>NONE</td><td> 3.429123</td><td>  28748</td><td> 12890765324</td><td>Albanian  </td><td>Europe</td><td>2.5453218</td><td>0</td><td>132.405</td><td>6754.6675</td></tr>\n",
       "</tbody>\n",
       "</table>\n"
      ],
      "text/latex": [
       "A data.frame: 3 × 11\n",
       "\\begin{tabular}{r|lllllllllll}\n",
       "  & country\\_iso3 & colonizer & inflation\\_rate & area & gdp\\_us\\_dollar & langoff\\_1 & continent & gdp\\_growth & landlocked & exports & imports\\\\\n",
       "  & <chr> & <chr> & <dbl> & <int> & <dbl> & <chr> & <chr> & <dbl> & <int> & <dbl> & <dbl>\\\\\n",
       "\\hline\n",
       "\t1 & AFG & USA  & 11.804186 &  652225 &  17804292964 & Persian    & Asia   & 0.4263548 & 1 &   0.189 & 1075.7546\\\\\n",
       "\t2 & AGO & PRT  & 13.482468 & 1246700 & 111789686464 & Portuguese & Africa & 3.4719763 & 0 &   0.000 &  470.5505\\\\\n",
       "\t3 & ALB & NONE &  3.429123 &   28748 &  12890765324 & Albanian   & Europe & 2.5453218 & 0 & 132.405 & 6754.6675\\\\\n",
       "\\end{tabular}\n"
      ],
      "text/markdown": [
       "\n",
       "A data.frame: 3 × 11\n",
       "\n",
       "| <!--/--> | country_iso3 &lt;chr&gt; | colonizer &lt;chr&gt; | inflation_rate &lt;dbl&gt; | area &lt;int&gt; | gdp_us_dollar &lt;dbl&gt; | langoff_1 &lt;chr&gt; | continent &lt;chr&gt; | gdp_growth &lt;dbl&gt; | landlocked &lt;int&gt; | exports &lt;dbl&gt; | imports &lt;dbl&gt; |\n",
       "|---|---|---|---|---|---|---|---|---|---|---|---|\n",
       "| 1 | AFG | USA  | 11.804186 |  652225 |  17804292964 | Persian    | Asia   | 0.4263548 | 1 |   0.189 | 1075.7546 |\n",
       "| 2 | AGO | PRT  | 13.482468 | 1246700 | 111789686464 | Portuguese | Africa | 3.4719763 | 0 |   0.000 |  470.5505 |\n",
       "| 3 | ALB | NONE |  3.429123 |   28748 |  12890765324 | Albanian   | Europe | 2.5453218 | 0 | 132.405 | 6754.6675 |\n",
       "\n"
      ],
      "text/plain": [
       "  country_iso3 colonizer inflation_rate area    gdp_us_dollar langoff_1 \n",
       "1 AFG          USA       11.804186       652225  17804292964  Persian   \n",
       "2 AGO          PRT       13.482468      1246700 111789686464  Portuguese\n",
       "3 ALB          NONE       3.429123        28748  12890765324  Albanian  \n",
       "  continent gdp_growth landlocked exports imports  \n",
       "1 Asia      0.4263548  1            0.189 1075.7546\n",
       "2 Africa    3.4719763  0            0.000  470.5505\n",
       "3 Europe    2.5453218  0          132.405 6754.6675"
      ]
     },
     "metadata": {},
     "output_type": "display_data"
    }
   ],
   "source": [
    "head(nodes, 3)"
   ]
  },
  {
   "cell_type": "markdown",
   "id": "afraid-radio",
   "metadata": {},
   "source": [
    "### Checking the effect colonization"
   ]
  },
  {
   "cell_type": "code",
   "execution_count": 108,
   "id": "elegant-turtle",
   "metadata": {},
   "outputs": [],
   "source": [
    "observed_statistic1 = sum(nodes$exports[nodes$colonizer == 'GBR'])\n",
    "observed_statistic2 = sum(nodes$imports[nodes$colonizer == 'GBR'])"
   ]
  },
  {
   "cell_type": "code",
   "execution_count": 112,
   "id": "religious-arena",
   "metadata": {},
   "outputs": [],
   "source": [
    "N = 100000\n",
    "n = dim(nodes)[1]"
   ]
  },
  {
   "cell_type": "code",
   "execution_count": 113,
   "id": "neither-universe",
   "metadata": {},
   "outputs": [],
   "source": [
    "permutation_matrix = matrix(0, nrow = n, ncol = N)\n",
    "for (i in 1:N) {\n",
    "    permutation_matrix[, i] = sample(nodes$colonizer, size = n, replace = F)\n",
    "}"
   ]
  },
  {
   "cell_type": "code",
   "execution_count": 120,
   "id": "naked-addiction",
   "metadata": {},
   "outputs": [],
   "source": [
    "permutation_statistics1 = matrix(0, nrow=N, ncol=1)\n",
    "permutation_statistics2 = matrix(0, nrow=N, ncol=1)\n",
    "for (i in 1:N) {\n",
    "    permutation_statistics1[i,] = sum(nodes$exports[permutation_matrix[,i] == 'GBR'])\n",
    "    permutation_statistics2[i,] = sum(nodes$imports[permutation_matrix[,i] == 'GBR'])\n",
    "}"
   ]
  },
  {
   "cell_type": "code",
   "execution_count": 122,
   "id": "static-plastic",
   "metadata": {},
   "outputs": [
    {
     "data": {
      "image/png": "[encoded data removed]",
      "text/plain": [
       "Plot with title \"Histogram of permutation_statistics1\""
      ]
     },
     "metadata": {
      "image/png": {
       "height": 420,
       "width": 420
      }
     },
     "output_type": "display_data"
    }
   ],
   "source": [
    "par(bg = 'white')\n",
    "hist(permutation_statistics1)\n",
    "abline(v=observed_statistic1, col='red')"
   ]
  },
  {
   "cell_type": "code",
   "execution_count": 123,
   "id": "crazy-metallic",
   "metadata": {},
   "outputs": [
    {
     "data": {
      "text/html": [
       "0.07565"
      ],
      "text/latex": [
       "0.07565"
      ],
      "text/markdown": [
       "0.07565"
      ],
      "text/plain": [
       "[1] 0.07565"
      ]
     },
     "metadata": {},
     "output_type": "display_data"
    }
   ],
   "source": [
    "mean(permutation_statistics1 < observed_statistic1)"
   ]
  },
  {
   "cell_type": "code",
   "execution_count": 124,
   "id": "hispanic-inflation",
   "metadata": {},
   "outputs": [
    {
     "data": {
      "image/png": "[encoded data removed]",
      "text/plain": [
       "Plot with title \"Histogram of permutation_statistics2\""
      ]
     },
     "metadata": {
      "image/png": {
       "height": 420,
       "width": 420
      }
     },
     "output_type": "display_data"
    }
   ],
   "source": [
    "par(bg = 'white')\n",
    "hist(permutation_statistics2)\n",
    "abline(v=observed_statistic2, col='red')"
   ]
  },
  {
   "cell_type": "code",
   "execution_count": 125,
   "id": "demonstrated-implementation",
   "metadata": {},
   "outputs": [
    {
     "data": {
      "text/html": [
       "0.61579"
      ],
      "text/latex": [
       "0.61579"
      ],
      "text/markdown": [
       "0.61579"
      ],
      "text/plain": [
       "[1] 0.61579"
      ]
     },
     "metadata": {},
     "output_type": "display_data"
    }
   ],
   "source": [
    "mean(permutation_statistics2 < observed_statistic2)"
   ]
  },
  {
   "cell_type": "markdown",
   "id": "floppy-kuwait",
   "metadata": {},
   "source": [
    "### Examining the effect of distance on the export network"
   ]
  },
  {
   "cell_type": "code",
   "execution_count": 128,
   "id": "recognized-edwards",
   "metadata": {},
   "outputs": [],
   "source": [
    "distance_data = read.csv('../datasets/wits/dist.csv')"
   ]
  },
  {
   "cell_type": "code",
   "execution_count": 130,
   "id": "adopted-portsmouth",
   "metadata": {},
   "outputs": [
    {
     "data": {
      "text/html": [
       "<table class=\"dataframe\">\n",
       "<caption>A data.frame: 3 × 3</caption>\n",
       "<thead>\n",
       "\t<tr><th></th><th scope=col>source</th><th scope=col>target</th><th scope=col>dist</th></tr>\n",
       "\t<tr><th></th><th scope=col>&lt;chr&gt;</th><th scope=col>&lt;chr&gt;</th><th scope=col>&lt;dbl&gt;</th></tr>\n",
       "</thead>\n",
       "<tbody>\n",
       "\t<tr><th scope=row>1</th><td>AFG</td><td>AFG</td><td> 303.7614</td></tr>\n",
       "\t<tr><th scope=row>2</th><td>AFG</td><td>AGO</td><td>7607.8000</td></tr>\n",
       "\t<tr><th scope=row>3</th><td>AFG</td><td>ALB</td><td>4342.1170</td></tr>\n",
       "</tbody>\n",
       "</table>\n"
      ],
      "text/latex": [
       "A data.frame: 3 × 3\n",
       "\\begin{tabular}{r|lll}\n",
       "  & source & target & dist\\\\\n",
       "  & <chr> & <chr> & <dbl>\\\\\n",
       "\\hline\n",
       "\t1 & AFG & AFG &  303.7614\\\\\n",
       "\t2 & AFG & AGO & 7607.8000\\\\\n",
       "\t3 & AFG & ALB & 4342.1170\\\\\n",
       "\\end{tabular}\n"
      ],
      "text/markdown": [
       "\n",
       "A data.frame: 3 × 3\n",
       "\n",
       "| <!--/--> | source &lt;chr&gt; | target &lt;chr&gt; | dist &lt;dbl&gt; |\n",
       "|---|---|---|---|\n",
       "| 1 | AFG | AFG |  303.7614 |\n",
       "| 2 | AFG | AGO | 7607.8000 |\n",
       "| 3 | AFG | ALB | 4342.1170 |\n",
       "\n"
      ],
      "text/plain": [
       "  source target dist     \n",
       "1 AFG    AFG     303.7614\n",
       "2 AFG    AGO    7607.8000\n",
       "3 AFG    ALB    4342.1170"
      ]
     },
     "metadata": {},
     "output_type": "display_data"
    }
   ],
   "source": [
    "head(distance_data, 3)"
   ]
  },
  {
   "cell_type": "code",
   "execution_count": 142,
   "id": "helpful-housing",
   "metadata": {},
   "outputs": [
    {
     "data": {
      "text/html": [
       "<table class=\"dataframe\">\n",
       "<caption>A data.frame: 3 × 3</caption>\n",
       "<thead>\n",
       "\t<tr><th></th><th scope=col>source</th><th scope=col>target</th><th scope=col>weight</th></tr>\n",
       "\t<tr><th></th><th scope=col>&lt;chr&gt;</th><th scope=col>&lt;chr&gt;</th><th scope=col>&lt;dbl&gt;</th></tr>\n",
       "</thead>\n",
       "<tbody>\n",
       "\t<tr><th scope=row>1</th><td>AFG</td><td>TKM</td><td>0.189</td></tr>\n",
       "\t<tr><th scope=row>2</th><td>ALB</td><td>KOR</td><td>0.337</td></tr>\n",
       "\t<tr><th scope=row>3</th><td>ALB</td><td>MHL</td><td>3.309</td></tr>\n",
       "</tbody>\n",
       "</table>\n"
      ],
      "text/latex": [
       "A data.frame: 3 × 3\n",
       "\\begin{tabular}{r|lll}\n",
       "  & source & target & weight\\\\\n",
       "  & <chr> & <chr> & <dbl>\\\\\n",
       "\\hline\n",
       "\t1 & AFG & TKM & 0.189\\\\\n",
       "\t2 & ALB & KOR & 0.337\\\\\n",
       "\t3 & ALB & MHL & 3.309\\\\\n",
       "\\end{tabular}\n"
      ],
      "text/markdown": [
       "\n",
       "A data.frame: 3 × 3\n",
       "\n",
       "| <!--/--> | source &lt;chr&gt; | target &lt;chr&gt; | weight &lt;dbl&gt; |\n",
       "|---|---|---|---|\n",
       "| 1 | AFG | TKM | 0.189 |\n",
       "| 2 | ALB | KOR | 0.337 |\n",
       "| 3 | ALB | MHL | 3.309 |\n",
       "\n"
      ],
      "text/plain": [
       "  source target weight\n",
       "1 AFG    TKM    0.189 \n",
       "2 ALB    KOR    0.337 \n",
       "3 ALB    MHL    3.309 "
      ]
     },
     "metadata": {},
     "output_type": "display_data"
    }
   ],
   "source": [
    "head(edges, 3)"
   ]
  },
  {
   "cell_type": "code",
   "execution_count": 173,
   "id": "latest-eclipse",
   "metadata": {},
   "outputs": [],
   "source": [
    "n = dim(nodes)[1]\n",
    "country_names = nodes$country_iso3"
   ]
  },
  {
   "cell_type": "code",
   "execution_count": 174,
   "id": "super-muscle",
   "metadata": {},
   "outputs": [],
   "source": [
    "adj_matrix = matrix(0, nrow = n, ncol = n)"
   ]
  },
  {
   "cell_type": "code",
   "execution_count": 175,
   "id": "particular-nightlife",
   "metadata": {},
   "outputs": [],
   "source": [
    "for (i in 1:n) {\n",
    "    for (j in i:n) {\n",
    "        if (sum(edges$source == country_names[i] & edges$target == country_names[j]) > 0) {\n",
    "            adj_matrix[i, j] = edges$weight[edges$source == country_names[i] & edges$target == country_names[j]]\n",
    "        }\n",
    "    }\n",
    "}"
   ]
  },
  {
   "cell_type": "code",
   "execution_count": 176,
   "id": "comfortable-prediction",
   "metadata": {},
   "outputs": [],
   "source": [
    "diag(adj_matrix) = 0"
   ]
  },
  {
   "cell_type": "code",
   "execution_count": 177,
   "id": "passing-collapse",
   "metadata": {},
   "outputs": [],
   "source": [
    "dist_matrix = matrix(0, nrow = n, ncol = n)"
   ]
  },
  {
   "cell_type": "code",
   "execution_count": 178,
   "id": "public-treasurer",
   "metadata": {},
   "outputs": [],
   "source": [
    "for (i in 1:n) {\n",
    "    for (j in i:n) {\n",
    "        if (sum(distance_data$source == country_names[i] & distance_data$target == country_names[j]) > 0) {\n",
    "            dist_matrix[i, j] = distance_data$dist[distance_data$source == country_names[i] & distance_data$target == country_names[j]]\n",
    "        }\n",
    "    }\n",
    "}"
   ]
  },
  {
   "cell_type": "code",
   "execution_count": 180,
   "id": "comparable-freight",
   "metadata": {},
   "outputs": [],
   "source": [
    "diag(dist_matrix) = 0"
   ]
  },
  {
   "cell_type": "code",
   "execution_count": 190,
   "id": "settled-mapping",
   "metadata": {},
   "outputs": [
    {
     "data": {
      "text/html": [
       "<table class=\"dataframe\">\n",
       "<caption>A matrix: 184 × 184 of type dbl</caption>\n",
       "<tbody>\n",
       "\t<tr><td>0</td><td>7607.8</td><td>4342.117</td><td>5806.359</td><td>1813.615</td><td>15298.50</td><td> 2266.150</td><td>12297.090</td><td>11433.49</td><td> 4568.0980</td><td>⋯</td><td>  751.2709</td><td>12577.8200</td><td>13208.5700</td><td> 3884.103</td><td>11938.980</td><td>12020.440</td><td> 3279.877</td><td> 9273.133</td><td> 7048.760</td><td> 7088.1890</td></tr>\n",
       "\t<tr><td>0</td><td>   0.0</td><td>5623.827</td><td>5837.088</td><td>5805.255</td><td> 7792.03</td><td> 6331.346</td><td> 8746.965</td><td>13528.20</td><td> 6357.0170</td><td>⋯</td><td> 7977.3750</td><td> 8587.4110</td><td> 9137.9240</td><td>10637.650</td><td>15999.400</td><td>16571.790</td><td> 4352.742</td><td> 2844.230</td><td> 1791.822</td><td> 2170.0120</td></tr>\n",
       "\t<tr><td>0</td><td>   0.0</td><td>   0.000</td><td>1519.551</td><td>3702.809</td><td>11632.19</td><td> 2077.855</td><td> 8082.156</td><td>15722.44</td><td>  812.9326</td><td>⋯</td><td> 4072.6980</td><td> 8309.6290</td><td> 8971.8850</td><td> 8172.986</td><td>16048.520</td><td>15940.780</td><td> 3720.742</td><td> 8378.260</td><td> 6381.482</td><td> 6686.4290</td></tr>\n",
       "\t<tr><td>0</td><td>   0.0</td><td>   0.000</td><td>   0.000</td><td>5209.695</td><td>10534.54</td><td> 3563.803</td><td> 6565.212</td><td>17230.53</td><td> 1322.2010</td><td>⋯</td><td> 5456.4360</td><td> 6801.5780</td><td> 7458.7620</td><td> 9560.423</td><td>17008.950</td><td>16704.830</td><td> 5058.757</td><td> 8681.076</td><td> 7009.829</td><td> 7367.2050</td></tr>\n",
       "\t<tr><td>0</td><td>   0.0</td><td>   0.000</td><td>   0.000</td><td>   0.000</td><td>13557.20</td><td> 1979.161</td><td>11712.020</td><td>12092.16</td><td> 4245.8420</td><td>⋯</td><td> 2318.6840</td><td>11886.6600</td><td>12567.7500</td><td> 5265.521</td><td>13189.540</td><td>13390.290</td><td> 1466.264</td><td> 7530.202</td><td> 5274.503</td><td> 5347.1860</td></tr>\n",
       "\t<tr><td>0</td><td>   0.0</td><td>   0.000</td><td>   0.000</td><td>   0.000</td><td>    0.00</td><td>13417.640</td><td> 5776.082</td><td>11801.36</td><td>11833.7600</td><td>⋯</td><td>15457.4500</td><td> 5335.3510</td><td> 5114.3140</td><td>17877.150</td><td>12384.600</td><td>12468.650</td><td>12133.340</td><td> 6886.516</td><td> 8756.319</td><td> 8860.5500</td></tr>\n",
       "\t<tr><td>0</td><td>   0.0</td><td>   0.000</td><td>   0.000</td><td>   0.000</td><td>    0.00</td><td>    0.000</td><td>10114.070</td><td>13666.90</td><td> 2399.4320</td><td>⋯</td><td> 2081.2500</td><td>10363.6800</td><td>11015.2800</td><td> 6124.733</td><td>14132.310</td><td>14144.440</td><td> 2758.486</td><td> 8671.851</td><td> 6417.901</td><td> 6606.1000</td></tr>\n",
       "\t<tr><td>0</td><td>   0.0</td><td>   0.000</td><td>   0.000</td><td>   0.000</td><td>    0.00</td><td>    0.000</td><td>    0.000</td><td>16255.91</td><td> 7737.4980</td><td>⋯</td><td>11809.4700</td><td>  442.4938</td><td>  913.6557</td><td>15580.650</td><td>14726.570</td><td>14291.270</td><td>11149.980</td><td>10213.760</td><td>10528.720</td><td>10886.7600</td></tr>\n",
       "\t<tr><td>0</td><td>   0.0</td><td>   0.000</td><td>   0.000</td><td>   0.000</td><td>    0.00</td><td>    0.000</td><td>    0.000</td><td>    0.00</td><td>15988.9500</td><td>⋯</td><td>11828.8400</td><td>16034.7900</td><td>15372.9300</td><td> 7769.680</td><td> 2476.587</td><td> 3050.820</td><td>12510.670</td><td>11015.120</td><td>11866.070</td><td>11469.3800</td></tr>\n",
       "\t<tr><td>0</td><td>   0.0</td><td>   0.000</td><td>   0.000</td><td>   0.000</td><td>    0.00</td><td>    0.000</td><td>    0.000</td><td>    0.00</td><td>    0.0000</td><td>⋯</td><td> 4164.0720</td><td> 8009.7960</td><td> 8645.7250</td><td> 8254.594</td><td>15797.090</td><td>15582.830</td><td> 4453.244</td><td> 9145.618</td><td> 7185.723</td><td> 7495.1490</td></tr>\n",
       "\t<tr><td>0</td><td>   0.0</td><td>   0.000</td><td>   0.000</td><td>   0.000</td><td>    0.00</td><td>    0.000</td><td>    0.000</td><td>    0.00</td><td>    0.0000</td><td>⋯</td><td> 1628.1900</td><td>10779.8000</td><td>11424.4100</td><td> 5669.295</td><td>13675.630</td><td>13693.540</td><td> 2832.204</td><td> 8876.221</td><td> 6604.388</td><td> 6765.0590</td></tr>\n",
       "\t<tr><td>0</td><td>   0.0</td><td>   0.000</td><td>   0.000</td><td>   0.000</td><td>    0.00</td><td>    0.000</td><td>    0.000</td><td>    0.00</td><td>    0.0000</td><td>⋯</td><td> 6402.6510</td><td>10161.9500</td><td>10768.7000</td><td> 8760.929</td><td>14956.770</td><td>15467.850</td><td> 2657.690</td><td> 3583.374</td><td> 1351.626</td><td> 1621.1910</td></tr>\n",
       "\t<tr><td>0</td><td>   0.0</td><td>   0.000</td><td>   0.000</td><td>   0.000</td><td>    0.00</td><td>    0.000</td><td>    0.000</td><td>    0.00</td><td>    0.0000</td><td>⋯</td><td> 4955.1260</td><td> 7173.7860</td><td> 7793.6810</td><td> 8989.950</td><td>16086.200</td><td>15758.120</td><td> 5307.952</td><td> 9535.728</td><td> 7738.871</td><td> 8076.0180</td></tr>\n",
       "\t<tr><td>0</td><td>   0.0</td><td>   0.000</td><td>   0.000</td><td>   0.000</td><td>    0.00</td><td>    0.000</td><td>    0.000</td><td>    0.00</td><td>    0.0000</td><td>⋯</td><td> 7606.9760</td><td> 7016.3000</td><td> 7645.4380</td><td>11133.580</td><td>18038.720</td><td>18595.800</td><td> 4659.114</td><td> 4793.367</td><td> 3739.363</td><td> 4135.5800</td></tr>\n",
       "\t<tr><td>0</td><td>   0.0</td><td>   0.000</td><td>   0.000</td><td>   0.000</td><td>    0.00</td><td>    0.000</td><td>    0.000</td><td>    0.00</td><td>    0.0000</td><td>⋯</td><td> 7521.8240</td><td> 6450.6350</td><td> 7104.3610</td><td>11288.780</td><td>18798.850</td><td>19301.720</td><td> 4962.684</td><td> 5573.391</td><td> 4521.548</td><td> 4918.3410</td></tr>\n",
       "\t<tr><td>0</td><td>   0.0</td><td>   0.000</td><td>   0.000</td><td>   0.000</td><td>    0.00</td><td>    0.000</td><td>    0.000</td><td>    0.00</td><td>    0.0000</td><td>⋯</td><td> 2771.9430</td><td>14894.0600</td><td>15488.4100</td><td> 1622.246</td><td> 9635.566</td><td> 9778.696</td><td> 4904.915</td><td> 9942.654</td><td> 8035.376</td><td> 7928.2530</td></tr>\n",
       "\t<tr><td>0</td><td>   0.0</td><td>   0.000</td><td>   0.000</td><td>   0.000</td><td>    0.00</td><td>    0.000</td><td>    0.000</td><td>    0.00</td><td>    0.0000</td><td>⋯</td><td> 3755.7810</td><td> 8583.0630</td><td> 9239.9980</td><td> 7859.746</td><td>15724.970</td><td>15623.200</td><td> 3632.597</td><td> 8539.735</td><td> 6490.154</td><td> 6780.3500</td></tr>\n",
       "\t<tr><td>0</td><td>   0.0</td><td>   0.000</td><td>   0.000</td><td>   0.000</td><td>    0.00</td><td>    0.000</td><td>    0.000</td><td>    0.00</td><td>    0.0000</td><td>⋯</td><td> 2392.1870</td><td>11461.0900</td><td>12141.8100</td><td> 5621.641</td><td>13589.550</td><td>13773.630</td><td> 1373.443</td><td> 7505.584</td><td> 5231.338</td><td> 5338.9550</td></tr>\n",
       "\t<tr><td>0</td><td>   0.0</td><td>   0.000</td><td>   0.000</td><td>   0.000</td><td>    0.00</td><td>    0.000</td><td>    0.000</td><td>    0.00</td><td>    0.0000</td><td>⋯</td><td>11882.4900</td><td> 2144.5120</td><td> 1951.8750</td><td>14891.310</td><td>13246.870</td><td>12746.820</td><td>12259.880</td><td>12044.290</td><td>12282.130</td><td>12653.2500</td></tr>\n",
       "\t<tr><td>0</td><td>   0.0</td><td>   0.000</td><td>   0.000</td><td>   0.000</td><td>    0.00</td><td>    0.000</td><td>    0.000</td><td>    0.00</td><td>    0.0000</td><td>⋯</td><td> 4106.9050</td><td> 8179.6130</td><td> 8833.4390</td><td> 8216.021</td><td>15984.860</td><td>15834.280</td><td> 3998.167</td><td> 8659.077</td><td> 6679.170</td><td> 6986.5910</td></tr>\n",
       "\t<tr><td>0</td><td>   0.0</td><td>   0.000</td><td>   0.000</td><td>   0.000</td><td>    0.00</td><td>    0.000</td><td>    0.000</td><td>    0.00</td><td>    0.0000</td><td>⋯</td><td> 3370.3590</td><td> 8751.8500</td><td> 9355.8410</td><td> 7388.299</td><td>14798.880</td><td>14592.710</td><td> 4520.732</td><td> 9808.949</td><td> 7715.236</td><td> 7985.5340</td></tr>\n",
       "\t<tr><td>0</td><td>   0.0</td><td>   0.000</td><td>   0.000</td><td>   0.000</td><td>    0.00</td><td>    0.000</td><td>    0.000</td><td>    0.00</td><td>    0.0000</td><td>⋯</td><td>13141.0600</td><td> 2991.5350</td><td> 2472.8490</td><td>15487.460</td><td>11915.410</td><td>11450.430</td><td>13729.430</td><td>12644.360</td><td>13339.940</td><td>13679.1000</td></tr>\n",
       "\t<tr><td>0</td><td>   0.0</td><td>   0.000</td><td>   0.000</td><td>   0.000</td><td>    0.00</td><td>    0.000</td><td>    0.000</td><td>    0.00</td><td>    0.0000</td><td>⋯</td><td>15121.5300</td><td> 3392.4130</td><td> 3017.4100</td><td>19228.990</td><td>12766.050</td><td>12634.180</td><td>12835.080</td><td> 8698.602</td><td>10194.240</td><td>10394.7500</td></tr>\n",
       "\t<tr><td>0</td><td>   0.0</td><td>   0.000</td><td>   0.000</td><td>   0.000</td><td>    0.00</td><td>    0.000</td><td>    0.000</td><td>    0.00</td><td>    0.0000</td><td>⋯</td><td>13836.3100</td><td> 4386.2700</td><td> 4393.2170</td><td>17191.680</td><td>14074.320</td><td>14142.490</td><td>10779.750</td><td> 6355.119</td><td> 7826.946</td><td> 8017.0500</td></tr>\n",
       "\t<tr><td>0</td><td>   0.0</td><td>   0.000</td><td>   0.000</td><td>   0.000</td><td>    0.00</td><td>    0.000</td><td>    0.000</td><td>    0.00</td><td>    0.0000</td><td>⋯</td><td>12024.0200</td><td>  175.5685</td><td>  844.7064</td><td>15918.280</td><td>14879.910</td><td>14483.980</td><td>11071.320</td><td> 9759.612</td><td>10181.290</td><td>10528.9100</td></tr>\n",
       "\t<tr><td>0</td><td>   0.0</td><td>   0.000</td><td>   0.000</td><td>   0.000</td><td>    0.00</td><td>    0.000</td><td>    0.000</td><td>    0.00</td><td>    0.0000</td><td>⋯</td><td> 6077.0230</td><td>17972.3800</td><td>18294.0700</td><td> 2042.273</td><td> 6376.179</td><td> 6607.700</td><td> 7806.164</td><td>10922.830</td><td> 9810.656</td><td> 9543.4950</td></tr>\n",
       "\t<tr><td>0</td><td>   0.0</td><td>   0.000</td><td>   0.000</td><td>   0.000</td><td>    0.00</td><td>    0.000</td><td>    0.000</td><td>    0.00</td><td>    0.0000</td><td>⋯</td><td> 2416.3380</td><td>14524.0600</td><td>15102.1700</td><td> 1786.672</td><td> 9846.502</td><td> 9955.817</td><td> 4874.631</td><td>10157.010</td><td> 8175.692</td><td> 8094.1130</td></tr>\n",
       "\t<tr><td>0</td><td>   0.0</td><td>   0.000</td><td>   0.000</td><td>   0.000</td><td>    0.00</td><td>    0.000</td><td>    0.000</td><td>    0.00</td><td>    0.0000</td><td>⋯</td><td> 8598.1880</td><td>10346.3800</td><td>10792.2300</td><td>10031.040</td><td>13787.880</td><td>14361.950</td><td> 4891.108</td><td> 1250.909</td><td> 1061.931</td><td>  935.6708</td></tr>\n",
       "\t<tr><td>0</td><td>   0.0</td><td>   0.000</td><td>   0.000</td><td>   0.000</td><td>    0.00</td><td>    0.000</td><td>    0.000</td><td>    0.00</td><td>    0.0000</td><td>⋯</td><td> 6483.9700</td><td> 8807.4990</td><td> 9441.6870</td><td> 9556.967</td><td>16412.580</td><td>16904.730</td><td> 3059.706</td><td> 4264.643</td><td> 2451.927</td><td> 2824.5500</td></tr>\n",
       "\t<tr><td>0</td><td>   0.0</td><td>   0.000</td><td>   0.000</td><td>   0.000</td><td>    0.00</td><td>    0.000</td><td>    0.000</td><td>    0.00</td><td>    0.0000</td><td>⋯</td><td>10073.9300</td><td> 3806.9610</td><td> 3871.3080</td><td>12816.550</td><td>13152.650</td><td>12584.990</td><td>11319.700</td><td>13117.460</td><td>12609.730</td><td>13006.5100</td></tr>\n",
       "\t<tr><td>⋮</td><td>⋮</td><td>⋮</td><td>⋮</td><td>⋮</td><td>⋮</td><td>⋮</td><td>⋮</td><td>⋮</td><td>⋮</td><td>⋱</td><td>⋮</td><td>⋮</td><td>⋮</td><td>⋮</td><td>⋮</td><td>⋮</td><td>⋮</td><td>⋮</td><td>⋮</td><td>⋮</td></tr>\n",
       "\t<tr><td>0</td><td>0</td><td>0</td><td>0</td><td>0</td><td>0</td><td>0</td><td>0</td><td>0</td><td>0</td><td>⋯</td><td> 4350.0630</td><td> 7866.1740</td><td> 8511.6700</td><td> 8452.7950</td><td>16064.460</td><td>15858.0300</td><td> 4391.724</td><td> 8912.863</td><td> 6987.152</td><td> 7304.9240</td></tr>\n",
       "\t<tr><td>0</td><td>0</td><td>0</td><td>0</td><td>0</td><td>0</td><td>0</td><td>0</td><td>0</td><td>0</td><td>⋯</td><td> 4018.9390</td><td> 8150.8440</td><td> 8722.9050</td><td> 7893.2660</td><td>14818.750</td><td>14521.5800</td><td> 5336.479</td><td>10380.560</td><td> 8376.296</td><td> 8669.4470</td></tr>\n",
       "\t<tr><td>0</td><td>0</td><td>0</td><td>0</td><td>0</td><td>0</td><td>0</td><td>0</td><td>0</td><td>0</td><td>⋯</td><td> 8486.7300</td><td>10895.4300</td><td>11334.1700</td><td> 9626.4190</td><td>13287.720</td><td>13860.6000</td><td> 4856.406</td><td> 1481.958</td><td> 1245.484</td><td>  946.0821</td></tr>\n",
       "\t<tr><td>0</td><td>0</td><td>0</td><td>0</td><td>0</td><td>0</td><td>0</td><td>0</td><td>0</td><td>0</td><td>⋯</td><td> 5296.6310</td><td>13025.3900</td><td>13653.2800</td><td> 6194.8940</td><td>12254.620</td><td>12706.3900</td><td> 2550.418</td><td> 5022.527</td><td> 3210.169</td><td> 3037.0680</td></tr>\n",
       "\t<tr><td>0</td><td>0</td><td>0</td><td>0</td><td>0</td><td>0</td><td>0</td><td>0</td><td>0</td><td>0</td><td>⋯</td><td> 3014.9570</td><td> 9893.4310</td><td>10569.2500</td><td> 6897.3410</td><td>14957.250</td><td>15038.8300</td><td> 2166.277</td><td> 7733.619</td><td> 5516.597</td><td> 5740.6830</td></tr>\n",
       "\t<tr><td>0</td><td>0</td><td>0</td><td>0</td><td>0</td><td>0</td><td>0</td><td>0</td><td>0</td><td>0</td><td>⋯</td><td> 6161.1460</td><td> 8241.2140</td><td> 8902.7890</td><td> 9624.3820</td><td>17101.210</td><td>17508.5400</td><td> 3179.689</td><td> 5144.141</td><td> 3405.935</td><td> 3776.8670</td></tr>\n",
       "\t<tr><td>0</td><td>0</td><td>0</td><td>0</td><td>0</td><td>0</td><td>0</td><td>0</td><td>0</td><td>0</td><td>⋯</td><td> 7720.3200</td><td> 6895.0860</td><td> 7521.9140</td><td>11262.6500</td><td>18117.360</td><td>18682.1000</td><td> 4790.379</td><td> 4813.559</td><td> 3821.440</td><td> 4216.9040</td></tr>\n",
       "\t<tr><td>0</td><td>0</td><td>0</td><td>0</td><td>0</td><td>0</td><td>0</td><td>0</td><td>0</td><td>0</td><td>⋯</td><td> 4305.7100</td><td>16422.3900</td><td>16992.4800</td><td>  990.7018</td><td> 8225.835</td><td> 8427.9220</td><td> 6046.796</td><td>10149.710</td><td> 8586.905</td><td> 8393.0700</td></tr>\n",
       "\t<tr><td>0</td><td>0</td><td>0</td><td>0</td><td>0</td><td>0</td><td>0</td><td>0</td><td>0</td><td>0</td><td>⋯</td><td>  294.7517</td><td>12277.6300</td><td>12891.5500</td><td> 4037.8620</td><td>12043.600</td><td>12082.5500</td><td> 3532.448</td><td> 9603.731</td><td> 7355.926</td><td> 7417.8870</td></tr>\n",
       "\t<tr><td>0</td><td>0</td><td>0</td><td>0</td><td>0</td><td>0</td><td>0</td><td>0</td><td>0</td><td>0</td><td>⋯</td><td>  998.6940</td><td>11555.7200</td><td>12196.3600</td><td> 4909.3860</td><td>12945.850</td><td>12996.4300</td><td> 2869.171</td><td> 9001.902</td><td> 6726.469</td><td> 6835.0690</td></tr>\n",
       "\t<tr><td>0</td><td>0</td><td>0</td><td>0</td><td>0</td><td>0</td><td>0</td><td>0</td><td>0</td><td>0</td><td>⋯</td><td>13657.0500</td><td>13005.6800</td><td>12325.2800</td><td> 9773.2160</td><td> 1768.093</td><td> 1604.5730</td><td>15824.680</td><td>13733.470</td><td>15217.570</td><td>14833.7500</td></tr>\n",
       "\t<tr><td>0</td><td>0</td><td>0</td><td>0</td><td>0</td><td>0</td><td>0</td><td>0</td><td>0</td><td>0</td><td>⋯</td><td>12367.7700</td><td>  287.3291</td><td>  592.5854</td><td>16250.5800</td><td>14615.450</td><td>14239.8800</td><td>11354.390</td><td> 9769.264</td><td>10307.990</td><td>10645.4900</td></tr>\n",
       "\t<tr><td>0</td><td>0</td><td>0</td><td>0</td><td>0</td><td>0</td><td>0</td><td>0</td><td>0</td><td>0</td><td>⋯</td><td> 5025.1700</td><td> 7498.1220</td><td> 8173.3950</td><td> 9111.9090</td><td>17014.000</td><td>16881.0800</td><td> 4116.375</td><td> 7922.629</td><td> 6121.553</td><td> 6465.8930</td></tr>\n",
       "\t<tr><td>0</td><td>0</td><td>0</td><td>0</td><td>0</td><td>0</td><td>0</td><td>0</td><td>0</td><td>0</td><td>⋯</td><td> 3343.8810</td><td> 9072.4790</td><td> 9732.6090</td><td> 7428.5370</td><td>15379.000</td><td>15330.3200</td><td> 3211.306</td><td> 8412.611</td><td> 6288.799</td><td> 6555.4050</td></tr>\n",
       "\t<tr><td>0</td><td>0</td><td>0</td><td>0</td><td>0</td><td>0</td><td>0</td><td>0</td><td>0</td><td>0</td><td>⋯</td><td>12307.6500</td><td>13421.4500</td><td>12784.5500</td><td> 8656.1520</td><td> 1565.895</td><td> 1004.6040</td><td>15079.580</td><td>14891.490</td><td>15864.090</td><td>15468.2600</td></tr>\n",
       "\t<tr><td>0</td><td>0</td><td>0</td><td>0</td><td>0</td><td>0</td><td>0</td><td>0</td><td>0</td><td>0</td><td>⋯</td><td> 6163.4070</td><td>11326.6500</td><td>11924.8000</td><td> 7900.6690</td><td>13797.480</td><td>14300.4800</td><td> 2535.460</td><td> 3698.366</td><td> 1538.837</td><td> 1515.2790</td></tr>\n",
       "\t<tr><td>0</td><td>0</td><td>0</td><td>0</td><td>0</td><td>0</td><td>0</td><td>0</td><td>0</td><td>0</td><td>⋯</td><td> 5857.3360</td><td>10421.9800</td><td>11051.0200</td><td> 8269.6250</td><td>14816.580</td><td>15293.0000</td><td> 2109.884</td><td> 4088.998</td><td> 1821.461</td><td> 2028.8960</td></tr>\n",
       "\t<tr><td>0</td><td>0</td><td>0</td><td>0</td><td>0</td><td>0</td><td>0</td><td>0</td><td>0</td><td>0</td><td>⋯</td><td> 3128.8800</td><td> 9010.1300</td><td> 9630.7760</td><td> 7205.8980</td><td>14824.880</td><td>14668.4000</td><td> 4088.448</td><td> 9462.487</td><td> 7336.021</td><td> 7596.3620</td></tr>\n",
       "\t<tr><td>0</td><td>0</td><td>0</td><td>0</td><td>0</td><td>0</td><td>0</td><td>0</td><td>0</td><td>0</td><td>⋯</td><td>15276.6600</td><td> 5382.0150</td><td> 5189.7680</td><td>17693.2000</td><td>12522.180</td><td>12621.4600</td><td>11924.600</td><td> 6679.382</td><td> 8541.538</td><td> 8646.8600</td></tr>\n",
       "\t<tr><td>0</td><td>0</td><td>0</td><td>0</td><td>0</td><td>0</td><td>0</td><td>0</td><td>0</td><td>0</td><td>⋯</td><td>10179.6600</td><td> 3308.9000</td><td> 3428.6300</td><td>13159.2600</td><td>13612.160</td><td>13049.8000</td><td>11120.310</td><td>12581.720</td><td>12156.130</td><td>12552.1300</td></tr>\n",
       "\t<tr><td>0</td><td>0</td><td>0</td><td>0</td><td>0</td><td>0</td><td>0</td><td>0</td><td>0</td><td>0</td><td>⋯</td><td>    0.0000</td><td>12122.1200</td><td>12722.7600</td><td> 4109.1790</td><td>12054.370</td><td>12065.4000</td><td> 3750.189</td><td> 9848.628</td><td> 7591.374</td><td> 7664.5810</td></tr>\n",
       "\t<tr><td>0</td><td>0</td><td>0</td><td>0</td><td>0</td><td>0</td><td>0</td><td>0</td><td>0</td><td>0</td><td>⋯</td><td>    0.0000</td><td>    0.0000</td><td>  685.6442</td><td>15972.7500</td><td>14710.950</td><td>14311.5300</td><td>11233.820</td><td> 9908.777</td><td>10353.200</td><td>10699.6600</td></tr>\n",
       "\t<tr><td>0</td><td>0</td><td>0</td><td>0</td><td>0</td><td>0</td><td>0</td><td>0</td><td>0</td><td>0</td><td>⋯</td><td>    0.0000</td><td>    0.0000</td><td>    0.0000</td><td>16429.7100</td><td>14039.950</td><td>13654.5000</td><td>11916.020</td><td>10253.690</td><td>10879.450</td><td>11211.3600</td></tr>\n",
       "\t<tr><td>0</td><td>0</td><td>0</td><td>0</td><td>0</td><td>0</td><td>0</td><td>0</td><td>0</td><td>0</td><td>⋯</td><td>    0.0000</td><td>    0.0000</td><td>    0.0000</td><td>    0.0000</td><td> 8059.912</td><td> 8174.8900</td><td> 6508.590</td><td>11074.410</td><td> 9393.863</td><td> 9231.1780</td></tr>\n",
       "\t<tr><td>0</td><td>0</td><td>0</td><td>0</td><td>0</td><td>0</td><td>0</td><td>0</td><td>0</td><td>0</td><td>⋯</td><td>    0.0000</td><td>    0.0000</td><td>    0.0000</td><td>    0.0000</td><td>    0.000</td><td>  574.2394</td><td>14083.100</td><td>13451.970</td><td>14299.380</td><td>13903.2300</td></tr>\n",
       "\t<tr><td>0</td><td>0</td><td>0</td><td>0</td><td>0</td><td>0</td><td>0</td><td>0</td><td>0</td><td>0</td><td>⋯</td><td>    0.0000</td><td>    0.0000</td><td>    0.0000</td><td>    0.0000</td><td>    0.000</td><td>    0.0000</td><td>14392.150</td><td>14014.060</td><td>14860.680</td><td>14465.2000</td></tr>\n",
       "\t<tr><td>0</td><td>0</td><td>0</td><td>0</td><td>0</td><td>0</td><td>0</td><td>0</td><td>0</td><td>0</td><td>⋯</td><td>    0.0000</td><td>    0.0000</td><td>    0.0000</td><td>    0.0000</td><td>    0.000</td><td>    0.0000</td><td>    0.000</td><td> 6132.749</td><td> 3857.897</td><td> 3971.4740</td></tr>\n",
       "\t<tr><td>0</td><td>0</td><td>0</td><td>0</td><td>0</td><td>0</td><td>0</td><td>0</td><td>0</td><td>0</td><td>⋯</td><td>    0.0000</td><td>    0.0000</td><td>    0.0000</td><td>    0.0000</td><td>    0.000</td><td>    0.0000</td><td>    0.000</td><td>    0.000</td><td> 2278.582</td><td> 2186.2060</td></tr>\n",
       "\t<tr><td>0</td><td>0</td><td>0</td><td>0</td><td>0</td><td>0</td><td>0</td><td>0</td><td>0</td><td>0</td><td>⋯</td><td>    0.0000</td><td>    0.0000</td><td>    0.0000</td><td>    0.0000</td><td>    0.000</td><td>    0.0000</td><td>    0.000</td><td>    0.000</td><td>    0.000</td><td>  396.8041</td></tr>\n",
       "\t<tr><td>0</td><td>0</td><td>0</td><td>0</td><td>0</td><td>0</td><td>0</td><td>0</td><td>0</td><td>0</td><td>⋯</td><td>    0.0000</td><td>    0.0000</td><td>    0.0000</td><td>    0.0000</td><td>    0.000</td><td>    0.0000</td><td>    0.000</td><td>    0.000</td><td>    0.000</td><td>    0.0000</td></tr>\n",
       "</tbody>\n",
       "</table>\n"
      ],
      "text/latex": [
       "A matrix: 184 × 184 of type dbl\n",
       "\\begin{tabular}{lllllllllllllllllllll}\n",
       "\t 0 & 7607.8 & 4342.117 & 5806.359 & 1813.615 & 15298.50 &  2266.150 & 12297.090 & 11433.49 &  4568.0980 & ⋯ &   751.2709 & 12577.8200 & 13208.5700 &  3884.103 & 11938.980 & 12020.440 &  3279.877 &  9273.133 &  7048.760 &  7088.1890\\\\\n",
       "\t 0 &    0.0 & 5623.827 & 5837.088 & 5805.255 &  7792.03 &  6331.346 &  8746.965 & 13528.20 &  6357.0170 & ⋯ &  7977.3750 &  8587.4110 &  9137.9240 & 10637.650 & 15999.400 & 16571.790 &  4352.742 &  2844.230 &  1791.822 &  2170.0120\\\\\n",
       "\t 0 &    0.0 &    0.000 & 1519.551 & 3702.809 & 11632.19 &  2077.855 &  8082.156 & 15722.44 &   812.9326 & ⋯ &  4072.6980 &  8309.6290 &  8971.8850 &  8172.986 & 16048.520 & 15940.780 &  3720.742 &  8378.260 &  6381.482 &  6686.4290\\\\\n",
       "\t 0 &    0.0 &    0.000 &    0.000 & 5209.695 & 10534.54 &  3563.803 &  6565.212 & 17230.53 &  1322.2010 & ⋯ &  5456.4360 &  6801.5780 &  7458.7620 &  9560.423 & 17008.950 & 16704.830 &  5058.757 &  8681.076 &  7009.829 &  7367.2050\\\\\n",
       "\t 0 &    0.0 &    0.000 &    0.000 &    0.000 & 13557.20 &  1979.161 & 11712.020 & 12092.16 &  4245.8420 & ⋯ &  2318.6840 & 11886.6600 & 12567.7500 &  5265.521 & 13189.540 & 13390.290 &  1466.264 &  7530.202 &  5274.503 &  5347.1860\\\\\n",
       "\t 0 &    0.0 &    0.000 &    0.000 &    0.000 &     0.00 & 13417.640 &  5776.082 & 11801.36 & 11833.7600 & ⋯ & 15457.4500 &  5335.3510 &  5114.3140 & 17877.150 & 12384.600 & 12468.650 & 12133.340 &  6886.516 &  8756.319 &  8860.5500\\\\\n",
       "\t 0 &    0.0 &    0.000 &    0.000 &    0.000 &     0.00 &     0.000 & 10114.070 & 13666.90 &  2399.4320 & ⋯ &  2081.2500 & 10363.6800 & 11015.2800 &  6124.733 & 14132.310 & 14144.440 &  2758.486 &  8671.851 &  6417.901 &  6606.1000\\\\\n",
       "\t 0 &    0.0 &    0.000 &    0.000 &    0.000 &     0.00 &     0.000 &     0.000 & 16255.91 &  7737.4980 & ⋯ & 11809.4700 &   442.4938 &   913.6557 & 15580.650 & 14726.570 & 14291.270 & 11149.980 & 10213.760 & 10528.720 & 10886.7600\\\\\n",
       "\t 0 &    0.0 &    0.000 &    0.000 &    0.000 &     0.00 &     0.000 &     0.000 &     0.00 & 15988.9500 & ⋯ & 11828.8400 & 16034.7900 & 15372.9300 &  7769.680 &  2476.587 &  3050.820 & 12510.670 & 11015.120 & 11866.070 & 11469.3800\\\\\n",
       "\t 0 &    0.0 &    0.000 &    0.000 &    0.000 &     0.00 &     0.000 &     0.000 &     0.00 &     0.0000 & ⋯ &  4164.0720 &  8009.7960 &  8645.7250 &  8254.594 & 15797.090 & 15582.830 &  4453.244 &  9145.618 &  7185.723 &  7495.1490\\\\\n",
       "\t 0 &    0.0 &    0.000 &    0.000 &    0.000 &     0.00 &     0.000 &     0.000 &     0.00 &     0.0000 & ⋯ &  1628.1900 & 10779.8000 & 11424.4100 &  5669.295 & 13675.630 & 13693.540 &  2832.204 &  8876.221 &  6604.388 &  6765.0590\\\\\n",
       "\t 0 &    0.0 &    0.000 &    0.000 &    0.000 &     0.00 &     0.000 &     0.000 &     0.00 &     0.0000 & ⋯ &  6402.6510 & 10161.9500 & 10768.7000 &  8760.929 & 14956.770 & 15467.850 &  2657.690 &  3583.374 &  1351.626 &  1621.1910\\\\\n",
       "\t 0 &    0.0 &    0.000 &    0.000 &    0.000 &     0.00 &     0.000 &     0.000 &     0.00 &     0.0000 & ⋯ &  4955.1260 &  7173.7860 &  7793.6810 &  8989.950 & 16086.200 & 15758.120 &  5307.952 &  9535.728 &  7738.871 &  8076.0180\\\\\n",
       "\t 0 &    0.0 &    0.000 &    0.000 &    0.000 &     0.00 &     0.000 &     0.000 &     0.00 &     0.0000 & ⋯ &  7606.9760 &  7016.3000 &  7645.4380 & 11133.580 & 18038.720 & 18595.800 &  4659.114 &  4793.367 &  3739.363 &  4135.5800\\\\\n",
       "\t 0 &    0.0 &    0.000 &    0.000 &    0.000 &     0.00 &     0.000 &     0.000 &     0.00 &     0.0000 & ⋯ &  7521.8240 &  6450.6350 &  7104.3610 & 11288.780 & 18798.850 & 19301.720 &  4962.684 &  5573.391 &  4521.548 &  4918.3410\\\\\n",
       "\t 0 &    0.0 &    0.000 &    0.000 &    0.000 &     0.00 &     0.000 &     0.000 &     0.00 &     0.0000 & ⋯ &  2771.9430 & 14894.0600 & 15488.4100 &  1622.246 &  9635.566 &  9778.696 &  4904.915 &  9942.654 &  8035.376 &  7928.2530\\\\\n",
       "\t 0 &    0.0 &    0.000 &    0.000 &    0.000 &     0.00 &     0.000 &     0.000 &     0.00 &     0.0000 & ⋯ &  3755.7810 &  8583.0630 &  9239.9980 &  7859.746 & 15724.970 & 15623.200 &  3632.597 &  8539.735 &  6490.154 &  6780.3500\\\\\n",
       "\t 0 &    0.0 &    0.000 &    0.000 &    0.000 &     0.00 &     0.000 &     0.000 &     0.00 &     0.0000 & ⋯ &  2392.1870 & 11461.0900 & 12141.8100 &  5621.641 & 13589.550 & 13773.630 &  1373.443 &  7505.584 &  5231.338 &  5338.9550\\\\\n",
       "\t 0 &    0.0 &    0.000 &    0.000 &    0.000 &     0.00 &     0.000 &     0.000 &     0.00 &     0.0000 & ⋯ & 11882.4900 &  2144.5120 &  1951.8750 & 14891.310 & 13246.870 & 12746.820 & 12259.880 & 12044.290 & 12282.130 & 12653.2500\\\\\n",
       "\t 0 &    0.0 &    0.000 &    0.000 &    0.000 &     0.00 &     0.000 &     0.000 &     0.00 &     0.0000 & ⋯ &  4106.9050 &  8179.6130 &  8833.4390 &  8216.021 & 15984.860 & 15834.280 &  3998.167 &  8659.077 &  6679.170 &  6986.5910\\\\\n",
       "\t 0 &    0.0 &    0.000 &    0.000 &    0.000 &     0.00 &     0.000 &     0.000 &     0.00 &     0.0000 & ⋯ &  3370.3590 &  8751.8500 &  9355.8410 &  7388.299 & 14798.880 & 14592.710 &  4520.732 &  9808.949 &  7715.236 &  7985.5340\\\\\n",
       "\t 0 &    0.0 &    0.000 &    0.000 &    0.000 &     0.00 &     0.000 &     0.000 &     0.00 &     0.0000 & ⋯ & 13141.0600 &  2991.5350 &  2472.8490 & 15487.460 & 11915.410 & 11450.430 & 13729.430 & 12644.360 & 13339.940 & 13679.1000\\\\\n",
       "\t 0 &    0.0 &    0.000 &    0.000 &    0.000 &     0.00 &     0.000 &     0.000 &     0.00 &     0.0000 & ⋯ & 15121.5300 &  3392.4130 &  3017.4100 & 19228.990 & 12766.050 & 12634.180 & 12835.080 &  8698.602 & 10194.240 & 10394.7500\\\\\n",
       "\t 0 &    0.0 &    0.000 &    0.000 &    0.000 &     0.00 &     0.000 &     0.000 &     0.00 &     0.0000 & ⋯ & 13836.3100 &  4386.2700 &  4393.2170 & 17191.680 & 14074.320 & 14142.490 & 10779.750 &  6355.119 &  7826.946 &  8017.0500\\\\\n",
       "\t 0 &    0.0 &    0.000 &    0.000 &    0.000 &     0.00 &     0.000 &     0.000 &     0.00 &     0.0000 & ⋯ & 12024.0200 &   175.5685 &   844.7064 & 15918.280 & 14879.910 & 14483.980 & 11071.320 &  9759.612 & 10181.290 & 10528.9100\\\\\n",
       "\t 0 &    0.0 &    0.000 &    0.000 &    0.000 &     0.00 &     0.000 &     0.000 &     0.00 &     0.0000 & ⋯ &  6077.0230 & 17972.3800 & 18294.0700 &  2042.273 &  6376.179 &  6607.700 &  7806.164 & 10922.830 &  9810.656 &  9543.4950\\\\\n",
       "\t 0 &    0.0 &    0.000 &    0.000 &    0.000 &     0.00 &     0.000 &     0.000 &     0.00 &     0.0000 & ⋯ &  2416.3380 & 14524.0600 & 15102.1700 &  1786.672 &  9846.502 &  9955.817 &  4874.631 & 10157.010 &  8175.692 &  8094.1130\\\\\n",
       "\t 0 &    0.0 &    0.000 &    0.000 &    0.000 &     0.00 &     0.000 &     0.000 &     0.00 &     0.0000 & ⋯ &  8598.1880 & 10346.3800 & 10792.2300 & 10031.040 & 13787.880 & 14361.950 &  4891.108 &  1250.909 &  1061.931 &   935.6708\\\\\n",
       "\t 0 &    0.0 &    0.000 &    0.000 &    0.000 &     0.00 &     0.000 &     0.000 &     0.00 &     0.0000 & ⋯ &  6483.9700 &  8807.4990 &  9441.6870 &  9556.967 & 16412.580 & 16904.730 &  3059.706 &  4264.643 &  2451.927 &  2824.5500\\\\\n",
       "\t 0 &    0.0 &    0.000 &    0.000 &    0.000 &     0.00 &     0.000 &     0.000 &     0.00 &     0.0000 & ⋯ & 10073.9300 &  3806.9610 &  3871.3080 & 12816.550 & 13152.650 & 12584.990 & 11319.700 & 13117.460 & 12609.730 & 13006.5100\\\\\n",
       "\t ⋮ & ⋮ & ⋮ & ⋮ & ⋮ & ⋮ & ⋮ & ⋮ & ⋮ & ⋮ & ⋱ & ⋮ & ⋮ & ⋮ & ⋮ & ⋮ & ⋮ & ⋮ & ⋮ & ⋮ & ⋮\\\\\n",
       "\t 0 & 0 & 0 & 0 & 0 & 0 & 0 & 0 & 0 & 0 & ⋯ &  4350.0630 &  7866.1740 &  8511.6700 &  8452.7950 & 16064.460 & 15858.0300 &  4391.724 &  8912.863 &  6987.152 &  7304.9240\\\\\n",
       "\t 0 & 0 & 0 & 0 & 0 & 0 & 0 & 0 & 0 & 0 & ⋯ &  4018.9390 &  8150.8440 &  8722.9050 &  7893.2660 & 14818.750 & 14521.5800 &  5336.479 & 10380.560 &  8376.296 &  8669.4470\\\\\n",
       "\t 0 & 0 & 0 & 0 & 0 & 0 & 0 & 0 & 0 & 0 & ⋯ &  8486.7300 & 10895.4300 & 11334.1700 &  9626.4190 & 13287.720 & 13860.6000 &  4856.406 &  1481.958 &  1245.484 &   946.0821\\\\\n",
       "\t 0 & 0 & 0 & 0 & 0 & 0 & 0 & 0 & 0 & 0 & ⋯ &  5296.6310 & 13025.3900 & 13653.2800 &  6194.8940 & 12254.620 & 12706.3900 &  2550.418 &  5022.527 &  3210.169 &  3037.0680\\\\\n",
       "\t 0 & 0 & 0 & 0 & 0 & 0 & 0 & 0 & 0 & 0 & ⋯ &  3014.9570 &  9893.4310 & 10569.2500 &  6897.3410 & 14957.250 & 15038.8300 &  2166.277 &  7733.619 &  5516.597 &  5740.6830\\\\\n",
       "\t 0 & 0 & 0 & 0 & 0 & 0 & 0 & 0 & 0 & 0 & ⋯ &  6161.1460 &  8241.2140 &  8902.7890 &  9624.3820 & 17101.210 & 17508.5400 &  3179.689 &  5144.141 &  3405.935 &  3776.8670\\\\\n",
       "\t 0 & 0 & 0 & 0 & 0 & 0 & 0 & 0 & 0 & 0 & ⋯ &  7720.3200 &  6895.0860 &  7521.9140 & 11262.6500 & 18117.360 & 18682.1000 &  4790.379 &  4813.559 &  3821.440 &  4216.9040\\\\\n",
       "\t 0 & 0 & 0 & 0 & 0 & 0 & 0 & 0 & 0 & 0 & ⋯ &  4305.7100 & 16422.3900 & 16992.4800 &   990.7018 &  8225.835 &  8427.9220 &  6046.796 & 10149.710 &  8586.905 &  8393.0700\\\\\n",
       "\t 0 & 0 & 0 & 0 & 0 & 0 & 0 & 0 & 0 & 0 & ⋯ &   294.7517 & 12277.6300 & 12891.5500 &  4037.8620 & 12043.600 & 12082.5500 &  3532.448 &  9603.731 &  7355.926 &  7417.8870\\\\\n",
       "\t 0 & 0 & 0 & 0 & 0 & 0 & 0 & 0 & 0 & 0 & ⋯ &   998.6940 & 11555.7200 & 12196.3600 &  4909.3860 & 12945.850 & 12996.4300 &  2869.171 &  9001.902 &  6726.469 &  6835.0690\\\\\n",
       "\t 0 & 0 & 0 & 0 & 0 & 0 & 0 & 0 & 0 & 0 & ⋯ & 13657.0500 & 13005.6800 & 12325.2800 &  9773.2160 &  1768.093 &  1604.5730 & 15824.680 & 13733.470 & 15217.570 & 14833.7500\\\\\n",
       "\t 0 & 0 & 0 & 0 & 0 & 0 & 0 & 0 & 0 & 0 & ⋯ & 12367.7700 &   287.3291 &   592.5854 & 16250.5800 & 14615.450 & 14239.8800 & 11354.390 &  9769.264 & 10307.990 & 10645.4900\\\\\n",
       "\t 0 & 0 & 0 & 0 & 0 & 0 & 0 & 0 & 0 & 0 & ⋯ &  5025.1700 &  7498.1220 &  8173.3950 &  9111.9090 & 17014.000 & 16881.0800 &  4116.375 &  7922.629 &  6121.553 &  6465.8930\\\\\n",
       "\t 0 & 0 & 0 & 0 & 0 & 0 & 0 & 0 & 0 & 0 & ⋯ &  3343.8810 &  9072.4790 &  9732.6090 &  7428.5370 & 15379.000 & 15330.3200 &  3211.306 &  8412.611 &  6288.799 &  6555.4050\\\\\n",
       "\t 0 & 0 & 0 & 0 & 0 & 0 & 0 & 0 & 0 & 0 & ⋯ & 12307.6500 & 13421.4500 & 12784.5500 &  8656.1520 &  1565.895 &  1004.6040 & 15079.580 & 14891.490 & 15864.090 & 15468.2600\\\\\n",
       "\t 0 & 0 & 0 & 0 & 0 & 0 & 0 & 0 & 0 & 0 & ⋯ &  6163.4070 & 11326.6500 & 11924.8000 &  7900.6690 & 13797.480 & 14300.4800 &  2535.460 &  3698.366 &  1538.837 &  1515.2790\\\\\n",
       "\t 0 & 0 & 0 & 0 & 0 & 0 & 0 & 0 & 0 & 0 & ⋯ &  5857.3360 & 10421.9800 & 11051.0200 &  8269.6250 & 14816.580 & 15293.0000 &  2109.884 &  4088.998 &  1821.461 &  2028.8960\\\\\n",
       "\t 0 & 0 & 0 & 0 & 0 & 0 & 0 & 0 & 0 & 0 & ⋯ &  3128.8800 &  9010.1300 &  9630.7760 &  7205.8980 & 14824.880 & 14668.4000 &  4088.448 &  9462.487 &  7336.021 &  7596.3620\\\\\n",
       "\t 0 & 0 & 0 & 0 & 0 & 0 & 0 & 0 & 0 & 0 & ⋯ & 15276.6600 &  5382.0150 &  5189.7680 & 17693.2000 & 12522.180 & 12621.4600 & 11924.600 &  6679.382 &  8541.538 &  8646.8600\\\\\n",
       "\t 0 & 0 & 0 & 0 & 0 & 0 & 0 & 0 & 0 & 0 & ⋯ & 10179.6600 &  3308.9000 &  3428.6300 & 13159.2600 & 13612.160 & 13049.8000 & 11120.310 & 12581.720 & 12156.130 & 12552.1300\\\\\n",
       "\t 0 & 0 & 0 & 0 & 0 & 0 & 0 & 0 & 0 & 0 & ⋯ &     0.0000 & 12122.1200 & 12722.7600 &  4109.1790 & 12054.370 & 12065.4000 &  3750.189 &  9848.628 &  7591.374 &  7664.5810\\\\\n",
       "\t 0 & 0 & 0 & 0 & 0 & 0 & 0 & 0 & 0 & 0 & ⋯ &     0.0000 &     0.0000 &   685.6442 & 15972.7500 & 14710.950 & 14311.5300 & 11233.820 &  9908.777 & 10353.200 & 10699.6600\\\\\n",
       "\t 0 & 0 & 0 & 0 & 0 & 0 & 0 & 0 & 0 & 0 & ⋯ &     0.0000 &     0.0000 &     0.0000 & 16429.7100 & 14039.950 & 13654.5000 & 11916.020 & 10253.690 & 10879.450 & 11211.3600\\\\\n",
       "\t 0 & 0 & 0 & 0 & 0 & 0 & 0 & 0 & 0 & 0 & ⋯ &     0.0000 &     0.0000 &     0.0000 &     0.0000 &  8059.912 &  8174.8900 &  6508.590 & 11074.410 &  9393.863 &  9231.1780\\\\\n",
       "\t 0 & 0 & 0 & 0 & 0 & 0 & 0 & 0 & 0 & 0 & ⋯ &     0.0000 &     0.0000 &     0.0000 &     0.0000 &     0.000 &   574.2394 & 14083.100 & 13451.970 & 14299.380 & 13903.2300\\\\\n",
       "\t 0 & 0 & 0 & 0 & 0 & 0 & 0 & 0 & 0 & 0 & ⋯ &     0.0000 &     0.0000 &     0.0000 &     0.0000 &     0.000 &     0.0000 & 14392.150 & 14014.060 & 14860.680 & 14465.2000\\\\\n",
       "\t 0 & 0 & 0 & 0 & 0 & 0 & 0 & 0 & 0 & 0 & ⋯ &     0.0000 &     0.0000 &     0.0000 &     0.0000 &     0.000 &     0.0000 &     0.000 &  6132.749 &  3857.897 &  3971.4740\\\\\n",
       "\t 0 & 0 & 0 & 0 & 0 & 0 & 0 & 0 & 0 & 0 & ⋯ &     0.0000 &     0.0000 &     0.0000 &     0.0000 &     0.000 &     0.0000 &     0.000 &     0.000 &  2278.582 &  2186.2060\\\\\n",
       "\t 0 & 0 & 0 & 0 & 0 & 0 & 0 & 0 & 0 & 0 & ⋯ &     0.0000 &     0.0000 &     0.0000 &     0.0000 &     0.000 &     0.0000 &     0.000 &     0.000 &     0.000 &   396.8041\\\\\n",
       "\t 0 & 0 & 0 & 0 & 0 & 0 & 0 & 0 & 0 & 0 & ⋯ &     0.0000 &     0.0000 &     0.0000 &     0.0000 &     0.000 &     0.0000 &     0.000 &     0.000 &     0.000 &     0.0000\\\\\n",
       "\\end{tabular}\n"
      ],
      "text/markdown": [
       "\n",
       "A matrix: 184 × 184 of type dbl\n",
       "\n",
       "| 0 | 7607.8 | 4342.117 | 5806.359 | 1813.615 | 15298.50 |  2266.150 | 12297.090 | 11433.49 |  4568.0980 | ⋯ |   751.2709 | 12577.8200 | 13208.5700 |  3884.103 | 11938.980 | 12020.440 |  3279.877 |  9273.133 |  7048.760 |  7088.1890 |\n",
       "| 0 |    0.0 | 5623.827 | 5837.088 | 5805.255 |  7792.03 |  6331.346 |  8746.965 | 13528.20 |  6357.0170 | ⋯ |  7977.3750 |  8587.4110 |  9137.9240 | 10637.650 | 15999.400 | 16571.790 |  4352.742 |  2844.230 |  1791.822 |  2170.0120 |\n",
       "| 0 |    0.0 |    0.000 | 1519.551 | 3702.809 | 11632.19 |  2077.855 |  8082.156 | 15722.44 |   812.9326 | ⋯ |  4072.6980 |  8309.6290 |  8971.8850 |  8172.986 | 16048.520 | 15940.780 |  3720.742 |  8378.260 |  6381.482 |  6686.4290 |\n",
       "| 0 |    0.0 |    0.000 |    0.000 | 5209.695 | 10534.54 |  3563.803 |  6565.212 | 17230.53 |  1322.2010 | ⋯ |  5456.4360 |  6801.5780 |  7458.7620 |  9560.423 | 17008.950 | 16704.830 |  5058.757 |  8681.076 |  7009.829 |  7367.2050 |\n",
       "| 0 |    0.0 |    0.000 |    0.000 |    0.000 | 13557.20 |  1979.161 | 11712.020 | 12092.16 |  4245.8420 | ⋯ |  2318.6840 | 11886.6600 | 12567.7500 |  5265.521 | 13189.540 | 13390.290 |  1466.264 |  7530.202 |  5274.503 |  5347.1860 |\n",
       "| 0 |    0.0 |    0.000 |    0.000 |    0.000 |     0.00 | 13417.640 |  5776.082 | 11801.36 | 11833.7600 | ⋯ | 15457.4500 |  5335.3510 |  5114.3140 | 17877.150 | 12384.600 | 12468.650 | 12133.340 |  6886.516 |  8756.319 |  8860.5500 |\n",
       "| 0 |    0.0 |    0.000 |    0.000 |    0.000 |     0.00 |     0.000 | 10114.070 | 13666.90 |  2399.4320 | ⋯ |  2081.2500 | 10363.6800 | 11015.2800 |  6124.733 | 14132.310 | 14144.440 |  2758.486 |  8671.851 |  6417.901 |  6606.1000 |\n",
       "| 0 |    0.0 |    0.000 |    0.000 |    0.000 |     0.00 |     0.000 |     0.000 | 16255.91 |  7737.4980 | ⋯ | 11809.4700 |   442.4938 |   913.6557 | 15580.650 | 14726.570 | 14291.270 | 11149.980 | 10213.760 | 10528.720 | 10886.7600 |\n",
       "| 0 |    0.0 |    0.000 |    0.000 |    0.000 |     0.00 |     0.000 |     0.000 |     0.00 | 15988.9500 | ⋯ | 11828.8400 | 16034.7900 | 15372.9300 |  7769.680 |  2476.587 |  3050.820 | 12510.670 | 11015.120 | 11866.070 | 11469.3800 |\n",
       "| 0 |    0.0 |    0.000 |    0.000 |    0.000 |     0.00 |     0.000 |     0.000 |     0.00 |     0.0000 | ⋯ |  4164.0720 |  8009.7960 |  8645.7250 |  8254.594 | 15797.090 | 15582.830 |  4453.244 |  9145.618 |  7185.723 |  7495.1490 |\n",
       "| 0 |    0.0 |    0.000 |    0.000 |    0.000 |     0.00 |     0.000 |     0.000 |     0.00 |     0.0000 | ⋯ |  1628.1900 | 10779.8000 | 11424.4100 |  5669.295 | 13675.630 | 13693.540 |  2832.204 |  8876.221 |  6604.388 |  6765.0590 |\n",
       "| 0 |    0.0 |    0.000 |    0.000 |    0.000 |     0.00 |     0.000 |     0.000 |     0.00 |     0.0000 | ⋯ |  6402.6510 | 10161.9500 | 10768.7000 |  8760.929 | 14956.770 | 15467.850 |  2657.690 |  3583.374 |  1351.626 |  1621.1910 |\n",
       "| 0 |    0.0 |    0.000 |    0.000 |    0.000 |     0.00 |     0.000 |     0.000 |     0.00 |     0.0000 | ⋯ |  4955.1260 |  7173.7860 |  7793.6810 |  8989.950 | 16086.200 | 15758.120 |  5307.952 |  9535.728 |  7738.871 |  8076.0180 |\n",
       "| 0 |    0.0 |    0.000 |    0.000 |    0.000 |     0.00 |     0.000 |     0.000 |     0.00 |     0.0000 | ⋯ |  7606.9760 |  7016.3000 |  7645.4380 | 11133.580 | 18038.720 | 18595.800 |  4659.114 |  4793.367 |  3739.363 |  4135.5800 |\n",
       "| 0 |    0.0 |    0.000 |    0.000 |    0.000 |     0.00 |     0.000 |     0.000 |     0.00 |     0.0000 | ⋯ |  7521.8240 |  6450.6350 |  7104.3610 | 11288.780 | 18798.850 | 19301.720 |  4962.684 |  5573.391 |  4521.548 |  4918.3410 |\n",
       "| 0 |    0.0 |    0.000 |    0.000 |    0.000 |     0.00 |     0.000 |     0.000 |     0.00 |     0.0000 | ⋯ |  2771.9430 | 14894.0600 | 15488.4100 |  1622.246 |  9635.566 |  9778.696 |  4904.915 |  9942.654 |  8035.376 |  7928.2530 |\n",
       "| 0 |    0.0 |    0.000 |    0.000 |    0.000 |     0.00 |     0.000 |     0.000 |     0.00 |     0.0000 | ⋯ |  3755.7810 |  8583.0630 |  9239.9980 |  7859.746 | 15724.970 | 15623.200 |  3632.597 |  8539.735 |  6490.154 |  6780.3500 |\n",
       "| 0 |    0.0 |    0.000 |    0.000 |    0.000 |     0.00 |     0.000 |     0.000 |     0.00 |     0.0000 | ⋯ |  2392.1870 | 11461.0900 | 12141.8100 |  5621.641 | 13589.550 | 13773.630 |  1373.443 |  7505.584 |  5231.338 |  5338.9550 |\n",
       "| 0 |    0.0 |    0.000 |    0.000 |    0.000 |     0.00 |     0.000 |     0.000 |     0.00 |     0.0000 | ⋯ | 11882.4900 |  2144.5120 |  1951.8750 | 14891.310 | 13246.870 | 12746.820 | 12259.880 | 12044.290 | 12282.130 | 12653.2500 |\n",
       "| 0 |    0.0 |    0.000 |    0.000 |    0.000 |     0.00 |     0.000 |     0.000 |     0.00 |     0.0000 | ⋯ |  4106.9050 |  8179.6130 |  8833.4390 |  8216.021 | 15984.860 | 15834.280 |  3998.167 |  8659.077 |  6679.170 |  6986.5910 |\n",
       "| 0 |    0.0 |    0.000 |    0.000 |    0.000 |     0.00 |     0.000 |     0.000 |     0.00 |     0.0000 | ⋯ |  3370.3590 |  8751.8500 |  9355.8410 |  7388.299 | 14798.880 | 14592.710 |  4520.732 |  9808.949 |  7715.236 |  7985.5340 |\n",
       "| 0 |    0.0 |    0.000 |    0.000 |    0.000 |     0.00 |     0.000 |     0.000 |     0.00 |     0.0000 | ⋯ | 13141.0600 |  2991.5350 |  2472.8490 | 15487.460 | 11915.410 | 11450.430 | 13729.430 | 12644.360 | 13339.940 | 13679.1000 |\n",
       "| 0 |    0.0 |    0.000 |    0.000 |    0.000 |     0.00 |     0.000 |     0.000 |     0.00 |     0.0000 | ⋯ | 15121.5300 |  3392.4130 |  3017.4100 | 19228.990 | 12766.050 | 12634.180 | 12835.080 |  8698.602 | 10194.240 | 10394.7500 |\n",
       "| 0 |    0.0 |    0.000 |    0.000 |    0.000 |     0.00 |     0.000 |     0.000 |     0.00 |     0.0000 | ⋯ | 13836.3100 |  4386.2700 |  4393.2170 | 17191.680 | 14074.320 | 14142.490 | 10779.750 |  6355.119 |  7826.946 |  8017.0500 |\n",
       "| 0 |    0.0 |    0.000 |    0.000 |    0.000 |     0.00 |     0.000 |     0.000 |     0.00 |     0.0000 | ⋯ | 12024.0200 |   175.5685 |   844.7064 | 15918.280 | 14879.910 | 14483.980 | 11071.320 |  9759.612 | 10181.290 | 10528.9100 |\n",
       "| 0 |    0.0 |    0.000 |    0.000 |    0.000 |     0.00 |     0.000 |     0.000 |     0.00 |     0.0000 | ⋯ |  6077.0230 | 17972.3800 | 18294.0700 |  2042.273 |  6376.179 |  6607.700 |  7806.164 | 10922.830 |  9810.656 |  9543.4950 |\n",
       "| 0 |    0.0 |    0.000 |    0.000 |    0.000 |     0.00 |     0.000 |     0.000 |     0.00 |     0.0000 | ⋯ |  2416.3380 | 14524.0600 | 15102.1700 |  1786.672 |  9846.502 |  9955.817 |  4874.631 | 10157.010 |  8175.692 |  8094.1130 |\n",
       "| 0 |    0.0 |    0.000 |    0.000 |    0.000 |     0.00 |     0.000 |     0.000 |     0.00 |     0.0000 | ⋯ |  8598.1880 | 10346.3800 | 10792.2300 | 10031.040 | 13787.880 | 14361.950 |  4891.108 |  1250.909 |  1061.931 |   935.6708 |\n",
       "| 0 |    0.0 |    0.000 |    0.000 |    0.000 |     0.00 |     0.000 |     0.000 |     0.00 |     0.0000 | ⋯ |  6483.9700 |  8807.4990 |  9441.6870 |  9556.967 | 16412.580 | 16904.730 |  3059.706 |  4264.643 |  2451.927 |  2824.5500 |\n",
       "| 0 |    0.0 |    0.000 |    0.000 |    0.000 |     0.00 |     0.000 |     0.000 |     0.00 |     0.0000 | ⋯ | 10073.9300 |  3806.9610 |  3871.3080 | 12816.550 | 13152.650 | 12584.990 | 11319.700 | 13117.460 | 12609.730 | 13006.5100 |\n",
       "| ⋮ | ⋮ | ⋮ | ⋮ | ⋮ | ⋮ | ⋮ | ⋮ | ⋮ | ⋮ | ⋱ | ⋮ | ⋮ | ⋮ | ⋮ | ⋮ | ⋮ | ⋮ | ⋮ | ⋮ | ⋮ |\n",
       "| 0 | 0 | 0 | 0 | 0 | 0 | 0 | 0 | 0 | 0 | ⋯ |  4350.0630 |  7866.1740 |  8511.6700 |  8452.7950 | 16064.460 | 15858.0300 |  4391.724 |  8912.863 |  6987.152 |  7304.9240 |\n",
       "| 0 | 0 | 0 | 0 | 0 | 0 | 0 | 0 | 0 | 0 | ⋯ |  4018.9390 |  8150.8440 |  8722.9050 |  7893.2660 | 14818.750 | 14521.5800 |  5336.479 | 10380.560 |  8376.296 |  8669.4470 |\n",
       "| 0 | 0 | 0 | 0 | 0 | 0 | 0 | 0 | 0 | 0 | ⋯ |  8486.7300 | 10895.4300 | 11334.1700 |  9626.4190 | 13287.720 | 13860.6000 |  4856.406 |  1481.958 |  1245.484 |   946.0821 |\n",
       "| 0 | 0 | 0 | 0 | 0 | 0 | 0 | 0 | 0 | 0 | ⋯ |  5296.6310 | 13025.3900 | 13653.2800 |  6194.8940 | 12254.620 | 12706.3900 |  2550.418 |  5022.527 |  3210.169 |  3037.0680 |\n",
       "| 0 | 0 | 0 | 0 | 0 | 0 | 0 | 0 | 0 | 0 | ⋯ |  3014.9570 |  9893.4310 | 10569.2500 |  6897.3410 | 14957.250 | 15038.8300 |  2166.277 |  7733.619 |  5516.597 |  5740.6830 |\n",
       "| 0 | 0 | 0 | 0 | 0 | 0 | 0 | 0 | 0 | 0 | ⋯ |  6161.1460 |  8241.2140 |  8902.7890 |  9624.3820 | 17101.210 | 17508.5400 |  3179.689 |  5144.141 |  3405.935 |  3776.8670 |\n",
       "| 0 | 0 | 0 | 0 | 0 | 0 | 0 | 0 | 0 | 0 | ⋯ |  7720.3200 |  6895.0860 |  7521.9140 | 11262.6500 | 18117.360 | 18682.1000 |  4790.379 |  4813.559 |  3821.440 |  4216.9040 |\n",
       "| 0 | 0 | 0 | 0 | 0 | 0 | 0 | 0 | 0 | 0 | ⋯ |  4305.7100 | 16422.3900 | 16992.4800 |   990.7018 |  8225.835 |  8427.9220 |  6046.796 | 10149.710 |  8586.905 |  8393.0700 |\n",
       "| 0 | 0 | 0 | 0 | 0 | 0 | 0 | 0 | 0 | 0 | ⋯ |   294.7517 | 12277.6300 | 12891.5500 |  4037.8620 | 12043.600 | 12082.5500 |  3532.448 |  9603.731 |  7355.926 |  7417.8870 |\n",
       "| 0 | 0 | 0 | 0 | 0 | 0 | 0 | 0 | 0 | 0 | ⋯ |   998.6940 | 11555.7200 | 12196.3600 |  4909.3860 | 12945.850 | 12996.4300 |  2869.171 |  9001.902 |  6726.469 |  6835.0690 |\n",
       "| 0 | 0 | 0 | 0 | 0 | 0 | 0 | 0 | 0 | 0 | ⋯ | 13657.0500 | 13005.6800 | 12325.2800 |  9773.2160 |  1768.093 |  1604.5730 | 15824.680 | 13733.470 | 15217.570 | 14833.7500 |\n",
       "| 0 | 0 | 0 | 0 | 0 | 0 | 0 | 0 | 0 | 0 | ⋯ | 12367.7700 |   287.3291 |   592.5854 | 16250.5800 | 14615.450 | 14239.8800 | 11354.390 |  9769.264 | 10307.990 | 10645.4900 |\n",
       "| 0 | 0 | 0 | 0 | 0 | 0 | 0 | 0 | 0 | 0 | ⋯ |  5025.1700 |  7498.1220 |  8173.3950 |  9111.9090 | 17014.000 | 16881.0800 |  4116.375 |  7922.629 |  6121.553 |  6465.8930 |\n",
       "| 0 | 0 | 0 | 0 | 0 | 0 | 0 | 0 | 0 | 0 | ⋯ |  3343.8810 |  9072.4790 |  9732.6090 |  7428.5370 | 15379.000 | 15330.3200 |  3211.306 |  8412.611 |  6288.799 |  6555.4050 |\n",
       "| 0 | 0 | 0 | 0 | 0 | 0 | 0 | 0 | 0 | 0 | ⋯ | 12307.6500 | 13421.4500 | 12784.5500 |  8656.1520 |  1565.895 |  1004.6040 | 15079.580 | 14891.490 | 15864.090 | 15468.2600 |\n",
       "| 0 | 0 | 0 | 0 | 0 | 0 | 0 | 0 | 0 | 0 | ⋯ |  6163.4070 | 11326.6500 | 11924.8000 |  7900.6690 | 13797.480 | 14300.4800 |  2535.460 |  3698.366 |  1538.837 |  1515.2790 |\n",
       "| 0 | 0 | 0 | 0 | 0 | 0 | 0 | 0 | 0 | 0 | ⋯ |  5857.3360 | 10421.9800 | 11051.0200 |  8269.6250 | 14816.580 | 15293.0000 |  2109.884 |  4088.998 |  1821.461 |  2028.8960 |\n",
       "| 0 | 0 | 0 | 0 | 0 | 0 | 0 | 0 | 0 | 0 | ⋯ |  3128.8800 |  9010.1300 |  9630.7760 |  7205.8980 | 14824.880 | 14668.4000 |  4088.448 |  9462.487 |  7336.021 |  7596.3620 |\n",
       "| 0 | 0 | 0 | 0 | 0 | 0 | 0 | 0 | 0 | 0 | ⋯ | 15276.6600 |  5382.0150 |  5189.7680 | 17693.2000 | 12522.180 | 12621.4600 | 11924.600 |  6679.382 |  8541.538 |  8646.8600 |\n",
       "| 0 | 0 | 0 | 0 | 0 | 0 | 0 | 0 | 0 | 0 | ⋯ | 10179.6600 |  3308.9000 |  3428.6300 | 13159.2600 | 13612.160 | 13049.8000 | 11120.310 | 12581.720 | 12156.130 | 12552.1300 |\n",
       "| 0 | 0 | 0 | 0 | 0 | 0 | 0 | 0 | 0 | 0 | ⋯ |     0.0000 | 12122.1200 | 12722.7600 |  4109.1790 | 12054.370 | 12065.4000 |  3750.189 |  9848.628 |  7591.374 |  7664.5810 |\n",
       "| 0 | 0 | 0 | 0 | 0 | 0 | 0 | 0 | 0 | 0 | ⋯ |     0.0000 |     0.0000 |   685.6442 | 15972.7500 | 14710.950 | 14311.5300 | 11233.820 |  9908.777 | 10353.200 | 10699.6600 |\n",
       "| 0 | 0 | 0 | 0 | 0 | 0 | 0 | 0 | 0 | 0 | ⋯ |     0.0000 |     0.0000 |     0.0000 | 16429.7100 | 14039.950 | 13654.5000 | 11916.020 | 10253.690 | 10879.450 | 11211.3600 |\n",
       "| 0 | 0 | 0 | 0 | 0 | 0 | 0 | 0 | 0 | 0 | ⋯ |     0.0000 |     0.0000 |     0.0000 |     0.0000 |  8059.912 |  8174.8900 |  6508.590 | 11074.410 |  9393.863 |  9231.1780 |\n",
       "| 0 | 0 | 0 | 0 | 0 | 0 | 0 | 0 | 0 | 0 | ⋯ |     0.0000 |     0.0000 |     0.0000 |     0.0000 |     0.000 |   574.2394 | 14083.100 | 13451.970 | 14299.380 | 13903.2300 |\n",
       "| 0 | 0 | 0 | 0 | 0 | 0 | 0 | 0 | 0 | 0 | ⋯ |     0.0000 |     0.0000 |     0.0000 |     0.0000 |     0.000 |     0.0000 | 14392.150 | 14014.060 | 14860.680 | 14465.2000 |\n",
       "| 0 | 0 | 0 | 0 | 0 | 0 | 0 | 0 | 0 | 0 | ⋯ |     0.0000 |     0.0000 |     0.0000 |     0.0000 |     0.000 |     0.0000 |     0.000 |  6132.749 |  3857.897 |  3971.4740 |\n",
       "| 0 | 0 | 0 | 0 | 0 | 0 | 0 | 0 | 0 | 0 | ⋯ |     0.0000 |     0.0000 |     0.0000 |     0.0000 |     0.000 |     0.0000 |     0.000 |     0.000 |  2278.582 |  2186.2060 |\n",
       "| 0 | 0 | 0 | 0 | 0 | 0 | 0 | 0 | 0 | 0 | ⋯ |     0.0000 |     0.0000 |     0.0000 |     0.0000 |     0.000 |     0.0000 |     0.000 |     0.000 |     0.000 |   396.8041 |\n",
       "| 0 | 0 | 0 | 0 | 0 | 0 | 0 | 0 | 0 | 0 | ⋯ |     0.0000 |     0.0000 |     0.0000 |     0.0000 |     0.000 |     0.0000 |     0.000 |     0.000 |     0.000 |     0.0000 |\n",
       "\n"
      ],
      "text/plain": [
       "      [,1]   [,2]   [,3]     [,4]     [,5]     [,6]     [,7]      [,8]     \n",
       " [1,] 0      7607.8 4342.117 5806.359 1813.615 15298.50  2266.150 12297.090\n",
       " [2,] 0         0.0 5623.827 5837.088 5805.255  7792.03  6331.346  8746.965\n",
       " [3,] 0         0.0    0.000 1519.551 3702.809 11632.19  2077.855  8082.156\n",
       " [4,] 0         0.0    0.000    0.000 5209.695 10534.54  3563.803  6565.212\n",
       " [5,] 0         0.0    0.000    0.000    0.000 13557.20  1979.161 11712.020\n",
       " [6,] 0         0.0    0.000    0.000    0.000     0.00 13417.640  5776.082\n",
       " [7,] 0         0.0    0.000    0.000    0.000     0.00     0.000 10114.070\n",
       " [8,] 0         0.0    0.000    0.000    0.000     0.00     0.000     0.000\n",
       " [9,] 0         0.0    0.000    0.000    0.000     0.00     0.000     0.000\n",
       "[10,] 0         0.0    0.000    0.000    0.000     0.00     0.000     0.000\n",
       "[11,] 0         0.0    0.000    0.000    0.000     0.00     0.000     0.000\n",
       "[12,] 0         0.0    0.000    0.000    0.000     0.00     0.000     0.000\n",
       "[13,] 0         0.0    0.000    0.000    0.000     0.00     0.000     0.000\n",
       "[14,] 0         0.0    0.000    0.000    0.000     0.00     0.000     0.000\n",
       "[15,] 0         0.0    0.000    0.000    0.000     0.00     0.000     0.000\n",
       "[16,] 0         0.0    0.000    0.000    0.000     0.00     0.000     0.000\n",
       "[17,] 0         0.0    0.000    0.000    0.000     0.00     0.000     0.000\n",
       "[18,] 0         0.0    0.000    0.000    0.000     0.00     0.000     0.000\n",
       "[19,] 0         0.0    0.000    0.000    0.000     0.00     0.000     0.000\n",
       "[20,] 0         0.0    0.000    0.000    0.000     0.00     0.000     0.000\n",
       "[21,] 0         0.0    0.000    0.000    0.000     0.00     0.000     0.000\n",
       "[22,] 0         0.0    0.000    0.000    0.000     0.00     0.000     0.000\n",
       "[23,] 0         0.0    0.000    0.000    0.000     0.00     0.000     0.000\n",
       "[24,] 0         0.0    0.000    0.000    0.000     0.00     0.000     0.000\n",
       "[25,] 0         0.0    0.000    0.000    0.000     0.00     0.000     0.000\n",
       "[26,] 0         0.0    0.000    0.000    0.000     0.00     0.000     0.000\n",
       "[27,] 0         0.0    0.000    0.000    0.000     0.00     0.000     0.000\n",
       "[28,] 0         0.0    0.000    0.000    0.000     0.00     0.000     0.000\n",
       "[29,] 0         0.0    0.000    0.000    0.000     0.00     0.000     0.000\n",
       "[30,] 0         0.0    0.000    0.000    0.000     0.00     0.000     0.000\n",
       "[31,] <U+22EE> <U+22EE> <U+22EE> <U+22EE> <U+22EE> <U+22EE> <U+22EE>  <U+22EE> \n",
       "[32,] 0      0      0        0        0        0        0         0        \n",
       "[33,] 0      0      0        0        0        0        0         0        \n",
       "[34,] 0      0      0        0        0        0        0         0        \n",
       "[35,] 0      0      0        0        0        0        0         0        \n",
       "[36,] 0      0      0        0        0        0        0         0        \n",
       "[37,] 0      0      0        0        0        0        0         0        \n",
       "[38,] 0      0      0        0        0        0        0         0        \n",
       "[39,] 0      0      0        0        0        0        0         0        \n",
       "[40,] 0      0      0        0        0        0        0         0        \n",
       "[41,] 0      0      0        0        0        0        0         0        \n",
       "[42,] 0      0      0        0        0        0        0         0        \n",
       "[43,] 0      0      0        0        0        0        0         0        \n",
       "[44,] 0      0      0        0        0        0        0         0        \n",
       "[45,] 0      0      0        0        0        0        0         0        \n",
       "[46,] 0      0      0        0        0        0        0         0        \n",
       "[47,] 0      0      0        0        0        0        0         0        \n",
       "[48,] 0      0      0        0        0        0        0         0        \n",
       "[49,] 0      0      0        0        0        0        0         0        \n",
       "[50,] 0      0      0        0        0        0        0         0        \n",
       "[51,] 0      0      0        0        0        0        0         0        \n",
       "[52,] 0      0      0        0        0        0        0         0        \n",
       "[53,] 0      0      0        0        0        0        0         0        \n",
       "[54,] 0      0      0        0        0        0        0         0        \n",
       "[55,] 0      0      0        0        0        0        0         0        \n",
       "[56,] 0      0      0        0        0        0        0         0        \n",
       "[57,] 0      0      0        0        0        0        0         0        \n",
       "[58,] 0      0      0        0        0        0        0         0        \n",
       "[59,] 0      0      0        0        0        0        0         0        \n",
       "[60,] 0      0      0        0        0        0        0         0        \n",
       "[61,] 0      0      0        0        0        0        0         0        \n",
       "      [,9]     [,10]      [,11]  [,12]      [,13]      [,14]      [,15]     \n",
       " [1,] 11433.49  4568.0980 <U+22EF>   751.2709 12577.8200 13208.5700  3884.103 \n",
       " [2,] 13528.20  6357.0170 <U+22EF>  7977.3750  8587.4110  9137.9240 10637.650 \n",
       " [3,] 15722.44   812.9326 <U+22EF>  4072.6980  8309.6290  8971.8850  8172.986 \n",
       " [4,] 17230.53  1322.2010 <U+22EF>  5456.4360  6801.5780  7458.7620  9560.423 \n",
       " [5,] 12092.16  4245.8420 <U+22EF>  2318.6840 11886.6600 12567.7500  5265.521 \n",
       " [6,] 11801.36 11833.7600 <U+22EF> 15457.4500  5335.3510  5114.3140 17877.150 \n",
       " [7,] 13666.90  2399.4320 <U+22EF>  2081.2500 10363.6800 11015.2800  6124.733 \n",
       " [8,] 16255.91  7737.4980 <U+22EF> 11809.4700   442.4938   913.6557 15580.650 \n",
       " [9,]     0.00 15988.9500 <U+22EF> 11828.8400 16034.7900 15372.9300  7769.680 \n",
       "[10,]     0.00     0.0000 <U+22EF>  4164.0720  8009.7960  8645.7250  8254.594 \n",
       "[11,]     0.00     0.0000 <U+22EF>  1628.1900 10779.8000 11424.4100  5669.295 \n",
       "[12,]     0.00     0.0000 <U+22EF>  6402.6510 10161.9500 10768.7000  8760.929 \n",
       "[13,]     0.00     0.0000 <U+22EF>  4955.1260  7173.7860  7793.6810  8989.950 \n",
       "[14,]     0.00     0.0000 <U+22EF>  7606.9760  7016.3000  7645.4380 11133.580 \n",
       "[15,]     0.00     0.0000 <U+22EF>  7521.8240  6450.6350  7104.3610 11288.780 \n",
       "[16,]     0.00     0.0000 <U+22EF>  2771.9430 14894.0600 15488.4100  1622.246 \n",
       "[17,]     0.00     0.0000 <U+22EF>  3755.7810  8583.0630  9239.9980  7859.746 \n",
       "[18,]     0.00     0.0000 <U+22EF>  2392.1870 11461.0900 12141.8100  5621.641 \n",
       "[19,]     0.00     0.0000 <U+22EF> 11882.4900  2144.5120  1951.8750 14891.310 \n",
       "[20,]     0.00     0.0000 <U+22EF>  4106.9050  8179.6130  8833.4390  8216.021 \n",
       "[21,]     0.00     0.0000 <U+22EF>  3370.3590  8751.8500  9355.8410  7388.299 \n",
       "[22,]     0.00     0.0000 <U+22EF> 13141.0600  2991.5350  2472.8490 15487.460 \n",
       "[23,]     0.00     0.0000 <U+22EF> 15121.5300  3392.4130  3017.4100 19228.990 \n",
       "[24,]     0.00     0.0000 <U+22EF> 13836.3100  4386.2700  4393.2170 17191.680 \n",
       "[25,]     0.00     0.0000 <U+22EF> 12024.0200   175.5685   844.7064 15918.280 \n",
       "[26,]     0.00     0.0000 <U+22EF>  6077.0230 17972.3800 18294.0700  2042.273 \n",
       "[27,]     0.00     0.0000 <U+22EF>  2416.3380 14524.0600 15102.1700  1786.672 \n",
       "[28,]     0.00     0.0000 <U+22EF>  8598.1880 10346.3800 10792.2300 10031.040 \n",
       "[29,]     0.00     0.0000 <U+22EF>  6483.9700  8807.4990  9441.6870  9556.967 \n",
       "[30,]     0.00     0.0000 <U+22EF> 10073.9300  3806.9610  3871.3080 12816.550 \n",
       "[31,] <U+22EE> <U+22EE>   <U+22F1> <U+22EE>   <U+22EE>   <U+22EE>   <U+22EE>  \n",
       "[32,] 0        0          <U+22EF>  4350.0630  7866.1740  8511.6700  8452.7950\n",
       "[33,] 0        0          <U+22EF>  4018.9390  8150.8440  8722.9050  7893.2660\n",
       "[34,] 0        0          <U+22EF>  8486.7300 10895.4300 11334.1700  9626.4190\n",
       "[35,] 0        0          <U+22EF>  5296.6310 13025.3900 13653.2800  6194.8940\n",
       "[36,] 0        0          <U+22EF>  3014.9570  9893.4310 10569.2500  6897.3410\n",
       "[37,] 0        0          <U+22EF>  6161.1460  8241.2140  8902.7890  9624.3820\n",
       "[38,] 0        0          <U+22EF>  7720.3200  6895.0860  7521.9140 11262.6500\n",
       "[39,] 0        0          <U+22EF>  4305.7100 16422.3900 16992.4800   990.7018\n",
       "[40,] 0        0          <U+22EF>   294.7517 12277.6300 12891.5500  4037.8620\n",
       "[41,] 0        0          <U+22EF>   998.6940 11555.7200 12196.3600  4909.3860\n",
       "[42,] 0        0          <U+22EF> 13657.0500 13005.6800 12325.2800  9773.2160\n",
       "[43,] 0        0          <U+22EF> 12367.7700   287.3291   592.5854 16250.5800\n",
       "[44,] 0        0          <U+22EF>  5025.1700  7498.1220  8173.3950  9111.9090\n",
       "[45,] 0        0          <U+22EF>  3343.8810  9072.4790  9732.6090  7428.5370\n",
       "[46,] 0        0          <U+22EF> 12307.6500 13421.4500 12784.5500  8656.1520\n",
       "[47,] 0        0          <U+22EF>  6163.4070 11326.6500 11924.8000  7900.6690\n",
       "[48,] 0        0          <U+22EF>  5857.3360 10421.9800 11051.0200  8269.6250\n",
       "[49,] 0        0          <U+22EF>  3128.8800  9010.1300  9630.7760  7205.8980\n",
       "[50,] 0        0          <U+22EF> 15276.6600  5382.0150  5189.7680 17693.2000\n",
       "[51,] 0        0          <U+22EF> 10179.6600  3308.9000  3428.6300 13159.2600\n",
       "[52,] 0        0          <U+22EF>     0.0000 12122.1200 12722.7600  4109.1790\n",
       "[53,] 0        0          <U+22EF>     0.0000     0.0000   685.6442 15972.7500\n",
       "[54,] 0        0          <U+22EF>     0.0000     0.0000     0.0000 16429.7100\n",
       "[55,] 0        0          <U+22EF>     0.0000     0.0000     0.0000     0.0000\n",
       "[56,] 0        0          <U+22EF>     0.0000     0.0000     0.0000     0.0000\n",
       "[57,] 0        0          <U+22EF>     0.0000     0.0000     0.0000     0.0000\n",
       "[58,] 0        0          <U+22EF>     0.0000     0.0000     0.0000     0.0000\n",
       "[59,] 0        0          <U+22EF>     0.0000     0.0000     0.0000     0.0000\n",
       "[60,] 0        0          <U+22EF>     0.0000     0.0000     0.0000     0.0000\n",
       "[61,] 0        0          <U+22EF>     0.0000     0.0000     0.0000     0.0000\n",
       "      [,16]     [,17]      [,18]     [,19]     [,20]     [,21]     \n",
       " [1,] 11938.980 12020.440   3279.877  9273.133  7048.760  7088.1890\n",
       " [2,] 15999.400 16571.790   4352.742  2844.230  1791.822  2170.0120\n",
       " [3,] 16048.520 15940.780   3720.742  8378.260  6381.482  6686.4290\n",
       " [4,] 17008.950 16704.830   5058.757  8681.076  7009.829  7367.2050\n",
       " [5,] 13189.540 13390.290   1466.264  7530.202  5274.503  5347.1860\n",
       " [6,] 12384.600 12468.650  12133.340  6886.516  8756.319  8860.5500\n",
       " [7,] 14132.310 14144.440   2758.486  8671.851  6417.901  6606.1000\n",
       " [8,] 14726.570 14291.270  11149.980 10213.760 10528.720 10886.7600\n",
       " [9,]  2476.587  3050.820  12510.670 11015.120 11866.070 11469.3800\n",
       "[10,] 15797.090 15582.830   4453.244  9145.618  7185.723  7495.1490\n",
       "[11,] 13675.630 13693.540   2832.204  8876.221  6604.388  6765.0590\n",
       "[12,] 14956.770 15467.850   2657.690  3583.374  1351.626  1621.1910\n",
       "[13,] 16086.200 15758.120   5307.952  9535.728  7738.871  8076.0180\n",
       "[14,] 18038.720 18595.800   4659.114  4793.367  3739.363  4135.5800\n",
       "[15,] 18798.850 19301.720   4962.684  5573.391  4521.548  4918.3410\n",
       "[16,]  9635.566  9778.696   4904.915  9942.654  8035.376  7928.2530\n",
       "[17,] 15724.970 15623.200   3632.597  8539.735  6490.154  6780.3500\n",
       "[18,] 13589.550 13773.630   1373.443  7505.584  5231.338  5338.9550\n",
       "[19,] 13246.870 12746.820  12259.880 12044.290 12282.130 12653.2500\n",
       "[20,] 15984.860 15834.280   3998.167  8659.077  6679.170  6986.5910\n",
       "[21,] 14798.880 14592.710   4520.732  9808.949  7715.236  7985.5340\n",
       "[22,] 11915.410 11450.430  13729.430 12644.360 13339.940 13679.1000\n",
       "[23,] 12766.050 12634.180  12835.080  8698.602 10194.240 10394.7500\n",
       "[24,] 14074.320 14142.490  10779.750  6355.119  7826.946  8017.0500\n",
       "[25,] 14879.910 14483.980  11071.320  9759.612 10181.290 10528.9100\n",
       "[26,]  6376.179  6607.700   7806.164 10922.830  9810.656  9543.4950\n",
       "[27,]  9846.502  9955.817   4874.631 10157.010  8175.692  8094.1130\n",
       "[28,] 13787.880 14361.950   4891.108  1250.909  1061.931   935.6708\n",
       "[29,] 16412.580 16904.730   3059.706  4264.643  2451.927  2824.5500\n",
       "[30,] 13152.650 12584.990  11319.700 13117.460 12609.730 13006.5100\n",
       "[31,] <U+22EE>  <U+22EE>   <U+22EE>  <U+22EE>  <U+22EE>  <U+22EE>  \n",
       "[32,] 16064.460 15858.0300  4391.724  8912.863  6987.152  7304.9240\n",
       "[33,] 14818.750 14521.5800  5336.479 10380.560  8376.296  8669.4470\n",
       "[34,] 13287.720 13860.6000  4856.406  1481.958  1245.484   946.0821\n",
       "[35,] 12254.620 12706.3900  2550.418  5022.527  3210.169  3037.0680\n",
       "[36,] 14957.250 15038.8300  2166.277  7733.619  5516.597  5740.6830\n",
       "[37,] 17101.210 17508.5400  3179.689  5144.141  3405.935  3776.8670\n",
       "[38,] 18117.360 18682.1000  4790.379  4813.559  3821.440  4216.9040\n",
       "[39,]  8225.835  8427.9220  6046.796 10149.710  8586.905  8393.0700\n",
       "[40,] 12043.600 12082.5500  3532.448  9603.731  7355.926  7417.8870\n",
       "[41,] 12945.850 12996.4300  2869.171  9001.902  6726.469  6835.0690\n",
       "[42,]  1768.093  1604.5730 15824.680 13733.470 15217.570 14833.7500\n",
       "[43,] 14615.450 14239.8800 11354.390  9769.264 10307.990 10645.4900\n",
       "[44,] 17014.000 16881.0800  4116.375  7922.629  6121.553  6465.8930\n",
       "[45,] 15379.000 15330.3200  3211.306  8412.611  6288.799  6555.4050\n",
       "[46,]  1565.895  1004.6040 15079.580 14891.490 15864.090 15468.2600\n",
       "[47,] 13797.480 14300.4800  2535.460  3698.366  1538.837  1515.2790\n",
       "[48,] 14816.580 15293.0000  2109.884  4088.998  1821.461  2028.8960\n",
       "[49,] 14824.880 14668.4000  4088.448  9462.487  7336.021  7596.3620\n",
       "[50,] 12522.180 12621.4600 11924.600  6679.382  8541.538  8646.8600\n",
       "[51,] 13612.160 13049.8000 11120.310 12581.720 12156.130 12552.1300\n",
       "[52,] 12054.370 12065.4000  3750.189  9848.628  7591.374  7664.5810\n",
       "[53,] 14710.950 14311.5300 11233.820  9908.777 10353.200 10699.6600\n",
       "[54,] 14039.950 13654.5000 11916.020 10253.690 10879.450 11211.3600\n",
       "[55,]  8059.912  8174.8900  6508.590 11074.410  9393.863  9231.1780\n",
       "[56,]     0.000   574.2394 14083.100 13451.970 14299.380 13903.2300\n",
       "[57,]     0.000     0.0000 14392.150 14014.060 14860.680 14465.2000\n",
       "[58,]     0.000     0.0000     0.000  6132.749  3857.897  3971.4740\n",
       "[59,]     0.000     0.0000     0.000     0.000  2278.582  2186.2060\n",
       "[60,]     0.000     0.0000     0.000     0.000     0.000   396.8041\n",
       "[61,]     0.000     0.0000     0.000     0.000     0.000     0.0000"
      ]
     },
     "metadata": {},
     "output_type": "display_data"
    }
   ],
   "source": [
    "dist_matrix"
   ]
  },
  {
   "cell_type": "markdown",
   "id": "finished-domain",
   "metadata": {},
   "source": [
    "copying the upper triangle in the lower triangle of the network to be able to use the network as a directed one"
   ]
  },
  {
   "cell_type": "code",
   "execution_count": 191,
   "id": "mental-alaska",
   "metadata": {},
   "outputs": [],
   "source": [
    "dist_matrix = dist_matrix + t(dist_matrix)"
   ]
  },
  {
   "cell_type": "code",
   "execution_count": 197,
   "id": "dried-rachel",
   "metadata": {},
   "outputs": [],
   "source": [
    "wits.netlm = netlm(y = adj_matrix, x = log(dist_matrix), mode = 'digraph', diag = F)"
   ]
  },
  {
   "cell_type": "code",
   "execution_count": 198,
   "id": "advisory-homework",
   "metadata": {},
   "outputs": [
    {
     "data": {
      "text/plain": [
       "\n",
       "OLS Network Model\n",
       "\n",
       "Coefficients:\n",
       "            Estimate  Pr(<=b) Pr(>=b) Pr(>=|b|)\n",
       "(intercept) -42.99423 0.002   0.998   0.007    \n",
       "x1            6.62478 1.000   0.000   0.000    \n",
       "\n",
       "Residual standard error: 198 on 33670 degrees of freedom\n",
       "F-statistic: 22.85 on 1 and 33670 degrees of freedom, p-value: 1.756e-06 \n",
       "Multiple R-squared: 0.0006783 \tAdjusted R-squared: 0.0006486 \n"
      ]
     },
     "metadata": {},
     "output_type": "display_data"
    }
   ],
   "source": [
    "wits.netlm"
   ]
  },
  {
   "cell_type": "code",
   "execution_count": 200,
   "id": "harmful-people",
   "metadata": {},
   "outputs": [],
   "source": [
    "wits.qap = qaptest(dat = list(adj_matrix, dist_matrix), gcor, g1=1, g2=2, reps = 1000)"
   ]
  },
  {
   "cell_type": "code",
   "execution_count": 201,
   "id": "legitimate-fountain",
   "metadata": {},
   "outputs": [
    {
     "data": {
      "text/plain": [
       "\n",
       "QAP Test Results\n",
       "\n",
       "Estimated p-values:\n",
       "\tp(f(perm) >= f(d)): 0.011 \n",
       "\tp(f(perm) <= f(d)): 0.989 \n"
      ]
     },
     "metadata": {},
     "output_type": "display_data"
    }
   ],
   "source": [
    "wits.qap"
   ]
  },
  {
   "cell_type": "code",
   "execution_count": 203,
   "id": "administrative-final",
   "metadata": {},
   "outputs": [
    {
     "data": {
      "image/png": "[encoded data removed]",
      "text/plain": [
       "Plot with title \"Estimated Density of QAP Replications\""
      ]
     },
     "metadata": {
      "image/png": {
       "height": 420,
       "width": 420
      }
     },
     "output_type": "display_data"
    }
   ],
   "source": [
    "par(bg = 'white')\n",
    "plot(wits.qap)\n",
    "abline(v=wits.qap$testval, col='red')"
   ]
  }
 ],
 "metadata": {
  "kernelspec": {
   "display_name": "R",
   "language": "R",
   "name": "ir"
  },
  "language_info": {
   "codemirror_mode": "r",
   "file_extension": ".r",
   "mimetype": "text/x-r-source",
   "name": "R",
   "pygments_lexer": "r",
   "version": "4.0.3"
  }
 },
 "nbformat": 4,
 "nbformat_minor": 5
}
