{
 "cells": [
  {
   "cell_type": "code",
   "execution_count": 1,
   "id": "metallic-angola",
   "metadata": {},
   "outputs": [],
   "source": [
    "import numpy as np\n",
    "from sklearn import datasets\n",
    "import scipy.stats as stats\n",
    "import matplotlib.pyplot as plt\n",
    "import seaborn as sns\n",
    "import random\n",
    "import copy"
   ]
  },
  {
   "cell_type": "code",
   "execution_count": 2,
   "id": "coupled-protection",
   "metadata": {},
   "outputs": [],
   "source": [
    "irisd = datasets.load_iris()\n",
    "#Load only the first two features in each species:\n",
    "#Setosa:\n",
    "feat_set = irisd.data[np.where(irisd.target[:]==0)[0],:2]\n",
    "#Versicolor:\n",
    "feat_ver = irisd.data[np.where(irisd.target[:]==1)[0],:2]\n",
    "#Virginica:\n",
    "feat_vir = irisd.data[np.where(irisd.target[:]==2)[0],:2]"
   ]
  },
  {
   "cell_type": "code",
   "execution_count": 3,
   "id": "proud-unknown",
   "metadata": {},
   "outputs": [],
   "source": [
    "gT = np.abs(np.average(feat_vir[:,0]) - np.average(feat_ver[:,0]))"
   ]
  },
  {
   "cell_type": "code",
   "execution_count": 5,
   "id": "engaged-mounting",
   "metadata": {},
   "outputs": [],
   "source": [
    "pV = list(feat_vir[:,0]) + list(feat_ver[:,0])"
   ]
  },
  {
   "cell_type": "code",
   "execution_count": 7,
   "id": "respective-handy",
   "metadata": {},
   "outputs": [],
   "source": [
    "pS = copy.copy(pV)\n",
    "\n",
    "pD = []\n",
    "\n",
    "p=500\n",
    "\n",
    "for i in range(p):\n",
    "\n",
    "    random.shuffle(pS)\n",
    "\n",
    "    pD.append(np.abs(np.average(pS[0:int(len(pS)/2)]) - np.average(pS[int(len(pS)/2):])))"
   ]
  },
  {
   "cell_type": "code",
   "execution_count": 8,
   "id": "recent-compensation",
   "metadata": {},
   "outputs": [],
   "source": [
    "p_val = len(np.where(pD>=gT)[0])/p"
   ]
  },
  {
   "cell_type": "code",
   "execution_count": 9,
   "id": "analyzed-singing",
   "metadata": {},
   "outputs": [
    {
     "data": {
      "text/plain": [
       "<matplotlib.lines.Line2D at 0x7fe668a6c340>"
      ]
     },
     "execution_count": 9,
     "metadata": {},
     "output_type": "execute_result"
    },
    {
     "data": {
      "image/png": "[encoded data removed]",
      "text/plain": [
       "<Figure size 432x288 with 1 Axes>"
      ]
     },
     "metadata": {
      "needs_background": "light"
     },
     "output_type": "display_data"
    }
   ],
   "source": [
    "sns.histplot(pD, alpha=.5, kde=True, )\n",
    "plt.axvline(x=gT, color='red')"
   ]
  }
 ],
 "metadata": {
  "kernelspec": {
   "display_name": "Python 3",
   "language": "python",
   "name": "python3"
  },
  "language_info": {
   "codemirror_mode": {
    "name": "ipython",
    "version": 3
   },
   "file_extension": ".py",
   "mimetype": "text/x-python",
   "name": "python",
   "nbconvert_exporter": "python",
   "pygments_lexer": "ipython3",
   "version": "3.8.0"
  }
 },
 "nbformat": 4,
 "nbformat_minor": 5
}
