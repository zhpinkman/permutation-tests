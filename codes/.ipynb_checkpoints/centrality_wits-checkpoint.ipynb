{
 "cells": [
  {
   "cell_type": "code",
   "execution_count": 7,
   "id": "anticipated-lafayette",
   "metadata": {},
   "outputs": [],
   "source": [
    "library(tidyverse)\n",
    "library(igraph)"
   ]
  },
  {
   "cell_type": "code",
   "execution_count": 8,
   "id": "synthetic-official",
   "metadata": {},
   "outputs": [],
   "source": [
    "nodes = read.csv('../datasets/wits/nl_no_missing.csv')\n",
    "edges = read.csv('../datasets/wits/el_no_missing.csv')"
   ]
  },
  {
   "cell_type": "code",
   "execution_count": 9,
   "id": "favorite-swaziland",
   "metadata": {},
   "outputs": [
    {
     "data": {
      "text/html": [
       "<table class=\"dataframe\">\n",
       "<caption>A data.frame: 3 × 3</caption>\n",
       "<thead>\n",
       "\t<tr><th></th><th scope=col>source</th><th scope=col>target</th><th scope=col>weight</th></tr>\n",
       "\t<tr><th></th><th scope=col>&lt;chr&gt;</th><th scope=col>&lt;chr&gt;</th><th scope=col>&lt;dbl&gt;</th></tr>\n",
       "</thead>\n",
       "<tbody>\n",
       "\t<tr><th scope=row>1</th><td>NPL</td><td>LBR</td><td>97.061</td></tr>\n",
       "\t<tr><th scope=row>2</th><td>NPL</td><td>AZE</td><td>46.502</td></tr>\n",
       "\t<tr><th scope=row>3</th><td>NPL</td><td>JOR</td><td>25.551</td></tr>\n",
       "</tbody>\n",
       "</table>\n"
      ],
      "text/latex": [
       "A data.frame: 3 × 3\n",
       "\\begin{tabular}{r|lll}\n",
       "  & source & target & weight\\\\\n",
       "  & <chr> & <chr> & <dbl>\\\\\n",
       "\\hline\n",
       "\t1 & NPL & LBR & 97.061\\\\\n",
       "\t2 & NPL & AZE & 46.502\\\\\n",
       "\t3 & NPL & JOR & 25.551\\\\\n",
       "\\end{tabular}\n"
      ],
      "text/markdown": [
       "\n",
       "A data.frame: 3 × 3\n",
       "\n",
       "| <!--/--> | source &lt;chr&gt; | target &lt;chr&gt; | weight &lt;dbl&gt; |\n",
       "|---|---|---|---|\n",
       "| 1 | NPL | LBR | 97.061 |\n",
       "| 2 | NPL | AZE | 46.502 |\n",
       "| 3 | NPL | JOR | 25.551 |\n",
       "\n"
      ],
      "text/plain": [
       "  source target weight\n",
       "1 NPL    LBR    97.061\n",
       "2 NPL    AZE    46.502\n",
       "3 NPL    JOR    25.551"
      ]
     },
     "metadata": {},
     "output_type": "display_data"
    }
   ],
   "source": [
    "head(edges, 3)"
   ]
  },
  {
   "cell_type": "code",
   "execution_count": 10,
   "id": "invalid-creation",
   "metadata": {},
   "outputs": [],
   "source": [
    "n = dim(nodes)[1]\n",
    "N = 1000\n",
    "country_names = nodes$country_iso3\n",
    "nodes = transform(nodes, landlocked=as.logical(landlocked))"
   ]
  },
  {
   "cell_type": "code",
   "execution_count": 13,
   "id": "animal-screen",
   "metadata": {},
   "outputs": [],
   "source": [
    "trade_graph = igraph::graph_from_edgelist(as.matrix(edges[, c(\"source\", \"target\")]), directed = T) %>%\n",
    "    igraph::set_edge_attr(name = \"weight\", value = edges$weight)"
   ]
  },
  {
   "cell_type": "code",
   "execution_count": 41,
   "id": "authentic-vegetable",
   "metadata": {},
   "outputs": [],
   "source": [
    "btwn_centrality = betweenness(trade_graph)"
   ]
  },
  {
   "cell_type": "code",
   "execution_count": 42,
   "id": "confirmed-carol",
   "metadata": {},
   "outputs": [],
   "source": [
    "eigen_centrality = evcent(trade_graph)$vector"
   ]
  },
  {
   "cell_type": "code",
   "execution_count": 43,
   "id": "blind-shore",
   "metadata": {},
   "outputs": [],
   "source": [
    "degree_centrality = degree(trade_graph, mode = 'out')"
   ]
  },
  {
   "cell_type": "code",
   "execution_count": 44,
   "id": "wrong-windows",
   "metadata": {},
   "outputs": [],
   "source": [
    "hubs = hub_score(trade_graph)$vector"
   ]
  },
  {
   "cell_type": "code",
   "execution_count": 45,
   "id": "protective-festival",
   "metadata": {},
   "outputs": [],
   "source": [
    "authorities = authority_score(trade_graph)$vector"
   ]
  },
  {
   "cell_type": "code",
   "execution_count": 54,
   "id": "amended-president",
   "metadata": {},
   "outputs": [],
   "source": [
    "centralities_data_frame = data.frame(\n",
    "    btwn_centrality = btwn_centrality, \n",
    "    eigen_centrality = eigen_centrality, \n",
    "    degree_centrality = degree_centrality, \n",
    "    hubs_centrality = hubs, \n",
    "    authority_centrality = authorities\n",
    ")"
   ]
  },
  {
   "cell_type": "code",
   "execution_count": 56,
   "id": "neutral-suffering",
   "metadata": {},
   "outputs": [
    {
     "data": {
      "text/html": [
       "<table class=\"dataframe\">\n",
       "<caption>A data.frame: 3 × 5</caption>\n",
       "<thead>\n",
       "\t<tr><th></th><th scope=col>btwn_centrality</th><th scope=col>eigen_centrality</th><th scope=col>degree_centrality</th><th scope=col>hubs_centrality</th><th scope=col>authority_centrality</th></tr>\n",
       "\t<tr><th></th><th scope=col>&lt;dbl&gt;</th><th scope=col>&lt;dbl&gt;</th><th scope=col>&lt;dbl&gt;</th><th scope=col>&lt;dbl&gt;</th><th scope=col>&lt;dbl&gt;</th></tr>\n",
       "</thead>\n",
       "<tbody>\n",
       "\t<tr><th scope=row>NPL</th><td>2718.5</td><td>0.001341521</td><td>111</td><td>3.489081e-04</td><td>0.001726699</td></tr>\n",
       "\t<tr><th scope=row>LBR</th><td>   0.0</td><td>0.006823909</td><td>  0</td><td>3.582447e-17</td><td>0.009655128</td></tr>\n",
       "\t<tr><th scope=row>AZE</th><td> 506.0</td><td>0.007870434</td><td> 91</td><td>1.055237e-02</td><td>0.002783460</td></tr>\n",
       "</tbody>\n",
       "</table>\n"
      ],
      "text/latex": [
       "A data.frame: 3 × 5\n",
       "\\begin{tabular}{r|lllll}\n",
       "  & btwn\\_centrality & eigen\\_centrality & degree\\_centrality & hubs\\_centrality & authority\\_centrality\\\\\n",
       "  & <dbl> & <dbl> & <dbl> & <dbl> & <dbl>\\\\\n",
       "\\hline\n",
       "\tNPL & 2718.5 & 0.001341521 & 111 & 3.489081e-04 & 0.001726699\\\\\n",
       "\tLBR &    0.0 & 0.006823909 &   0 & 3.582447e-17 & 0.009655128\\\\\n",
       "\tAZE &  506.0 & 0.007870434 &  91 & 1.055237e-02 & 0.002783460\\\\\n",
       "\\end{tabular}\n"
      ],
      "text/markdown": [
       "\n",
       "A data.frame: 3 × 5\n",
       "\n",
       "| <!--/--> | btwn_centrality &lt;dbl&gt; | eigen_centrality &lt;dbl&gt; | degree_centrality &lt;dbl&gt; | hubs_centrality &lt;dbl&gt; | authority_centrality &lt;dbl&gt; |\n",
       "|---|---|---|---|---|---|\n",
       "| NPL | 2718.5 | 0.001341521 | 111 | 3.489081e-04 | 0.001726699 |\n",
       "| LBR |    0.0 | 0.006823909 |   0 | 3.582447e-17 | 0.009655128 |\n",
       "| AZE |  506.0 | 0.007870434 |  91 | 1.055237e-02 | 0.002783460 |\n",
       "\n"
      ],
      "text/plain": [
       "    btwn_centrality eigen_centrality degree_centrality hubs_centrality\n",
       "NPL 2718.5          0.001341521      111               3.489081e-04   \n",
       "LBR    0.0          0.006823909        0               3.582447e-17   \n",
       "AZE  506.0          0.007870434       91               1.055237e-02   \n",
       "    authority_centrality\n",
       "NPL 0.001726699         \n",
       "LBR 0.009655128         \n",
       "AZE 0.002783460         "
      ]
     },
     "metadata": {},
     "output_type": "display_data"
    }
   ],
   "source": [
    "head(centralities_data_frame, 3)"
   ]
  },
  {
   "cell_type": "code",
   "execution_count": 69,
   "id": "statewide-clock",
   "metadata": {},
   "outputs": [],
   "source": [
    "country_names = attr(centralities_data_frame, 'row.names')\n",
    "max_centralities = data.frame()\n",
    "for (col in colnames(centralities_data_frame)) {\n",
    "    max_centrality_index = which(centralities_data_frame[, col] == max(centralities_data_frame[, col]))\n",
    "    max_centralities = max_centralities %>% \n",
    "        dplyr::bind_rows(\n",
    "            data.frame(\n",
    "                country = country_names[max_centrality_index], \n",
    "                centrality = col, \n",
    "                centrality_score = centralities_data_frame[max_centrality_index, col]\n",
    "            )\n",
    "        )\n",
    "}"
   ]
  },
  {
   "cell_type": "code",
   "execution_count": 70,
   "id": "wicked-nurse",
   "metadata": {},
   "outputs": [
    {
     "data": {
      "text/html": [
       "<table class=\"dataframe\">\n",
       "<caption>A data.frame: 5 × 3</caption>\n",
       "<thead>\n",
       "\t<tr><th scope=col>country</th><th scope=col>centrality</th><th scope=col>centrality_score</th></tr>\n",
       "\t<tr><th scope=col>&lt;chr&gt;</th><th scope=col>&lt;chr&gt;</th><th scope=col>&lt;dbl&gt;</th></tr>\n",
       "</thead>\n",
       "<tbody>\n",
       "\t<tr><td>BIH</td><td>btwn_centrality     </td><td>4885</td></tr>\n",
       "\t<tr><td>USA</td><td>eigen_centrality    </td><td>   1</td></tr>\n",
       "\t<tr><td>IRL</td><td>degree_centrality   </td><td> 141</td></tr>\n",
       "\t<tr><td>CHN</td><td>hubs_centrality     </td><td>   1</td></tr>\n",
       "\t<tr><td>USA</td><td>authority_centrality</td><td>   1</td></tr>\n",
       "</tbody>\n",
       "</table>\n"
      ],
      "text/latex": [
       "A data.frame: 5 × 3\n",
       "\\begin{tabular}{lll}\n",
       " country & centrality & centrality\\_score\\\\\n",
       " <chr> & <chr> & <dbl>\\\\\n",
       "\\hline\n",
       "\t BIH & btwn\\_centrality      & 4885\\\\\n",
       "\t USA & eigen\\_centrality     &    1\\\\\n",
       "\t IRL & degree\\_centrality    &  141\\\\\n",
       "\t CHN & hubs\\_centrality      &    1\\\\\n",
       "\t USA & authority\\_centrality &    1\\\\\n",
       "\\end{tabular}\n"
      ],
      "text/markdown": [
       "\n",
       "A data.frame: 5 × 3\n",
       "\n",
       "| country &lt;chr&gt; | centrality &lt;chr&gt; | centrality_score &lt;dbl&gt; |\n",
       "|---|---|---|\n",
       "| BIH | btwn_centrality      | 4885 |\n",
       "| USA | eigen_centrality     |    1 |\n",
       "| IRL | degree_centrality    |  141 |\n",
       "| CHN | hubs_centrality      |    1 |\n",
       "| USA | authority_centrality |    1 |\n",
       "\n"
      ],
      "text/plain": [
       "  country centrality           centrality_score\n",
       "1 BIH     btwn_centrality      4885            \n",
       "2 USA     eigen_centrality        1            \n",
       "3 IRL     degree_centrality     141            \n",
       "4 CHN     hubs_centrality         1            \n",
       "5 USA     authority_centrality    1            "
      ]
     },
     "metadata": {},
     "output_type": "display_data"
    }
   ],
   "source": [
    "max_centralities"
   ]
  }
 ],
 "metadata": {
  "kernelspec": {
   "display_name": "R",
   "language": "R",
   "name": "ir"
  },
  "language_info": {
   "codemirror_mode": "r",
   "file_extension": ".r",
   "mimetype": "text/x-r-source",
   "name": "R",
   "pygments_lexer": "r",
   "version": "4.0.3"
  }
 },
 "nbformat": 4,
 "nbformat_minor": 5
}
