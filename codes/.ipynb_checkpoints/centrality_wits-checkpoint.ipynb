{
 "cells": [
  {
   "cell_type": "code",
   "execution_count": 101,
   "id": "organized-canberra",
   "metadata": {},
   "outputs": [],
   "source": [
    "library(tidyverse)\n",
    "library(igraph)"
   ]
  },
  {
   "cell_type": "code",
   "execution_count": 102,
   "id": "supported-passport",
   "metadata": {},
   "outputs": [],
   "source": [
    "nodes = read.csv('../datasets/wits/nl_no_missing.csv')\n",
    "edges = read.csv('../datasets/wits/el_no_missing.csv')"
   ]
  },
  {
   "cell_type": "code",
   "execution_count": 103,
   "id": "mounted-density",
   "metadata": {},
   "outputs": [
    {
     "data": {
      "text/html": [
       "<table class=\"dataframe\">\n",
       "<caption>A data.frame: 3 × 3</caption>\n",
       "<thead>\n",
       "\t<tr><th></th><th scope=col>source</th><th scope=col>target</th><th scope=col>weight</th></tr>\n",
       "\t<tr><th></th><th scope=col>&lt;chr&gt;</th><th scope=col>&lt;chr&gt;</th><th scope=col>&lt;dbl&gt;</th></tr>\n",
       "</thead>\n",
       "<tbody>\n",
       "\t<tr><th scope=row>1</th><td>NPL</td><td>LBR</td><td>97.061</td></tr>\n",
       "\t<tr><th scope=row>2</th><td>NPL</td><td>AZE</td><td>46.502</td></tr>\n",
       "\t<tr><th scope=row>3</th><td>NPL</td><td>JOR</td><td>25.551</td></tr>\n",
       "</tbody>\n",
       "</table>\n"
      ],
      "text/latex": [
       "A data.frame: 3 × 3\n",
       "\\begin{tabular}{r|lll}\n",
       "  & source & target & weight\\\\\n",
       "  & <chr> & <chr> & <dbl>\\\\\n",
       "\\hline\n",
       "\t1 & NPL & LBR & 97.061\\\\\n",
       "\t2 & NPL & AZE & 46.502\\\\\n",
       "\t3 & NPL & JOR & 25.551\\\\\n",
       "\\end{tabular}\n"
      ],
      "text/markdown": [
       "\n",
       "A data.frame: 3 × 3\n",
       "\n",
       "| <!--/--> | source &lt;chr&gt; | target &lt;chr&gt; | weight &lt;dbl&gt; |\n",
       "|---|---|---|---|\n",
       "| 1 | NPL | LBR | 97.061 |\n",
       "| 2 | NPL | AZE | 46.502 |\n",
       "| 3 | NPL | JOR | 25.551 |\n",
       "\n"
      ],
      "text/plain": [
       "  source target weight\n",
       "1 NPL    LBR    97.061\n",
       "2 NPL    AZE    46.502\n",
       "3 NPL    JOR    25.551"
      ]
     },
     "metadata": {},
     "output_type": "display_data"
    }
   ],
   "source": [
    "head(edges, 3)"
   ]
  },
  {
   "cell_type": "code",
   "execution_count": 118,
   "id": "innocent-register",
   "metadata": {},
   "outputs": [
    {
     "data": {
      "text/html": [
       "<table class=\"dataframe\">\n",
       "<caption>A data.frame: 3 × 24</caption>\n",
       "<thead>\n",
       "\t<tr><th></th><th scope=col>country_iso3</th><th scope=col>gdp_us_dollar</th><th scope=col>inflation_rate</th><th scope=col>gdp_growth</th><th scope=col>colonizer</th><th scope=col>area</th><th scope=col>landlocked</th><th scope=col>continent</th><th scope=col>langoff_1</th><th scope=col>population</th><th scope=col>⋯</th><th scope=col>industry_of_gdp</th><th scope=col>merchandise_of_gdp</th><th scope=col>net_barter_of_trade</th><th scope=col>foreign_direct_investment_inflows</th><th scope=col>happiness</th><th scope=col>btwn_centrality</th><th scope=col>eigen_centrality</th><th scope=col>degree_centrality</th><th scope=col>hubs_centrality</th><th scope=col>authority_centrality</th></tr>\n",
       "\t<tr><th></th><th scope=col>&lt;chr&gt;</th><th scope=col>&lt;dbl&gt;</th><th scope=col>&lt;dbl&gt;</th><th scope=col>&lt;dbl&gt;</th><th scope=col>&lt;chr&gt;</th><th scope=col>&lt;int&gt;</th><th scope=col>&lt;lgl&gt;</th><th scope=col>&lt;chr&gt;</th><th scope=col>&lt;chr&gt;</th><th scope=col>&lt;int&gt;</th><th scope=col>⋯</th><th scope=col>&lt;dbl&gt;</th><th scope=col>&lt;dbl&gt;</th><th scope=col>&lt;dbl&gt;</th><th scope=col>&lt;dbl&gt;</th><th scope=col>&lt;dbl&gt;</th><th scope=col>&lt;dbl&gt;</th><th scope=col>&lt;dbl&gt;</th><th scope=col>&lt;dbl&gt;</th><th scope=col>&lt;dbl&gt;</th><th scope=col>&lt;dbl&gt;</th></tr>\n",
       "</thead>\n",
       "<tbody>\n",
       "\t<tr><th scope=row>1</th><td>AFG</td><td> 17804292964</td><td>11.804186</td><td>0.4263548</td><td>USA </td><td> 652225</td><td> TRUE</td><td>Asia  </td><td>Persian   </td><td>30117411</td><td>⋯</td><td>22.74025</td><td>38.70415</td><td>144.7519</td><td>   52173421</td><td>0.721</td><td>249</td><td>0.002981270</td><td>30</td><td>3.742178e-05</td><td>0.0020662759</td></tr>\n",
       "\t<tr><th scope=row>2</th><td>AGO</td><td>111789686464</td><td>13.482468</td><td>3.4719763</td><td>PRT </td><td>1246700</td><td>FALSE</td><td>Africa</td><td>Portuguese</td><td>24220660</td><td>⋯</td><td>56.02651</td><td>78.30597</td><td>244.3292</td><td>-3023770966</td><td>0.708</td><td>  0</td><td>0.035933794</td><td>28</td><td>5.409006e-02</td><td>0.0050687558</td></tr>\n",
       "\t<tr><th scope=row>3</th><td>ALB</td><td> 12890765324</td><td> 3.429123</td><td>2.5453218</td><td>NONE</td><td>  28748</td><td>FALSE</td><td>Europe</td><td>Albanian  </td><td> 2905195</td><td>⋯</td><td>24.48441</td><td>56.86241</td><td> 94.3372</td><td> 1048706682</td><td>0.568</td><td>580</td><td>0.001082461</td><td>83</td><td>4.691075e-04</td><td>0.0009513973</td></tr>\n",
       "</tbody>\n",
       "</table>\n"
      ],
      "text/latex": [
       "A data.frame: 3 × 24\n",
       "\\begin{tabular}{r|lllllllllllllllllllll}\n",
       "  & country\\_iso3 & gdp\\_us\\_dollar & inflation\\_rate & gdp\\_growth & colonizer & area & landlocked & continent & langoff\\_1 & population & ⋯ & industry\\_of\\_gdp & merchandise\\_of\\_gdp & net\\_barter\\_of\\_trade & foreign\\_direct\\_investment\\_inflows & happiness & btwn\\_centrality & eigen\\_centrality & degree\\_centrality & hubs\\_centrality & authority\\_centrality\\\\\n",
       "  & <chr> & <dbl> & <dbl> & <dbl> & <chr> & <int> & <lgl> & <chr> & <chr> & <int> & ⋯ & <dbl> & <dbl> & <dbl> & <dbl> & <dbl> & <dbl> & <dbl> & <dbl> & <dbl> & <dbl>\\\\\n",
       "\\hline\n",
       "\t1 & AFG &  17804292964 & 11.804186 & 0.4263548 & USA  &  652225 &  TRUE & Asia   & Persian    & 30117411 & ⋯ & 22.74025 & 38.70415 & 144.7519 &    52173421 & 0.721 & 249 & 0.002981270 & 30 & 3.742178e-05 & 0.0020662759\\\\\n",
       "\t2 & AGO & 111789686464 & 13.482468 & 3.4719763 & PRT  & 1246700 & FALSE & Africa & Portuguese & 24220660 & ⋯ & 56.02651 & 78.30597 & 244.3292 & -3023770966 & 0.708 &   0 & 0.035933794 & 28 & 5.409006e-02 & 0.0050687558\\\\\n",
       "\t3 & ALB &  12890765324 &  3.429123 & 2.5453218 & NONE &   28748 & FALSE & Europe & Albanian   &  2905195 & ⋯ & 24.48441 & 56.86241 &  94.3372 &  1048706682 & 0.568 & 580 & 0.001082461 & 83 & 4.691075e-04 & 0.0009513973\\\\\n",
       "\\end{tabular}\n"
      ],
      "text/markdown": [
       "\n",
       "A data.frame: 3 × 24\n",
       "\n",
       "| <!--/--> | country_iso3 &lt;chr&gt; | gdp_us_dollar &lt;dbl&gt; | inflation_rate &lt;dbl&gt; | gdp_growth &lt;dbl&gt; | colonizer &lt;chr&gt; | area &lt;int&gt; | landlocked &lt;lgl&gt; | continent &lt;chr&gt; | langoff_1 &lt;chr&gt; | population &lt;int&gt; | ⋯ ⋯ | industry_of_gdp &lt;dbl&gt; | merchandise_of_gdp &lt;dbl&gt; | net_barter_of_trade &lt;dbl&gt; | foreign_direct_investment_inflows &lt;dbl&gt; | happiness &lt;dbl&gt; | btwn_centrality &lt;dbl&gt; | eigen_centrality &lt;dbl&gt; | degree_centrality &lt;dbl&gt; | hubs_centrality &lt;dbl&gt; | authority_centrality &lt;dbl&gt; |\n",
       "|---|---|---|---|---|---|---|---|---|---|---|---|---|---|---|---|---|---|---|---|---|---|\n",
       "| 1 | AFG |  17804292964 | 11.804186 | 0.4263548 | USA  |  652225 |  TRUE | Asia   | Persian    | 30117411 | ⋯ | 22.74025 | 38.70415 | 144.7519 |    52173421 | 0.721 | 249 | 0.002981270 | 30 | 3.742178e-05 | 0.0020662759 |\n",
       "| 2 | AGO | 111789686464 | 13.482468 | 3.4719763 | PRT  | 1246700 | FALSE | Africa | Portuguese | 24220660 | ⋯ | 56.02651 | 78.30597 | 244.3292 | -3023770966 | 0.708 |   0 | 0.035933794 | 28 | 5.409006e-02 | 0.0050687558 |\n",
       "| 3 | ALB |  12890765324 |  3.429123 | 2.5453218 | NONE |   28748 | FALSE | Europe | Albanian   |  2905195 | ⋯ | 24.48441 | 56.86241 |  94.3372 |  1048706682 | 0.568 | 580 | 0.001082461 | 83 | 4.691075e-04 | 0.0009513973 |\n",
       "\n"
      ],
      "text/plain": [
       "  country_iso3 gdp_us_dollar inflation_rate gdp_growth colonizer area   \n",
       "1 AFG           17804292964  11.804186      0.4263548  USA        652225\n",
       "2 AGO          111789686464  13.482468      3.4719763  PRT       1246700\n",
       "3 ALB           12890765324   3.429123      2.5453218  NONE        28748\n",
       "  landlocked continent langoff_1  population <U+22EF>   industry_of_gdp\n",
       "1  TRUE      Asia      Persian    30117411   <U+22EF> 22.74025       \n",
       "2 FALSE      Africa    Portuguese 24220660   <U+22EF> 56.02651       \n",
       "3 FALSE      Europe    Albanian    2905195   <U+22EF> 24.48441       \n",
       "  merchandise_of_gdp net_barter_of_trade foreign_direct_investment_inflows\n",
       "1 38.70415           144.7519               52173421                      \n",
       "2 78.30597           244.3292            -3023770966                      \n",
       "3 56.86241            94.3372             1048706682                      \n",
       "  happiness btwn_centrality eigen_centrality degree_centrality hubs_centrality\n",
       "1 0.721     249             0.002981270      30                3.742178e-05   \n",
       "2 0.708       0             0.035933794      28                5.409006e-02   \n",
       "3 0.568     580             0.001082461      83                4.691075e-04   \n",
       "  authority_centrality\n",
       "1 0.0020662759        \n",
       "2 0.0050687558        \n",
       "3 0.0009513973        "
      ]
     },
     "metadata": {},
     "output_type": "display_data"
    }
   ],
   "source": [
    "head(nodes, 3)"
   ]
  },
  {
   "cell_type": "code",
   "execution_count": 104,
   "id": "agreed-camcorder",
   "metadata": {},
   "outputs": [],
   "source": [
    "n = dim(nodes)[1]\n",
    "N = 1000\n",
    "country_names = nodes$country_iso3\n",
    "nodes = transform(nodes, landlocked=as.logical(landlocked))"
   ]
  },
  {
   "cell_type": "code",
   "execution_count": 105,
   "id": "developing-boring",
   "metadata": {},
   "outputs": [],
   "source": [
    "trade_graph = igraph::graph_from_edgelist(as.matrix(edges[, c(\"source\", \"target\")]), directed = T) %>%\n",
    "    igraph::set_edge_attr(name = \"weight\", value = edges$weight)"
   ]
  },
  {
   "cell_type": "code",
   "execution_count": 106,
   "id": "artistic-dynamics",
   "metadata": {},
   "outputs": [],
   "source": [
    "btwn_centrality = betweenness(trade_graph)"
   ]
  },
  {
   "cell_type": "code",
   "execution_count": 107,
   "id": "alive-metabolism",
   "metadata": {},
   "outputs": [],
   "source": [
    "eigen_centrality = evcent(trade_graph)$vector"
   ]
  },
  {
   "cell_type": "code",
   "execution_count": 108,
   "id": "cardiac-likelihood",
   "metadata": {},
   "outputs": [],
   "source": [
    "degree_centrality = degree(trade_graph, mode = 'out')"
   ]
  },
  {
   "cell_type": "code",
   "execution_count": 109,
   "id": "frozen-sight",
   "metadata": {},
   "outputs": [],
   "source": [
    "hubs = hub_score(trade_graph)$vector"
   ]
  },
  {
   "cell_type": "code",
   "execution_count": 110,
   "id": "graphic-character",
   "metadata": {},
   "outputs": [],
   "source": [
    "authorities = authority_score(trade_graph)$vector"
   ]
  },
  {
   "cell_type": "code",
   "execution_count": 111,
   "id": "sunrise-photographer",
   "metadata": {},
   "outputs": [],
   "source": [
    "centralities_data_frame = data.frame(\n",
    "    name = names(btwn_centrality), \n",
    "    btwn_centrality = btwn_centrality, \n",
    "    eigen_centrality = eigen_centrality, \n",
    "    degree_centrality = degree_centrality, \n",
    "    hubs_centrality = hubs, \n",
    "    authority_centrality = authorities\n",
    ")"
   ]
  },
  {
   "cell_type": "code",
   "execution_count": 112,
   "id": "radical-kinase",
   "metadata": {},
   "outputs": [
    {
     "data": {
      "text/html": [
       "<table class=\"dataframe\">\n",
       "<caption>A data.frame: 3 × 6</caption>\n",
       "<thead>\n",
       "\t<tr><th></th><th scope=col>name</th><th scope=col>btwn_centrality</th><th scope=col>eigen_centrality</th><th scope=col>degree_centrality</th><th scope=col>hubs_centrality</th><th scope=col>authority_centrality</th></tr>\n",
       "\t<tr><th></th><th scope=col>&lt;chr&gt;</th><th scope=col>&lt;dbl&gt;</th><th scope=col>&lt;dbl&gt;</th><th scope=col>&lt;dbl&gt;</th><th scope=col>&lt;dbl&gt;</th><th scope=col>&lt;dbl&gt;</th></tr>\n",
       "</thead>\n",
       "<tbody>\n",
       "\t<tr><th scope=row>NPL</th><td>NPL</td><td>2718.5</td><td>0.001341521</td><td>111</td><td>3.489081e-04</td><td>0.001726699</td></tr>\n",
       "\t<tr><th scope=row>LBR</th><td>LBR</td><td>   0.0</td><td>0.006823909</td><td>  0</td><td>3.582447e-17</td><td>0.009655128</td></tr>\n",
       "\t<tr><th scope=row>AZE</th><td>AZE</td><td> 506.0</td><td>0.007870434</td><td> 91</td><td>1.055237e-02</td><td>0.002783460</td></tr>\n",
       "</tbody>\n",
       "</table>\n"
      ],
      "text/latex": [
       "A data.frame: 3 × 6\n",
       "\\begin{tabular}{r|llllll}\n",
       "  & name & btwn\\_centrality & eigen\\_centrality & degree\\_centrality & hubs\\_centrality & authority\\_centrality\\\\\n",
       "  & <chr> & <dbl> & <dbl> & <dbl> & <dbl> & <dbl>\\\\\n",
       "\\hline\n",
       "\tNPL & NPL & 2718.5 & 0.001341521 & 111 & 3.489081e-04 & 0.001726699\\\\\n",
       "\tLBR & LBR &    0.0 & 0.006823909 &   0 & 3.582447e-17 & 0.009655128\\\\\n",
       "\tAZE & AZE &  506.0 & 0.007870434 &  91 & 1.055237e-02 & 0.002783460\\\\\n",
       "\\end{tabular}\n"
      ],
      "text/markdown": [
       "\n",
       "A data.frame: 3 × 6\n",
       "\n",
       "| <!--/--> | name &lt;chr&gt; | btwn_centrality &lt;dbl&gt; | eigen_centrality &lt;dbl&gt; | degree_centrality &lt;dbl&gt; | hubs_centrality &lt;dbl&gt; | authority_centrality &lt;dbl&gt; |\n",
       "|---|---|---|---|---|---|---|\n",
       "| NPL | NPL | 2718.5 | 0.001341521 | 111 | 3.489081e-04 | 0.001726699 |\n",
       "| LBR | LBR |    0.0 | 0.006823909 |   0 | 3.582447e-17 | 0.009655128 |\n",
       "| AZE | AZE |  506.0 | 0.007870434 |  91 | 1.055237e-02 | 0.002783460 |\n",
       "\n"
      ],
      "text/plain": [
       "    name btwn_centrality eigen_centrality degree_centrality hubs_centrality\n",
       "NPL NPL  2718.5          0.001341521      111               3.489081e-04   \n",
       "LBR LBR     0.0          0.006823909        0               3.582447e-17   \n",
       "AZE AZE   506.0          0.007870434       91               1.055237e-02   \n",
       "    authority_centrality\n",
       "NPL 0.001726699         \n",
       "LBR 0.009655128         \n",
       "AZE 0.002783460         "
      ]
     },
     "metadata": {},
     "output_type": "display_data"
    }
   ],
   "source": [
    "head(centralities_data_frame, 3)"
   ]
  },
  {
   "cell_type": "code",
   "execution_count": 113,
   "id": "bearing-teddy",
   "metadata": {},
   "outputs": [],
   "source": [
    "country_names = attr(centralities_data_frame, 'row.names')\n",
    "centralities = c('btwn_centrality', 'eigen_centrality', 'degree_centrality', 'hubs_centrality', 'authority_centrality')\n",
    "max_centralities = data.frame()\n",
    "for (col in centralities) {\n",
    "    max_centrality_index = which(centralities_data_frame[, col] == max(centralities_data_frame[, col]))\n",
    "    max_centralities = max_centralities %>% \n",
    "        dplyr::bind_rows(\n",
    "            data.frame(\n",
    "                country = country_names[max_centrality_index], \n",
    "                centrality = col, \n",
    "                centrality_score = centralities_data_frame[max_centrality_index, col]\n",
    "            )\n",
    "        )\n",
    "}"
   ]
  },
  {
   "cell_type": "code",
   "execution_count": 114,
   "id": "satisfactory-mechanism",
   "metadata": {},
   "outputs": [
    {
     "data": {
      "text/html": [
       "<table class=\"dataframe\">\n",
       "<caption>A data.frame: 5 × 3</caption>\n",
       "<thead>\n",
       "\t<tr><th scope=col>country</th><th scope=col>centrality</th><th scope=col>centrality_score</th></tr>\n",
       "\t<tr><th scope=col>&lt;chr&gt;</th><th scope=col>&lt;chr&gt;</th><th scope=col>&lt;dbl&gt;</th></tr>\n",
       "</thead>\n",
       "<tbody>\n",
       "\t<tr><td>BIH</td><td>btwn_centrality     </td><td>4885</td></tr>\n",
       "\t<tr><td>USA</td><td>eigen_centrality    </td><td>   1</td></tr>\n",
       "\t<tr><td>IRL</td><td>degree_centrality   </td><td> 141</td></tr>\n",
       "\t<tr><td>CHN</td><td>hubs_centrality     </td><td>   1</td></tr>\n",
       "\t<tr><td>USA</td><td>authority_centrality</td><td>   1</td></tr>\n",
       "</tbody>\n",
       "</table>\n"
      ],
      "text/latex": [
       "A data.frame: 5 × 3\n",
       "\\begin{tabular}{lll}\n",
       " country & centrality & centrality\\_score\\\\\n",
       " <chr> & <chr> & <dbl>\\\\\n",
       "\\hline\n",
       "\t BIH & btwn\\_centrality      & 4885\\\\\n",
       "\t USA & eigen\\_centrality     &    1\\\\\n",
       "\t IRL & degree\\_centrality    &  141\\\\\n",
       "\t CHN & hubs\\_centrality      &    1\\\\\n",
       "\t USA & authority\\_centrality &    1\\\\\n",
       "\\end{tabular}\n"
      ],
      "text/markdown": [
       "\n",
       "A data.frame: 5 × 3\n",
       "\n",
       "| country &lt;chr&gt; | centrality &lt;chr&gt; | centrality_score &lt;dbl&gt; |\n",
       "|---|---|---|\n",
       "| BIH | btwn_centrality      | 4885 |\n",
       "| USA | eigen_centrality     |    1 |\n",
       "| IRL | degree_centrality    |  141 |\n",
       "| CHN | hubs_centrality      |    1 |\n",
       "| USA | authority_centrality |    1 |\n",
       "\n"
      ],
      "text/plain": [
       "  country centrality           centrality_score\n",
       "1 BIH     btwn_centrality      4885            \n",
       "2 USA     eigen_centrality        1            \n",
       "3 IRL     degree_centrality     141            \n",
       "4 CHN     hubs_centrality         1            \n",
       "5 USA     authority_centrality    1            "
      ]
     },
     "metadata": {},
     "output_type": "display_data"
    }
   ],
   "source": [
    "max_centralities"
   ]
  },
  {
   "cell_type": "code",
   "execution_count": 115,
   "id": "bright-skirt",
   "metadata": {},
   "outputs": [],
   "source": [
    "nodes = merge(\n",
    "    x = nodes, \n",
    "    y = centralities_data_frame, \n",
    "    by.x = 'country_iso3', \n",
    "    by.y = 'name'\n",
    ")"
   ]
  },
  {
   "cell_type": "code",
   "execution_count": 214,
   "id": "widespread-speaking",
   "metadata": {},
   "outputs": [],
   "source": [
    "values = nodes[, 'gdp_us_dollar']\n",
    "breaks <- c(quantile(values)[1] - 1, quantile(values)[3], quantile(values)[5] + 1)\n",
    "tags <- c(\"Low\", \"High\")\n",
    "nodes[, 'gdp_us_dollar_levelized'] = cut(values, breaks = breaks, labels = tags)"
   ]
  },
  {
   "cell_type": "code",
   "execution_count": 215,
   "id": "front-capture",
   "metadata": {},
   "outputs": [],
   "source": [
    "observed_wilcox = wilcox.test(eigen_centrality ~ gdp_us_dollar_levelized, data = nodes)\n",
    "observed_wilcox_statistic = observed_wilcox$statistic"
   ]
  },
  {
   "cell_type": "code",
   "execution_count": 273,
   "id": "killing-blues",
   "metadata": {},
   "outputs": [],
   "source": [
    "permutated_wilcox_statistics = matrix(0, nrow = N)\n",
    "for (i in 1:N) {\n",
    "    permutated_wilcox_statistics[i] = wilcox.test(\n",
    "        nodes$eigen_centrality ~ sample(\n",
    "            nodes$gdp_us_dollar_levelized, \n",
    "            size = n, \n",
    "            replace = F\n",
    "        )\n",
    "    )$statistic\n",
    "}"
   ]
  },
  {
   "cell_type": "code",
   "execution_count": 276,
   "id": "derived-journal",
   "metadata": {},
   "outputs": [
    {
     "data": {
      "image/png": "[encoded data removed]",
      "text/plain": [
       "Plot with title \"Histogram of permutated_wilcox_statistics\""
      ]
     },
     "metadata": {
      "image/png": {
       "height": 420,
       "width": 420
      }
     },
     "output_type": "display_data"
    }
   ],
   "source": [
    "par(bg = 'white')\n",
    "hist(permutated_wilcox_statistics, xlim = c(\n",
    "    min(min(permutated_wilcox_statistics), observed_wilcox_statistic),\n",
    "    max(max(permutated_wilcox_statistics), observed_wilcox_statistic)\n",
    "))\n",
    "abline(v = observed_wilcox_statistic, col = 'red')"
   ]
  }
 ],
 "metadata": {
  "kernelspec": {
   "display_name": "R",
   "language": "R",
   "name": "ir"
  },
  "language_info": {
   "codemirror_mode": "r",
   "file_extension": ".r",
   "mimetype": "text/x-r-source",
   "name": "R",
   "pygments_lexer": "r",
   "version": "4.0.3"
  }
 },
 "nbformat": 4,
 "nbformat_minor": 5
}
