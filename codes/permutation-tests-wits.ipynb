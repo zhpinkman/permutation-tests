{
 "cells": [
  {
   "cell_type": "markdown",
   "id": "sharing-tourism",
   "metadata": {},
   "source": [
    "### Loading the dataset containing the export data alongside with the nodal attribute available on each country"
   ]
  },
  {
   "cell_type": "code",
   "execution_count": 7,
   "id": "banned-definition",
   "metadata": {},
   "outputs": [],
   "source": [
    "edges = read.csv('../datasets/wits/simulated/edgelist.csv')\n",
    "nodes = read.csv('../datasets/wits/simulated/nodelist.csv')\n",
    "# edges = read.csv('../datasets/wits/edgelist_2011.csv')\n",
    "# nodes = read.csv('../datasets/wits/nodelist_2011.csv')\n",
    "# nodes = read.csv('../datasets/wits/nl_no_missing.csv')\n",
    "# edges = read.csv('../datasets/wits/el_no_missing.csv')"
   ]
  },
  {
   "cell_type": "code",
   "execution_count": 8,
   "id": "noted-illinois",
   "metadata": {},
   "outputs": [],
   "source": [
    "n = dim(nodes)[1]\n",
    "N = 1000\n",
    "country_names = nodes$country_iso3\n",
    "nodes = transform(nodes, landlocked=as.logical(landlocked))"
   ]
  },
  {
   "cell_type": "markdown",
   "id": "organic-cambridge",
   "metadata": {},
   "source": [
    "### Importing the library required for doing permutation tests"
   ]
  },
  {
   "cell_type": "code",
   "execution_count": 9,
   "id": "capable-technique",
   "metadata": {},
   "outputs": [],
   "source": [
    "library(coin)\n",
    "library(sna)\n",
    "library(ergm)"
   ]
  },
  {
   "cell_type": "code",
   "execution_count": 10,
   "id": "decreased-upper",
   "metadata": {},
   "outputs": [
    {
     "data": {
      "text/html": [
       "<table class=\"dataframe\">\n",
       "<caption>A data.frame: 3 × 19</caption>\n",
       "<thead>\n",
       "\t<tr><th></th><th scope=col>country_iso3</th><th scope=col>merchandise_of_gdp</th><th scope=col>area</th><th scope=col>population</th><th scope=col>industry_of_gdp</th><th scope=col>continent</th><th scope=col>agriculture_forestry_fishing_of_gdp</th><th scope=col>life_expectancy</th><th scope=col>landlocked</th><th scope=col>colonizer</th><th scope=col>net_barter_of_trade</th><th scope=col>inflation_rate</th><th scope=col>langoff_1</th><th scope=col>gni_atlas</th><th scope=col>foreign_direct_investment_inflows</th><th scope=col>happiness</th><th scope=col>gdp_us_dollar</th><th scope=col>gdp_growth</th><th scope=col>gdp_per_capita</th></tr>\n",
       "\t<tr><th></th><th scope=col>&lt;chr&gt;</th><th scope=col>&lt;dbl&gt;</th><th scope=col>&lt;int&gt;</th><th scope=col>&lt;int&gt;</th><th scope=col>&lt;dbl&gt;</th><th scope=col>&lt;chr&gt;</th><th scope=col>&lt;dbl&gt;</th><th scope=col>&lt;dbl&gt;</th><th scope=col>&lt;lgl&gt;</th><th scope=col>&lt;chr&gt;</th><th scope=col>&lt;dbl&gt;</th><th scope=col>&lt;dbl&gt;</th><th scope=col>&lt;chr&gt;</th><th scope=col>&lt;dbl&gt;</th><th scope=col>&lt;dbl&gt;</th><th scope=col>&lt;dbl&gt;</th><th scope=col>&lt;dbl&gt;</th><th scope=col>&lt;dbl&gt;</th><th scope=col>&lt;dbl&gt;</th></tr>\n",
       "</thead>\n",
       "<tbody>\n",
       "\t<tr><th scope=row>1</th><td>AFG</td><td>38.70415</td><td> 652225</td><td>30117411</td><td>22.74025</td><td>Asia  </td><td>23.743664</td><td>61.553</td><td> TRUE</td><td>USA </td><td>144.7519</td><td>11.804186</td><td>Persian   </td><td>16077121256</td><td>   52173421</td><td>0.721</td><td> 17804292964</td><td>0.4263548</td><td> 591.1628</td></tr>\n",
       "\t<tr><th scope=row>2</th><td>AGO</td><td>78.30597</td><td>1246700</td><td>24220660</td><td>56.02651</td><td>Africa</td><td> 5.845681</td><td>56.330</td><td>FALSE</td><td>PRT </td><td>244.3292</td><td>13.482468</td><td>Portuguese</td><td>82606027251</td><td>-3023770966</td><td>0.708</td><td>111789686464</td><td>3.4719763</td><td>4615.4682</td></tr>\n",
       "\t<tr><th scope=row>3</th><td>ALB</td><td>56.86241</td><td>  28748</td><td> 2905195</td><td>24.48441</td><td>Europe</td><td>18.226765</td><td>76.914</td><td>FALSE</td><td>NONE</td><td> 94.3372</td><td> 3.429123</td><td>Albanian  </td><td>12803715190</td><td> 1048706682</td><td>0.568</td><td> 12890765324</td><td>2.5453218</td><td>4437.1429</td></tr>\n",
       "</tbody>\n",
       "</table>\n"
      ],
      "text/latex": [
       "A data.frame: 3 × 19\n",
       "\\begin{tabular}{r|lllllllllllllllllll}\n",
       "  & country\\_iso3 & merchandise\\_of\\_gdp & area & population & industry\\_of\\_gdp & continent & agriculture\\_forestry\\_fishing\\_of\\_gdp & life\\_expectancy & landlocked & colonizer & net\\_barter\\_of\\_trade & inflation\\_rate & langoff\\_1 & gni\\_atlas & foreign\\_direct\\_investment\\_inflows & happiness & gdp\\_us\\_dollar & gdp\\_growth & gdp\\_per\\_capita\\\\\n",
       "  & <chr> & <dbl> & <int> & <int> & <dbl> & <chr> & <dbl> & <dbl> & <lgl> & <chr> & <dbl> & <dbl> & <chr> & <dbl> & <dbl> & <dbl> & <dbl> & <dbl> & <dbl>\\\\\n",
       "\\hline\n",
       "\t1 & AFG & 38.70415 &  652225 & 30117411 & 22.74025 & Asia   & 23.743664 & 61.553 &  TRUE & USA  & 144.7519 & 11.804186 & Persian    & 16077121256 &    52173421 & 0.721 &  17804292964 & 0.4263548 &  591.1628\\\\\n",
       "\t2 & AGO & 78.30597 & 1246700 & 24220660 & 56.02651 & Africa &  5.845681 & 56.330 & FALSE & PRT  & 244.3292 & 13.482468 & Portuguese & 82606027251 & -3023770966 & 0.708 & 111789686464 & 3.4719763 & 4615.4682\\\\\n",
       "\t3 & ALB & 56.86241 &   28748 &  2905195 & 24.48441 & Europe & 18.226765 & 76.914 & FALSE & NONE &  94.3372 &  3.429123 & Albanian   & 12803715190 &  1048706682 & 0.568 &  12890765324 & 2.5453218 & 4437.1429\\\\\n",
       "\\end{tabular}\n"
      ],
      "text/markdown": [
       "\n",
       "A data.frame: 3 × 19\n",
       "\n",
       "| <!--/--> | country_iso3 &lt;chr&gt; | merchandise_of_gdp &lt;dbl&gt; | area &lt;int&gt; | population &lt;int&gt; | industry_of_gdp &lt;dbl&gt; | continent &lt;chr&gt; | agriculture_forestry_fishing_of_gdp &lt;dbl&gt; | life_expectancy &lt;dbl&gt; | landlocked &lt;lgl&gt; | colonizer &lt;chr&gt; | net_barter_of_trade &lt;dbl&gt; | inflation_rate &lt;dbl&gt; | langoff_1 &lt;chr&gt; | gni_atlas &lt;dbl&gt; | foreign_direct_investment_inflows &lt;dbl&gt; | happiness &lt;dbl&gt; | gdp_us_dollar &lt;dbl&gt; | gdp_growth &lt;dbl&gt; | gdp_per_capita &lt;dbl&gt; |\n",
       "|---|---|---|---|---|---|---|---|---|---|---|---|---|---|---|---|---|---|---|---|\n",
       "| 1 | AFG | 38.70415 |  652225 | 30117411 | 22.74025 | Asia   | 23.743664 | 61.553 |  TRUE | USA  | 144.7519 | 11.804186 | Persian    | 16077121256 |    52173421 | 0.721 |  17804292964 | 0.4263548 |  591.1628 |\n",
       "| 2 | AGO | 78.30597 | 1246700 | 24220660 | 56.02651 | Africa |  5.845681 | 56.330 | FALSE | PRT  | 244.3292 | 13.482468 | Portuguese | 82606027251 | -3023770966 | 0.708 | 111789686464 | 3.4719763 | 4615.4682 |\n",
       "| 3 | ALB | 56.86241 |   28748 |  2905195 | 24.48441 | Europe | 18.226765 | 76.914 | FALSE | NONE |  94.3372 |  3.429123 | Albanian   | 12803715190 |  1048706682 | 0.568 |  12890765324 | 2.5453218 | 4437.1429 |\n",
       "\n"
      ],
      "text/plain": [
       "  country_iso3 merchandise_of_gdp area    population industry_of_gdp continent\n",
       "1 AFG          38.70415            652225 30117411   22.74025        Asia     \n",
       "2 AGO          78.30597           1246700 24220660   56.02651        Africa   \n",
       "3 ALB          56.86241             28748  2905195   24.48441        Europe   \n",
       "  agriculture_forestry_fishing_of_gdp life_expectancy landlocked colonizer\n",
       "1 23.743664                           61.553           TRUE      USA      \n",
       "2  5.845681                           56.330          FALSE      PRT      \n",
       "3 18.226765                           76.914          FALSE      NONE     \n",
       "  net_barter_of_trade inflation_rate langoff_1  gni_atlas  \n",
       "1 144.7519            11.804186      Persian    16077121256\n",
       "2 244.3292            13.482468      Portuguese 82606027251\n",
       "3  94.3372             3.429123      Albanian   12803715190\n",
       "  foreign_direct_investment_inflows happiness gdp_us_dollar gdp_growth\n",
       "1    52173421                       0.721      17804292964  0.4263548 \n",
       "2 -3023770966                       0.708     111789686464  3.4719763 \n",
       "3  1048706682                       0.568      12890765324  2.5453218 \n",
       "  gdp_per_capita\n",
       "1  591.1628     \n",
       "2 4615.4682     \n",
       "3 4437.1429     "
      ]
     },
     "metadata": {},
     "output_type": "display_data"
    }
   ],
   "source": [
    "head(nodes, 3)"
   ]
  },
  {
   "cell_type": "code",
   "execution_count": 11,
   "id": "allied-acrylic",
   "metadata": {},
   "outputs": [
    {
     "data": {
      "text/html": [
       "<table class=\"dataframe\">\n",
       "<caption>A data.frame: 3 × 3</caption>\n",
       "<thead>\n",
       "\t<tr><th></th><th scope=col>source</th><th scope=col>target</th><th scope=col>weight</th></tr>\n",
       "\t<tr><th></th><th scope=col>&lt;chr&gt;</th><th scope=col>&lt;chr&gt;</th><th scope=col>&lt;dbl&gt;</th></tr>\n",
       "</thead>\n",
       "<tbody>\n",
       "\t<tr><th scope=row>1</th><td>AFG</td><td>TKM</td><td>   0.189</td></tr>\n",
       "\t<tr><th scope=row>2</th><td>AGO</td><td>JPN</td><td>1369.367</td></tr>\n",
       "\t<tr><th scope=row>3</th><td>AGO</td><td>BEN</td><td>1700.981</td></tr>\n",
       "</tbody>\n",
       "</table>\n"
      ],
      "text/latex": [
       "A data.frame: 3 × 3\n",
       "\\begin{tabular}{r|lll}\n",
       "  & source & target & weight\\\\\n",
       "  & <chr> & <chr> & <dbl>\\\\\n",
       "\\hline\n",
       "\t1 & AFG & TKM &    0.189\\\\\n",
       "\t2 & AGO & JPN & 1369.367\\\\\n",
       "\t3 & AGO & BEN & 1700.981\\\\\n",
       "\\end{tabular}\n"
      ],
      "text/markdown": [
       "\n",
       "A data.frame: 3 × 3\n",
       "\n",
       "| <!--/--> | source &lt;chr&gt; | target &lt;chr&gt; | weight &lt;dbl&gt; |\n",
       "|---|---|---|---|\n",
       "| 1 | AFG | TKM |    0.189 |\n",
       "| 2 | AGO | JPN | 1369.367 |\n",
       "| 3 | AGO | BEN | 1700.981 |\n",
       "\n"
      ],
      "text/plain": [
       "  source target weight  \n",
       "1 AFG    TKM       0.189\n",
       "2 AGO    JPN    1369.367\n",
       "3 AGO    BEN    1700.981"
      ]
     },
     "metadata": {},
     "output_type": "display_data"
    }
   ],
   "source": [
    "head(edges, 3)"
   ]
  },
  {
   "cell_type": "code",
   "execution_count": 40,
   "id": "incoming-purse",
   "metadata": {},
   "outputs": [
    {
     "data": {
      "text/plain": [
       " Network attributes:\n",
       "  vertices = 141 \n",
       "  directed = TRUE \n",
       "  hyper = FALSE \n",
       "  loops = FALSE \n",
       "  multiple = FALSE \n",
       "  bipartite = FALSE \n",
       "  total edges= 2874 \n",
       "    missing edges= 0 \n",
       "    non-missing edges= 2874 \n",
       "\n",
       " Vertex attribute names: \n",
       "    agriculture_forestry_fishing_of_gdp area colonizer continent country_iso3 foreign_direct_investment_inflows gdp_growth gdp_per_capita gdp_us_dollar gni_atlas happiness industry_of_gdp inflation_rate landlocked langoff_1 life_expectancy merchandise_of_gdp net_barter_of_trade population vertex.names \n",
       "\n",
       " Edge attribute names not shown "
      ]
     },
     "metadata": {},
     "output_type": "display_data"
    }
   ],
   "source": [
    "net = network(edges, directed = TRUE, matrix.type = 'edgelist')\n",
    "set.vertex.attribute(x = net, attrname = colnames(nodes), value = nodes)\n",
    "net"
   ]
  },
  {
   "cell_type": "markdown",
   "id": "light-luxury",
   "metadata": {},
   "source": [
    "### Generating the adjacency matrix of the export network and the total Export/Import of all countries"
   ]
  },
  {
   "cell_type": "code",
   "execution_count": 41,
   "id": "crucial-mediterranean",
   "metadata": {},
   "outputs": [],
   "source": [
    "countries_export_import = data.frame(\n",
    "    country = c(nodes$country_iso3), \n",
    "    exports = matrix(0, nrow =n , ncol = 1),\n",
    "    imports = matrix(0, nrow =n , ncol = 1)\n",
    ")"
   ]
  },
  {
   "cell_type": "code",
   "execution_count": 42,
   "id": "architectural-concert",
   "metadata": {},
   "outputs": [],
   "source": [
    "for (i in 1:n) {\n",
    "    countries_export_import[i, 2:3] = c(\n",
    "        sum(edges$weight[edges$source == countries_export_import$country[i]]), \n",
    "        sum(edges$weight[edges$target == countries_export_import$country[i]])\n",
    "    )\n",
    "}"
   ]
  },
  {
   "cell_type": "code",
   "execution_count": 43,
   "id": "deadly-kruger",
   "metadata": {},
   "outputs": [
    {
     "data": {
      "text/html": [
       "<table class=\"dataframe\">\n",
       "<caption>A data.frame: 3 × 3</caption>\n",
       "<thead>\n",
       "\t<tr><th></th><th scope=col>country</th><th scope=col>exports</th><th scope=col>imports</th></tr>\n",
       "\t<tr><th></th><th scope=col>&lt;chr&gt;</th><th scope=col>&lt;dbl&gt;</th><th scope=col>&lt;dbl&gt;</th></tr>\n",
       "</thead>\n",
       "<tbody>\n",
       "\t<tr><th scope=row>1</th><td>AFG</td><td>   0.189</td><td> 4417.172</td></tr>\n",
       "\t<tr><th scope=row>2</th><td>AGO</td><td>4909.832</td><td> 4013.016</td></tr>\n",
       "\t<tr><th scope=row>3</th><td>ALB</td><td> 425.820</td><td>13925.990</td></tr>\n",
       "</tbody>\n",
       "</table>\n"
      ],
      "text/latex": [
       "A data.frame: 3 × 3\n",
       "\\begin{tabular}{r|lll}\n",
       "  & country & exports & imports\\\\\n",
       "  & <chr> & <dbl> & <dbl>\\\\\n",
       "\\hline\n",
       "\t1 & AFG &    0.189 &  4417.172\\\\\n",
       "\t2 & AGO & 4909.832 &  4013.016\\\\\n",
       "\t3 & ALB &  425.820 & 13925.990\\\\\n",
       "\\end{tabular}\n"
      ],
      "text/markdown": [
       "\n",
       "A data.frame: 3 × 3\n",
       "\n",
       "| <!--/--> | country &lt;chr&gt; | exports &lt;dbl&gt; | imports &lt;dbl&gt; |\n",
       "|---|---|---|---|\n",
       "| 1 | AFG |    0.189 |  4417.172 |\n",
       "| 2 | AGO | 4909.832 |  4013.016 |\n",
       "| 3 | ALB |  425.820 | 13925.990 |\n",
       "\n"
      ],
      "text/plain": [
       "  country exports  imports  \n",
       "1 AFG        0.189  4417.172\n",
       "2 AGO     4909.832  4013.016\n",
       "3 ALB      425.820 13925.990"
      ]
     },
     "metadata": {},
     "output_type": "display_data"
    }
   ],
   "source": [
    "head(countries_export_import, 3)"
   ]
  },
  {
   "cell_type": "code",
   "execution_count": 44,
   "id": "respiratory-basketball",
   "metadata": {},
   "outputs": [],
   "source": [
    "nodes$exports = countries_export_import$exports\n",
    "nodes$imports = countries_export_import$imports"
   ]
  },
  {
   "cell_type": "code",
   "execution_count": 45,
   "id": "nominated-thing",
   "metadata": {},
   "outputs": [
    {
     "data": {
      "text/html": [
       "<table class=\"dataframe\">\n",
       "<caption>A data.frame: 3 × 21</caption>\n",
       "<thead>\n",
       "\t<tr><th></th><th scope=col>country_iso3</th><th scope=col>merchandise_of_gdp</th><th scope=col>area</th><th scope=col>population</th><th scope=col>industry_of_gdp</th><th scope=col>continent</th><th scope=col>agriculture_forestry_fishing_of_gdp</th><th scope=col>life_expectancy</th><th scope=col>landlocked</th><th scope=col>colonizer</th><th scope=col>⋯</th><th scope=col>inflation_rate</th><th scope=col>langoff_1</th><th scope=col>gni_atlas</th><th scope=col>foreign_direct_investment_inflows</th><th scope=col>happiness</th><th scope=col>gdp_us_dollar</th><th scope=col>gdp_growth</th><th scope=col>gdp_per_capita</th><th scope=col>exports</th><th scope=col>imports</th></tr>\n",
       "\t<tr><th></th><th scope=col>&lt;chr&gt;</th><th scope=col>&lt;dbl&gt;</th><th scope=col>&lt;int&gt;</th><th scope=col>&lt;int&gt;</th><th scope=col>&lt;dbl&gt;</th><th scope=col>&lt;chr&gt;</th><th scope=col>&lt;dbl&gt;</th><th scope=col>&lt;dbl&gt;</th><th scope=col>&lt;lgl&gt;</th><th scope=col>&lt;chr&gt;</th><th scope=col>⋯</th><th scope=col>&lt;dbl&gt;</th><th scope=col>&lt;chr&gt;</th><th scope=col>&lt;dbl&gt;</th><th scope=col>&lt;dbl&gt;</th><th scope=col>&lt;dbl&gt;</th><th scope=col>&lt;dbl&gt;</th><th scope=col>&lt;dbl&gt;</th><th scope=col>&lt;dbl&gt;</th><th scope=col>&lt;dbl&gt;</th><th scope=col>&lt;dbl&gt;</th></tr>\n",
       "</thead>\n",
       "<tbody>\n",
       "\t<tr><th scope=row>1</th><td>AFG</td><td>38.70415</td><td> 652225</td><td>30117411</td><td>22.74025</td><td>Asia  </td><td>23.743664</td><td>61.553</td><td> TRUE</td><td>USA </td><td>⋯</td><td>11.804186</td><td>Persian   </td><td>16077121256</td><td>   52173421</td><td>0.721</td><td> 17804292964</td><td>0.4263548</td><td> 591.1628</td><td>   0.189</td><td> 4417.172</td></tr>\n",
       "\t<tr><th scope=row>2</th><td>AGO</td><td>78.30597</td><td>1246700</td><td>24220660</td><td>56.02651</td><td>Africa</td><td> 5.845681</td><td>56.330</td><td>FALSE</td><td>PRT </td><td>⋯</td><td>13.482468</td><td>Portuguese</td><td>82606027251</td><td>-3023770966</td><td>0.708</td><td>111789686464</td><td>3.4719763</td><td>4615.4682</td><td>4909.832</td><td> 4013.016</td></tr>\n",
       "\t<tr><th scope=row>3</th><td>ALB</td><td>56.86241</td><td>  28748</td><td> 2905195</td><td>24.48441</td><td>Europe</td><td>18.226765</td><td>76.914</td><td>FALSE</td><td>NONE</td><td>⋯</td><td> 3.429123</td><td>Albanian  </td><td>12803715190</td><td> 1048706682</td><td>0.568</td><td> 12890765324</td><td>2.5453218</td><td>4437.1429</td><td> 425.820</td><td>13925.990</td></tr>\n",
       "</tbody>\n",
       "</table>\n"
      ],
      "text/latex": [
       "A data.frame: 3 × 21\n",
       "\\begin{tabular}{r|lllllllllllllllllllll}\n",
       "  & country\\_iso3 & merchandise\\_of\\_gdp & area & population & industry\\_of\\_gdp & continent & agriculture\\_forestry\\_fishing\\_of\\_gdp & life\\_expectancy & landlocked & colonizer & ⋯ & inflation\\_rate & langoff\\_1 & gni\\_atlas & foreign\\_direct\\_investment\\_inflows & happiness & gdp\\_us\\_dollar & gdp\\_growth & gdp\\_per\\_capita & exports & imports\\\\\n",
       "  & <chr> & <dbl> & <int> & <int> & <dbl> & <chr> & <dbl> & <dbl> & <lgl> & <chr> & ⋯ & <dbl> & <chr> & <dbl> & <dbl> & <dbl> & <dbl> & <dbl> & <dbl> & <dbl> & <dbl>\\\\\n",
       "\\hline\n",
       "\t1 & AFG & 38.70415 &  652225 & 30117411 & 22.74025 & Asia   & 23.743664 & 61.553 &  TRUE & USA  & ⋯ & 11.804186 & Persian    & 16077121256 &    52173421 & 0.721 &  17804292964 & 0.4263548 &  591.1628 &    0.189 &  4417.172\\\\\n",
       "\t2 & AGO & 78.30597 & 1246700 & 24220660 & 56.02651 & Africa &  5.845681 & 56.330 & FALSE & PRT  & ⋯ & 13.482468 & Portuguese & 82606027251 & -3023770966 & 0.708 & 111789686464 & 3.4719763 & 4615.4682 & 4909.832 &  4013.016\\\\\n",
       "\t3 & ALB & 56.86241 &   28748 &  2905195 & 24.48441 & Europe & 18.226765 & 76.914 & FALSE & NONE & ⋯ &  3.429123 & Albanian   & 12803715190 &  1048706682 & 0.568 &  12890765324 & 2.5453218 & 4437.1429 &  425.820 & 13925.990\\\\\n",
       "\\end{tabular}\n"
      ],
      "text/markdown": [
       "\n",
       "A data.frame: 3 × 21\n",
       "\n",
       "| <!--/--> | country_iso3 &lt;chr&gt; | merchandise_of_gdp &lt;dbl&gt; | area &lt;int&gt; | population &lt;int&gt; | industry_of_gdp &lt;dbl&gt; | continent &lt;chr&gt; | agriculture_forestry_fishing_of_gdp &lt;dbl&gt; | life_expectancy &lt;dbl&gt; | landlocked &lt;lgl&gt; | colonizer &lt;chr&gt; | ⋯ ⋯ | inflation_rate &lt;dbl&gt; | langoff_1 &lt;chr&gt; | gni_atlas &lt;dbl&gt; | foreign_direct_investment_inflows &lt;dbl&gt; | happiness &lt;dbl&gt; | gdp_us_dollar &lt;dbl&gt; | gdp_growth &lt;dbl&gt; | gdp_per_capita &lt;dbl&gt; | exports &lt;dbl&gt; | imports &lt;dbl&gt; |\n",
       "|---|---|---|---|---|---|---|---|---|---|---|---|---|---|---|---|---|---|---|---|---|---|\n",
       "| 1 | AFG | 38.70415 |  652225 | 30117411 | 22.74025 | Asia   | 23.743664 | 61.553 |  TRUE | USA  | ⋯ | 11.804186 | Persian    | 16077121256 |    52173421 | 0.721 |  17804292964 | 0.4263548 |  591.1628 |    0.189 |  4417.172 |\n",
       "| 2 | AGO | 78.30597 | 1246700 | 24220660 | 56.02651 | Africa |  5.845681 | 56.330 | FALSE | PRT  | ⋯ | 13.482468 | Portuguese | 82606027251 | -3023770966 | 0.708 | 111789686464 | 3.4719763 | 4615.4682 | 4909.832 |  4013.016 |\n",
       "| 3 | ALB | 56.86241 |   28748 |  2905195 | 24.48441 | Europe | 18.226765 | 76.914 | FALSE | NONE | ⋯ |  3.429123 | Albanian   | 12803715190 |  1048706682 | 0.568 |  12890765324 | 2.5453218 | 4437.1429 |  425.820 | 13925.990 |\n",
       "\n"
      ],
      "text/plain": [
       "  country_iso3 merchandise_of_gdp area    population industry_of_gdp continent\n",
       "1 AFG          38.70415            652225 30117411   22.74025        Asia     \n",
       "2 AGO          78.30597           1246700 24220660   56.02651        Africa   \n",
       "3 ALB          56.86241             28748  2905195   24.48441        Europe   \n",
       "  agriculture_forestry_fishing_of_gdp life_expectancy landlocked colonizer\n",
       "1 23.743664                           61.553           TRUE      USA      \n",
       "2  5.845681                           56.330          FALSE      PRT      \n",
       "3 18.226765                           76.914          FALSE      NONE     \n",
       "  <U+22EF>   inflation_rate langoff_1  gni_atlas  \n",
       "1 <U+22EF> 11.804186      Persian    16077121256\n",
       "2 <U+22EF> 13.482468      Portuguese 82606027251\n",
       "3 <U+22EF>  3.429123      Albanian   12803715190\n",
       "  foreign_direct_investment_inflows happiness gdp_us_dollar gdp_growth\n",
       "1    52173421                       0.721      17804292964  0.4263548 \n",
       "2 -3023770966                       0.708     111789686464  3.4719763 \n",
       "3  1048706682                       0.568      12890765324  2.5453218 \n",
       "  gdp_per_capita exports  imports  \n",
       "1  591.1628         0.189  4417.172\n",
       "2 4615.4682      4909.832  4013.016\n",
       "3 4437.1429       425.820 13925.990"
      ]
     },
     "metadata": {},
     "output_type": "display_data"
    }
   ],
   "source": [
    "head(nodes, 3)"
   ]
  },
  {
   "cell_type": "code",
   "execution_count": 46,
   "id": "widespread-barrel",
   "metadata": {},
   "outputs": [],
   "source": [
    "adj_matrix = matrix(0, nrow = n, ncol = n)\n",
    "for (i in 1:n) {\n",
    "    for (j in i:n) {\n",
    "        if (sum(edges$source == country_names[i] & edges$target == country_names[j]) > 0) {\n",
    "            adj_matrix[i, j] = edges$weight[edges$source == country_names[i] & edges$target == country_names[j]]\n",
    "        }\n",
    "    }\n",
    "}\n",
    "diag(adj_matrix) = 0"
   ]
  },
  {
   "cell_type": "markdown",
   "id": "composed-discrimination",
   "metadata": {},
   "source": [
    "### Loading the dataset of distances between countries"
   ]
  },
  {
   "cell_type": "code",
   "execution_count": 47,
   "id": "processed-disclosure",
   "metadata": {},
   "outputs": [
    {
     "data": {
      "text/html": [
       "<table class=\"dataframe\">\n",
       "<caption>A data.frame: 3 × 3</caption>\n",
       "<thead>\n",
       "\t<tr><th></th><th scope=col>source</th><th scope=col>target</th><th scope=col>dist</th></tr>\n",
       "\t<tr><th></th><th scope=col>&lt;chr&gt;</th><th scope=col>&lt;chr&gt;</th><th scope=col>&lt;dbl&gt;</th></tr>\n",
       "</thead>\n",
       "<tbody>\n",
       "\t<tr><th scope=row>1</th><td>AFG</td><td>AFG</td><td> 303.7614</td></tr>\n",
       "\t<tr><th scope=row>2</th><td>AFG</td><td>AGO</td><td>7607.8000</td></tr>\n",
       "\t<tr><th scope=row>3</th><td>AFG</td><td>ALB</td><td>4342.1170</td></tr>\n",
       "</tbody>\n",
       "</table>\n"
      ],
      "text/latex": [
       "A data.frame: 3 × 3\n",
       "\\begin{tabular}{r|lll}\n",
       "  & source & target & dist\\\\\n",
       "  & <chr> & <chr> & <dbl>\\\\\n",
       "\\hline\n",
       "\t1 & AFG & AFG &  303.7614\\\\\n",
       "\t2 & AFG & AGO & 7607.8000\\\\\n",
       "\t3 & AFG & ALB & 4342.1170\\\\\n",
       "\\end{tabular}\n"
      ],
      "text/markdown": [
       "\n",
       "A data.frame: 3 × 3\n",
       "\n",
       "| <!--/--> | source &lt;chr&gt; | target &lt;chr&gt; | dist &lt;dbl&gt; |\n",
       "|---|---|---|---|\n",
       "| 1 | AFG | AFG |  303.7614 |\n",
       "| 2 | AFG | AGO | 7607.8000 |\n",
       "| 3 | AFG | ALB | 4342.1170 |\n",
       "\n"
      ],
      "text/plain": [
       "  source target dist     \n",
       "1 AFG    AFG     303.7614\n",
       "2 AFG    AGO    7607.8000\n",
       "3 AFG    ALB    4342.1170"
      ]
     },
     "metadata": {},
     "output_type": "display_data"
    }
   ],
   "source": [
    "distance_data = read.csv('../datasets/wits/dist.csv')\n",
    "head(distance_data, 3)"
   ]
  },
  {
   "cell_type": "code",
   "execution_count": 48,
   "id": "nonprofit-exclusive",
   "metadata": {},
   "outputs": [],
   "source": [
    "dist_matrix = matrix(0, nrow = n, ncol = n)\n",
    "for (i in 1:n) {\n",
    "    for (j in i:n) {\n",
    "        if (sum(distance_data$source == country_names[i] & distance_data$target == country_names[j]) > 0) {\n",
    "            dist_matrix[i, j] = distance_data$dist[distance_data$source == country_names[i] & distance_data$target == country_names[j]]\n",
    "        }\n",
    "    }\n",
    "}\n",
    "dist_matrix = dist_matrix + t(dist_matrix)\n",
    "diag(dist_matrix) = 0"
   ]
  },
  {
   "cell_type": "code",
   "execution_count": 49,
   "id": "straight-terminal",
   "metadata": {},
   "outputs": [],
   "source": [
    "# Execute QAP test given y_matrix as the dependent network and the x_matrix as the indepdent network. \n",
    "# This kind of permutation test finds the permutations of the indepdent network which are kept the dependencies within the independent network\n",
    "execute_qaptest = function(y_matrix, x_matrix, reps=1000) {\n",
    "    wits.qap = qaptest(dat = list(y_matrix, x_matrix), gcor, g1=1, g2=2, reps = 1000)\n",
    "    print(wits.qap)\n",
    "    print(wits.qap$testval)\n",
    "    par(bg = 'white')\n",
    "    plot(wits.qap, xlim=c(min(min(wits.qap$dist), wits.qap$testval), max(max(wits.qap$dist), wits.qap$testval)))\n",
    "    abline(v=wits.qap$testval, col='red')\n",
    "}"
   ]
  },
  {
   "cell_type": "code",
   "execution_count": 50,
   "id": "elegant-mongolia",
   "metadata": {},
   "outputs": [
    {
     "name": "stdout",
     "output_type": "stream",
     "text": [
      "\n",
      "QAP Test Results\n",
      "\n",
      "Estimated p-values:\n",
      "\tp(f(perm) >= f(d)): 0.001 \n",
      "\tp(f(perm) <= f(d)): 0.999 \n",
      "\n",
      "[1] 0.03959313\n"
     ]
    },
    {
     "data": {
      "image/png": "[encoded data removed]",
      "text/plain": [
       "Plot with title \"Estimated Density of QAP Replications\""
      ]
     },
     "metadata": {
      "image/png": {
       "height": 420,
       "width": 420
      }
     },
     "output_type": "display_data"
    }
   ],
   "source": [
    "execute_qaptest(adj_matrix, dist_matrix)"
   ]
  },
  {
   "cell_type": "markdown",
   "id": "legendary-trash",
   "metadata": {},
   "source": [
    "### Checking the effect of colonization specifically in case of Great Britain"
   ]
  },
  {
   "cell_type": "code",
   "execution_count": 51,
   "id": "pacific-russell",
   "metadata": {},
   "outputs": [],
   "source": [
    "observed_statistic_exports_col = sum(nodes$exports[nodes$colonizer == 'GBR'])\n",
    "observed_statistic_imports_col = sum(nodes$imports[nodes$colonizer == 'GBR'])"
   ]
  },
  {
   "cell_type": "code",
   "execution_count": 52,
   "id": "generic-discount",
   "metadata": {},
   "outputs": [],
   "source": [
    "permutation_matrix_col = matrix(0, nrow = n, ncol = N)\n",
    "for (i in 1:N) {\n",
    "    permutation_matrix_col[, i] = sample(nodes$colonizer, size = n, replace = F)\n",
    "}"
   ]
  },
  {
   "cell_type": "code",
   "execution_count": 53,
   "id": "cardiac-zoning",
   "metadata": {},
   "outputs": [],
   "source": [
    "permutated_statistic_exports_col = matrix(0, nrow=N, ncol=1)\n",
    "permutated_statistic_imports_col = matrix(0, nrow=N, ncol=1)\n",
    "for (i in 1:N) {\n",
    "    permutated_statistic_exports_col[i,] = sum(nodes$exports[permutation_matrix_col[,i] == 'GBR'])\n",
    "    permutated_statistic_imports_col[i,] = sum(nodes$imports[permutation_matrix_col[,i] == 'GBR'])\n",
    "}"
   ]
  },
  {
   "cell_type": "code",
   "execution_count": 54,
   "id": "lined-vegetation",
   "metadata": {},
   "outputs": [
    {
     "data": {
      "image/png": "[encoded data removed]",
      "text/plain": [
       "Plot with title \"Histogram of permutated_statistic_exports_col\""
      ]
     },
     "metadata": {
      "image/png": {
       "height": 420,
       "width": 420
      }
     },
     "output_type": "display_data"
    }
   ],
   "source": [
    "par(bg = 'white')\n",
    "hist(permutated_statistic_exports_col)\n",
    "abline(v=observed_statistic_exports_col, col='red')"
   ]
  },
  {
   "cell_type": "code",
   "execution_count": 55,
   "id": "chief-completion",
   "metadata": {},
   "outputs": [
    {
     "data": {
      "text/html": [
       "0.104"
      ],
      "text/latex": [
       "0.104"
      ],
      "text/markdown": [
       "0.104"
      ],
      "text/plain": [
       "[1] 0.104"
      ]
     },
     "metadata": {},
     "output_type": "display_data"
    }
   ],
   "source": [
    "mean(permutated_statistic_exports_col < observed_statistic_exports_col)"
   ]
  },
  {
   "cell_type": "code",
   "execution_count": 56,
   "id": "frozen-religious",
   "metadata": {},
   "outputs": [
    {
     "data": {
      "image/png": "[encoded data removed]",
      "text/plain": [
       "Plot with title \"Histogram of permutated_statistic_imports_col\""
      ]
     },
     "metadata": {
      "image/png": {
       "height": 420,
       "width": 420
      }
     },
     "output_type": "display_data"
    }
   ],
   "source": [
    "par(bg = 'white')\n",
    "hist(permutated_statistic_imports_col)\n",
    "abline(v=observed_statistic_imports_col, col='red')"
   ]
  },
  {
   "cell_type": "code",
   "execution_count": 57,
   "id": "following-right",
   "metadata": {},
   "outputs": [
    {
     "data": {
      "text/html": [
       "0.905"
      ],
      "text/latex": [
       "0.905"
      ],
      "text/markdown": [
       "0.905"
      ],
      "text/plain": [
       "[1] 0.905"
      ]
     },
     "metadata": {},
     "output_type": "display_data"
    }
   ],
   "source": [
    "mean(permutated_statistic_imports_col < observed_statistic_imports_col)"
   ]
  },
  {
   "cell_type": "markdown",
   "id": "sunrise-warning",
   "metadata": {},
   "source": [
    "### Examining the effect of homophily on the network of trades"
   ]
  },
  {
   "cell_type": "code",
   "execution_count": 58,
   "id": "wrapped-husband",
   "metadata": {},
   "outputs": [],
   "source": [
    "count_homophily = function(edges, nodes, attrs, ...) {\n",
    "    count = 0\n",
    "    for (i in 1:dim(edges)[1]) {\n",
    "        if (attrs[nodes$country_iso3 == edges$source[i]] == attrs[nodes$country_iso3 == edges$target[i]]) {\n",
    "            count = count + 1\n",
    "        }\n",
    "    }\n",
    "    return(count)\n",
    "}"
   ]
  },
  {
   "cell_type": "code",
   "execution_count": 59,
   "id": "separated-plate",
   "metadata": {},
   "outputs": [],
   "source": [
    "execute_permutation_test = function(edges, nodes, func, attrs, attr, ...) {\n",
    "    params = list(...)\n",
    "    observed_statistic = func(edges, nodes, attrs, params)\n",
    "\n",
    "    \n",
    "#     generating new samples by permutating the attributes\n",
    "    permutated_samples = matrix(0, nrow = n, ncol = N)\n",
    "    for (i in 1:N) {\n",
    "        permutated_samples[, i] = sample(x = attrs, size = n, replace = F)\n",
    "    }\n",
    "    \n",
    "#    computing the specified statistic for all the permutated networks\n",
    "    permutated_statistics = matrix(0, nrow = N, ncol = 1)\n",
    "    for (j in 1:N) {\n",
    "        permutated_statistics[j] = func(edges, nodes, permutated_samples[, j], params)\n",
    "    }\n",
    "    \n",
    "    p_value = mean(permutated_statistics < observed_statistic)\n",
    "    if (p_value > .5) {\n",
    "        p_value = 1 - p_value\n",
    "    }\n",
    "    \n",
    "    print(paste(attr, ',', p_value))\n",
    "    pdf(paste('../results/', attr, '.pdf'))\n",
    "    par(bg = 'white')\n",
    "    hist(\n",
    "        permutated_statistics, \n",
    "        xlim=c(min(min(permutated_statistics), observed_statistic), max(max(permutated_statistics), observed_statistic)), \n",
    "        main = paste('Comparison of the observed statistic and \\npermutated ones with respect to \\n', attr, 'with p-value: ', p_value)\n",
    "    )\n",
    "    abline(v=observed_statistic, col='red')\n",
    "    \n",
    "    dev.off()\n",
    "}"
   ]
  },
  {
   "cell_type": "code",
   "execution_count": 60,
   "id": "sacred-dating",
   "metadata": {},
   "outputs": [],
   "source": [
    "categories = !unlist(lapply(nodes, FUN = is.numeric))\n",
    "categories[attr(categories, 'names') == 'country_iso3'] = FALSE\n",
    "categories = colnames(nodes[, categories])"
   ]
  },
  {
   "cell_type": "code",
   "execution_count": 61,
   "id": "beneficial-moscow",
   "metadata": {},
   "outputs": [
    {
     "name": "stdout",
     "output_type": "stream",
     "text": [
      "[1] \"homophily  continent , 0\"\n",
      "[1] \"homophily  landlocked , 0\"\n",
      "[1] \"homophily  colonizer , 0.069\"\n",
      "[1] \"homophily  langoff_1 , 0.002\"\n"
     ]
    }
   ],
   "source": [
    "for (col in categories) {\n",
    "    execute_permutation_test(edges, nodes, count_homophily, nodes[, col], paste('homophily ', as.character(col)))\n",
    "}"
   ]
  },
  {
   "cell_type": "markdown",
   "id": "worthy-forge",
   "metadata": {},
   "source": [
    "### Examining the effect of closeness"
   ]
  },
  {
   "cell_type": "code",
   "execution_count": 62,
   "id": "continuing-mechanics",
   "metadata": {},
   "outputs": [],
   "source": [
    "compute_nodecov = function(edges, nodes, attrs, ...) {\n",
    "#     log transformation parameter\n",
    "    params = list(...)\n",
    "    sum = 0\n",
    "    for (i in 1:dim(edges)[1]) {\n",
    "        if (as.logical(params[[1]])) {\n",
    "            sum = sum + log(attrs[nodes$country_iso3 == edges$source[i]] + attrs[nodes$country_iso3 == edges$target[i]])\n",
    "        } else {\n",
    "            sum = sum + attrs[nodes$country_iso3 == edges$source[i]] + attrs[nodes$country_iso3 == edges$target[i]]\n",
    "        }\n",
    "    }\n",
    "    return(sum)\n",
    "}"
   ]
  },
  {
   "cell_type": "code",
   "execution_count": 63,
   "id": "several-vacation",
   "metadata": {},
   "outputs": [],
   "source": [
    "compute_absdiff = function(edges, nodes, attrs, ...) {\n",
    "#     log transformation parameter\n",
    "    params = list(...)\n",
    "    diff_sum = 0\n",
    "    for (i in 1:dim(edges)[1]) {\n",
    "        if (as.logical(params[[1]])) {\n",
    "            diff_sum = diff_sum + log(1 + abs(attrs[nodes$country_iso3 == edges$source[i]] - attrs[nodes$country_iso3 == edges$target[i]]))\n",
    "        } else {\n",
    "            diff_sum = diff_sum + abs(attrs[nodes$country_iso3 == edges$source[i]] - attrs[nodes$country_iso3 == edges$target[i]])\n",
    "        }\n",
    "    }\n",
    "    return(diff_sum)\n",
    "}"
   ]
  },
  {
   "cell_type": "code",
   "execution_count": 64,
   "id": "neural-patrol",
   "metadata": {},
   "outputs": [],
   "source": [
    "nums <- unlist(lapply(nodes, is.numeric))\n",
    "nums = colnames(nodes[, nums])"
   ]
  },
  {
   "cell_type": "code",
   "execution_count": 65,
   "id": "single-lawyer",
   "metadata": {},
   "outputs": [
    {
     "name": "stdout",
     "output_type": "stream",
     "text": [
      "[1] \"nodecov  merchandise_of_gdp , 0.445\"\n",
      "[1] \"absdiff  merchandise_of_gdp , 0.23\"\n",
      "[1] \"nodecov  area , 0.006\"\n",
      "[1] \"absdiff  area , 0.006\"\n",
      "[1] \"nodecov  population , 0\"\n",
      "[1] \"absdiff  population , 0\"\n",
      "[1] \"nodecov  industry_of_gdp , 0.498\"\n",
      "[1] \"absdiff  industry_of_gdp , 0.491\"\n",
      "[1] \"nodecov  agriculture_forestry_fishing_of_gdp , 0.001\"\n",
      "[1] \"absdiff  agriculture_forestry_fishing_of_gdp , 0\"\n",
      "[1] \"nodecov  life_expectancy , 0\"\n",
      "[1] \"absdiff  life_expectancy , 0\"\n",
      "[1] \"nodecov  net_barter_of_trade , 0.045\"\n",
      "[1] \"absdiff  net_barter_of_trade , 0.256\"\n",
      "[1] \"nodecov  inflation_rate , 0.301\"\n",
      "[1] \"absdiff  inflation_rate , 0.29\"\n",
      "[1] \"nodecov  gni_atlas , 0\"\n",
      "[1] \"absdiff  gni_atlas , 0\"\n",
      "[1] \"nodecov  foreign_direct_investment_inflows , 0\"\n",
      "[1] \"absdiff  foreign_direct_investment_inflows , 0\"\n",
      "[1] \"nodecov  happiness , 0.251\"\n",
      "[1] \"absdiff  happiness , 0.119\"\n",
      "[1] \"nodecov  gdp_us_dollar , 0\"\n",
      "[1] \"absdiff  gdp_us_dollar , 0\"\n",
      "[1] \"nodecov  gdp_growth , 0.073\"\n",
      "[1] \"absdiff  gdp_growth , 0.169\"\n",
      "[1] \"nodecov  gdp_per_capita , 0.003\"\n",
      "[1] \"absdiff  gdp_per_capita , 0.489\"\n",
      "[1] \"nodecov  exports , 0\"\n",
      "[1] \"absdiff  exports , 0.028\"\n",
      "[1] \"nodecov  imports , 0\"\n",
      "[1] \"absdiff  imports , 0\"\n"
     ]
    }
   ],
   "source": [
    "for (col in nums) {\n",
    "    execute_permutation_test(edges, nodes, compute_nodecov, nodes[, col], paste('nodecov ', as.character(col)), FALSE)\n",
    "    execute_permutation_test(edges, nodes, compute_absdiff, nodes[, col], paste('absdiff ', as.character(col)), FALSE)\n",
    "}"
   ]
  },
  {
   "cell_type": "markdown",
   "id": "hungarian-blogger",
   "metadata": {},
   "source": [
    "### Transform numerical data to categorical and do homophily test"
   ]
  },
  {
   "cell_type": "code",
   "execution_count": 66,
   "id": "lyric-module",
   "metadata": {},
   "outputs": [
    {
     "name": "stdout",
     "output_type": "stream",
     "text": [
      "[1] \"homophily  merchandise_of_gdp , 0.374\"\n",
      "[1] \"homophily  area , 0.251\"\n",
      "[1] \"homophily  population , 0.289\"\n",
      "[1] \"homophily  industry_of_gdp , 0.287\"\n",
      "[1] \"homophily  agriculture_forestry_fishing_of_gdp , 0.039\"\n",
      "[1] \"homophily  life_expectancy , 0\"\n",
      "[1] \"homophily  net_barter_of_trade , 0.229\"\n",
      "[1] \"homophily  inflation_rate , 0.302\"\n",
      "[1] \"homophily  gni_atlas , 0.246\"\n",
      "[1] \"homophily  foreign_direct_investment_inflows , 0.307\"\n",
      "[1] \"homophily  happiness , 0.087\"\n",
      "[1] \"homophily  gdp_us_dollar , 0.396\"\n",
      "[1] \"homophily  gdp_growth , 0.416\"\n",
      "[1] \"homophily  gdp_per_capita , 0.049\"\n",
      "[1] \"homophily  exports , 0.087\"\n",
      "[1] \"homophily  imports , 0.098\"\n"
     ]
    }
   ],
   "source": [
    "for (col in nums) {\n",
    "    values = nodes[, col]\n",
    "    breaks <- c(quantile(values)[1] - 1, quantile(values)[2], quantile(values)[4], quantile(values)[5] + 1)\n",
    "    tags <- c(\"Low\", \"Medium\", \"High\")\n",
    "    execute_permutation_test(edges, nodes, count_homophily, cut(values, breaks = breaks, labels = tags), paste('homophily ', as.character(col)))\n",
    "}"
   ]
  },
  {
   "cell_type": "markdown",
   "id": "received-hazard",
   "metadata": {},
   "source": [
    "### Statistics that take into account the structure of the network"
   ]
  },
  {
   "cell_type": "code",
   "execution_count": 12,
   "id": "understanding-affect",
   "metadata": {},
   "outputs": [
    {
     "data": {
      "text/html": [
       "<table class=\"dataframe\">\n",
       "<caption>A data.frame: 141 × 19</caption>\n",
       "<thead>\n",
       "\t<tr><th scope=col>country_iso3</th><th scope=col>merchandise_of_gdp</th><th scope=col>area</th><th scope=col>population</th><th scope=col>industry_of_gdp</th><th scope=col>continent</th><th scope=col>agriculture_forestry_fishing_of_gdp</th><th scope=col>life_expectancy</th><th scope=col>landlocked</th><th scope=col>colonizer</th><th scope=col>net_barter_of_trade</th><th scope=col>inflation_rate</th><th scope=col>langoff_1</th><th scope=col>gni_atlas</th><th scope=col>foreign_direct_investment_inflows</th><th scope=col>happiness</th><th scope=col>gdp_us_dollar</th><th scope=col>gdp_growth</th><th scope=col>gdp_per_capita</th></tr>\n",
       "\t<tr><th scope=col>&lt;chr&gt;</th><th scope=col>&lt;dbl&gt;</th><th scope=col>&lt;int&gt;</th><th scope=col>&lt;int&gt;</th><th scope=col>&lt;dbl&gt;</th><th scope=col>&lt;chr&gt;</th><th scope=col>&lt;dbl&gt;</th><th scope=col>&lt;dbl&gt;</th><th scope=col>&lt;lgl&gt;</th><th scope=col>&lt;chr&gt;</th><th scope=col>&lt;dbl&gt;</th><th scope=col>&lt;dbl&gt;</th><th scope=col>&lt;chr&gt;</th><th scope=col>&lt;dbl&gt;</th><th scope=col>&lt;dbl&gt;</th><th scope=col>&lt;dbl&gt;</th><th scope=col>&lt;dbl&gt;</th><th scope=col>&lt;dbl&gt;</th><th scope=col>&lt;dbl&gt;</th></tr>\n",
       "</thead>\n",
       "<tbody>\n",
       "\t<tr><td>AFG</td><td> 38.70415</td><td> 652225</td><td>  30117411</td><td>22.74025</td><td>Asia   </td><td>23.7436640</td><td>61.55300</td><td> TRUE</td><td>USA </td><td>144.75187</td><td>11.8041858</td><td>Persian       </td><td>1.607712e+10</td><td>    52173421</td><td>0.721</td><td>1.780429e+10</td><td> 0.4263548</td><td>  591.1628</td></tr>\n",
       "\t<tr><td>AGO</td><td> 78.30597</td><td>1246700</td><td>  24220660</td><td>56.02651</td><td>Africa </td><td> 5.8456810</td><td>56.33000</td><td>FALSE</td><td>PRT </td><td>244.32915</td><td>13.4824679</td><td>Portuguese    </td><td>8.260603e+10</td><td> -3023770966</td><td>0.708</td><td>1.117897e+11</td><td> 3.4719763</td><td> 4615.4682</td></tr>\n",
       "\t<tr><td>ALB</td><td> 56.86241</td><td>  28748</td><td>   2905195</td><td>24.48441</td><td>Europe </td><td>18.2267654</td><td>76.91400</td><td>FALSE</td><td>NONE</td><td> 94.33720</td><td> 3.4291232</td><td>Albanian      </td><td>1.280372e+10</td><td>  1048706682</td><td>0.568</td><td>1.289077e+10</td><td> 2.5453218</td><td> 4437.1429</td></tr>\n",
       "\t<tr><td>ARE</td><td>151.70246</td><td>  83657</td><td>   8946778</td><td>58.03560</td><td>Asia   </td><td> 0.6719101</td><td>76.52100</td><td>FALSE</td><td>GBR </td><td>176.14978</td><td> 0.8773466</td><td>Arabic        </td><td>3.133841e+11</td><td>  7152095826</td><td>0.764</td><td>3.506660e+11</td><td> 6.9302716</td><td>39194.6722</td></tr>\n",
       "\t<tr><td>ARG</td><td> 29.87193</td><td>2766889</td><td>  41261490</td><td>25.21270</td><td>America</td><td> 6.9987338</td><td>75.43900</td><td>FALSE</td><td>NONE</td><td>160.56492</td><td> 9.8000000</td><td>Spanish       </td><td>4.421068e+11</td><td> 10839930945</td><td>0.813</td><td>5.301633e+11</td><td> 6.0039517</td><td>12848.8642</td></tr>\n",
       "\t<tr><td>ARM</td><td> 54.02228</td><td>  29800</td><td>   2876536</td><td>27.50000</td><td>Asia   </td><td>17.5000000</td><td>73.57200</td><td> TRUE</td><td>NONE</td><td>128.24335</td><td> 7.6500081</td><td>Armenian      </td><td>1.016034e+10</td><td>   653219756</td><td>0.488</td><td>1.014211e+10</td><td> 4.7000000</td><td> 3525.8072</td></tr>\n",
       "\t<tr><td>AUS</td><td> 36.90503</td><td>7686848</td><td>  22340024</td><td>26.43613</td><td>Pacific</td><td> 2.2765424</td><td>81.89512</td><td>FALSE</td><td>NONE</td><td>200.28858</td><td> 3.3038502</td><td>English       </td><td>1.124160e+12</td><td> 65554890650</td><td>0.863</td><td>1.396650e+12</td><td> 2.4627563</td><td>62517.8337</td></tr>\n",
       "\t<tr><td>AUT</td><td> 85.55500</td><td>  83858</td><td>   8391643</td><td>25.44743</td><td>Europe </td><td> 1.4019149</td><td>80.98293</td><td> TRUE</td><td>NONE</td><td> 88.72963</td><td> 3.2865791</td><td>German        </td><td>4.245458e+11</td><td> 22983942932</td><td>0.890</td><td>4.311203e+11</td><td> 2.9227973</td><td>51374.9584</td></tr>\n",
       "\t<tr><td>AZE</td><td> 67.71781</td><td>  86600</td><td>   9173082</td><td>61.73400</td><td>Asia   </td><td> 5.0762260</td><td>71.23400</td><td> TRUE</td><td>NONE</td><td>199.30369</td><td> 7.8583333</td><td>Azeri         </td><td>5.010686e+10</td><td>  4485120000</td><td>0.455</td><td>6.595163e+10</td><td>-1.5729976</td><td> 7189.6912</td></tr>\n",
       "\t<tr><td>BDI</td><td> 39.13552</td><td>  27834</td><td>   8958406</td><td>14.80968</td><td>Africa </td><td>36.7045760</td><td>57.92500</td><td> TRUE</td><td>DEU </td><td>164.51196</td><td> 9.5921661</td><td>French        </td><td>2.104253e+09</td><td>     3354999</td><td>0.683</td><td>2.235821e+09</td><td> 4.0326025</td><td>  249.5780</td></tr>\n",
       "\t<tr><td>BEL</td><td>180.35455</td><td>  33114</td><td>  11038264</td><td>20.77790</td><td>Europe </td><td> 0.6480342</td><td>80.58537</td><td>FALSE</td><td>NONE</td><td> 94.86824</td><td> 3.5320821</td><td>Dutch         </td><td>5.121543e+11</td><td>163624381385</td><td>0.821</td><td>5.226455e+11</td><td> 1.6945139</td><td>47348.5250</td></tr>\n",
       "\t<tr><td>BEN</td><td> 33.09542</td><td> 112622</td><td>   9460829</td><td>18.13745</td><td>Africa </td><td>25.7970008</td><td>59.59000</td><td>FALSE</td><td>FRA </td><td>137.21882</td><td> 2.7042391</td><td>French        </td><td>1.035731e+10</td><td>   161302391</td><td>0.543</td><td>1.069332e+10</td><td> 2.9637529</td><td> 1130.2732</td></tr>\n",
       "\t<tr><td>BFA</td><td> 39.77551</td><td> 274200</td><td>  16081915</td><td>28.37227</td><td>Africa </td><td>23.0436505</td><td>57.76100</td><td> TRUE</td><td>FRA </td><td>139.83716</td><td> 2.7597672</td><td>French        </td><td>1.092395e+10</td><td>   143845512</td><td>0.497</td><td>1.208030e+10</td><td> 6.6225626</td><td>  751.1728</td></tr>\n",
       "\t<tr><td>BGD</td><td> 47.15016</td><td> 143998</td><td> 149273134</td><td>25.04530</td><td>Asia   </td><td>16.8099868</td><td>70.25600</td><td>FALSE</td><td>GBR </td><td> 57.47438</td><td>11.3951652</td><td>Bengali       </td><td>1.333422e+11</td><td>  1264725163</td><td>0.702</td><td>1.286379e+11</td><td> 6.4643791</td><td>  861.7622</td></tr>\n",
       "\t<tr><td>BGR</td><td>105.93136</td><td> 110994</td><td>   7348328</td><td>25.07463</td><td>Europe </td><td> 4.6416350</td><td>74.16341</td><td>FALSE</td><td>NONE</td><td>106.99240</td><td> 4.2199035</td><td>Bulgarian     </td><td>5.305519e+10</td><td>  2103810000</td><td>0.456</td><td>5.738622e+10</td><td> 2.3545569</td><td> 7809.4251</td></tr>\n",
       "\t<tr><td>BHR</td><td>112.52200</td><td>    678</td><td>   1278153</td><td>49.51719</td><td>Asia   </td><td> 0.2908503</td><td>76.20000</td><td>FALSE</td><td>GBR </td><td>138.73565</td><td>-0.4000407</td><td>Arabic        </td><td>2.321267e+10</td><td>   780851064</td><td>0.577</td><td>2.877660e+10</td><td> 1.9835150</td><td>22514.2027</td></tr>\n",
       "\t<tr><td>BIH</td><td> 90.64763</td><td>  51233</td><td>   3661173</td><td>22.19326</td><td>Europe </td><td> 6.7577458</td><td>76.21900</td><td>FALSE</td><td>NONE</td><td>101.97710</td><td> 3.6712500</td><td>Serbo-Croatian</td><td>1.834067e+10</td><td>   471610992</td><td>0.592</td><td>1.864472e+10</td><td> 0.9595112</td><td> 5092.5547</td></tr>\n",
       "\t<tr><td>BLR</td><td>141.16114</td><td> 207595</td><td>   9473172</td><td>36.08879</td><td>Europe </td><td> 8.0017576</td><td>70.55366</td><td>FALSE</td><td>NONE</td><td>110.22796</td><td>53.2286983</td><td>Belarussian   </td><td>5.933500e+10</td><td>  4002400000</td><td>0.437</td><td>6.175779e+10</td><td> 5.3787075</td><td> 6519.2302</td></tr>\n",
       "\t<tr><td>BOL</td><td> 67.95884</td><td>1098581</td><td>  10212951</td><td>30.36911</td><td>America</td><td> 9.7695859</td><td>68.52100</td><td> TRUE</td><td>NONE</td><td>181.12201</td><td> 9.8844642</td><td>Spanish       </td><td>2.042983e+10</td><td>   858941070</td><td>0.773</td><td>2.396303e+10</td><td> 5.2040923</td><td> 2346.3378</td></tr>\n",
       "\t<tr><td>BRA</td><td> 18.84427</td><td>8511920</td><td> 197514541</td><td>23.10206</td><td>America</td><td> 4.3420351</td><td>73.92100</td><td>FALSE</td><td>NONE</td><td>134.17935</td><td> 6.6364496</td><td>Portuguese    </td><td>2.188990e+12</td><td>102427228231</td><td>0.853</td><td>2.616201e+12</td><td> 3.9744254</td><td>13245.6120</td></tr>\n",
       "\t<tr><td>BWA</td><td> 85.68280</td><td> 600372</td><td>   2015406</td><td>35.04647</td><td>Africa </td><td> 2.5109177</td><td>61.91000</td><td> TRUE</td><td>GBR </td><td> 82.76718</td><td> 8.4598723</td><td>English       </td><td>1.331273e+10</td><td>   293208060</td><td>0.732</td><td>1.535197e+10</td><td> 6.0483615</td><td> 7617.3100</td></tr>\n",
       "\t<tr><td>CAF</td><td> 20.50876</td><td> 622984</td><td>   4418639</td><td>26.63836</td><td>Africa </td><td>37.5690228</td><td>47.95000</td><td> TRUE</td><td>FRA </td><td> 76.73652</td><td> 1.1944757</td><td>French        </td><td>2.341223e+09</td><td>    36908456</td><td>0.524</td><td>2.437983e+09</td><td> 4.1946153</td><td>  551.7497</td></tr>\n",
       "\t<tr><td>CAN</td><td> 51.02110</td><td>9976139</td><td>  34339328</td><td>27.13934</td><td>America</td><td> 1.7656645</td><td>81.44878</td><td>FALSE</td><td>NONE</td><td>117.81839</td><td> 2.9121351</td><td>English       </td><td>1.620451e+12</td><td> 38338330427</td><td>0.911</td><td>1.788648e+12</td><td> 3.1468814</td><td>52223.6961</td></tr>\n",
       "\t<tr><td>CHE</td><td> 61.35949</td><td>  41288</td><td>   7912398</td><td>25.27957</td><td>Europe </td><td> 0.6709359</td><td>82.69512</td><td> TRUE</td><td>NONE</td><td>103.60558</td><td> 0.2313492</td><td>German        </td><td>6.510687e+11</td><td> 20764483835</td><td>0.907</td><td>6.995796e+11</td><td> 1.6928085</td><td>91254.0348</td></tr>\n",
       "\t<tr><td>CHL</td><td> 61.89565</td><td> 756945</td><td>  17233584</td><td>34.70132</td><td>America</td><td> 3.6712066</td><td>78.98600</td><td>FALSE</td><td>NONE</td><td>217.82863</td><td> 3.3412169</td><td>Spanish       </td><td>2.125990e+11</td><td> 25564944877</td><td>0.792</td><td>2.522520e+11</td><td> 6.1109188</td><td>14637.2334</td></tr>\n",
       "\t<tr><td>CHN</td><td> 48.22704</td><td>9572378</td><td>1344130000</td><td>46.52929</td><td>Asia   </td><td> 9.1776538</td><td>74.70800</td><td>FALSE</td><td>NONE</td><td> 79.04874</td><td> 5.5538989</td><td>Chinese       </td><td>6.783869e+12</td><td>280072219150</td><td>0.785</td><td>7.551500e+12</td><td> 9.5508322</td><td> 5618.1323</td></tr>\n",
       "\t<tr><td>CMR</td><td> 38.52537</td><td> 475442</td><td>  20906392</td><td>27.19177</td><td>Africa </td><td>13.4796523</td><td>55.58100</td><td>FALSE</td><td>DEU </td><td>162.01341</td><td> 2.9396995</td><td>French        </td><td>2.830121e+10</td><td>   653266627</td><td>0.576</td><td>2.937545e+10</td><td> 4.1292772</td><td> 1405.0941</td></tr>\n",
       "\t<tr><td>COG</td><td>133.27238</td><td> 342000</td><td>   4394842</td><td>65.87390</td><td>Africa </td><td> 3.9839362</td><td>60.78500</td><td>FALSE</td><td>FRA </td><td>211.35212</td><td> 1.7595870</td><td>French        </td><td>1.188836e+10</td><td>   298288001</td><td>0.300</td><td>1.565538e+10</td><td> 2.2059194</td><td> 3557.5562</td></tr>\n",
       "\t<tr><td>COL</td><td> 33.18407</td><td>1141748</td><td>  45662747</td><td>33.30216</td><td>America</td><td> 6.0916961</td><td>75.65500</td><td>FALSE</td><td>NONE</td><td>183.91682</td><td> 3.4175896</td><td>Spanish       </td><td>2.882989e+11</td><td> 14647048638</td><td>0.831</td><td>3.349439e+11</td><td> 6.9478920</td><td> 7335.1669</td></tr>\n",
       "\t<tr><td>COM</td><td> 29.61627</td><td>   1862</td><td>    706578</td><td>11.69731</td><td>Africa </td><td>30.5642208</td><td>62.24000</td><td>FALSE</td><td>NONE</td><td> 97.90298</td><td> 1.8426630</td><td>Arabic        </td><td>9.932962e+08</td><td>    23118441</td><td>0.681</td><td>1.023086e+09</td><td> 4.0998470</td><td> 1447.9453</td></tr>\n",
       "\t<tr><td>⋮</td><td>⋮</td><td>⋮</td><td>⋮</td><td>⋮</td><td>⋮</td><td>⋮</td><td>⋮</td><td>⋮</td><td>⋮</td><td>⋮</td><td>⋮</td><td>⋮</td><td>⋮</td><td>⋮</td><td>⋮</td><td>⋮</td><td>⋮</td><td>⋮</td></tr>\n",
       "\t<tr><td>RWA</td><td> 36.37532</td><td>  26338</td><td> 10293333</td><td>18.14896</td><td>Africa </td><td>23.85008275</td><td>64.52300</td><td> TRUE</td><td>DEU </td><td>181.85410</td><td> 3.100000</td><td>French    </td><td>6.715587e+09</td><td>   112127536</td><td>0.708</td><td>6.884890e+09</td><td>  7.9584060</td><td>  668.4947</td></tr>\n",
       "\t<tr><td>SAU</td><td> 73.93568</td><td>2153168</td><td> 28267591</td><td>63.67636</td><td>Asia   </td><td> 2.17142778</td><td>74.08900</td><td>FALSE</td><td>GBR </td><td>148.26656</td><td> 5.826216</td><td>Arabic    </td><td>5.903013e+11</td><td> 16308280000</td><td>0.689</td><td>6.712388e+11</td><td>  9.9968466</td><td>23745.8806</td></tr>\n",
       "\t<tr><td>SDN</td><td> 33.56063</td><td>2505813</td><td> 35349676</td><td>23.33444</td><td>Africa </td><td>31.96298180</td><td>63.17100</td><td>FALSE</td><td>GBR </td><td>246.99334</td><td>18.096617</td><td>Arabic    </td><td>5.478139e+10</td><td>  1734376994</td><td>0.606</td><td>5.706045e+10</td><td> -1.9676959</td><td> 1437.7798</td></tr>\n",
       "\t<tr><td>SEN</td><td> 47.43946</td><td> 196722</td><td> 13033814</td><td>23.30613</td><td>Africa </td><td>12.94706104</td><td>64.89800</td><td>FALSE</td><td>FRA </td><td>106.08188</td><td> 3.403228</td><td>French    </td><td>1.695227e+10</td><td>   338661996</td><td>0.775</td><td>1.790221e+10</td><td>  1.4583887</td><td> 1366.7745</td></tr>\n",
       "\t<tr><td>SGP</td><td>277.52631</td><td>    646</td><td>  5183688</td><td>25.26045</td><td>Asia   </td><td> 0.03466452</td><td>81.74390</td><td>FALSE</td><td>NONE</td><td> 81.87670</td><td> 5.247793</td><td>English   </td><td>2.503057e+11</td><td> 49155657316</td><td>0.572</td><td>2.793512e+11</td><td>  6.3378708</td><td>53890.4287</td></tr>\n",
       "\t<tr><td>SLE</td><td> 70.24527</td><td>  73326</td><td>  6563238</td><td> 7.86963</td><td>Africa </td><td>54.59346587</td><td>50.23400</td><td>FALSE</td><td>GBR </td><td> 65.86316</td><td> 6.788194</td><td>English   </td><td>2.804879e+09</td><td>   950477791</td><td>0.295</td><td>2.942547e+09</td><td>  6.3150450</td><td>  448.3377</td></tr>\n",
       "\t<tr><td>SUR</td><td> 92.82549</td><td> 163820</td><td>   535177</td><td>35.10933</td><td>America</td><td> 8.73235538</td><td>70.67600</td><td>FALSE</td><td>NONE</td><td>140.55659</td><td>17.711780</td><td>Dutch     </td><td>4.240262e+09</td><td>   145288761</td><td>0.656</td><td>4.422277e+09</td><td>  5.8493678</td><td> 8263.2038</td></tr>\n",
       "\t<tr><td>SVK</td><td>161.33825</td><td>  49036</td><td>  5398384</td><td>31.03541</td><td>Europe </td><td> 2.16272578</td><td>75.95854</td><td> TRUE</td><td>NONE</td><td> 91.96647</td><td> 3.919286</td><td>Slovak    </td><td>9.415148e+10</td><td>  5431592592</td><td>0.589</td><td>9.912280e+10</td><td>  2.8472182</td><td>18361.5695</td></tr>\n",
       "\t<tr><td>SVN</td><td>136.29261</td><td>  20256</td><td>  2052843</td><td>26.80883</td><td>Europe </td><td> 2.14260567</td><td>79.97073</td><td>FALSE</td><td>NONE</td><td> 94.35869</td><td> 1.802852</td><td>Slovenian </td><td>5.044872e+10</td><td>   875946338</td><td>0.733</td><td>5.151637e+10</td><td>  0.8613277</td><td>25095.1323</td></tr>\n",
       "\t<tr><td>SWE</td><td> 63.40232</td><td> 449964</td><td>  9449213</td><td>23.63236</td><td>Europe </td><td> 1.67048248</td><td>81.80244</td><td>FALSE</td><td>NONE</td><td> 92.83550</td><td> 2.961151</td><td>Swedish   </td><td>5.357945e+11</td><td>  6979353755</td><td>0.791</td><td>5.740941e+11</td><td>  3.1953332</td><td>60755.7596</td></tr>\n",
       "\t<tr><td>SWZ</td><td> 80.07469</td><td>  17364</td><td>  1072029</td><td>36.77749</td><td>Africa </td><td> 9.71988478</td><td>48.14100</td><td> TRUE</td><td>GBR </td><td>119.01914</td><td> 6.107427</td><td>Swati     </td><td>4.134676e+09</td><td>    98708322</td><td>0.815</td><td>4.820499e+09</td><td>  2.2472298</td><td> 4496.6130</td></tr>\n",
       "\t<tr><td>TCD</td><td> 66.54448</td><td>1284005</td><td> 12360986</td><td>12.60900</td><td>Africa </td><td>51.19620013</td><td>51.42400</td><td> TRUE</td><td>FRA </td><td>217.84293</td><td> 2.029241</td><td>French    </td><td>1.094748e+10</td><td>   281900000</td><td>0.515</td><td>1.217231e+10</td><td>  0.0828698</td><td>  984.7361</td></tr>\n",
       "\t<tr><td>TGO</td><td> 86.92151</td><td>  56785</td><td>  6595939</td><td>17.12206</td><td>Africa </td><td>29.87507362</td><td>58.09200</td><td>FALSE</td><td>DEU </td><td>115.14776</td><td> 3.563515</td><td>French    </td><td>4.056488e+09</td><td>   728710878</td><td>0.362</td><td>3.872459e+09</td><td>  6.3981991</td><td>  587.0975</td></tr>\n",
       "\t<tr><td>THA</td><td>121.72052</td><td> 513115</td><td> 67518379</td><td>37.98140</td><td>Asia   </td><td>11.59179178</td><td>74.59300</td><td>FALSE</td><td>NONE</td><td> 93.82092</td><td> 3.808791</td><td>Thai      </td><td>3.342562e+11</td><td>  2473685996</td><td>0.936</td><td>3.708191e+11</td><td>  0.8401321</td><td> 5492.1215</td></tr>\n",
       "\t<tr><td>TJK</td><td> 68.42225</td><td> 143095</td><td>  7697507</td><td>22.46875</td><td>Asia   </td><td>23.83550984</td><td>69.05500</td><td> TRUE</td><td>NONE</td><td>102.37625</td><td>12.431549</td><td>Tajik     </td><td>7.848533e+09</td><td>   145883670</td><td>0.751</td><td>6.522732e+09</td><td>  7.4006405</td><td>  847.3824</td></tr>\n",
       "\t<tr><td>TKM</td><td> 70.46750</td><td> 488100</td><td>  5174076</td><td>65.86929</td><td>Asia   </td><td> 8.88435456</td><td>66.92800</td><td> TRUE</td><td>NONE</td><td>223.45110</td><td> 5.300000</td><td>Turkmen   </td><td>2.445479e+10</td><td>  3391067000</td><td>0.596</td><td>2.923333e+10</td><td> 14.6999999</td><td> 5649.9621</td></tr>\n",
       "\t<tr><td>TTO</td><td> 96.15456</td><td>   5130</td><td>  1336180</td><td>57.05101</td><td>America</td><td> 0.45654257</td><td>72.17000</td><td>FALSE</td><td>NONE</td><td>139.98272</td><td> 5.107133</td><td>English   </td><td>2.000117e+10</td><td>    41047454</td><td>0.907</td><td>2.543301e+10</td><td> -0.2943544</td><td>19034.1207</td></tr>\n",
       "\t<tr><td>TUN</td><td> 91.24302</td><td> 164150</td><td> 10741872</td><td>29.80671</td><td>Africa </td><td> 8.53467551</td><td>75.20600</td><td>FALSE</td><td>FRA </td><td>112.79464</td><td> 3.240028</td><td>Arabic    </td><td>4.281453e+10</td><td>   432666012</td><td>0.571</td><td>4.581063e+10</td><td> -1.9171777</td><td> 4264.6781</td></tr>\n",
       "\t<tr><td>TUR</td><td> 44.79801</td><td> 780576</td><td> 73443254</td><td>26.83752</td><td>Europe </td><td> 8.17395627</td><td>74.94400</td><td>FALSE</td><td>NONE</td><td> 89.02036</td><td> 6.471880</td><td>Turkish   </td><td>8.307337e+11</td><td> 16182000000</td><td>0.707</td><td>8.387857e+11</td><td> 11.2001106</td><td>11420.5555</td></tr>\n",
       "\t<tr><td>TZA</td><td> 44.82193</td><td> 945090</td><td> 45673520</td><td>26.38208</td><td>Africa </td><td>24.97686445</td><td>59.52500</td><td>FALSE</td><td>DEU </td><td>153.90720</td><td>12.690969</td><td>English   </td><td>3.393211e+10</td><td>  1229361018</td><td>0.708</td><td>3.465714e+10</td><td>  7.6721554</td><td>  781.4339</td></tr>\n",
       "\t<tr><td>UGA</td><td> 28.07000</td><td> 241038</td><td> 33476772</td><td>25.65520</td><td>Africa </td><td>28.82112372</td><td>58.08700</td><td> TRUE</td><td>GBR </td><td>121.31415</td><td>15.125154</td><td>English   </td><td>2.859961e+10</td><td>   894293858</td><td>0.710</td><td>2.775271e+10</td><td>  9.3916555</td><td>  828.9941</td></tr>\n",
       "\t<tr><td>UKR</td><td> 92.58048</td><td> 603677</td><td> 45706086</td><td>25.10925</td><td>Europe </td><td> 8.19659521</td><td>70.80927</td><td>FALSE</td><td>NONE</td><td>106.55219</td><td> 7.955725</td><td>Ukrainian </td><td>1.421585e+11</td><td>  7207000000</td><td>0.470</td><td>1.631597e+11</td><td>  5.4655018</td><td> 3569.7581</td></tr>\n",
       "\t<tr><td>URY</td><td> 38.85957</td><td> 176215</td><td>  3368926</td><td>22.70512</td><td>America</td><td> 8.82916199</td><td>76.88200</td><td>FALSE</td><td>NONE</td><td>104.91660</td><td> 8.092832</td><td>Spanish   </td><td>4.063638e+10</td><td>  2690094197</td><td>0.750</td><td>4.796244e+10</td><td>  5.1621330</td><td>14236.7150</td></tr>\n",
       "\t<tr><td>USA</td><td> 24.11782</td><td>9529106</td><td>311583481</td><td>19.41690</td><td>America</td><td> 1.21648754</td><td>78.64146</td><td>FALSE</td><td>USA </td><td> 94.59459</td><td> 3.156842</td><td>English   </td><td>1.576043e+13</td><td>263497000000</td><td>0.877</td><td>1.554258e+13</td><td>  1.5508355</td><td>49882.5581</td></tr>\n",
       "\t<tr><td>UZB</td><td> 41.98082</td><td> 447400</td><td> 29339400</td><td>21.05973</td><td>Asia   </td><td>31.62324226</td><td>69.91000</td><td> TRUE</td><td>NONE</td><td>189.17979</td><td>12.400000</td><td>Uzbek     </td><td>4.913960e+10</td><td>  1615052150</td><td>0.786</td><td>5.651628e+10</td><td>  7.7849059</td><td> 1926.2930</td></tr>\n",
       "\t<tr><td>VNM</td><td>150.25590</td><td> 331114</td><td> 88871384</td><td>32.24441</td><td>Asia   </td><td>19.56775113</td><td>74.90400</td><td>FALSE</td><td>FRA </td><td>126.27254</td><td>18.677732</td><td>Vietnamese</td><td>1.220328e+11</td><td>  7430000000</td><td>0.637</td><td>1.355394e+11</td><td>  6.2403027</td><td> 1525.1190</td></tr>\n",
       "\t<tr><td>YEM</td><td> 64.04612</td><td> 547244</td><td> 23807586</td><td>46.46610</td><td>Asia   </td><td> 8.53316922</td><td>65.76800</td><td>FALSE</td><td>NONE</td><td>171.43069</td><td>19.543562</td><td>Arabic    </td><td>2.569438e+10</td><td>  -517842928</td><td>0.551</td><td>3.272642e+10</td><td>-12.7148230</td><td> 1374.6214</td></tr>\n",
       "\t<tr><td>ZAF</td><td> 56.01211</td><td>1219912</td><td> 52003759</td><td>26.94254</td><td>Africa </td><td> 2.28547254</td><td>58.89500</td><td>FALSE</td><td>GBR </td><td>146.29483</td><td> 5.017158</td><td>English   </td><td>3.634092e+11</td><td>  4139289123</td><td>0.741</td><td>4.164189e+11</td><td>  3.2841681</td><td> 8007.4764</td></tr>\n",
       "\t<tr><td>ZMB</td><td> 68.96562</td><td> 752614</td><td> 14023199</td><td>34.44428</td><td>Africa </td><td> 9.64805782</td><td>57.12600</td><td> TRUE</td><td>GBR </td><td>197.44704</td><td> 6.429397</td><td>English   </td><td>1.988820e+10</td><td>  1108500000</td><td>0.792</td><td>2.345952e+10</td><td>  5.5646023</td><td> 1672.9075</td></tr>\n",
       "\t<tr><td>ZWE</td><td> 81.52081</td><td> 390759</td><td> 12894323</td><td>21.72029</td><td>Africa </td><td> 8.66586517</td><td>52.89600</td><td> TRUE</td><td>GBR </td><td>111.41353</td><td> 3.466130</td><td>English   </td><td>1.189188e+10</td><td>   344300000</td><td>0.728</td><td>1.410192e+10</td><td> 14.1939130</td><td> 1093.6534</td></tr>\n",
       "</tbody>\n",
       "</table>\n"
      ],
      "text/latex": [
       "A data.frame: 141 × 19\n",
       "\\begin{tabular}{lllllllllllllllllll}\n",
       " country\\_iso3 & merchandise\\_of\\_gdp & area & population & industry\\_of\\_gdp & continent & agriculture\\_forestry\\_fishing\\_of\\_gdp & life\\_expectancy & landlocked & colonizer & net\\_barter\\_of\\_trade & inflation\\_rate & langoff\\_1 & gni\\_atlas & foreign\\_direct\\_investment\\_inflows & happiness & gdp\\_us\\_dollar & gdp\\_growth & gdp\\_per\\_capita\\\\\n",
       " <chr> & <dbl> & <int> & <int> & <dbl> & <chr> & <dbl> & <dbl> & <lgl> & <chr> & <dbl> & <dbl> & <chr> & <dbl> & <dbl> & <dbl> & <dbl> & <dbl> & <dbl>\\\\\n",
       "\\hline\n",
       "\t AFG &  38.70415 &  652225 &   30117411 & 22.74025 & Asia    & 23.7436640 & 61.55300 &  TRUE & USA  & 144.75187 & 11.8041858 & Persian        & 1.607712e+10 &     52173421 & 0.721 & 1.780429e+10 &  0.4263548 &   591.1628\\\\\n",
       "\t AGO &  78.30597 & 1246700 &   24220660 & 56.02651 & Africa  &  5.8456810 & 56.33000 & FALSE & PRT  & 244.32915 & 13.4824679 & Portuguese     & 8.260603e+10 &  -3023770966 & 0.708 & 1.117897e+11 &  3.4719763 &  4615.4682\\\\\n",
       "\t ALB &  56.86241 &   28748 &    2905195 & 24.48441 & Europe  & 18.2267654 & 76.91400 & FALSE & NONE &  94.33720 &  3.4291232 & Albanian       & 1.280372e+10 &   1048706682 & 0.568 & 1.289077e+10 &  2.5453218 &  4437.1429\\\\\n",
       "\t ARE & 151.70246 &   83657 &    8946778 & 58.03560 & Asia    &  0.6719101 & 76.52100 & FALSE & GBR  & 176.14978 &  0.8773466 & Arabic         & 3.133841e+11 &   7152095826 & 0.764 & 3.506660e+11 &  6.9302716 & 39194.6722\\\\\n",
       "\t ARG &  29.87193 & 2766889 &   41261490 & 25.21270 & America &  6.9987338 & 75.43900 & FALSE & NONE & 160.56492 &  9.8000000 & Spanish        & 4.421068e+11 &  10839930945 & 0.813 & 5.301633e+11 &  6.0039517 & 12848.8642\\\\\n",
       "\t ARM &  54.02228 &   29800 &    2876536 & 27.50000 & Asia    & 17.5000000 & 73.57200 &  TRUE & NONE & 128.24335 &  7.6500081 & Armenian       & 1.016034e+10 &    653219756 & 0.488 & 1.014211e+10 &  4.7000000 &  3525.8072\\\\\n",
       "\t AUS &  36.90503 & 7686848 &   22340024 & 26.43613 & Pacific &  2.2765424 & 81.89512 & FALSE & NONE & 200.28858 &  3.3038502 & English        & 1.124160e+12 &  65554890650 & 0.863 & 1.396650e+12 &  2.4627563 & 62517.8337\\\\\n",
       "\t AUT &  85.55500 &   83858 &    8391643 & 25.44743 & Europe  &  1.4019149 & 80.98293 &  TRUE & NONE &  88.72963 &  3.2865791 & German         & 4.245458e+11 &  22983942932 & 0.890 & 4.311203e+11 &  2.9227973 & 51374.9584\\\\\n",
       "\t AZE &  67.71781 &   86600 &    9173082 & 61.73400 & Asia    &  5.0762260 & 71.23400 &  TRUE & NONE & 199.30369 &  7.8583333 & Azeri          & 5.010686e+10 &   4485120000 & 0.455 & 6.595163e+10 & -1.5729976 &  7189.6912\\\\\n",
       "\t BDI &  39.13552 &   27834 &    8958406 & 14.80968 & Africa  & 36.7045760 & 57.92500 &  TRUE & DEU  & 164.51196 &  9.5921661 & French         & 2.104253e+09 &      3354999 & 0.683 & 2.235821e+09 &  4.0326025 &   249.5780\\\\\n",
       "\t BEL & 180.35455 &   33114 &   11038264 & 20.77790 & Europe  &  0.6480342 & 80.58537 & FALSE & NONE &  94.86824 &  3.5320821 & Dutch          & 5.121543e+11 & 163624381385 & 0.821 & 5.226455e+11 &  1.6945139 & 47348.5250\\\\\n",
       "\t BEN &  33.09542 &  112622 &    9460829 & 18.13745 & Africa  & 25.7970008 & 59.59000 & FALSE & FRA  & 137.21882 &  2.7042391 & French         & 1.035731e+10 &    161302391 & 0.543 & 1.069332e+10 &  2.9637529 &  1130.2732\\\\\n",
       "\t BFA &  39.77551 &  274200 &   16081915 & 28.37227 & Africa  & 23.0436505 & 57.76100 &  TRUE & FRA  & 139.83716 &  2.7597672 & French         & 1.092395e+10 &    143845512 & 0.497 & 1.208030e+10 &  6.6225626 &   751.1728\\\\\n",
       "\t BGD &  47.15016 &  143998 &  149273134 & 25.04530 & Asia    & 16.8099868 & 70.25600 & FALSE & GBR  &  57.47438 & 11.3951652 & Bengali        & 1.333422e+11 &   1264725163 & 0.702 & 1.286379e+11 &  6.4643791 &   861.7622\\\\\n",
       "\t BGR & 105.93136 &  110994 &    7348328 & 25.07463 & Europe  &  4.6416350 & 74.16341 & FALSE & NONE & 106.99240 &  4.2199035 & Bulgarian      & 5.305519e+10 &   2103810000 & 0.456 & 5.738622e+10 &  2.3545569 &  7809.4251\\\\\n",
       "\t BHR & 112.52200 &     678 &    1278153 & 49.51719 & Asia    &  0.2908503 & 76.20000 & FALSE & GBR  & 138.73565 & -0.4000407 & Arabic         & 2.321267e+10 &    780851064 & 0.577 & 2.877660e+10 &  1.9835150 & 22514.2027\\\\\n",
       "\t BIH &  90.64763 &   51233 &    3661173 & 22.19326 & Europe  &  6.7577458 & 76.21900 & FALSE & NONE & 101.97710 &  3.6712500 & Serbo-Croatian & 1.834067e+10 &    471610992 & 0.592 & 1.864472e+10 &  0.9595112 &  5092.5547\\\\\n",
       "\t BLR & 141.16114 &  207595 &    9473172 & 36.08879 & Europe  &  8.0017576 & 70.55366 & FALSE & NONE & 110.22796 & 53.2286983 & Belarussian    & 5.933500e+10 &   4002400000 & 0.437 & 6.175779e+10 &  5.3787075 &  6519.2302\\\\\n",
       "\t BOL &  67.95884 & 1098581 &   10212951 & 30.36911 & America &  9.7695859 & 68.52100 &  TRUE & NONE & 181.12201 &  9.8844642 & Spanish        & 2.042983e+10 &    858941070 & 0.773 & 2.396303e+10 &  5.2040923 &  2346.3378\\\\\n",
       "\t BRA &  18.84427 & 8511920 &  197514541 & 23.10206 & America &  4.3420351 & 73.92100 & FALSE & NONE & 134.17935 &  6.6364496 & Portuguese     & 2.188990e+12 & 102427228231 & 0.853 & 2.616201e+12 &  3.9744254 & 13245.6120\\\\\n",
       "\t BWA &  85.68280 &  600372 &    2015406 & 35.04647 & Africa  &  2.5109177 & 61.91000 &  TRUE & GBR  &  82.76718 &  8.4598723 & English        & 1.331273e+10 &    293208060 & 0.732 & 1.535197e+10 &  6.0483615 &  7617.3100\\\\\n",
       "\t CAF &  20.50876 &  622984 &    4418639 & 26.63836 & Africa  & 37.5690228 & 47.95000 &  TRUE & FRA  &  76.73652 &  1.1944757 & French         & 2.341223e+09 &     36908456 & 0.524 & 2.437983e+09 &  4.1946153 &   551.7497\\\\\n",
       "\t CAN &  51.02110 & 9976139 &   34339328 & 27.13934 & America &  1.7656645 & 81.44878 & FALSE & NONE & 117.81839 &  2.9121351 & English        & 1.620451e+12 &  38338330427 & 0.911 & 1.788648e+12 &  3.1468814 & 52223.6961\\\\\n",
       "\t CHE &  61.35949 &   41288 &    7912398 & 25.27957 & Europe  &  0.6709359 & 82.69512 &  TRUE & NONE & 103.60558 &  0.2313492 & German         & 6.510687e+11 &  20764483835 & 0.907 & 6.995796e+11 &  1.6928085 & 91254.0348\\\\\n",
       "\t CHL &  61.89565 &  756945 &   17233584 & 34.70132 & America &  3.6712066 & 78.98600 & FALSE & NONE & 217.82863 &  3.3412169 & Spanish        & 2.125990e+11 &  25564944877 & 0.792 & 2.522520e+11 &  6.1109188 & 14637.2334\\\\\n",
       "\t CHN &  48.22704 & 9572378 & 1344130000 & 46.52929 & Asia    &  9.1776538 & 74.70800 & FALSE & NONE &  79.04874 &  5.5538989 & Chinese        & 6.783869e+12 & 280072219150 & 0.785 & 7.551500e+12 &  9.5508322 &  5618.1323\\\\\n",
       "\t CMR &  38.52537 &  475442 &   20906392 & 27.19177 & Africa  & 13.4796523 & 55.58100 & FALSE & DEU  & 162.01341 &  2.9396995 & French         & 2.830121e+10 &    653266627 & 0.576 & 2.937545e+10 &  4.1292772 &  1405.0941\\\\\n",
       "\t COG & 133.27238 &  342000 &    4394842 & 65.87390 & Africa  &  3.9839362 & 60.78500 & FALSE & FRA  & 211.35212 &  1.7595870 & French         & 1.188836e+10 &    298288001 & 0.300 & 1.565538e+10 &  2.2059194 &  3557.5562\\\\\n",
       "\t COL &  33.18407 & 1141748 &   45662747 & 33.30216 & America &  6.0916961 & 75.65500 & FALSE & NONE & 183.91682 &  3.4175896 & Spanish        & 2.882989e+11 &  14647048638 & 0.831 & 3.349439e+11 &  6.9478920 &  7335.1669\\\\\n",
       "\t COM &  29.61627 &    1862 &     706578 & 11.69731 & Africa  & 30.5642208 & 62.24000 & FALSE & NONE &  97.90298 &  1.8426630 & Arabic         & 9.932962e+08 &     23118441 & 0.681 & 1.023086e+09 &  4.0998470 &  1447.9453\\\\\n",
       "\t ⋮ & ⋮ & ⋮ & ⋮ & ⋮ & ⋮ & ⋮ & ⋮ & ⋮ & ⋮ & ⋮ & ⋮ & ⋮ & ⋮ & ⋮ & ⋮ & ⋮ & ⋮ & ⋮\\\\\n",
       "\t RWA &  36.37532 &   26338 &  10293333 & 18.14896 & Africa  & 23.85008275 & 64.52300 &  TRUE & DEU  & 181.85410 &  3.100000 & French     & 6.715587e+09 &    112127536 & 0.708 & 6.884890e+09 &   7.9584060 &   668.4947\\\\\n",
       "\t SAU &  73.93568 & 2153168 &  28267591 & 63.67636 & Asia    &  2.17142778 & 74.08900 & FALSE & GBR  & 148.26656 &  5.826216 & Arabic     & 5.903013e+11 &  16308280000 & 0.689 & 6.712388e+11 &   9.9968466 & 23745.8806\\\\\n",
       "\t SDN &  33.56063 & 2505813 &  35349676 & 23.33444 & Africa  & 31.96298180 & 63.17100 & FALSE & GBR  & 246.99334 & 18.096617 & Arabic     & 5.478139e+10 &   1734376994 & 0.606 & 5.706045e+10 &  -1.9676959 &  1437.7798\\\\\n",
       "\t SEN &  47.43946 &  196722 &  13033814 & 23.30613 & Africa  & 12.94706104 & 64.89800 & FALSE & FRA  & 106.08188 &  3.403228 & French     & 1.695227e+10 &    338661996 & 0.775 & 1.790221e+10 &   1.4583887 &  1366.7745\\\\\n",
       "\t SGP & 277.52631 &     646 &   5183688 & 25.26045 & Asia    &  0.03466452 & 81.74390 & FALSE & NONE &  81.87670 &  5.247793 & English    & 2.503057e+11 &  49155657316 & 0.572 & 2.793512e+11 &   6.3378708 & 53890.4287\\\\\n",
       "\t SLE &  70.24527 &   73326 &   6563238 &  7.86963 & Africa  & 54.59346587 & 50.23400 & FALSE & GBR  &  65.86316 &  6.788194 & English    & 2.804879e+09 &    950477791 & 0.295 & 2.942547e+09 &   6.3150450 &   448.3377\\\\\n",
       "\t SUR &  92.82549 &  163820 &    535177 & 35.10933 & America &  8.73235538 & 70.67600 & FALSE & NONE & 140.55659 & 17.711780 & Dutch      & 4.240262e+09 &    145288761 & 0.656 & 4.422277e+09 &   5.8493678 &  8263.2038\\\\\n",
       "\t SVK & 161.33825 &   49036 &   5398384 & 31.03541 & Europe  &  2.16272578 & 75.95854 &  TRUE & NONE &  91.96647 &  3.919286 & Slovak     & 9.415148e+10 &   5431592592 & 0.589 & 9.912280e+10 &   2.8472182 & 18361.5695\\\\\n",
       "\t SVN & 136.29261 &   20256 &   2052843 & 26.80883 & Europe  &  2.14260567 & 79.97073 & FALSE & NONE &  94.35869 &  1.802852 & Slovenian  & 5.044872e+10 &    875946338 & 0.733 & 5.151637e+10 &   0.8613277 & 25095.1323\\\\\n",
       "\t SWE &  63.40232 &  449964 &   9449213 & 23.63236 & Europe  &  1.67048248 & 81.80244 & FALSE & NONE &  92.83550 &  2.961151 & Swedish    & 5.357945e+11 &   6979353755 & 0.791 & 5.740941e+11 &   3.1953332 & 60755.7596\\\\\n",
       "\t SWZ &  80.07469 &   17364 &   1072029 & 36.77749 & Africa  &  9.71988478 & 48.14100 &  TRUE & GBR  & 119.01914 &  6.107427 & Swati      & 4.134676e+09 &     98708322 & 0.815 & 4.820499e+09 &   2.2472298 &  4496.6130\\\\\n",
       "\t TCD &  66.54448 & 1284005 &  12360986 & 12.60900 & Africa  & 51.19620013 & 51.42400 &  TRUE & FRA  & 217.84293 &  2.029241 & French     & 1.094748e+10 &    281900000 & 0.515 & 1.217231e+10 &   0.0828698 &   984.7361\\\\\n",
       "\t TGO &  86.92151 &   56785 &   6595939 & 17.12206 & Africa  & 29.87507362 & 58.09200 & FALSE & DEU  & 115.14776 &  3.563515 & French     & 4.056488e+09 &    728710878 & 0.362 & 3.872459e+09 &   6.3981991 &   587.0975\\\\\n",
       "\t THA & 121.72052 &  513115 &  67518379 & 37.98140 & Asia    & 11.59179178 & 74.59300 & FALSE & NONE &  93.82092 &  3.808791 & Thai       & 3.342562e+11 &   2473685996 & 0.936 & 3.708191e+11 &   0.8401321 &  5492.1215\\\\\n",
       "\t TJK &  68.42225 &  143095 &   7697507 & 22.46875 & Asia    & 23.83550984 & 69.05500 &  TRUE & NONE & 102.37625 & 12.431549 & Tajik      & 7.848533e+09 &    145883670 & 0.751 & 6.522732e+09 &   7.4006405 &   847.3824\\\\\n",
       "\t TKM &  70.46750 &  488100 &   5174076 & 65.86929 & Asia    &  8.88435456 & 66.92800 &  TRUE & NONE & 223.45110 &  5.300000 & Turkmen    & 2.445479e+10 &   3391067000 & 0.596 & 2.923333e+10 &  14.6999999 &  5649.9621\\\\\n",
       "\t TTO &  96.15456 &    5130 &   1336180 & 57.05101 & America &  0.45654257 & 72.17000 & FALSE & NONE & 139.98272 &  5.107133 & English    & 2.000117e+10 &     41047454 & 0.907 & 2.543301e+10 &  -0.2943544 & 19034.1207\\\\\n",
       "\t TUN &  91.24302 &  164150 &  10741872 & 29.80671 & Africa  &  8.53467551 & 75.20600 & FALSE & FRA  & 112.79464 &  3.240028 & Arabic     & 4.281453e+10 &    432666012 & 0.571 & 4.581063e+10 &  -1.9171777 &  4264.6781\\\\\n",
       "\t TUR &  44.79801 &  780576 &  73443254 & 26.83752 & Europe  &  8.17395627 & 74.94400 & FALSE & NONE &  89.02036 &  6.471880 & Turkish    & 8.307337e+11 &  16182000000 & 0.707 & 8.387857e+11 &  11.2001106 & 11420.5555\\\\\n",
       "\t TZA &  44.82193 &  945090 &  45673520 & 26.38208 & Africa  & 24.97686445 & 59.52500 & FALSE & DEU  & 153.90720 & 12.690969 & English    & 3.393211e+10 &   1229361018 & 0.708 & 3.465714e+10 &   7.6721554 &   781.4339\\\\\n",
       "\t UGA &  28.07000 &  241038 &  33476772 & 25.65520 & Africa  & 28.82112372 & 58.08700 &  TRUE & GBR  & 121.31415 & 15.125154 & English    & 2.859961e+10 &    894293858 & 0.710 & 2.775271e+10 &   9.3916555 &   828.9941\\\\\n",
       "\t UKR &  92.58048 &  603677 &  45706086 & 25.10925 & Europe  &  8.19659521 & 70.80927 & FALSE & NONE & 106.55219 &  7.955725 & Ukrainian  & 1.421585e+11 &   7207000000 & 0.470 & 1.631597e+11 &   5.4655018 &  3569.7581\\\\\n",
       "\t URY &  38.85957 &  176215 &   3368926 & 22.70512 & America &  8.82916199 & 76.88200 & FALSE & NONE & 104.91660 &  8.092832 & Spanish    & 4.063638e+10 &   2690094197 & 0.750 & 4.796244e+10 &   5.1621330 & 14236.7150\\\\\n",
       "\t USA &  24.11782 & 9529106 & 311583481 & 19.41690 & America &  1.21648754 & 78.64146 & FALSE & USA  &  94.59459 &  3.156842 & English    & 1.576043e+13 & 263497000000 & 0.877 & 1.554258e+13 &   1.5508355 & 49882.5581\\\\\n",
       "\t UZB &  41.98082 &  447400 &  29339400 & 21.05973 & Asia    & 31.62324226 & 69.91000 &  TRUE & NONE & 189.17979 & 12.400000 & Uzbek      & 4.913960e+10 &   1615052150 & 0.786 & 5.651628e+10 &   7.7849059 &  1926.2930\\\\\n",
       "\t VNM & 150.25590 &  331114 &  88871384 & 32.24441 & Asia    & 19.56775113 & 74.90400 & FALSE & FRA  & 126.27254 & 18.677732 & Vietnamese & 1.220328e+11 &   7430000000 & 0.637 & 1.355394e+11 &   6.2403027 &  1525.1190\\\\\n",
       "\t YEM &  64.04612 &  547244 &  23807586 & 46.46610 & Asia    &  8.53316922 & 65.76800 & FALSE & NONE & 171.43069 & 19.543562 & Arabic     & 2.569438e+10 &   -517842928 & 0.551 & 3.272642e+10 & -12.7148230 &  1374.6214\\\\\n",
       "\t ZAF &  56.01211 & 1219912 &  52003759 & 26.94254 & Africa  &  2.28547254 & 58.89500 & FALSE & GBR  & 146.29483 &  5.017158 & English    & 3.634092e+11 &   4139289123 & 0.741 & 4.164189e+11 &   3.2841681 &  8007.4764\\\\\n",
       "\t ZMB &  68.96562 &  752614 &  14023199 & 34.44428 & Africa  &  9.64805782 & 57.12600 &  TRUE & GBR  & 197.44704 &  6.429397 & English    & 1.988820e+10 &   1108500000 & 0.792 & 2.345952e+10 &   5.5646023 &  1672.9075\\\\\n",
       "\t ZWE &  81.52081 &  390759 &  12894323 & 21.72029 & Africa  &  8.66586517 & 52.89600 &  TRUE & GBR  & 111.41353 &  3.466130 & English    & 1.189188e+10 &    344300000 & 0.728 & 1.410192e+10 &  14.1939130 &  1093.6534\\\\\n",
       "\\end{tabular}\n"
      ],
      "text/markdown": [
       "\n",
       "A data.frame: 141 × 19\n",
       "\n",
       "| country_iso3 &lt;chr&gt; | merchandise_of_gdp &lt;dbl&gt; | area &lt;int&gt; | population &lt;int&gt; | industry_of_gdp &lt;dbl&gt; | continent &lt;chr&gt; | agriculture_forestry_fishing_of_gdp &lt;dbl&gt; | life_expectancy &lt;dbl&gt; | landlocked &lt;lgl&gt; | colonizer &lt;chr&gt; | net_barter_of_trade &lt;dbl&gt; | inflation_rate &lt;dbl&gt; | langoff_1 &lt;chr&gt; | gni_atlas &lt;dbl&gt; | foreign_direct_investment_inflows &lt;dbl&gt; | happiness &lt;dbl&gt; | gdp_us_dollar &lt;dbl&gt; | gdp_growth &lt;dbl&gt; | gdp_per_capita &lt;dbl&gt; |\n",
       "|---|---|---|---|---|---|---|---|---|---|---|---|---|---|---|---|---|---|---|\n",
       "| AFG |  38.70415 |  652225 |   30117411 | 22.74025 | Asia    | 23.7436640 | 61.55300 |  TRUE | USA  | 144.75187 | 11.8041858 | Persian        | 1.607712e+10 |     52173421 | 0.721 | 1.780429e+10 |  0.4263548 |   591.1628 |\n",
       "| AGO |  78.30597 | 1246700 |   24220660 | 56.02651 | Africa  |  5.8456810 | 56.33000 | FALSE | PRT  | 244.32915 | 13.4824679 | Portuguese     | 8.260603e+10 |  -3023770966 | 0.708 | 1.117897e+11 |  3.4719763 |  4615.4682 |\n",
       "| ALB |  56.86241 |   28748 |    2905195 | 24.48441 | Europe  | 18.2267654 | 76.91400 | FALSE | NONE |  94.33720 |  3.4291232 | Albanian       | 1.280372e+10 |   1048706682 | 0.568 | 1.289077e+10 |  2.5453218 |  4437.1429 |\n",
       "| ARE | 151.70246 |   83657 |    8946778 | 58.03560 | Asia    |  0.6719101 | 76.52100 | FALSE | GBR  | 176.14978 |  0.8773466 | Arabic         | 3.133841e+11 |   7152095826 | 0.764 | 3.506660e+11 |  6.9302716 | 39194.6722 |\n",
       "| ARG |  29.87193 | 2766889 |   41261490 | 25.21270 | America |  6.9987338 | 75.43900 | FALSE | NONE | 160.56492 |  9.8000000 | Spanish        | 4.421068e+11 |  10839930945 | 0.813 | 5.301633e+11 |  6.0039517 | 12848.8642 |\n",
       "| ARM |  54.02228 |   29800 |    2876536 | 27.50000 | Asia    | 17.5000000 | 73.57200 |  TRUE | NONE | 128.24335 |  7.6500081 | Armenian       | 1.016034e+10 |    653219756 | 0.488 | 1.014211e+10 |  4.7000000 |  3525.8072 |\n",
       "| AUS |  36.90503 | 7686848 |   22340024 | 26.43613 | Pacific |  2.2765424 | 81.89512 | FALSE | NONE | 200.28858 |  3.3038502 | English        | 1.124160e+12 |  65554890650 | 0.863 | 1.396650e+12 |  2.4627563 | 62517.8337 |\n",
       "| AUT |  85.55500 |   83858 |    8391643 | 25.44743 | Europe  |  1.4019149 | 80.98293 |  TRUE | NONE |  88.72963 |  3.2865791 | German         | 4.245458e+11 |  22983942932 | 0.890 | 4.311203e+11 |  2.9227973 | 51374.9584 |\n",
       "| AZE |  67.71781 |   86600 |    9173082 | 61.73400 | Asia    |  5.0762260 | 71.23400 |  TRUE | NONE | 199.30369 |  7.8583333 | Azeri          | 5.010686e+10 |   4485120000 | 0.455 | 6.595163e+10 | -1.5729976 |  7189.6912 |\n",
       "| BDI |  39.13552 |   27834 |    8958406 | 14.80968 | Africa  | 36.7045760 | 57.92500 |  TRUE | DEU  | 164.51196 |  9.5921661 | French         | 2.104253e+09 |      3354999 | 0.683 | 2.235821e+09 |  4.0326025 |   249.5780 |\n",
       "| BEL | 180.35455 |   33114 |   11038264 | 20.77790 | Europe  |  0.6480342 | 80.58537 | FALSE | NONE |  94.86824 |  3.5320821 | Dutch          | 5.121543e+11 | 163624381385 | 0.821 | 5.226455e+11 |  1.6945139 | 47348.5250 |\n",
       "| BEN |  33.09542 |  112622 |    9460829 | 18.13745 | Africa  | 25.7970008 | 59.59000 | FALSE | FRA  | 137.21882 |  2.7042391 | French         | 1.035731e+10 |    161302391 | 0.543 | 1.069332e+10 |  2.9637529 |  1130.2732 |\n",
       "| BFA |  39.77551 |  274200 |   16081915 | 28.37227 | Africa  | 23.0436505 | 57.76100 |  TRUE | FRA  | 139.83716 |  2.7597672 | French         | 1.092395e+10 |    143845512 | 0.497 | 1.208030e+10 |  6.6225626 |   751.1728 |\n",
       "| BGD |  47.15016 |  143998 |  149273134 | 25.04530 | Asia    | 16.8099868 | 70.25600 | FALSE | GBR  |  57.47438 | 11.3951652 | Bengali        | 1.333422e+11 |   1264725163 | 0.702 | 1.286379e+11 |  6.4643791 |   861.7622 |\n",
       "| BGR | 105.93136 |  110994 |    7348328 | 25.07463 | Europe  |  4.6416350 | 74.16341 | FALSE | NONE | 106.99240 |  4.2199035 | Bulgarian      | 5.305519e+10 |   2103810000 | 0.456 | 5.738622e+10 |  2.3545569 |  7809.4251 |\n",
       "| BHR | 112.52200 |     678 |    1278153 | 49.51719 | Asia    |  0.2908503 | 76.20000 | FALSE | GBR  | 138.73565 | -0.4000407 | Arabic         | 2.321267e+10 |    780851064 | 0.577 | 2.877660e+10 |  1.9835150 | 22514.2027 |\n",
       "| BIH |  90.64763 |   51233 |    3661173 | 22.19326 | Europe  |  6.7577458 | 76.21900 | FALSE | NONE | 101.97710 |  3.6712500 | Serbo-Croatian | 1.834067e+10 |    471610992 | 0.592 | 1.864472e+10 |  0.9595112 |  5092.5547 |\n",
       "| BLR | 141.16114 |  207595 |    9473172 | 36.08879 | Europe  |  8.0017576 | 70.55366 | FALSE | NONE | 110.22796 | 53.2286983 | Belarussian    | 5.933500e+10 |   4002400000 | 0.437 | 6.175779e+10 |  5.3787075 |  6519.2302 |\n",
       "| BOL |  67.95884 | 1098581 |   10212951 | 30.36911 | America |  9.7695859 | 68.52100 |  TRUE | NONE | 181.12201 |  9.8844642 | Spanish        | 2.042983e+10 |    858941070 | 0.773 | 2.396303e+10 |  5.2040923 |  2346.3378 |\n",
       "| BRA |  18.84427 | 8511920 |  197514541 | 23.10206 | America |  4.3420351 | 73.92100 | FALSE | NONE | 134.17935 |  6.6364496 | Portuguese     | 2.188990e+12 | 102427228231 | 0.853 | 2.616201e+12 |  3.9744254 | 13245.6120 |\n",
       "| BWA |  85.68280 |  600372 |    2015406 | 35.04647 | Africa  |  2.5109177 | 61.91000 |  TRUE | GBR  |  82.76718 |  8.4598723 | English        | 1.331273e+10 |    293208060 | 0.732 | 1.535197e+10 |  6.0483615 |  7617.3100 |\n",
       "| CAF |  20.50876 |  622984 |    4418639 | 26.63836 | Africa  | 37.5690228 | 47.95000 |  TRUE | FRA  |  76.73652 |  1.1944757 | French         | 2.341223e+09 |     36908456 | 0.524 | 2.437983e+09 |  4.1946153 |   551.7497 |\n",
       "| CAN |  51.02110 | 9976139 |   34339328 | 27.13934 | America |  1.7656645 | 81.44878 | FALSE | NONE | 117.81839 |  2.9121351 | English        | 1.620451e+12 |  38338330427 | 0.911 | 1.788648e+12 |  3.1468814 | 52223.6961 |\n",
       "| CHE |  61.35949 |   41288 |    7912398 | 25.27957 | Europe  |  0.6709359 | 82.69512 |  TRUE | NONE | 103.60558 |  0.2313492 | German         | 6.510687e+11 |  20764483835 | 0.907 | 6.995796e+11 |  1.6928085 | 91254.0348 |\n",
       "| CHL |  61.89565 |  756945 |   17233584 | 34.70132 | America |  3.6712066 | 78.98600 | FALSE | NONE | 217.82863 |  3.3412169 | Spanish        | 2.125990e+11 |  25564944877 | 0.792 | 2.522520e+11 |  6.1109188 | 14637.2334 |\n",
       "| CHN |  48.22704 | 9572378 | 1344130000 | 46.52929 | Asia    |  9.1776538 | 74.70800 | FALSE | NONE |  79.04874 |  5.5538989 | Chinese        | 6.783869e+12 | 280072219150 | 0.785 | 7.551500e+12 |  9.5508322 |  5618.1323 |\n",
       "| CMR |  38.52537 |  475442 |   20906392 | 27.19177 | Africa  | 13.4796523 | 55.58100 | FALSE | DEU  | 162.01341 |  2.9396995 | French         | 2.830121e+10 |    653266627 | 0.576 | 2.937545e+10 |  4.1292772 |  1405.0941 |\n",
       "| COG | 133.27238 |  342000 |    4394842 | 65.87390 | Africa  |  3.9839362 | 60.78500 | FALSE | FRA  | 211.35212 |  1.7595870 | French         | 1.188836e+10 |    298288001 | 0.300 | 1.565538e+10 |  2.2059194 |  3557.5562 |\n",
       "| COL |  33.18407 | 1141748 |   45662747 | 33.30216 | America |  6.0916961 | 75.65500 | FALSE | NONE | 183.91682 |  3.4175896 | Spanish        | 2.882989e+11 |  14647048638 | 0.831 | 3.349439e+11 |  6.9478920 |  7335.1669 |\n",
       "| COM |  29.61627 |    1862 |     706578 | 11.69731 | Africa  | 30.5642208 | 62.24000 | FALSE | NONE |  97.90298 |  1.8426630 | Arabic         | 9.932962e+08 |     23118441 | 0.681 | 1.023086e+09 |  4.0998470 |  1447.9453 |\n",
       "| ⋮ | ⋮ | ⋮ | ⋮ | ⋮ | ⋮ | ⋮ | ⋮ | ⋮ | ⋮ | ⋮ | ⋮ | ⋮ | ⋮ | ⋮ | ⋮ | ⋮ | ⋮ | ⋮ |\n",
       "| RWA |  36.37532 |   26338 |  10293333 | 18.14896 | Africa  | 23.85008275 | 64.52300 |  TRUE | DEU  | 181.85410 |  3.100000 | French     | 6.715587e+09 |    112127536 | 0.708 | 6.884890e+09 |   7.9584060 |   668.4947 |\n",
       "| SAU |  73.93568 | 2153168 |  28267591 | 63.67636 | Asia    |  2.17142778 | 74.08900 | FALSE | GBR  | 148.26656 |  5.826216 | Arabic     | 5.903013e+11 |  16308280000 | 0.689 | 6.712388e+11 |   9.9968466 | 23745.8806 |\n",
       "| SDN |  33.56063 | 2505813 |  35349676 | 23.33444 | Africa  | 31.96298180 | 63.17100 | FALSE | GBR  | 246.99334 | 18.096617 | Arabic     | 5.478139e+10 |   1734376994 | 0.606 | 5.706045e+10 |  -1.9676959 |  1437.7798 |\n",
       "| SEN |  47.43946 |  196722 |  13033814 | 23.30613 | Africa  | 12.94706104 | 64.89800 | FALSE | FRA  | 106.08188 |  3.403228 | French     | 1.695227e+10 |    338661996 | 0.775 | 1.790221e+10 |   1.4583887 |  1366.7745 |\n",
       "| SGP | 277.52631 |     646 |   5183688 | 25.26045 | Asia    |  0.03466452 | 81.74390 | FALSE | NONE |  81.87670 |  5.247793 | English    | 2.503057e+11 |  49155657316 | 0.572 | 2.793512e+11 |   6.3378708 | 53890.4287 |\n",
       "| SLE |  70.24527 |   73326 |   6563238 |  7.86963 | Africa  | 54.59346587 | 50.23400 | FALSE | GBR  |  65.86316 |  6.788194 | English    | 2.804879e+09 |    950477791 | 0.295 | 2.942547e+09 |   6.3150450 |   448.3377 |\n",
       "| SUR |  92.82549 |  163820 |    535177 | 35.10933 | America |  8.73235538 | 70.67600 | FALSE | NONE | 140.55659 | 17.711780 | Dutch      | 4.240262e+09 |    145288761 | 0.656 | 4.422277e+09 |   5.8493678 |  8263.2038 |\n",
       "| SVK | 161.33825 |   49036 |   5398384 | 31.03541 | Europe  |  2.16272578 | 75.95854 |  TRUE | NONE |  91.96647 |  3.919286 | Slovak     | 9.415148e+10 |   5431592592 | 0.589 | 9.912280e+10 |   2.8472182 | 18361.5695 |\n",
       "| SVN | 136.29261 |   20256 |   2052843 | 26.80883 | Europe  |  2.14260567 | 79.97073 | FALSE | NONE |  94.35869 |  1.802852 | Slovenian  | 5.044872e+10 |    875946338 | 0.733 | 5.151637e+10 |   0.8613277 | 25095.1323 |\n",
       "| SWE |  63.40232 |  449964 |   9449213 | 23.63236 | Europe  |  1.67048248 | 81.80244 | FALSE | NONE |  92.83550 |  2.961151 | Swedish    | 5.357945e+11 |   6979353755 | 0.791 | 5.740941e+11 |   3.1953332 | 60755.7596 |\n",
       "| SWZ |  80.07469 |   17364 |   1072029 | 36.77749 | Africa  |  9.71988478 | 48.14100 |  TRUE | GBR  | 119.01914 |  6.107427 | Swati      | 4.134676e+09 |     98708322 | 0.815 | 4.820499e+09 |   2.2472298 |  4496.6130 |\n",
       "| TCD |  66.54448 | 1284005 |  12360986 | 12.60900 | Africa  | 51.19620013 | 51.42400 |  TRUE | FRA  | 217.84293 |  2.029241 | French     | 1.094748e+10 |    281900000 | 0.515 | 1.217231e+10 |   0.0828698 |   984.7361 |\n",
       "| TGO |  86.92151 |   56785 |   6595939 | 17.12206 | Africa  | 29.87507362 | 58.09200 | FALSE | DEU  | 115.14776 |  3.563515 | French     | 4.056488e+09 |    728710878 | 0.362 | 3.872459e+09 |   6.3981991 |   587.0975 |\n",
       "| THA | 121.72052 |  513115 |  67518379 | 37.98140 | Asia    | 11.59179178 | 74.59300 | FALSE | NONE |  93.82092 |  3.808791 | Thai       | 3.342562e+11 |   2473685996 | 0.936 | 3.708191e+11 |   0.8401321 |  5492.1215 |\n",
       "| TJK |  68.42225 |  143095 |   7697507 | 22.46875 | Asia    | 23.83550984 | 69.05500 |  TRUE | NONE | 102.37625 | 12.431549 | Tajik      | 7.848533e+09 |    145883670 | 0.751 | 6.522732e+09 |   7.4006405 |   847.3824 |\n",
       "| TKM |  70.46750 |  488100 |   5174076 | 65.86929 | Asia    |  8.88435456 | 66.92800 |  TRUE | NONE | 223.45110 |  5.300000 | Turkmen    | 2.445479e+10 |   3391067000 | 0.596 | 2.923333e+10 |  14.6999999 |  5649.9621 |\n",
       "| TTO |  96.15456 |    5130 |   1336180 | 57.05101 | America |  0.45654257 | 72.17000 | FALSE | NONE | 139.98272 |  5.107133 | English    | 2.000117e+10 |     41047454 | 0.907 | 2.543301e+10 |  -0.2943544 | 19034.1207 |\n",
       "| TUN |  91.24302 |  164150 |  10741872 | 29.80671 | Africa  |  8.53467551 | 75.20600 | FALSE | FRA  | 112.79464 |  3.240028 | Arabic     | 4.281453e+10 |    432666012 | 0.571 | 4.581063e+10 |  -1.9171777 |  4264.6781 |\n",
       "| TUR |  44.79801 |  780576 |  73443254 | 26.83752 | Europe  |  8.17395627 | 74.94400 | FALSE | NONE |  89.02036 |  6.471880 | Turkish    | 8.307337e+11 |  16182000000 | 0.707 | 8.387857e+11 |  11.2001106 | 11420.5555 |\n",
       "| TZA |  44.82193 |  945090 |  45673520 | 26.38208 | Africa  | 24.97686445 | 59.52500 | FALSE | DEU  | 153.90720 | 12.690969 | English    | 3.393211e+10 |   1229361018 | 0.708 | 3.465714e+10 |   7.6721554 |   781.4339 |\n",
       "| UGA |  28.07000 |  241038 |  33476772 | 25.65520 | Africa  | 28.82112372 | 58.08700 |  TRUE | GBR  | 121.31415 | 15.125154 | English    | 2.859961e+10 |    894293858 | 0.710 | 2.775271e+10 |   9.3916555 |   828.9941 |\n",
       "| UKR |  92.58048 |  603677 |  45706086 | 25.10925 | Europe  |  8.19659521 | 70.80927 | FALSE | NONE | 106.55219 |  7.955725 | Ukrainian  | 1.421585e+11 |   7207000000 | 0.470 | 1.631597e+11 |   5.4655018 |  3569.7581 |\n",
       "| URY |  38.85957 |  176215 |   3368926 | 22.70512 | America |  8.82916199 | 76.88200 | FALSE | NONE | 104.91660 |  8.092832 | Spanish    | 4.063638e+10 |   2690094197 | 0.750 | 4.796244e+10 |   5.1621330 | 14236.7150 |\n",
       "| USA |  24.11782 | 9529106 | 311583481 | 19.41690 | America |  1.21648754 | 78.64146 | FALSE | USA  |  94.59459 |  3.156842 | English    | 1.576043e+13 | 263497000000 | 0.877 | 1.554258e+13 |   1.5508355 | 49882.5581 |\n",
       "| UZB |  41.98082 |  447400 |  29339400 | 21.05973 | Asia    | 31.62324226 | 69.91000 |  TRUE | NONE | 189.17979 | 12.400000 | Uzbek      | 4.913960e+10 |   1615052150 | 0.786 | 5.651628e+10 |   7.7849059 |  1926.2930 |\n",
       "| VNM | 150.25590 |  331114 |  88871384 | 32.24441 | Asia    | 19.56775113 | 74.90400 | FALSE | FRA  | 126.27254 | 18.677732 | Vietnamese | 1.220328e+11 |   7430000000 | 0.637 | 1.355394e+11 |   6.2403027 |  1525.1190 |\n",
       "| YEM |  64.04612 |  547244 |  23807586 | 46.46610 | Asia    |  8.53316922 | 65.76800 | FALSE | NONE | 171.43069 | 19.543562 | Arabic     | 2.569438e+10 |   -517842928 | 0.551 | 3.272642e+10 | -12.7148230 |  1374.6214 |\n",
       "| ZAF |  56.01211 | 1219912 |  52003759 | 26.94254 | Africa  |  2.28547254 | 58.89500 | FALSE | GBR  | 146.29483 |  5.017158 | English    | 3.634092e+11 |   4139289123 | 0.741 | 4.164189e+11 |   3.2841681 |  8007.4764 |\n",
       "| ZMB |  68.96562 |  752614 |  14023199 | 34.44428 | Africa  |  9.64805782 | 57.12600 |  TRUE | GBR  | 197.44704 |  6.429397 | English    | 1.988820e+10 |   1108500000 | 0.792 | 2.345952e+10 |   5.5646023 |  1672.9075 |\n",
       "| ZWE |  81.52081 |  390759 |  12894323 | 21.72029 | Africa  |  8.66586517 | 52.89600 |  TRUE | GBR  | 111.41353 |  3.466130 | English    | 1.189188e+10 |    344300000 | 0.728 | 1.410192e+10 |  14.1939130 |  1093.6534 |\n",
       "\n"
      ],
      "text/plain": [
       "       country_iso3 merchandise_of_gdp area    population industry_of_gdp\n",
       "1      AFG           38.70415           652225   30117411 22.74025       \n",
       "2      AGO           78.30597          1246700   24220660 56.02651       \n",
       "3      ALB           56.86241            28748    2905195 24.48441       \n",
       "4      ARE          151.70246            83657    8946778 58.03560       \n",
       "5      ARG           29.87193          2766889   41261490 25.21270       \n",
       "6      ARM           54.02228            29800    2876536 27.50000       \n",
       "7      AUS           36.90503          7686848   22340024 26.43613       \n",
       "8      AUT           85.55500            83858    8391643 25.44743       \n",
       "9      AZE           67.71781            86600    9173082 61.73400       \n",
       "10     BDI           39.13552            27834    8958406 14.80968       \n",
       "11     BEL          180.35455            33114   11038264 20.77790       \n",
       "12     BEN           33.09542           112622    9460829 18.13745       \n",
       "13     BFA           39.77551           274200   16081915 28.37227       \n",
       "14     BGD           47.15016           143998  149273134 25.04530       \n",
       "15     BGR          105.93136           110994    7348328 25.07463       \n",
       "16     BHR          112.52200              678    1278153 49.51719       \n",
       "17     BIH           90.64763            51233    3661173 22.19326       \n",
       "18     BLR          141.16114           207595    9473172 36.08879       \n",
       "19     BOL           67.95884          1098581   10212951 30.36911       \n",
       "20     BRA           18.84427          8511920  197514541 23.10206       \n",
       "21     BWA           85.68280           600372    2015406 35.04647       \n",
       "22     CAF           20.50876           622984    4418639 26.63836       \n",
       "23     CAN           51.02110          9976139   34339328 27.13934       \n",
       "24     CHE           61.35949            41288    7912398 25.27957       \n",
       "25     CHL           61.89565           756945   17233584 34.70132       \n",
       "26     CHN           48.22704          9572378 1344130000 46.52929       \n",
       "27     CMR           38.52537           475442   20906392 27.19177       \n",
       "28     COG          133.27238           342000    4394842 65.87390       \n",
       "29     COL           33.18407          1141748   45662747 33.30216       \n",
       "30     COM           29.61627             1862     706578 11.69731       \n",
       "<U+22EE> <U+22EE>     <U+22EE>           <U+22EE> <U+22EE>   <U+22EE>       \n",
       "112    RWA           36.37532            26338  10293333  18.14896       \n",
       "113    SAU           73.93568          2153168  28267591  63.67636       \n",
       "114    SDN           33.56063          2505813  35349676  23.33444       \n",
       "115    SEN           47.43946           196722  13033814  23.30613       \n",
       "116    SGP          277.52631              646   5183688  25.26045       \n",
       "117    SLE           70.24527            73326   6563238   7.86963       \n",
       "118    SUR           92.82549           163820    535177  35.10933       \n",
       "119    SVK          161.33825            49036   5398384  31.03541       \n",
       "120    SVN          136.29261            20256   2052843  26.80883       \n",
       "121    SWE           63.40232           449964   9449213  23.63236       \n",
       "122    SWZ           80.07469            17364   1072029  36.77749       \n",
       "123    TCD           66.54448          1284005  12360986  12.60900       \n",
       "124    TGO           86.92151            56785   6595939  17.12206       \n",
       "125    THA          121.72052           513115  67518379  37.98140       \n",
       "126    TJK           68.42225           143095   7697507  22.46875       \n",
       "127    TKM           70.46750           488100   5174076  65.86929       \n",
       "128    TTO           96.15456             5130   1336180  57.05101       \n",
       "129    TUN           91.24302           164150  10741872  29.80671       \n",
       "130    TUR           44.79801           780576  73443254  26.83752       \n",
       "131    TZA           44.82193           945090  45673520  26.38208       \n",
       "132    UGA           28.07000           241038  33476772  25.65520       \n",
       "133    UKR           92.58048           603677  45706086  25.10925       \n",
       "134    URY           38.85957           176215   3368926  22.70512       \n",
       "135    USA           24.11782          9529106 311583481  19.41690       \n",
       "136    UZB           41.98082           447400  29339400  21.05973       \n",
       "137    VNM          150.25590           331114  88871384  32.24441       \n",
       "138    YEM           64.04612           547244  23807586  46.46610       \n",
       "139    ZAF           56.01211          1219912  52003759  26.94254       \n",
       "140    ZMB           68.96562           752614  14023199  34.44428       \n",
       "141    ZWE           81.52081           390759  12894323  21.72029       \n",
       "       continent agriculture_forestry_fishing_of_gdp life_expectancy landlocked\n",
       "1      Asia      23.7436640                          61.55300         TRUE     \n",
       "2      Africa     5.8456810                          56.33000        FALSE     \n",
       "3      Europe    18.2267654                          76.91400        FALSE     \n",
       "4      Asia       0.6719101                          76.52100        FALSE     \n",
       "5      America    6.9987338                          75.43900        FALSE     \n",
       "6      Asia      17.5000000                          73.57200         TRUE     \n",
       "7      Pacific    2.2765424                          81.89512        FALSE     \n",
       "8      Europe     1.4019149                          80.98293         TRUE     \n",
       "9      Asia       5.0762260                          71.23400         TRUE     \n",
       "10     Africa    36.7045760                          57.92500         TRUE     \n",
       "11     Europe     0.6480342                          80.58537        FALSE     \n",
       "12     Africa    25.7970008                          59.59000        FALSE     \n",
       "13     Africa    23.0436505                          57.76100         TRUE     \n",
       "14     Asia      16.8099868                          70.25600        FALSE     \n",
       "15     Europe     4.6416350                          74.16341        FALSE     \n",
       "16     Asia       0.2908503                          76.20000        FALSE     \n",
       "17     Europe     6.7577458                          76.21900        FALSE     \n",
       "18     Europe     8.0017576                          70.55366        FALSE     \n",
       "19     America    9.7695859                          68.52100         TRUE     \n",
       "20     America    4.3420351                          73.92100        FALSE     \n",
       "21     Africa     2.5109177                          61.91000         TRUE     \n",
       "22     Africa    37.5690228                          47.95000         TRUE     \n",
       "23     America    1.7656645                          81.44878        FALSE     \n",
       "24     Europe     0.6709359                          82.69512         TRUE     \n",
       "25     America    3.6712066                          78.98600        FALSE     \n",
       "26     Asia       9.1776538                          74.70800        FALSE     \n",
       "27     Africa    13.4796523                          55.58100        FALSE     \n",
       "28     Africa     3.9839362                          60.78500        FALSE     \n",
       "29     America    6.0916961                          75.65500        FALSE     \n",
       "30     Africa    30.5642208                          62.24000        FALSE     \n",
       "<U+22EE> <U+22EE>  <U+22EE>                            <U+22EE>        <U+22EE>  \n",
       "112    Africa    23.85008275                         64.52300         TRUE     \n",
       "113    Asia       2.17142778                         74.08900        FALSE     \n",
       "114    Africa    31.96298180                         63.17100        FALSE     \n",
       "115    Africa    12.94706104                         64.89800        FALSE     \n",
       "116    Asia       0.03466452                         81.74390        FALSE     \n",
       "117    Africa    54.59346587                         50.23400        FALSE     \n",
       "118    America    8.73235538                         70.67600        FALSE     \n",
       "119    Europe     2.16272578                         75.95854         TRUE     \n",
       "120    Europe     2.14260567                         79.97073        FALSE     \n",
       "121    Europe     1.67048248                         81.80244        FALSE     \n",
       "122    Africa     9.71988478                         48.14100         TRUE     \n",
       "123    Africa    51.19620013                         51.42400         TRUE     \n",
       "124    Africa    29.87507362                         58.09200        FALSE     \n",
       "125    Asia      11.59179178                         74.59300        FALSE     \n",
       "126    Asia      23.83550984                         69.05500         TRUE     \n",
       "127    Asia       8.88435456                         66.92800         TRUE     \n",
       "128    America    0.45654257                         72.17000        FALSE     \n",
       "129    Africa     8.53467551                         75.20600        FALSE     \n",
       "130    Europe     8.17395627                         74.94400        FALSE     \n",
       "131    Africa    24.97686445                         59.52500        FALSE     \n",
       "132    Africa    28.82112372                         58.08700         TRUE     \n",
       "133    Europe     8.19659521                         70.80927        FALSE     \n",
       "134    America    8.82916199                         76.88200        FALSE     \n",
       "135    America    1.21648754                         78.64146        FALSE     \n",
       "136    Asia      31.62324226                         69.91000         TRUE     \n",
       "137    Asia      19.56775113                         74.90400        FALSE     \n",
       "138    Asia       8.53316922                         65.76800        FALSE     \n",
       "139    Africa     2.28547254                         58.89500        FALSE     \n",
       "140    Africa     9.64805782                         57.12600         TRUE     \n",
       "141    Africa     8.66586517                         52.89600         TRUE     \n",
       "       colonizer net_barter_of_trade inflation_rate langoff_1      gni_atlas   \n",
       "1      USA       144.75187           11.8041858     Persian        1.607712e+10\n",
       "2      PRT       244.32915           13.4824679     Portuguese     8.260603e+10\n",
       "3      NONE       94.33720            3.4291232     Albanian       1.280372e+10\n",
       "4      GBR       176.14978            0.8773466     Arabic         3.133841e+11\n",
       "5      NONE      160.56492            9.8000000     Spanish        4.421068e+11\n",
       "6      NONE      128.24335            7.6500081     Armenian       1.016034e+10\n",
       "7      NONE      200.28858            3.3038502     English        1.124160e+12\n",
       "8      NONE       88.72963            3.2865791     German         4.245458e+11\n",
       "9      NONE      199.30369            7.8583333     Azeri          5.010686e+10\n",
       "10     DEU       164.51196            9.5921661     French         2.104253e+09\n",
       "11     NONE       94.86824            3.5320821     Dutch          5.121543e+11\n",
       "12     FRA       137.21882            2.7042391     French         1.035731e+10\n",
       "13     FRA       139.83716            2.7597672     French         1.092395e+10\n",
       "14     GBR        57.47438           11.3951652     Bengali        1.333422e+11\n",
       "15     NONE      106.99240            4.2199035     Bulgarian      5.305519e+10\n",
       "16     GBR       138.73565           -0.4000407     Arabic         2.321267e+10\n",
       "17     NONE      101.97710            3.6712500     Serbo-Croatian 1.834067e+10\n",
       "18     NONE      110.22796           53.2286983     Belarussian    5.933500e+10\n",
       "19     NONE      181.12201            9.8844642     Spanish        2.042983e+10\n",
       "20     NONE      134.17935            6.6364496     Portuguese     2.188990e+12\n",
       "21     GBR        82.76718            8.4598723     English        1.331273e+10\n",
       "22     FRA        76.73652            1.1944757     French         2.341223e+09\n",
       "23     NONE      117.81839            2.9121351     English        1.620451e+12\n",
       "24     NONE      103.60558            0.2313492     German         6.510687e+11\n",
       "25     NONE      217.82863            3.3412169     Spanish        2.125990e+11\n",
       "26     NONE       79.04874            5.5538989     Chinese        6.783869e+12\n",
       "27     DEU       162.01341            2.9396995     French         2.830121e+10\n",
       "28     FRA       211.35212            1.7595870     French         1.188836e+10\n",
       "29     NONE      183.91682            3.4175896     Spanish        2.882989e+11\n",
       "30     NONE       97.90298            1.8426630     Arabic         9.932962e+08\n",
       "<U+22EE> <U+22EE>  <U+22EE>            <U+22EE>       <U+22EE>       <U+22EE>    \n",
       "112    DEU       181.85410            3.100000      French         6.715587e+09\n",
       "113    GBR       148.26656            5.826216      Arabic         5.903013e+11\n",
       "114    GBR       246.99334           18.096617      Arabic         5.478139e+10\n",
       "115    FRA       106.08188            3.403228      French         1.695227e+10\n",
       "116    NONE       81.87670            5.247793      English        2.503057e+11\n",
       "117    GBR        65.86316            6.788194      English        2.804879e+09\n",
       "118    NONE      140.55659           17.711780      Dutch          4.240262e+09\n",
       "119    NONE       91.96647            3.919286      Slovak         9.415148e+10\n",
       "120    NONE       94.35869            1.802852      Slovenian      5.044872e+10\n",
       "121    NONE       92.83550            2.961151      Swedish        5.357945e+11\n",
       "122    GBR       119.01914            6.107427      Swati          4.134676e+09\n",
       "123    FRA       217.84293            2.029241      French         1.094748e+10\n",
       "124    DEU       115.14776            3.563515      French         4.056488e+09\n",
       "125    NONE       93.82092            3.808791      Thai           3.342562e+11\n",
       "126    NONE      102.37625           12.431549      Tajik          7.848533e+09\n",
       "127    NONE      223.45110            5.300000      Turkmen        2.445479e+10\n",
       "128    NONE      139.98272            5.107133      English        2.000117e+10\n",
       "129    FRA       112.79464            3.240028      Arabic         4.281453e+10\n",
       "130    NONE       89.02036            6.471880      Turkish        8.307337e+11\n",
       "131    DEU       153.90720           12.690969      English        3.393211e+10\n",
       "132    GBR       121.31415           15.125154      English        2.859961e+10\n",
       "133    NONE      106.55219            7.955725      Ukrainian      1.421585e+11\n",
       "134    NONE      104.91660            8.092832      Spanish        4.063638e+10\n",
       "135    USA        94.59459            3.156842      English        1.576043e+13\n",
       "136    NONE      189.17979           12.400000      Uzbek          4.913960e+10\n",
       "137    FRA       126.27254           18.677732      Vietnamese     1.220328e+11\n",
       "138    NONE      171.43069           19.543562      Arabic         2.569438e+10\n",
       "139    GBR       146.29483            5.017158      English        3.634092e+11\n",
       "140    GBR       197.44704            6.429397      English        1.988820e+10\n",
       "141    GBR       111.41353            3.466130      English        1.189188e+10\n",
       "       foreign_direct_investment_inflows happiness gdp_us_dollar gdp_growth \n",
       "1          52173421                      0.721     1.780429e+10   0.4263548 \n",
       "2       -3023770966                      0.708     1.117897e+11   3.4719763 \n",
       "3        1048706682                      0.568     1.289077e+10   2.5453218 \n",
       "4        7152095826                      0.764     3.506660e+11   6.9302716 \n",
       "5       10839930945                      0.813     5.301633e+11   6.0039517 \n",
       "6         653219756                      0.488     1.014211e+10   4.7000000 \n",
       "7       65554890650                      0.863     1.396650e+12   2.4627563 \n",
       "8       22983942932                      0.890     4.311203e+11   2.9227973 \n",
       "9        4485120000                      0.455     6.595163e+10  -1.5729976 \n",
       "10          3354999                      0.683     2.235821e+09   4.0326025 \n",
       "11     163624381385                      0.821     5.226455e+11   1.6945139 \n",
       "12        161302391                      0.543     1.069332e+10   2.9637529 \n",
       "13        143845512                      0.497     1.208030e+10   6.6225626 \n",
       "14       1264725163                      0.702     1.286379e+11   6.4643791 \n",
       "15       2103810000                      0.456     5.738622e+10   2.3545569 \n",
       "16        780851064                      0.577     2.877660e+10   1.9835150 \n",
       "17        471610992                      0.592     1.864472e+10   0.9595112 \n",
       "18       4002400000                      0.437     6.175779e+10   5.3787075 \n",
       "19        858941070                      0.773     2.396303e+10   5.2040923 \n",
       "20     102427228231                      0.853     2.616201e+12   3.9744254 \n",
       "21        293208060                      0.732     1.535197e+10   6.0483615 \n",
       "22         36908456                      0.524     2.437983e+09   4.1946153 \n",
       "23      38338330427                      0.911     1.788648e+12   3.1468814 \n",
       "24      20764483835                      0.907     6.995796e+11   1.6928085 \n",
       "25      25564944877                      0.792     2.522520e+11   6.1109188 \n",
       "26     280072219150                      0.785     7.551500e+12   9.5508322 \n",
       "27        653266627                      0.576     2.937545e+10   4.1292772 \n",
       "28        298288001                      0.300     1.565538e+10   2.2059194 \n",
       "29      14647048638                      0.831     3.349439e+11   6.9478920 \n",
       "30         23118441                      0.681     1.023086e+09   4.0998470 \n",
       "<U+22EE> <U+22EE>                          <U+22EE>  <U+22EE>      <U+22EE>   \n",
       "112       112127536                      0.708     6.884890e+09    7.9584060\n",
       "113     16308280000                      0.689     6.712388e+11    9.9968466\n",
       "114      1734376994                      0.606     5.706045e+10   -1.9676959\n",
       "115       338661996                      0.775     1.790221e+10    1.4583887\n",
       "116     49155657316                      0.572     2.793512e+11    6.3378708\n",
       "117       950477791                      0.295     2.942547e+09    6.3150450\n",
       "118       145288761                      0.656     4.422277e+09    5.8493678\n",
       "119      5431592592                      0.589     9.912280e+10    2.8472182\n",
       "120       875946338                      0.733     5.151637e+10    0.8613277\n",
       "121      6979353755                      0.791     5.740941e+11    3.1953332\n",
       "122        98708322                      0.815     4.820499e+09    2.2472298\n",
       "123       281900000                      0.515     1.217231e+10    0.0828698\n",
       "124       728710878                      0.362     3.872459e+09    6.3981991\n",
       "125      2473685996                      0.936     3.708191e+11    0.8401321\n",
       "126       145883670                      0.751     6.522732e+09    7.4006405\n",
       "127      3391067000                      0.596     2.923333e+10   14.6999999\n",
       "128        41047454                      0.907     2.543301e+10   -0.2943544\n",
       "129       432666012                      0.571     4.581063e+10   -1.9171777\n",
       "130     16182000000                      0.707     8.387857e+11   11.2001106\n",
       "131      1229361018                      0.708     3.465714e+10    7.6721554\n",
       "132       894293858                      0.710     2.775271e+10    9.3916555\n",
       "133      7207000000                      0.470     1.631597e+11    5.4655018\n",
       "134      2690094197                      0.750     4.796244e+10    5.1621330\n",
       "135    263497000000                      0.877     1.554258e+13    1.5508355\n",
       "136      1615052150                      0.786     5.651628e+10    7.7849059\n",
       "137      7430000000                      0.637     1.355394e+11    6.2403027\n",
       "138      -517842928                      0.551     3.272642e+10  -12.7148230\n",
       "139      4139289123                      0.741     4.164189e+11    3.2841681\n",
       "140      1108500000                      0.792     2.345952e+10    5.5646023\n",
       "141       344300000                      0.728     1.410192e+10   14.1939130\n",
       "       gdp_per_capita\n",
       "1        591.1628    \n",
       "2       4615.4682    \n",
       "3       4437.1429    \n",
       "4      39194.6722    \n",
       "5      12848.8642    \n",
       "6       3525.8072    \n",
       "7      62517.8337    \n",
       "8      51374.9584    \n",
       "9       7189.6912    \n",
       "10       249.5780    \n",
       "11     47348.5250    \n",
       "12      1130.2732    \n",
       "13       751.1728    \n",
       "14       861.7622    \n",
       "15      7809.4251    \n",
       "16     22514.2027    \n",
       "17      5092.5547    \n",
       "18      6519.2302    \n",
       "19      2346.3378    \n",
       "20     13245.6120    \n",
       "21      7617.3100    \n",
       "22       551.7497    \n",
       "23     52223.6961    \n",
       "24     91254.0348    \n",
       "25     14637.2334    \n",
       "26      5618.1323    \n",
       "27      1405.0941    \n",
       "28      3557.5562    \n",
       "29      7335.1669    \n",
       "30      1447.9453    \n",
       "<U+22EE> <U+22EE>      \n",
       "112      668.4947    \n",
       "113    23745.8806    \n",
       "114     1437.7798    \n",
       "115     1366.7745    \n",
       "116    53890.4287    \n",
       "117      448.3377    \n",
       "118     8263.2038    \n",
       "119    18361.5695    \n",
       "120    25095.1323    \n",
       "121    60755.7596    \n",
       "122     4496.6130    \n",
       "123      984.7361    \n",
       "124      587.0975    \n",
       "125     5492.1215    \n",
       "126      847.3824    \n",
       "127     5649.9621    \n",
       "128    19034.1207    \n",
       "129     4264.6781    \n",
       "130    11420.5555    \n",
       "131      781.4339    \n",
       "132      828.9941    \n",
       "133     3569.7581    \n",
       "134    14236.7150    \n",
       "135    49882.5581    \n",
       "136     1926.2930    \n",
       "137     1525.1190    \n",
       "138     1374.6214    \n",
       "139     8007.4764    \n",
       "140     1672.9075    \n",
       "141     1093.6534    "
      ]
     },
     "metadata": {},
     "output_type": "display_data"
    }
   ],
   "source": [
    "nodes"
   ]
  }
 ],
 "metadata": {
  "kernelspec": {
   "display_name": "R",
   "language": "R",
   "name": "ir"
  },
  "language_info": {
   "codemirror_mode": "r",
   "file_extension": ".r",
   "mimetype": "text/x-r-source",
   "name": "R",
   "pygments_lexer": "r",
   "version": "4.0.3"
  }
 },
 "nbformat": 4,
 "nbformat_minor": 5
}
