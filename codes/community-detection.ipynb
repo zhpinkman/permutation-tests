{
 "cells": [
  {
   "cell_type": "code",
   "execution_count": 2,
   "id": "celtic-intent",
   "metadata": {},
   "outputs": [
    {
     "data": {
      "text/plain": [
       "\n",
       "\n",
       "|from                |to           | weight|\n",
       "|:-------------------|:------------|------:|\n",
       "|a Casino Boss       |a Tourist    |      1|\n",
       "|a Casino Boss       |Chandler     |      1|\n",
       "|a Casino Boss       |Joey         |      1|\n",
       "|a Casino Boss       |Phoebe       |      1|\n",
       "|a Casino Boss       |Rachel       |      1|\n",
       "|a Crew Member       |Alex         |      1|\n",
       "|a Crew Member       |Chandler     |      1|\n",
       "|a Crew Member       |Joey         |      1|\n",
       "|a Crew Member       |The Director |      1|\n",
       "|a Disembodied Voice |Phoebe       |      1|"
      ]
     },
     "metadata": {},
     "output_type": "display_data"
    }
   ],
   "source": [
    "library(tidyverse)\n",
    "library(readr)\n",
    "library(igraph)\n",
    "# get friends full series edgelist\n",
    "\n",
    "edgefile_url <- \"https://github.com/keithmcnulty/friends_analysis/blob/master/data/friends_full_series_edgelist.RDS?raw=true\"\n",
    "download.file(edgefile_url, \"edgelist.RDS\")\n",
    "\n",
    "edgelist <- readRDS(\"edgelist.RDS\")\n",
    "\n",
    "knitr::kable(edgelist %>% head(10))"
   ]
  },
  {
   "cell_type": "code",
   "execution_count": 5,
   "id": "focused-turner",
   "metadata": {},
   "outputs": [],
   "source": [
    "friends <- c(\"Phoebe\", \"Monica\", \"Rachel\", \"Joey\", \"Ross\", \"Chandler\")"
   ]
  },
  {
   "cell_type": "code",
   "execution_count": 15,
   "id": "informational-transcription",
   "metadata": {},
   "outputs": [],
   "source": [
    "edgelist_without <- edgelist %>% \n",
    "  dplyr::filter(!(from %in% friends & to %in% friends))"
   ]
  },
  {
   "cell_type": "code",
   "execution_count": 16,
   "id": "behavioral-inflation",
   "metadata": {},
   "outputs": [],
   "source": [
    "edgelist_matrix <- as.matrix(edgelist_without[ ,c(\"from\", \"to\")])"
   ]
  },
  {
   "cell_type": "code",
   "execution_count": 18,
   "id": "organized-punch",
   "metadata": {},
   "outputs": [],
   "source": [
    "friends_graph <- igraph::graph_from_edgelist(edgelist_matrix, directed = FALSE) %>% \n",
    "  igraph::set.edge.attribute(\"weight\", value = edgelist_without$weight)"
   ]
  },
  {
   "cell_type": "code",
   "execution_count": 19,
   "id": "pregnant-talent",
   "metadata": {},
   "outputs": [
    {
     "data": {
      "text/plain": [
       "IGRAPH cde7282 UNW- 650 2961 -- \n",
       "+ attr: name (v/c), weight (e/n)\n",
       "+ edges from cde7282 (vertex names):\n",
       " [1] a Casino Boss      --a Tourist          \n",
       " [2] a Casino Boss      --Chandler           \n",
       " [3] a Casino Boss      --Joey               \n",
       " [4] a Casino Boss      --Phoebe             \n",
       " [5] a Casino Boss      --Rachel             \n",
       " [6] a Crew Member      --Alex               \n",
       " [7] Chandler           --a Crew Member      \n",
       " [8] Joey               --a Crew Member      \n",
       "+ ... omitted several edges"
      ]
     },
     "metadata": {},
     "output_type": "display_data"
    }
   ],
   "source": [
    "friends_graph"
   ]
  },
  {
   "cell_type": "code",
   "execution_count": 21,
   "id": "aerial-isolation",
   "metadata": {},
   "outputs": [],
   "source": [
    "louvain_partition <- igraph::cluster_louvain(friends_graph)"
   ]
  },
  {
   "cell_type": "code",
   "execution_count": 25,
   "id": "union-annotation",
   "metadata": {},
   "outputs": [],
   "source": [
    "friends_graph$community <- louvain_partition$membership"
   ]
  },
  {
   "cell_type": "code",
   "execution_count": 28,
   "id": "studied-disclosure",
   "metadata": {},
   "outputs": [
    {
     "data": {
      "text/plain": [
       "IGRAPH cde7282 UNW- 650 2961 -- \n",
       "+ attr: community (g/n), name (v/c), weight (e/n)\n",
       "+ edges from cde7282 (vertex names):\n",
       " [1] a Casino Boss      --a Tourist          \n",
       " [2] a Casino Boss      --Chandler           \n",
       " [3] a Casino Boss      --Joey               \n",
       " [4] a Casino Boss      --Phoebe             \n",
       " [5] a Casino Boss      --Rachel             \n",
       " [6] a Crew Member      --Alex               \n",
       " [7] Chandler           --a Crew Member      \n",
       " [8] Joey               --a Crew Member      \n",
       "+ ... omitted several edges"
      ]
     },
     "metadata": {},
     "output_type": "display_data"
    }
   ],
   "source": [
    "friends_graph"
   ]
  },
  {
   "cell_type": "code",
   "execution_count": 29,
   "id": "governmental-anthony",
   "metadata": {},
   "outputs": [
    {
     "data": {
      "text/html": [
       "<style>\n",
       ".list-inline {list-style: none; margin:0; padding: 0}\n",
       ".list-inline>li {display: inline-block}\n",
       ".list-inline>li:not(:last-child)::after {content: \"\\00b7\"; padding: 0 .5ex}\n",
       "</style>\n",
       "<ol class=list-inline><li>4</li><li>6</li><li>1</li><li>7</li><li>3</li><li>8</li><li>5</li><li>2</li></ol>\n"
      ],
      "text/latex": [
       "\\begin{enumerate*}\n",
       "\\item 4\n",
       "\\item 6\n",
       "\\item 1\n",
       "\\item 7\n",
       "\\item 3\n",
       "\\item 8\n",
       "\\item 5\n",
       "\\item 2\n",
       "\\end{enumerate*}\n"
      ],
      "text/markdown": [
       "1. 4\n",
       "2. 6\n",
       "3. 1\n",
       "4. 7\n",
       "5. 3\n",
       "6. 8\n",
       "7. 5\n",
       "8. 2\n",
       "\n",
       "\n"
      ],
      "text/plain": [
       "[1] 4 6 1 7 3 8 5 2"
      ]
     },
     "metadata": {},
     "output_type": "display_data"
    }
   ],
   "source": [
    "unique(friends_graph$community)"
   ]
  },
  {
   "cell_type": "code",
   "execution_count": 30,
   "id": "uniform-capability",
   "metadata": {},
   "outputs": [
    {
     "data": {
      "text/plain": [
       "\n",
       "\n",
       "| community| n_characters|most_important  |\n",
       "|---------:|------------:|:---------------|\n",
       "|         4|          128|Chandler        |\n",
       "|         6|          109|Joey            |\n",
       "|         1|          105|Phoebe          |\n",
       "|         7|           93|Rachel          |\n",
       "|         3|          105|Monica          |\n",
       "|         8|           94|Ross            |\n",
       "|         5|            8|Intercom        |\n",
       "|         2|            8|Bandleader      |\n",
       "|         2|            8|Dennis Phillips |"
      ]
     },
     "metadata": {},
     "output_type": "display_data"
    }
   ],
   "source": [
    "communities <- data.frame()\n",
    "\n",
    "for (i in unique(friends_graph$community)) {\n",
    "  # create subgraphs for each community\n",
    "  subgraph <- induced_subgraph(friends_graph, v = which(friends_graph$community == i))\n",
    "  # get size of each subgraph\n",
    "  size <- igraph::gorder(subgraph)\n",
    "  # get betweenness centrality\n",
    "  btwn <-  igraph::betweenness(subgraph)\n",
    "  communities <- communities %>% \n",
    "    dplyr::bind_rows(\n",
    "      data.frame(community = i,\n",
    "                 n_characters = size,\n",
    "                 most_important = names(which(btwn == max(btwn)))\n",
    "    )\n",
    "  )\n",
    "}\n",
    "\n",
    "knitr::kable(communities %>% \n",
    "               dplyr::select(community, n_characters, most_important))"
   ]
  },
  {
   "cell_type": "code",
   "execution_count": 32,
   "id": "accessible-visitor",
   "metadata": {},
   "outputs": [
    {
     "data": {
      "text/plain": [
       "\n",
       "\n",
       "| community|1        |2            |3          |4        |5              |\n",
       "|---------:|:--------|:------------|:----------|:--------|:--------------|\n",
       "|         4|Chandler |Janice       |Bill       |Doug     |Security Guard |\n",
       "|         6|Joey     |The Director |Gunther    |Director |Terry          |\n",
       "|         1|Phoebe   |Guy          |Mike       |Steve    |Frank          |\n",
       "|         7|Rachel   |Man          |Nurse      |Dr Long  |Amy            |\n",
       "|         3|Monica   |Mr Geller    |Mrs Geller |Richard  |Pete           |\n",
       "|         8|Ross     |Woman        |Carol      |Susan    |Charlie        |"
      ]
     },
     "metadata": {},
     "output_type": "display_data"
    }
   ],
   "source": [
    "top_five <- data.frame()\n",
    "\n",
    "for (i in unique(friends_graph$community)) {\n",
    "# create subgraphs for each community\n",
    "  subgraph <- induced_subgraph(friends_graph, v = which(friends_graph$community == i))\n",
    "  \n",
    "  # for larger communities\n",
    "  if (igraph::gorder(subgraph) > 20) {\n",
    "    # get degree\n",
    "    degree <-  igraph::degree(subgraph)\n",
    "    # get top ten degrees\n",
    "    top <- names(head(sort(degree, decreasing = TRUE), 5))\n",
    "    result <- data.frame(community = i, rank = 1:5, character = top)\n",
    "  } else {\n",
    "    result <- data.frame(community = NULL, rank = NULL, character = NULL)\n",
    "  }\n",
    "  \n",
    "  top_five <- top_five %>% \n",
    "    dplyr::bind_rows(result)\n",
    "}\n",
    "\n",
    "knitr::kable(\n",
    "  top_five %>% \n",
    "    tidyr::pivot_wider(names_from = rank, values_from = character)\n",
    ")"
   ]
  },
  {
   "cell_type": "code",
   "execution_count": null,
   "id": "bridal-mount",
   "metadata": {},
   "outputs": [],
   "source": []
  }
 ],
 "metadata": {
  "kernelspec": {
   "display_name": "R",
   "language": "R",
   "name": "ir"
  },
  "language_info": {
   "codemirror_mode": "r",
   "file_extension": ".r",
   "mimetype": "text/x-r-source",
   "name": "R",
   "pygments_lexer": "r",
   "version": "4.0.3"
  }
 },
 "nbformat": 4,
 "nbformat_minor": 5
}
