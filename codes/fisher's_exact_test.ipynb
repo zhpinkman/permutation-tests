{
 "cells": [
  {
   "cell_type": "code",
   "execution_count": 5,
   "id": "latter-scout",
   "metadata": {},
   "outputs": [],
   "source": [
    "TeaTasting <-\n",
    "matrix(c(4, 1, 1, 4),\n",
    "       nrow = 2,\n",
    "       dimnames = list(Guess = c(\"Milk\", \"Tea\"),\n",
    "                       Truth = c(\"Milk\", \"Tea\")))"
   ]
  },
  {
   "cell_type": "code",
   "execution_count": 6,
   "id": "based-improvement",
   "metadata": {},
   "outputs": [
    {
     "data": {
      "text/html": [
       "<table class=\"dataframe\">\n",
       "<caption>A matrix: 2 × 2 of type dbl</caption>\n",
       "<thead>\n",
       "\t<tr><th></th><th scope=col>Milk</th><th scope=col>Tea</th></tr>\n",
       "</thead>\n",
       "<tbody>\n",
       "\t<tr><th scope=row>Milk</th><td>4</td><td>1</td></tr>\n",
       "\t<tr><th scope=row>Tea</th><td>1</td><td>4</td></tr>\n",
       "</tbody>\n",
       "</table>\n"
      ],
      "text/latex": [
       "A matrix: 2 × 2 of type dbl\n",
       "\\begin{tabular}{r|ll}\n",
       "  & Milk & Tea\\\\\n",
       "\\hline\n",
       "\tMilk & 4 & 1\\\\\n",
       "\tTea & 1 & 4\\\\\n",
       "\\end{tabular}\n"
      ],
      "text/markdown": [
       "\n",
       "A matrix: 2 × 2 of type dbl\n",
       "\n",
       "| <!--/--> | Milk | Tea |\n",
       "|---|---|---|\n",
       "| Milk | 4 | 1 |\n",
       "| Tea | 1 | 4 |\n",
       "\n"
      ],
      "text/plain": [
       "      Truth\n",
       "Guess  Milk Tea\n",
       "  Milk 4    1  \n",
       "  Tea  1    4  "
      ]
     },
     "metadata": {},
     "output_type": "display_data"
    }
   ],
   "source": [
    "TeaTasting"
   ]
  },
  {
   "cell_type": "code",
   "execution_count": 9,
   "id": "subjective-cookie",
   "metadata": {},
   "outputs": [
    {
     "data": {
      "text/plain": [
       "\n",
       "\tFisher's Exact Test for Count Data\n",
       "\n",
       "data:  TeaTasting\n",
       "p-value = 0.1032\n",
       "alternative hypothesis: true odds ratio is greater than 1\n",
       "95 percent confidence interval:\n",
       " 0.6498735       Inf\n",
       "sample estimates:\n",
       "odds ratio \n",
       "   10.9072 \n"
      ]
     },
     "metadata": {},
     "output_type": "display_data"
    }
   ],
   "source": [
    "fisher.test(TeaTasting, alternative = 'greater')"
   ]
  },
  {
   "cell_type": "code",
   "execution_count": 10,
   "id": "major-recycling",
   "metadata": {},
   "outputs": [],
   "source": [
    "Convictions <- matrix(c(2, 10, 15, 3), nrow = 2,\n",
    "\t              dimnames =\n",
    "\t       list(c(\"Dizygotic\", \"Monozygotic\"),\n",
    "\t\t    c(\"Convicted\", \"Not convicted\")))"
   ]
  },
  {
   "cell_type": "code",
   "execution_count": 11,
   "id": "comic-corner",
   "metadata": {},
   "outputs": [
    {
     "data": {
      "text/html": [
       "<table class=\"dataframe\">\n",
       "<caption>A matrix: 2 × 2 of type dbl</caption>\n",
       "<thead>\n",
       "\t<tr><th></th><th scope=col>Convicted</th><th scope=col>Not convicted</th></tr>\n",
       "</thead>\n",
       "<tbody>\n",
       "\t<tr><th scope=row>Dizygotic</th><td> 2</td><td>15</td></tr>\n",
       "\t<tr><th scope=row>Monozygotic</th><td>10</td><td> 3</td></tr>\n",
       "</tbody>\n",
       "</table>\n"
      ],
      "text/latex": [
       "A matrix: 2 × 2 of type dbl\n",
       "\\begin{tabular}{r|ll}\n",
       "  & Convicted & Not convicted\\\\\n",
       "\\hline\n",
       "\tDizygotic &  2 & 15\\\\\n",
       "\tMonozygotic & 10 &  3\\\\\n",
       "\\end{tabular}\n"
      ],
      "text/markdown": [
       "\n",
       "A matrix: 2 × 2 of type dbl\n",
       "\n",
       "| <!--/--> | Convicted | Not convicted |\n",
       "|---|---|---|\n",
       "| Dizygotic |  2 | 15 |\n",
       "| Monozygotic | 10 |  3 |\n",
       "\n"
      ],
      "text/plain": [
       "            Convicted Not convicted\n",
       "Dizygotic    2        15           \n",
       "Monozygotic 10         3           "
      ]
     },
     "metadata": {},
     "output_type": "display_data"
    }
   ],
   "source": [
    "Convictions"
   ]
  },
  {
   "cell_type": "code",
   "execution_count": 27,
   "id": "crude-elephant",
   "metadata": {},
   "outputs": [
    {
     "data": {
      "text/plain": [
       "\n",
       "\tFisher's Exact Test for Count Data\n",
       "\n",
       "data:  Convictions\n",
       "p-value = 0.0005367\n",
       "alternative hypothesis: true odds ratio is not equal to 1\n",
       "95 percent confidence interval:\n",
       " 0.003325764 0.363182271\n",
       "sample estimates:\n",
       "odds ratio \n",
       "0.04693661 \n"
      ]
     },
     "metadata": {},
     "output_type": "display_data"
    }
   ],
   "source": [
    "fisher.test(Convictions)"
   ]
  },
  {
   "cell_type": "code",
   "execution_count": 44,
   "id": "requested-newsletter",
   "metadata": {},
   "outputs": [],
   "source": [
    "Job <- matrix(c(5,2,1,0, 3,3,6,1, 10,10,14,3, 4,7,12,15), 4, 4,\n",
    "           dimnames = list(income = c(\"< 15k\", \"15-25k\", \"25-40k\", \"> 40k\"),\n",
    "                     satisfaction = c(\"VeryD\", \"LittleD\", \"ModerateS\", \"VeryS\")))"
   ]
  },
  {
   "cell_type": "code",
   "execution_count": 45,
   "id": "inappropriate-transformation",
   "metadata": {},
   "outputs": [
    {
     "data": {
      "text/html": [
       "<table class=\"dataframe\">\n",
       "<caption>A matrix: 4 × 4 of type dbl</caption>\n",
       "<thead>\n",
       "\t<tr><th></th><th scope=col>VeryD</th><th scope=col>LittleD</th><th scope=col>ModerateS</th><th scope=col>VeryS</th></tr>\n",
       "</thead>\n",
       "<tbody>\n",
       "\t<tr><th scope=row>&lt; 15k</th><td>5</td><td>3</td><td>10</td><td> 4</td></tr>\n",
       "\t<tr><th scope=row>15-25k</th><td>2</td><td>3</td><td>10</td><td> 7</td></tr>\n",
       "\t<tr><th scope=row>25-40k</th><td>1</td><td>6</td><td>14</td><td>12</td></tr>\n",
       "\t<tr><th scope=row>&gt; 40k</th><td>0</td><td>1</td><td> 3</td><td>15</td></tr>\n",
       "</tbody>\n",
       "</table>\n"
      ],
      "text/latex": [
       "A matrix: 4 × 4 of type dbl\n",
       "\\begin{tabular}{r|llll}\n",
       "  & VeryD & LittleD & ModerateS & VeryS\\\\\n",
       "\\hline\n",
       "\t< 15k & 5 & 3 & 10 &  4\\\\\n",
       "\t15-25k & 2 & 3 & 10 &  7\\\\\n",
       "\t25-40k & 1 & 6 & 14 & 12\\\\\n",
       "\t> 40k & 0 & 1 &  3 & 15\\\\\n",
       "\\end{tabular}\n"
      ],
      "text/markdown": [
       "\n",
       "A matrix: 4 × 4 of type dbl\n",
       "\n",
       "| <!--/--> | VeryD | LittleD | ModerateS | VeryS |\n",
       "|---|---|---|---|---|\n",
       "| &lt; 15k | 5 | 3 | 10 |  4 |\n",
       "| 15-25k | 2 | 3 | 10 |  7 |\n",
       "| 25-40k | 1 | 6 | 14 | 12 |\n",
       "| &gt; 40k | 0 | 1 |  3 | 15 |\n",
       "\n"
      ],
      "text/plain": [
       "        satisfaction\n",
       "income   VeryD LittleD ModerateS VeryS\n",
       "  < 15k  5     3       10         4   \n",
       "  15-25k 2     3       10         7   \n",
       "  25-40k 1     6       14        12   \n",
       "  > 40k  0     1        3        15   "
      ]
     },
     "metadata": {},
     "output_type": "display_data"
    }
   ],
   "source": [
    "Job"
   ]
  },
  {
   "cell_type": "code",
   "execution_count": 46,
   "id": "single-session",
   "metadata": {},
   "outputs": [
    {
     "data": {
      "text/plain": [
       "\n",
       "\tFisher's Exact Test for Count Data\n",
       "\n",
       "data:  Job\n",
       "p-value = 0.007576\n",
       "alternative hypothesis: two.sided\n"
      ]
     },
     "metadata": {},
     "output_type": "display_data"
    }
   ],
   "source": [
    "fisher.test(Job)"
   ]
  }
 ],
 "metadata": {
  "kernelspec": {
   "display_name": "R",
   "language": "R",
   "name": "ir"
  },
  "language_info": {
   "codemirror_mode": "r",
   "file_extension": ".r",
   "mimetype": "text/x-r-source",
   "name": "R",
   "pygments_lexer": "r",
   "version": "4.0.3"
  }
 },
 "nbformat": 4,
 "nbformat_minor": 5
}
