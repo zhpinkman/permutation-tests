{
 "cells": [
  {
   "cell_type": "code",
   "execution_count": 1,
   "id": "small-torture",
   "metadata": {
    "collapsed": true,
    "jupyter": {
     "outputs_hidden": true
    }
   },
   "outputs": [
    {
     "name": "stderr",
     "output_type": "stream",
     "text": [
      "Loading required package: statnet.common\n",
      "\n",
      "\n",
      "Attaching package: 'statnet.common'\n",
      "\n",
      "\n",
      "The following object is masked from 'package:base':\n",
      "\n",
      "    order\n",
      "\n",
      "\n",
      "Loading required package: network\n",
      "\n",
      "network: Classes for Relational Data\n",
      "Version 1.16.1 created on 2020-10-06.\n",
      "copyright (c) 2005, Carter T. Butts, University of California-Irvine\n",
      "                    Mark S. Handcock, University of California -- Los Angeles\n",
      "                    David R. Hunter, Penn State University\n",
      "                    Martina Morris, University of Washington\n",
      "                    Skye Bender-deMoll, University of Washington\n",
      " For citation information, type citation(\"network\").\n",
      " Type help(\"network-package\") to get started.\n",
      "\n",
      "\n",
      "sna: Tools for Social Network Analysis\n",
      "Version 2.6 created on 2020-10-5.\n",
      "copyright (c) 2005, Carter T. Butts, University of California-Irvine\n",
      " For citation information, type citation(\"sna\").\n",
      " Type help(package=\"sna\") to get started.\n",
      "\n",
      "\n"
     ]
    }
   ],
   "source": [
    "library(sna)\n",
    "library(NetData)\n",
    "data(studentnets.mrqap173, package=\"NetData\")"
   ]
  },
  {
   "cell_type": "code",
   "execution_count": 4,
   "id": "arabic-designer",
   "metadata": {},
   "outputs": [
    {
     "data": {
      "text/html": [
       "\n",
       "<table width=\"100%\" summary=\"page for mrqap173 {NetData}\"><tr><td>mrqap173 {NetData}</td><td style=\"text-align: right;\">R Documentation</td></tr></table>\n",
       "\n",
       "<h2>mrqap173 - Math, 10th Grade Honors Trig </h2>\n",
       "\n",
       "<h3>Description</h3>\n",
       "\n",
       "<p>This data consists of a sociometric friendship survey (2 = best friend, 1 = friend, 0 = not friend), \n",
       "along with gender and race homophily,\n",
       "who sits next to whom (2 = faces, 1 = behind, 0 = not adjacent), \n",
       "SSL is social interactions per hour. \n",
       "TSL is task interactions per hour.\n",
       "</p>\n",
       "<p>This is for two semesters, 1 and 2. \n",
       "</p>\n",
       "<p>This network data set was created for use with Dan McFarland's network analysis labs. Labs\n",
       "are available at:\n",
       "</p>\n",
       "<p>~\\urlhttp://sna.stanford.edu/rlabs.php\n",
       "</p>\n",
       "<p>Larger comprehensive data set publicly available, contact Daniel A. McFarland for details.\n",
       "</p>\n",
       "\n",
       "\n",
       "<h3>Usage</h3>\n",
       "\n",
       "<pre>studentnets.ergm173</pre>\n",
       "\n",
       "\n",
       "<h3>Format</h3>\n",
       "\n",
       "<p>Numerous adjacency matrices encapsulated in dataframes</p>\n",
       "\n",
       "\n",
       "<h3>Source</h3>\n",
       "\n",
       "<p>McFarland Classroom Study</p>\n",
       "\n",
       "\n",
       "<h3>References</h3>\n",
       "\n",
       "<p>McFarland, Daniel A. (2001) &ldquo;Student Resistance.&rdquo; American Journal of Sociology, 107(3), p 612-678.\n",
       "</p>\n",
       "<p>This research/data collection was generously supported by NSF Award no. 0624134.\n",
       "</p>\n",
       "\n",
       "\n",
       "<h3>Examples</h3>\n",
       "\n",
       "<pre>\n",
       "\n",
       "data(studentnets.mrqap173)\n",
       "## Examples available in Lab 7 at:\n",
       "## http://sna.stanford.edu/lab.php?l=7\n",
       "</pre>\n",
       "\n",
       "<hr /><div style=\"text-align: center;\">[Package <em>NetData</em> version 0.3 ]</div>"
      ],
      "text/latex": [
       "\\inputencoding{utf8}\n",
       "\\HeaderA{mrqap173}{mrqap173 - Math, 10th Grade Honors Trig }{mrqap173}\n",
       "\\aliasA{m173\\_sem1\\_FRN}{mrqap173}{m173.Rul.sem1.Rul.FRN}\n",
       "\\aliasA{m173\\_sem1\\_GND}{mrqap173}{m173.Rul.sem1.Rul.GND}\n",
       "\\aliasA{m173\\_sem1\\_RCE}{mrqap173}{m173.Rul.sem1.Rul.RCE}\n",
       "\\aliasA{m173\\_sem1\\_SEAT}{mrqap173}{m173.Rul.sem1.Rul.SEAT}\n",
       "\\aliasA{m173\\_sem1\\_SSL}{mrqap173}{m173.Rul.sem1.Rul.SSL}\n",
       "\\aliasA{m173\\_sem1\\_TSL}{mrqap173}{m173.Rul.sem1.Rul.TSL}\n",
       "\\aliasA{m173\\_sem2\\_SSL}{mrqap173}{m173.Rul.sem2.Rul.SSL}\n",
       "\\aliasA{m173\\_sem2\\_TSL}{mrqap173}{m173.Rul.sem2.Rul.TSL}\n",
       "\\keyword{datasets, sna, NetData, studentnets.mrqap173}{mrqap173}\n",
       "%\n",
       "\\begin{Description}\\relax\n",
       "This data consists of a sociometric friendship survey (2 = best friend, 1 = friend, 0 = not friend), \n",
       "along with gender and race homophily,\n",
       "who sits next to whom (2 = faces, 1 = behind, 0 = not adjacent), \n",
       "SSL is social interactions per hour. \n",
       "TSL is task interactions per hour.\n",
       "\n",
       "This is for two semesters, 1 and 2. \n",
       "\n",
       "This network data set was created for use with Dan McFarland's network analysis labs. Labs\n",
       "are available at:\n",
       "\n",
       "\\textasciitilde{}\\bsl{}urlhttp://sna.stanford.edu/rlabs.php\n",
       "\n",
       "Larger comprehensive data set publicly available, contact Daniel A. McFarland for details.\n",
       "\n",
       "\\end{Description}\n",
       "%\n",
       "\\begin{Usage}\n",
       "\\begin{verbatim}\n",
       "studentnets.ergm173\n",
       "\\end{verbatim}\n",
       "\\end{Usage}\n",
       "%\n",
       "\\begin{Format}\n",
       "Numerous adjacency matrices encapsulated in dataframes\n",
       "\\end{Format}\n",
       "%\n",
       "\\begin{Source}\\relax\n",
       "McFarland Classroom Study\n",
       "\\end{Source}\n",
       "%\n",
       "\\begin{References}\\relax\n",
       "McFarland, Daniel A. (2001) ``Student Resistance.'' American Journal of Sociology, 107(3), p 612-678.\n",
       "\n",
       "This research/data collection was generously supported by NSF Award no. 0624134.\n",
       "\n",
       "\\end{References}\n",
       "%\n",
       "\\begin{Examples}\n",
       "\\begin{ExampleCode}\n",
       "\n",
       "data(studentnets.mrqap173)\n",
       "## Examples available in Lab 7 at:\n",
       "## http://sna.stanford.edu/lab.php?l=7\n",
       "\\end{ExampleCode}\n",
       "\\end{Examples}"
      ],
      "text/plain": [
       "mrqap173                package:NetData                R Documentation\n",
       "\n",
       "_\bm_\br_\bq_\ba_\bp_\b1_\b7_\b3 - _\bM_\ba_\bt_\bh, _\b1_\b0_\bt_\bh _\bG_\br_\ba_\bd_\be _\bH_\bo_\bn_\bo_\br_\bs _\bT_\br_\bi_\bg\n",
       "\n",
       "_\bD_\be_\bs_\bc_\br_\bi_\bp_\bt_\bi_\bo_\bn:\n",
       "\n",
       "     This data consists of a sociometric friendship survey (2 = best\n",
       "     friend, 1 = friend, 0 = not friend), along with gender and race\n",
       "     homophily, who sits next to whom (2 = faces, 1 = behind, 0 = not\n",
       "     adjacent), SSL is social interactions per hour.  TSL is task\n",
       "     interactions per hour.\n",
       "\n",
       "     This is for two semesters, 1 and 2.\n",
       "\n",
       "     This network data set was created for use with Dan McFarland's\n",
       "     network analysis labs. Labs are available at:\n",
       "\n",
       "     ~\\urlhttp://sna.stanford.edu/rlabs.php\n",
       "\n",
       "     Larger comprehensive data set publicly available, contact Daniel\n",
       "     A. McFarland for details.\n",
       "\n",
       "_\bU_\bs_\ba_\bg_\be:\n",
       "\n",
       "     studentnets.ergm173\n",
       "     \n",
       "_\bF_\bo_\br_\bm_\ba_\bt:\n",
       "\n",
       "     Numerous adjacency matrices encapsulated in dataframes\n",
       "\n",
       "_\bS_\bo_\bu_\br_\bc_\be:\n",
       "\n",
       "     McFarland Classroom Study\n",
       "\n",
       "_\bR_\be_\bf_\be_\br_\be_\bn_\bc_\be_\bs:\n",
       "\n",
       "     McFarland, Daniel A. (2001) ``Student Resistance.'' American\n",
       "     Journal of Sociology, 107(3), p 612-678.\n",
       "\n",
       "     This research/data collection was generously supported by NSF\n",
       "     Award no. 0624134.\n",
       "\n",
       "_\bE_\bx_\ba_\bm_\bp_\bl_\be_\bs:\n",
       "\n",
       "     data(studentnets.mrqap173)\n",
       "     ## Examples available in Lab 7 at:\n",
       "     ## http://sna.stanford.edu/lab.php?l=7\n",
       "     "
      ]
     },
     "metadata": {},
     "output_type": "display_data"
    }
   ],
   "source": [
    "?m173_sem1_FRN"
   ]
  },
  {
   "cell_type": "code",
   "execution_count": 7,
   "id": "armed-telling",
   "metadata": {},
   "outputs": [
    {
     "data": {
      "text/html": [
       "<table class=\"dataframe\">\n",
       "<caption>A matrix: 3 × 26 of type int</caption>\n",
       "<thead>\n",
       "\t<tr><th scope=col>X1</th><th scope=col>X2</th><th scope=col>X3</th><th scope=col>X4</th><th scope=col>X5</th><th scope=col>X6</th><th scope=col>X7</th><th scope=col>X8</th><th scope=col>X9</th><th scope=col>X10</th><th scope=col>⋯</th><th scope=col>X17</th><th scope=col>X18</th><th scope=col>X19</th><th scope=col>X20</th><th scope=col>X21</th><th scope=col>X22</th><th scope=col>X23</th><th scope=col>X24</th><th scope=col>X25</th><th scope=col>X26</th></tr>\n",
       "</thead>\n",
       "<tbody>\n",
       "\t<tr><td>1</td><td>0</td><td>1</td><td>1</td><td>0</td><td>0</td><td>0</td><td>0</td><td>1</td><td>1</td><td>⋯</td><td>0</td><td>0</td><td>1</td><td>1</td><td>1</td><td>1</td><td>1</td><td>1</td><td>1</td><td>1</td></tr>\n",
       "\t<tr><td>0</td><td>1</td><td>0</td><td>0</td><td>0</td><td>0</td><td>0</td><td>0</td><td>0</td><td>0</td><td>⋯</td><td>0</td><td>0</td><td>0</td><td>0</td><td>0</td><td>0</td><td>0</td><td>0</td><td>0</td><td>0</td></tr>\n",
       "\t<tr><td>1</td><td>0</td><td>1</td><td>1</td><td>0</td><td>0</td><td>0</td><td>0</td><td>1</td><td>1</td><td>⋯</td><td>0</td><td>0</td><td>1</td><td>1</td><td>1</td><td>1</td><td>1</td><td>1</td><td>1</td><td>1</td></tr>\n",
       "</tbody>\n",
       "</table>\n"
      ],
      "text/latex": [
       "A matrix: 3 × 26 of type int\n",
       "\\begin{tabular}{lllllllllllllllllllll}\n",
       " X1 & X2 & X3 & X4 & X5 & X6 & X7 & X8 & X9 & X10 & ⋯ & X17 & X18 & X19 & X20 & X21 & X22 & X23 & X24 & X25 & X26\\\\\n",
       "\\hline\n",
       "\t 1 & 0 & 1 & 1 & 0 & 0 & 0 & 0 & 1 & 1 & ⋯ & 0 & 0 & 1 & 1 & 1 & 1 & 1 & 1 & 1 & 1\\\\\n",
       "\t 0 & 1 & 0 & 0 & 0 & 0 & 0 & 0 & 0 & 0 & ⋯ & 0 & 0 & 0 & 0 & 0 & 0 & 0 & 0 & 0 & 0\\\\\n",
       "\t 1 & 0 & 1 & 1 & 0 & 0 & 0 & 0 & 1 & 1 & ⋯ & 0 & 0 & 1 & 1 & 1 & 1 & 1 & 1 & 1 & 1\\\\\n",
       "\\end{tabular}\n"
      ],
      "text/markdown": [
       "\n",
       "A matrix: 3 × 26 of type int\n",
       "\n",
       "| X1 | X2 | X3 | X4 | X5 | X6 | X7 | X8 | X9 | X10 | ⋯ | X17 | X18 | X19 | X20 | X21 | X22 | X23 | X24 | X25 | X26 |\n",
       "|---|---|---|---|---|---|---|---|---|---|---|---|---|---|---|---|---|---|---|---|---|\n",
       "| 1 | 0 | 1 | 1 | 0 | 0 | 0 | 0 | 1 | 1 | ⋯ | 0 | 0 | 1 | 1 | 1 | 1 | 1 | 1 | 1 | 1 |\n",
       "| 0 | 1 | 0 | 0 | 0 | 0 | 0 | 0 | 0 | 0 | ⋯ | 0 | 0 | 0 | 0 | 0 | 0 | 0 | 0 | 0 | 0 |\n",
       "| 1 | 0 | 1 | 1 | 0 | 0 | 0 | 0 | 1 | 1 | ⋯ | 0 | 0 | 1 | 1 | 1 | 1 | 1 | 1 | 1 | 1 |\n",
       "\n"
      ],
      "text/plain": [
       "     X1 X2 X3 X4 X5 X6 X7 X8 X9 X10 <U+22EF>   X17 X18 X19 X20 X21 X22 X23 X24\n",
       "[1,] 1  0  1  1  0  0  0  0  1  1   <U+22EF> 0   0   1   1   1   1   1   1  \n",
       "[2,] 0  1  0  0  0  0  0  0  0  0   <U+22EF> 0   0   0   0   0   0   0   0  \n",
       "[3,] 1  0  1  1  0  0  0  0  1  1   <U+22EF> 0   0   1   1   1   1   1   1  \n",
       "     X25 X26\n",
       "[1,] 1   1  \n",
       "[2,] 0   0  \n",
       "[3,] 1   1  "
      ]
     },
     "metadata": {},
     "output_type": "display_data"
    }
   ],
   "source": [
    "head(m173_sem1_RCE, 3)"
   ]
  },
  {
   "cell_type": "code",
   "execution_count": 5,
   "id": "collected-graph",
   "metadata": {},
   "outputs": [],
   "source": [
    "m173_sem1_SSL <- as.matrix(m173_sem1_SSL)\n",
    "m173_sem1_TSL <- as.matrix(m173_sem1_TSL)\n",
    "m173_sem1_FRN <- as.matrix(m173_sem1_FRN)\n",
    "m173_sem1_SEAT <- as.matrix(m173_sem1_SEAT)\n",
    "m173_sem1_RCE <- as.matrix(m173_sem1_RCE)\n",
    "m173_sem1_GND <- as.matrix(m173_sem1_GND)\n",
    "\n",
    "\n",
    "m173_sem2_SSL <- as.matrix(m173_sem2_SSL)\n",
    "m173_sem2_TSL <- as.matrix(m173_sem2_TSL)"
   ]
  },
  {
   "cell_type": "code",
   "execution_count": 8,
   "id": "provincial-proof",
   "metadata": {},
   "outputs": [],
   "source": [
    "predictor_matrices <- array(dim = c(6, length(m173_sem1_SSL[1,]),length(m173_sem1_SSL[1,])))\n",
    "\n",
    "predictor_matrices[1,,] <- m173_sem1_SSL\n",
    "predictor_matrices[2,,] <- m173_sem1_TSL\n",
    "predictor_matrices[3,,] <- m173_sem1_FRN\n",
    "predictor_matrices[4,,] <- m173_sem1_SEAT\n",
    "predictor_matrices[5,,] <- m173_sem1_RCE\n",
    "predictor_matrices[6,,] <- m173_sem1_GND"
   ]
  },
  {
   "cell_type": "code",
   "execution_count": 10,
   "id": "fifteen-declaration",
   "metadata": {},
   "outputs": [
    {
     "data": {
      "text/plain": [
       "\n",
       "OLS Network Model\n",
       "\n",
       "Residuals:\n",
       "          0%          25%          50%          75%         100% \n",
       "-1.652583881 -0.067206384  0.008678721  0.015216870  2.924942741 \n",
       "\n",
       "Coefficients:\n",
       "          Estimate Pr(<=b) Pr(>=b) Pr(>=|b|)\n",
       "Intercept -0.02    0.365   0.635   0.594    \n",
       "SSL1       0.45    1.000   0.000   0.000    \n",
       "TSL1       0.03    0.964   0.036   0.041    \n",
       "Friends    0.16    0.999   0.001   0.001    \n",
       "Seat       0.08    0.995   0.005   0.005    \n",
       "Race       0.00    0.461   0.539   0.907    \n",
       "Gender     0.01    0.592   0.408   0.866    \n",
       "\n",
       "Residual standard error: 0.3437 on 643 degrees of freedom\n",
       "Multiple R-squared: 0.3817 \tAdjusted R-squared: 0.3759 \n",
       "F-statistic: 66.16 on 6 and 643 degrees of freedom, p-value:     0 \n",
       "\n",
       "\n",
       "Test Diagnostics:\n",
       "\n",
       "\tNull Hypothesis: qap \n",
       "\tReplications: 1000 \n",
       "\tCoefficient Distribution Summary:\n",
       "\n",
       "       Intercept      SSL1      TSL1   Friends      Seat      Race    Gender\n",
       "Min    -4.828317 -2.982208 -5.895621 -3.625474 -3.560777 -4.370630 -4.719824\n",
       "1stQ   -1.192650 -0.788353 -0.791675 -0.851999 -0.966429 -1.119017 -0.957693\n",
       "Median -0.210434 -0.193607 -0.361019 -0.174412 -0.147048 -0.047595 -0.112517\n",
       "Mean   -0.295501  0.028826 -0.034485 -0.072524 -0.053071  0.038958  0.001685\n",
       "3rdQ    0.624076  0.503820  0.237043  0.528857  0.803338  1.019430  0.939460\n",
       "Max     3.296661 12.640180  9.316116  4.640296  4.812486  4.514368  5.340656\n"
      ]
     },
     "metadata": {},
     "output_type": "display_data"
    }
   ],
   "source": [
    "nl<-netlm(m173_sem2_SSL, predictor_matrices)\n",
    "nlLabeled <- list()\n",
    "nlLabeled <- summary(nl)\n",
    "nlLabeled$names <- c(\"Intercept\", \"SSL1\", \"TSL1\", \"Friends\", \"Seat\",\"Race\",\"Gender\")\n",
    "nlLabeled$coefficients = round(nlLabeled$coefficients, 2)\n",
    "nlLabeled"
   ]
  },
  {
   "cell_type": "code",
   "execution_count": 11,
   "id": "stylish-corrections",
   "metadata": {},
   "outputs": [
    {
     "data": {
      "text/plain": [
       "\n",
       "OLS Network Model\n",
       "\n",
       "Residuals:\n",
       "         0%         25%         50%         75%        100% \n",
       "-6.79570345 -0.10044585 -0.00923077  0.02628499  7.90740702 \n",
       "\n",
       "Coefficients:\n",
       "          Estimate Pr(<=b) Pr(>=b) Pr(>=|b|)\n",
       "Intercept  0.10    0.807   0.193   0.224    \n",
       "SSL1      -0.28    0.005   0.995   0.023    \n",
       "TSL1       1.01    1.000   0.000   0.000    \n",
       "Friends    0.01    0.580   0.420   0.902    \n",
       "Seat      -0.14    0.014   0.986   0.030    \n",
       "Race      -0.04    0.429   0.571   0.764    \n",
       "Gender    -0.09    0.161   0.839   0.311    \n",
       "\n",
       "Residual standard error: 0.8241 on 643 degrees of freedom\n",
       "Multiple R-squared: 0.756 \tAdjusted R-squared: 0.7538 \n",
       "F-statistic: 332.1 on 6 and 643 degrees of freedom, p-value:     0 \n",
       "\n",
       "\n",
       "Test Diagnostics:\n",
       "\n",
       "\tNull Hypothesis: qap \n",
       "\tReplications: 1000 \n",
       "\tCoefficient Distribution Summary:\n",
       "\n",
       "       Intercept      SSL1      TSL1   Friends      Seat      Race    Gender\n",
       "Min    -3.548753 -5.001627 -2.227515 -3.794071 -4.419602 -3.928482 -3.597771\n",
       "1stQ   -0.144148 -0.721703 -1.000848 -0.775945 -0.811301 -1.184524 -0.997864\n",
       "Median  0.704147 -0.051058 -0.642591 -0.089427 -0.004026 -0.246563 -0.052604\n",
       "Mean    0.706066  0.012261  0.257579  0.028157  0.028569 -0.024441 -0.054182\n",
       "3rdQ    1.555722  0.655721 -0.010153  0.674624  0.850091  1.001584  0.828459\n",
       "Max     4.403382  9.678061 21.979885  4.935639  4.271122  4.533913  4.142825\n"
      ]
     },
     "metadata": {},
     "output_type": "display_data"
    }
   ],
   "source": [
    "n2<-netlm(m173_sem2_TSL, predictor_matrices)\n",
    "\n",
    "n2Labeled <- list()\n",
    "n2Labeled <- summary(n2)\n",
    "n2Labeled$names <- c(\"Intercept\", \"SSL1\", \"TSL1\", \"Friends\", \"Seat\",\"Race\",\"Gender\")\n",
    "\n",
    "n2Labeled$coefficients = round(n2Labeled$coefficients, 2)\n",
    "n2Labeled"
   ]
  },
  {
   "cell_type": "code",
   "execution_count": 12,
   "id": "reflected-arbitration",
   "metadata": {},
   "outputs": [],
   "source": [
    "crr.app = qaptest(list(m173_sem2_SSL, predictor_matrices), gcor, g1=1, g2=2, reps = 1000)"
   ]
  },
  {
   "cell_type": "code",
   "execution_count": 13,
   "id": "considered-montreal",
   "metadata": {},
   "outputs": [
    {
     "data": {
      "text/plain": [
       "\n",
       "QAP Test Results\n",
       "\n",
       "Estimated p-values:\n",
       "\tp(f(perm) >= f(d)): 0 \n",
       "\tp(f(perm) <= f(d)): 1 \n"
      ]
     },
     "metadata": {},
     "output_type": "display_data"
    }
   ],
   "source": [
    "crr.app"
   ]
  },
  {
   "cell_type": "code",
   "execution_count": 31,
   "id": "simplified-optimum",
   "metadata": {},
   "outputs": [
    {
     "data": {
      "image/png": "[encoded data removed]",
      "text/plain": [
       "Plot with title \"Estimated Density of QAP Replications\""
      ]
     },
     "metadata": {
      "image/png": {
       "height": 420,
       "width": 420
      }
     },
     "output_type": "display_data"
    }
   ],
   "source": [
    "par(bg = 'white')\n",
    "plot(\n",
    "    crr.app, \n",
    "    xlim = c(min(min(crr.app$dist), crr.app$testval), max(max(crr.app$dist), crr.app$testval))\n",
    ")\n",
    "abline(v = crr.app$testval, col='red')"
   ]
  },
  {
   "cell_type": "code",
   "execution_count": 20,
   "id": "integrated-drink",
   "metadata": {},
   "outputs": [
    {
     "data": {
      "text/plain": [
       "\n",
       "QAP Test Results\n",
       "\n",
       "Estimated p-values:\n",
       "\tp(f(perm) >= f(d)): 0 \n",
       "\tp(f(perm) <= f(d)): 1 \n",
       "\n",
       "Test Diagnostics:\n",
       "\tTest Value (f(d)): 0.5765384 \n",
       "\tReplications: 1000 \n",
       "\tDistribution Summary:\n",
       "\t\tMin:\t -0.03935144 \n",
       "\t\t1stQ:\t -0.03935144 \n",
       "\t\tMed:\t -0.0203425 \n",
       "\t\tMean:\t 0.00251386 \n",
       "\t\t3rdQ:\t 0.01387361 \n",
       "\t\tMax:\t 0.4472776 \n"
      ]
     },
     "metadata": {},
     "output_type": "display_data"
    }
   ],
   "source": [
    "summary(crr.app)"
   ]
  }
 ],
 "metadata": {
  "kernelspec": {
   "display_name": "R",
   "language": "R",
   "name": "ir"
  },
  "language_info": {
   "codemirror_mode": "r",
   "file_extension": ".r",
   "mimetype": "text/x-r-source",
   "name": "R",
   "pygments_lexer": "r",
   "version": "4.0.3"
  }
 },
 "nbformat": 4,
 "nbformat_minor": 5
}
