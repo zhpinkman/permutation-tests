{
 "cells": [
  {
   "cell_type": "code",
   "execution_count": 1,
   "id": "heavy-harassment",
   "metadata": {},
   "outputs": [],
   "source": [
    "import numpy as np\n",
    "from sklearn import datasets\n",
    "import scipy.stats as stats\n",
    "import matplotlib.pyplot as plt\n",
    "import seaborn as sns\n",
    "import random\n",
    "import copy"
   ]
  },
  {
   "cell_type": "code",
   "execution_count": 3,
   "id": "unlike-immune",
   "metadata": {},
   "outputs": [],
   "source": [
    "irisd = datasets.load_iris()\n",
    "#Load only the first two features in each species:\n",
    "#Setosa:\n",
    "feat_set = irisd.data[np.where(irisd.target[:]==0)[0],:2]\n",
    "#Versicolor:\n",
    "feat_ver = irisd.data[np.where(irisd.target[:]==1)[0],:2]\n",
    "#Virginica:\n",
    "feat_vir = irisd.data[np.where(irisd.target[:]==2)[0],:2]"
   ]
  },
  {
   "cell_type": "code",
   "execution_count": 13,
   "id": "scenic-scene",
   "metadata": {},
   "outputs": [],
   "source": [
    "gT = np.abs(np.average(feat_vir[:,0]) - np.average(feat_ver[:,0]))"
   ]
  },
  {
   "cell_type": "code",
   "execution_count": 17,
   "id": "velvet-pencil",
   "metadata": {},
   "outputs": [],
   "source": [
    "pV = list(feat_vir[:,0]) + list(feat_ver[:,0])"
   ]
  },
  {
   "cell_type": "code",
   "execution_count": 35,
   "id": "tested-outside",
   "metadata": {},
   "outputs": [],
   "source": [
    "pS = copy.copy(pV)\n",
    "\n",
    "pD = []\n",
    "\n",
    "p=500\n",
    "\n",
    "for i in range(p):\n",
    "\n",
    "    random.shuffle(pS)\n",
    "\n",
    "    pD.append(np.abs(np.average(pS[0:int(len(pS)/2)]) - np.average(pS[int(len(pS)/2):])))"
   ]
  },
  {
   "cell_type": "code",
   "execution_count": 36,
   "id": "sharing-fundamental",
   "metadata": {},
   "outputs": [],
   "source": [
    "p_val = len(np.where(pD>=gT)[0])/p"
   ]
  },
  {
   "cell_type": "code",
   "execution_count": 37,
   "id": "african-fence",
   "metadata": {},
   "outputs": [
    {
     "data": {
      "text/plain": [
       "<matplotlib.lines.Line2D at 0x7fab019a2a30>"
      ]
     },
     "execution_count": 37,
     "metadata": {},
     "output_type": "execute_result"
    },
    {
     "data": {
      "image/png": "[encoded data removed]",
      "text/plain": [
       "<Figure size 432x288 with 1 Axes>"
      ]
     },
     "metadata": {
      "needs_background": "light"
     },
     "output_type": "display_data"
    }
   ],
   "source": [
    "sns.histplot(pD, alpha=.5, kde=True, )\n",
    "plt.axvline(x=gT, color='red')"
   ]
  }
 ],
 "metadata": {
  "kernelspec": {
   "display_name": "Python 3",
   "language": "python",
   "name": "python3"
  },
  "language_info": {
   "codemirror_mode": {
    "name": "ipython",
    "version": 3
   },
   "file_extension": ".py",
   "mimetype": "text/x-python",
   "name": "python",
   "nbconvert_exporter": "python",
   "pygments_lexer": "ipython3",
   "version": "3.8.0"
  }
 },
 "nbformat": 4,
 "nbformat_minor": 5
}
